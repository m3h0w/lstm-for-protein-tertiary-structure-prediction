{
 "cells": [
  {
   "cell_type": "code",
   "execution_count": 1,
   "metadata": {},
   "outputs": [
    {
     "name": "stderr",
     "output_type": "stream",
     "text": [
      "Using TensorFlow backend.\n"
     ]
    }
   ],
   "source": [
    "import numpy as np\n",
    "import matplotlib.pyplot as plt\n",
    "%matplotlib inline\n",
    "import glob\n",
    "import tensorflow as tf\n",
    "import time\n",
    "import scipy\n",
    "\n",
    "import collections, numpy\n",
    "\n",
    "import data_loader as dl\n",
    "import data_transformer as dt\n",
    "\n",
    "from sklearn.cluster import KMeans\n",
    "from keras.utils import to_categorical\n",
    "\n",
    "from sklearn.utils import shuffle\n",
    "\n",
    "# helper for setting up the bidirectional, multilayer lstm\n",
    "def bidirectional_lstm(input_data, num_layers, rnn_size, keep_prob, lengths=None):\n",
    "    output = input_data\n",
    "    for layer in range(num_layers):\n",
    "        with tf.variable_scope('encoder_{}'.format(layer),reuse=tf.AUTO_REUSE):\n",
    "\n",
    "            cell_fw = tf.contrib.rnn.LSTMCell(rnn_size, initializer=tf.truncated_normal_initializer(-0.1, 0.1, seed=2))\n",
    "            cell_fw = tf.contrib.rnn.DropoutWrapper(cell_fw, input_keep_prob = keep_prob)\n",
    "\n",
    "            cell_bw = tf.contrib.rnn.LSTMCell(rnn_size, initializer=tf.truncated_normal_initializer(-0.1, 0.1, seed=2))\n",
    "            cell_bw = tf.contrib.rnn.DropoutWrapper(cell_bw, input_keep_prob = keep_prob)\n",
    "\n",
    "            outputs, states = tf.nn.bidirectional_dynamic_rnn(cell_fw, \n",
    "                                                              cell_bw, \n",
    "                                                              output,\n",
    "                                                              dtype=tf.float32,\n",
    "                                                              sequence_length=lengths)\n",
    "            output = tf.concat(outputs,2)\n",
    "\n",
    "    return output\n",
    "\n",
    "class ModelHelpers:\n",
    "    @staticmethod\n",
    "    @tf.custom_gradient\n",
    "    def clip_grad_layer(x):\n",
    "        def grad(dy):\n",
    "            return tf.clip_by_value(dy, 1e-10, 1e-10)\n",
    "        return tf.identity(x), grad\n",
    "    \n",
    "    @staticmethod\n",
    "    def input_placeholders(max_len, input_columns):\n",
    "        X = tf.placeholder(tf.float32, [None, max_len, input_columns], name=\"X\")\n",
    "        input_mask = tf.placeholder(tf.bool, [None, max_len], name=\"input_mask\")\n",
    "        return X, input_mask\n",
    "\n",
    "    @staticmethod\n",
    "    def labels_placeholders(max_len, n_clusters, n_angles):\n",
    "        y = tf.placeholder(tf.float32, [None, max_len, n_clusters], name='y')\n",
    "        y_angles = tf.placeholder(tf.float32, [None, max_len, n_angles], name='y_angles')\n",
    "        return y, y_angles\n",
    "\n",
    "    @staticmethod\n",
    "    def clusters(init_clusters, trainable=False, clip_gradient_eps=False):\n",
    "        clusters_tf = tf.Variable(initial_value=init_clusters, dtype=np.float32, trainable=True)\n",
    "        clusters_tf = tf.clip_by_value(clusters_tf, -np.pi, np.pi)\n",
    "        if clip_gradient_eps:\n",
    "            clusters_tf = ModelHelpers.clip_grad_layer(clusters_tf)\n",
    "        return clusters_tf\n",
    "\n",
    "    @staticmethod\n",
    "    def conv_layer(in_, neurons, filter_size):\n",
    "        if type(in_) == list:\n",
    "            in_ = tf.concat(in_, axis=2)\n",
    "        return tf.layers.conv1d(in_, neurons, filter_size, activation=tf.nn.relu, padding='same')\n",
    "\n",
    "    @staticmethod\n",
    "    def mask_all(tensors_list, mask):\n",
    "        res = []\n",
    "        for tensor in tensors_list:\n",
    "            res.append(tf.boolean_mask(tensor, mask))\n",
    "        return res\n",
    "    \n",
    "    @staticmethod\n",
    "    def angularize(input_tensor, name=None):\n",
    "#         with tf.name_scope(name, 'angularize', [input_tensor]) as scope:\n",
    "#             input_tensor = tf.convert_to_tensor(input_tensor, name='input_tensor')\n",
    "\n",
    "        return tf.multiply(np.pi, tf.cos(input_tensor + (np.pi / 2)))\n",
    "\n",
    "    @staticmethod\n",
    "    def vec_to_angle(input_tensor):\n",
    "        return tf.math.atan2(input_tensor[:,:,1], input_tensor[:,:,0])\n",
    "    \n",
    "    @staticmethod\n",
    "    def loss360(y_true, y_pred):\n",
    "        return tf.reduce_mean(tf.abs(tf.atan2(tf.sin(y_true - y_pred), tf.cos(y_true - y_pred))))\n",
    "    \n",
    "    @staticmethod\n",
    "    def unison_shuffled_copies_sklearn(the_list):\n",
    "        return shuffle(*the_list)     "
   ]
  },
  {
   "cell_type": "code",
   "execution_count": 2,
   "metadata": {},
   "outputs": [],
   "source": [
    "def loss360_numpy(angles1, angles2):\n",
    "    return np.abs(np.arctan2(np.sin(angles1 - angles2), np.cos(angles1 - angles2)))"
   ]
  },
  {
   "cell_type": "code",
   "execution_count": 3,
   "metadata": {},
   "outputs": [],
   "source": [
    "angles1_deg = np.array([0, 45, 90, 135, 180, 235, 280, 325, 360])\n",
    "angles1 = np.deg2rad(angles1_deg)\n",
    "\n",
    "mask = np.expand_dims(angles1, 0)\n",
    "base = np.ones([np.size(mask), np.size(mask)])\n",
    "matrix_mask = base * mask\n",
    "\n",
    "# loss360_numpy(angles1, angles2)\n",
    "# loss360_numpy(matrix_mask, matrix_mask.T)\n",
    "mae = np.degrees(np.abs(matrix_mask - np.flip(matrix_mask.T)))\n",
    "\n",
    "ang_mae = np.degrees(loss360_numpy(matrix_mask, np.flip(matrix_mask.T)))"
   ]
  },
  {
   "cell_type": "code",
   "execution_count": 4,
   "metadata": {},
   "outputs": [
    {
     "data": {
      "image/png": "[encoded data removed]",
      "text/plain": [
       "<Figure size 432x288 with 2 Axes>"
      ]
     },
     "metadata": {
      "needs_background": "light"
     },
     "output_type": "display_data"
    },
    {
     "data": {
      "image/png": "[encoded data removed]",
      "text/plain": [
       "<Figure size 432x288 with 2 Axes>"
      ]
     },
     "metadata": {
      "needs_background": "light"
     },
     "output_type": "display_data"
    }
   ],
   "source": [
    "import itertools\n",
    "def plot_confusion_matrix(cm, classes,\n",
    "                          normalize=False,\n",
    "                          title='Confusion matrix',\n",
    "                          cmap=plt.cm.Blues):\n",
    "    if normalize:\n",
    "        cm = cm.astype('float') / cm.sum(axis=1)[:, np.newaxis]\n",
    "\n",
    "    plt.imshow(cm, interpolation='nearest', cmap=cmap)\n",
    "    plt.title(title)\n",
    "    plt.colorbar()\n",
    "    tick_marks = np.arange(len(classes))\n",
    "    plt.xticks(tick_marks, classes, rotation=45)\n",
    "    plt.yticks(tick_marks, reversed(classes))\n",
    "\n",
    "    fmt = '.2f' if normalize else 'd'\n",
    "    thresh = cm.max() / 2.\n",
    "\n",
    "    plt.ylabel('1st Angle (deg)')\n",
    "    plt.xlabel('2nd Angle (deg)')\n",
    "    plt.tight_layout()\n",
    "    return plt.gcf()\n",
    "\n",
    "\n",
    "plot_confusion_matrix(mae, [str(angle) for angle in angles1_deg], title='Regular MAE (deg)')\n",
    "plt.show()\n",
    "plot_confusion_matrix(ang_mae, [str(angle) for angle in angles1_deg], title='Angular MAE (deg)')\n",
    "plt.show()"
   ]
  },
  {
   "cell_type": "code",
   "execution_count": 5,
   "metadata": {},
   "outputs": [],
   "source": [
    "# change this path to match the path of where you have the\n",
    "# training_50 and validation files\n",
    "txt_data_path = '/home/mikey/Data/ProteinNet/casp7_txt/'\n",
    "\n",
    "max_len = None # max len of the protein taken into account\n",
    "n_angles = 2 # 3 if consider all angles or 2 if only phi and psi"
   ]
  },
  {
   "cell_type": "markdown",
   "metadata": {},
   "source": [
    "The data_lim is important because so far the full 13000 proteins crashes my system with 16Gb of ram\n",
    "\n",
    "Load training data"
   ]
  },
  {
   "cell_type": "code",
   "execution_count": 6,
   "metadata": {},
   "outputs": [
    {
     "name": "stdout",
     "output_type": "stream",
     "text": [
      "Loaded data and filtered line endings\n",
      "Extracted primary data\n",
      "Encoded primary sequences\n",
      "Loaded data and filtered line endings\n",
      "Extracted evolutionary data\n"
     ]
    },
    {
     "name": "stderr",
     "output_type": "stream",
     "text": [
      "100%|██████████| 8000/8000 [00:00<00:00, 74147.05it/s]\n"
     ]
    },
    {
     "name": "stdout",
     "output_type": "stream",
     "text": [
      "Grouped 21's together\n",
      "Loaded data and filtered line endings\n",
      "Extracted mask data\n"
     ]
    },
    {
     "data": {
      "text/plain": [
       "(8000, (70, 20), 8000, (70, 21), 8000, (70, 3), 8000, (70,))"
      ]
     },
     "execution_count": 6,
     "metadata": {},
     "output_type": "execute_result"
    }
   ],
   "source": [
    "file_name = 'training_50'\n",
    "data_lim = 8000\n",
    "prim_train, evo_train, dih_train, mask_train = (dl.parse_primary_from_file(txt_data_path + file_name, data_lim), \n",
    "                                                dl.parse_evolutionary_from_file(txt_data_path + file_name, data_lim),\n",
    "                                                dl.load_file('./'+file_name+'_dih.joblib'),\n",
    "                                                dl.parse_mask_from_file(txt_data_path + file_name, data_lim))\n",
    "dih_train = dih_train[:data_lim]\n",
    "len(prim_train), prim_train[0].shape, len(evo_train), evo_train[0].shape, len(dih_train), dih_train[0].shape, len(mask_train), mask_train[0].shape"
   ]
  },
  {
   "cell_type": "markdown",
   "metadata": {},
   "source": [
    "Load validation data"
   ]
  },
  {
   "cell_type": "code",
   "execution_count": 7,
   "metadata": {},
   "outputs": [
    {
     "name": "stdout",
     "output_type": "stream",
     "text": [
      "Loaded data and filtered line endings\n",
      "Extracted primary data\n",
      "Encoded primary sequences\n",
      "Loaded data and filtered line endings\n",
      "Extracted evolutionary data\n"
     ]
    },
    {
     "name": "stderr",
     "output_type": "stream",
     "text": [
      "100%|██████████| 224/224 [00:00<00:00, 64585.42it/s]"
     ]
    },
    {
     "name": "stdout",
     "output_type": "stream",
     "text": [
      "Grouped 21's together\n",
      "Loaded data and filtered line endings\n",
      "Extracted mask data\n"
     ]
    },
    {
     "name": "stderr",
     "output_type": "stream",
     "text": [
      "\n"
     ]
    },
    {
     "data": {
      "text/plain": [
       "(224, (269, 20), 224, (269, 21), 224, (269, 3), 224, (269,))"
      ]
     },
     "execution_count": 7,
     "metadata": {},
     "output_type": "execute_result"
    }
   ],
   "source": [
    "file_name = 'validation'\n",
    "prim_valid, evo_valid, dih_valid, mask_valid = (dl.parse_primary_from_file(txt_data_path + file_name), \n",
    "                                                dl.parse_evolutionary_from_file(txt_data_path + file_name),\n",
    "                                                dl.load_file('./'+ file_name + '_dih.joblib'),\n",
    "                                                dl.parse_mask_from_file(txt_data_path + file_name))\n",
    "len(prim_valid), prim_valid[0].shape, len(evo_valid), evo_valid[0].shape, len(dih_valid), dih_valid[0].shape, len(mask_valid), mask_valid[0].shape"
   ]
  },
  {
   "cell_type": "markdown",
   "metadata": {},
   "source": [
    "Pad the data and limit protein length. Prepare the data for training"
   ]
  },
  {
   "cell_type": "code",
   "execution_count": 8,
   "metadata": {},
   "outputs": [
    {
     "name": "stdout",
     "output_type": "stream",
     "text": [
      "padded\n",
      "(8000,) (70, 20)\n",
      "padded\n",
      "(8000,) (70, 21)\n",
      "padded\n",
      "(8000,) (70, 3)\n",
      "padded\n",
      "(8000,) (70, 1)\n",
      "padded\n",
      "(224,) (269, 20)\n",
      "padded\n",
      "(224,) (269, 21)\n",
      "padded\n",
      "(224,) (269, 3)\n",
      "padded\n",
      "(224,) (269, 1)\n"
     ]
    },
    {
     "data": {
      "text/plain": [
       "((8000, 1733, 41), (8000, 1733, 2), (224, 696, 41), (224, 696, 2))"
      ]
     },
     "execution_count": 8,
     "metadata": {},
     "output_type": "execute_result"
    }
   ],
   "source": [
    "prim_, evo_, dih_, mask_ = dt.limit_length_and_pad(prim_train, evo_train, dih_train, mask_train, max_len)\n",
    "x_train, y_train = np.concatenate([prim_, evo_], axis=2), dih_[:,:,:n_angles]\n",
    "prim_v, evo_v, dih_v, mask_v = dt.limit_length_and_pad(prim_valid, evo_valid, dih_valid, mask_valid, max_len)\n",
    "x_valid, y_valid = np.concatenate([prim_v, evo_v], axis=2), dih_v[:,:,:n_angles]\n",
    "\n",
    "x_train.shape, y_train.shape, x_valid.shape, y_valid.shape"
   ]
  },
  {
   "cell_type": "code",
   "execution_count": 9,
   "metadata": {
    "scrolled": false
   },
   "outputs": [
    {
     "name": "stdout",
     "output_type": "stream",
     "text": [
      "Fitting KMeans...\n",
      "Done\n"
     ]
    },
    {
     "data": {
      "text/plain": [
       "('n_clusters_after_fuse:', 47, 'fused', 3, 'padded to', (50, 2))"
      ]
     },
     "execution_count": 9,
     "metadata": {},
     "output_type": "execute_result"
    }
   ],
   "source": [
    "def manual_clusters(n_clusters):\n",
    "    # these manually selecteed clusters will be chosen from left to right\n",
    "    # when n_clusters < man_clusters.shape[0]\n",
    "    man_clusters = np.array([[-1.5, 0, 0], [-1.5, 2.5, 0], [1.5, 0.5, 0], [-2.2, -2.5, 0],\n",
    "                          [-1.5, 0, np.pi], [-1.5, 0, -np.pi], [-1.5, 2.5, np.pi], [-1.5, 2.5, -np.pi],\n",
    "                            [0,0,0],[0,0,0]])\n",
    "    try:\n",
    "        return {\n",
    "            i+1: man_clusters[:i+1] for i in range(man_clusters.shape[0])\n",
    "        }[n_clusters]\n",
    "    except KeyError as e:\n",
    "        print(\"Manual clusters only support max\", man_clusters.shape[0])\n",
    "        print(e)\n",
    "        raise\n",
    "\n",
    "def kmeans_clusters(angles, limit_data, filter_, n_clusters):\n",
    "    \"\"\"\n",
    "        angles: [..., ..., 3]\n",
    "        limit_data: int, how many protein to consider for clustering\n",
    "        filter_: bool, deciding if clusters too close to each other should be merged\n",
    "    \"\"\"\n",
    "    def dist2(p1, p2):\n",
    "        return np.sum((p1-p2)**2)\n",
    "\n",
    "    def fuse(points, min_dist):\n",
    "        ret = []\n",
    "        d2 = min_dist * min_dist\n",
    "        n = len(points)\n",
    "        taken = [False] * n\n",
    "        for i in range(n):\n",
    "            if not taken[i]:\n",
    "                count = 1\n",
    "                point = points[i]\n",
    "                taken[i] = True\n",
    "                for j in range(i+1, n):\n",
    "                    if dist2(points[i], points[j]) < d2:\n",
    "                        point += points[j]\n",
    "                        count+=1\n",
    "                        taken[j] = True\n",
    "                point /= count\n",
    "                ret.append(point)\n",
    "        return np.array(ret)\n",
    "    \n",
    "    print(\"Fitting KMeans...\")\n",
    "    km = KMeans(n_clusters=n_clusters, random_state=0, verbose=0, max_iter=1000).fit(angles[:limit_data].reshape(-1,n_angles))\n",
    "    print(\"Done\")\n",
    "    if filter_:\n",
    "        return fuse(km.cluster_centers_, min_dist=np.abs(np.max(angles)) / 10.)\n",
    "    else:\n",
    "        return km.cluster_centers_\n",
    "\n",
    "def get_cluster_centers(select_clusters_n, mode='manual'):\n",
    "    return {\n",
    "        'manual': lambda n_clusters: manual_clusters(n_clusters=n_clusters),\n",
    "        'kmeans': lambda n_clusters: kmeans_clusters(angles=y_train, limit_data=200, filter_=True, n_clusters=n_clusters)\n",
    "    }[mode](select_clusters_n)\n",
    "\n",
    "select_clusters_n = 50\n",
    "# initialize clusters - this might filter ones that are too close\n",
    "clusters = get_cluster_centers(select_clusters_n = select_clusters_n, mode='kmeans')[:,:n_angles]\n",
    "n_clusters_after_fuse = clusters.shape[0]\n",
    "\n",
    "# add missing clusters to much the desired number\n",
    "clusters = np.pad(clusters, ((0, select_clusters_n - n_clusters_after_fuse), (0,0)), mode='constant')\n",
    "n_clusters = clusters.shape[0]\n",
    "\n",
    "\"n_clusters_after_fuse:\", n_clusters_after_fuse, 'fused', select_clusters_n - n_clusters_after_fuse, 'padded to', clusters.shape"
   ]
  },
  {
   "cell_type": "code",
   "execution_count": 10,
   "metadata": {},
   "outputs": [
    {
     "data": {
      "image/png": "[encoded data removed]",
      "text/plain": [
       "<Figure size 720x432 with 1 Axes>"
      ]
     },
     "metadata": {
      "needs_background": "light"
     },
     "output_type": "display_data"
    }
   ],
   "source": [
    "def plot_cluster_centers(data, clusters, x_i, y_i, data_lim=10):\n",
    "    plt.figure(figsize=(10,6))\n",
    "    plt.scatter(y_valid[:data_lim][:,:,x_i], y_valid[:data_lim][:,:,y_i], s=1)\n",
    "    plt.scatter(clusters[:,x_i], clusters[:,y_i], marker='x', s=80)\n",
    "    \n",
    "plot_cluster_centers(y_valid, clusters, x_i=0, y_i=1, data_lim=10)\n",
    "if n_angles == 3:\n",
    "    plot_cluster_centers(y_valid, clusters, x_i=1, y_i=2, data_lim=10)\n",
    "    plot_cluster_centers(y_valid, clusters, x_i=0, y_i=2, data_lim=10)"
   ]
  },
  {
   "cell_type": "code",
   "execution_count": 11,
   "metadata": {},
   "outputs": [
    {
     "data": {
      "text/plain": [
       "((8000, 1733, 50),\n",
       " (224, 696, 50),\n",
       " array([ 0,  1,  2,  3,  4,  5,  6,  7,  8,  9, 10, 11, 12, 13, 14, 15, 16,\n",
       "        17, 18, 19, 20, 21, 22, 23, 24, 25, 26, 27, 28, 29, 30, 31, 32, 33,\n",
       "        34, 35, 36, 37, 38, 39, 40, 41, 42, 43, 44, 45, 46, 47]),\n",
       " array([ 0,  1,  2,  3,  4,  5,  6,  7,  8,  9, 10, 11, 12, 13, 14, 15, 16,\n",
       "        17, 18, 19, 20, 21, 22, 23, 24, 25, 26, 27, 28, 29, 30, 31, 32, 33,\n",
       "        34, 35, 36, 37, 38, 39, 40, 41, 42, 43, 44, 45, 46, 47]),\n",
       " 50)"
      ]
     },
     "execution_count": 11,
     "metadata": {},
     "output_type": "execute_result"
    }
   ],
   "source": [
    "y_train_labels_ = np.argmin(scipy.spatial.distance_matrix(y_train.reshape(-1,n_angles), clusters), \n",
    "                            axis=1).reshape(y_train.shape[0], y_train.shape[1])\n",
    "\n",
    "y_valid_labels_ = np.argmin(scipy.spatial.distance_matrix(y_valid.reshape(-1,n_angles), clusters), \n",
    "                            axis=1).reshape(y_valid.shape[0], y_valid.shape[1])\n",
    "\n",
    "y_train_labels = to_categorical(y_train_labels_, num_classes=n_clusters)\n",
    "y_valid_labels = to_categorical(y_valid_labels_, num_classes=n_clusters)\n",
    "\n",
    "y_train_labels.shape, y_valid_labels.shape, np.unique(y_train_labels_), np.unique(y_valid_labels_), n_clusters"
   ]
  },
  {
   "cell_type": "code",
   "execution_count": 12,
   "metadata": {},
   "outputs": [
    {
     "name": "stderr",
     "output_type": "stream",
     "text": [
      "/home/mikey/.local/lib/python3.6/site-packages/tensorflow/python/ops/gradients_impl.py:108: UserWarning: Converting sparse IndexedSlices to a dense Tensor of unknown shape. This may consume a large amount of memory.\n",
      "  \"Converting sparse IndexedSlices to a dense Tensor of unknown shape. \"\n"
     ]
    },
    {
     "name": "stdout",
     "output_type": "stream",
     "text": [
      "Number of parameters: 774138\n"
     ]
    }
   ],
   "source": [
    "mode = 'vectors'\n",
    "loss_mode = 'angular_mae'\n",
    "vec_on_unit_circle = False\n",
    "\n",
    "tf.reset_default_graph()  \n",
    "helpers = ModelHelpers()\n",
    "\n",
    "X, input_mask = helpers.input_placeholders(max_len = max_len, input_columns = 41)\n",
    "y, y_angles = helpers.labels_placeholders(max_len, n_clusters, n_angles)\n",
    "y_vectors = tf.placeholder(dtype=np.float32, shape=(max_len, n_clusters, n_angles, 2))\n",
    "\n",
    "clusters_tf = helpers.clusters(init_clusters=clusters, trainable=True, clip_gradient_eps=False)\n",
    "\n",
    "# construct the feature extraction part of the network\n",
    "conv1a = ModelHelpers.conv_layer(X, 32, 5)\n",
    "conv1b = ModelHelpers.conv_layer(conv1a, 32, 5)\n",
    "conv2a = ModelHelpers.conv_layer(conv1b, 64, 5)\n",
    "conv2b = ModelHelpers.conv_layer(conv2a, 64, 5)\n",
    "conv3a = ModelHelpers.conv_layer([conv1b, conv2b], 128, 5) # residual connection is automated in the conv_layer helper\n",
    "conv3b = ModelHelpers.conv_layer(conv3a, 128, 5)\n",
    "conv4a = ModelHelpers.conv_layer([conv2b, conv3b], 256, 5)\n",
    "conv4b = ModelHelpers.conv_layer(conv4a, 256, 5)\n",
    "core_out = conv4b\n",
    "\n",
    "## alternative to the cnn. very slow\n",
    "# lstm = bidirectional_lstm(X, 1, 32, keep_prob=0.05)\n",
    "\n",
    "### Regression ###\n",
    "rad_pred = tf.zeros_like(y_angles)\n",
    "if mode == 'regression':\n",
    "    rad_pred_cont = tf.layers.dense(core_out, n_angles)# angles logits\n",
    "    rad_pred = helpers.angularize(rad_pred_cont)\n",
    "\n",
    "if mode == 'vectors':\n",
    "    ### Angle vectors ###\n",
    "    if vec_on_unit_circle:\n",
    "        activation = 'tanh'\n",
    "    else:\n",
    "        activation = 'linear'\n",
    "    vec_pred = tf.layers.dense(core_out, n_angles * 2, activation=activation) # angles logits\n",
    "\n",
    "    vec_pred = tf.reshape(vec_pred, shape=(-1, tf.shape(vec_pred)[1], n_angles, 2)) # reshape to 2 numbers (vector) per angle\n",
    "    vec_loss_reg = tf.reduce_mean(tf.square(1 - (vec_pred[:,:,:,0] ** 2 + vec_pred[:,:,:,1]**2)))\n",
    "#     vec_pred = vec_pred / (tf.expand_dims(tf.sqrt(vec_pred[:,:,:,0]**2 + vec_pred[:,:,:,1]**2), 3)+1) # normalize\n",
    "    rad_pred = tf.atan2(tf.cos(vec_pred[:,:,:,0]), tf.sin(vec_pred[:,:,:,1])) # convert vector to angle\n",
    "\n",
    "    \n",
    "logits = tf.layers.dense(core_out, n_clusters) # cluster logits\n",
    "logits = tf.layers.dropout(logits, rate=0.05)\n",
    "y_pred = tf.nn.softmax(logits)\n",
    "\n",
    "# apply mask to all outputs used for losses (beware that the mask flattens them automatically)\n",
    "y_masked, logits_masked, y_pred_masked, y_angles_masked, rad_pred_masked =\\\n",
    "    helpers.mask_all([y, logits, y_pred, y_angles, rad_pred], input_mask)\n",
    "\n",
    "# computes the weighted sum of clusters (weighted by the predicted prob. dist.)\n",
    "if mode == 'clusters':\n",
    "    rad_pred_masked = tf.einsum('ij,bi->bj', clusters_tf, y_pred_masked)\n",
    "\n",
    "# crossentropy loss on the classification task\n",
    "clusters_crossentropy = tf.reduce_mean(tf.nn.softmax_cross_entropy_with_logits_v2(labels=y_masked, logits=logits_masked))\n",
    "\n",
    "# mae computed for each angle separately\n",
    "mae_vec = tf.reduce_mean(tf.abs(tf.subtract(rad_pred_masked[:,:], y_angles_masked[:,:])), axis=0)\n",
    "\n",
    "# mae reduced to 1 number\n",
    "mae = tf.reduce_mean(tf.abs(tf.subtract(rad_pred_masked[:,:], y_angles_masked[:,:])))\n",
    "\n",
    "# angular mae\n",
    "mae_ang = helpers.loss360(rad_pred_masked, y_angles_masked)\n",
    "    \n",
    "loss = {\n",
    "    'normal_mae': mae,\n",
    "    'angular_mae': mae_ang,\n",
    "    'classification': clusters_crossentropy,\n",
    "    'angular_mae_and_classification': mae_ang + clusters_crossentropy\n",
    "}[loss_mode]\n",
    "\n",
    "regularization = []\n",
    "if vec_on_unit_circle:\n",
    "    regularization.append(vec_loss_reg)\n",
    "\n",
    "if len(regularization) > 0:\n",
    "    loss = tf.add_n([loss] + regularization)\n",
    "\n",
    "# Define the optimizer operation\n",
    "learning_rate = tf.placeholder(tf.float32)\n",
    "\n",
    "# we can choose if we want to optimize mae or loss\n",
    "optimizer = tf.train.AdamOptimizer(learning_rate=learning_rate).minimize(loss)\n",
    "\n",
    "# Variables for prediction and accuracy\n",
    "prediction = tf.argmax(y_pred_masked, 1)\n",
    "accuracy = tf.reduce_mean(tf.cast(tf.equal(prediction, tf.argmax(y_masked, 1)), tf.float32))\n",
    "\n",
    "# Initialize the variables (they are assigned default values)\n",
    "init = tf.group(tf.global_variables_initializer(), tf.local_variables_initializer())\n",
    "\n",
    "n_parameters = np.sum([np.prod(v.get_shape().as_list()) for v in tf.trainable_variables()])\n",
    "print(\"Number of parameters:\", n_parameters)"
   ]
  },
  {
   "cell_type": "code",
   "execution_count": 13,
   "metadata": {},
   "outputs": [],
   "source": [
    "# with tf.Session() as session:\n",
    "\n",
    "#     # Run the initializer\n",
    "#     session.run(init)\n",
    "#     _, loss_value, mae_, vec_pred_, rad_pred_ = session.run([optimizer, loss, mae_vec, vec_pred,\n",
    "#                                                           rad_pred], feed_dict={X: x_train[b:b+batch_size],\n",
    "#                                                                       y: y_train_labels[b:b+batch_size],\n",
    "#                                                                       y_angles: y_train[b:b+batch_size],\n",
    "#                                                                       learning_rate: init_learning_rate,\n",
    "#                                                                     input_mask: mask_[b:b+batch_size]})\n",
    "#     print(rad_pred_)\n",
    "#     (validation_accuracy, mae__, pred_, \n",
    "#  clusters_, y_pred_masked_, vec_pred_, rad_pred_) = session.run([accuracy, mae_vec, prediction, \n",
    "#                                                       clusters_tf, y_pred_masked, vec_pred, rad_pred], \n",
    "#                                                       feed_dict={X: x_valid, y: y_valid_labels, \n",
    "#                                                                  y_angles:y_valid,\n",
    "#                                                                 input_mask: mask_v})\n",
    "# print(vec_pred1_[0][0])\n",
    "# print(vec_pred2_[0][0])\n",
    "# print(rad_pred_[0][0])\n",
    "# print(loss_value)\n",
    "# print(mae_)"
   ]
  },
  {
   "cell_type": "code",
   "execution_count": 14,
   "metadata": {
    "scrolled": true
   },
   "outputs": [
    {
     "name": "stdout",
     "output_type": "stream",
     "text": [
      "Epoch: 0\n",
      "Train Normal MAE = 0.987018\n",
      "Val. Ang MAE 0.71297\n",
      "PCC [0.41817555, 0.47893608]\n",
      "Counter({26: 21828, 34: 10638, 23: 10559, 10: 834, 7: 8})\n",
      "0.001\n",
      "Epoch: 1\n",
      "Train Normal MAE = 0.716334\n",
      "Val. Ang MAE 0.6234186\n",
      "PCC [0.51671535, 0.5727157]\n",
      "Counter({26: 25138, 7: 9392, 34: 6335, 23: 2595, 10: 358, 9: 49})\n",
      "0.001\n",
      "Epoch: 2\n",
      "Train Normal MAE = 0.647176\n",
      "Val. Ang MAE 0.5777744\n",
      "PCC [0.53900915, 0.5725117]\n",
      "Counter({26: 27315, 7: 11451, 34: 1475, 10: 1283, 9: 1232, 19: 1075, 46: 28, 41: 3, 27: 2, 24: 1, 17: 1, 14: 1})\n",
      "0.001\n",
      "Epoch: 3\n",
      "Train Normal MAE = 0.612978\n",
      "Val. Ang MAE 0.55434084\n",
      "PCC [0.55392176, 0.6135482]\n",
      "Counter({26: 20069, 7: 17649, 9: 2771, 19: 1924, 34: 839, 10: 470, 27: 81, 46: 54, 40: 10})\n",
      "0.001\n",
      "Epoch: 4\n",
      "Train Normal MAE = 0.600984\n",
      "Val. Ang MAE 0.54165924\n",
      "PCC [0.5592523, 0.6187488]\n",
      "Counter({26: 22654, 7: 14561, 9: 4176, 19: 1698, 34: 357, 10: 309, 27: 43, 46: 36, 40: 30, 24: 2, 17: 1})\n",
      "0.001\n",
      "Epoch: 5\n",
      "Train Normal MAE = 0.590690\n",
      "Val. Ang MAE 0.5442427\n",
      "PCC [0.56285787, 0.6190522]\n",
      "Counter({26: 22596, 7: 13074, 9: 5565, 19: 1740, 10: 304, 34: 269, 40: 98, 27: 86, 46: 81, 17: 54})\n",
      "0.001\n",
      "Epoch: 6\n",
      "Train Normal MAE = 0.585553\n",
      "Val. Ang MAE 0.52886486\n",
      "PCC [0.5733159, 0.63406855]\n",
      "Counter({26: 20643, 7: 15003, 9: 5861, 19: 1469, 10: 322, 34: 199, 40: 113, 46: 111, 17: 90, 27: 56})\n",
      "0.001\n",
      "Epoch: 7\n"
     ]
    },
    {
     "ename": "KeyboardInterrupt",
     "evalue": "",
     "output_type": "error",
     "traceback": [
      "\u001b[0;31m---------------------------------------------------------------------------\u001b[0m",
      "\u001b[0;31mKeyboardInterrupt\u001b[0m                         Traceback (most recent call last)",
      "\u001b[0;32m<ipython-input-14-052e0d068417>\u001b[0m in \u001b[0;36m<module>\u001b[0;34m\u001b[0m\n\u001b[1;32m     25\u001b[0m                                                                       \u001b[0my_angles\u001b[0m\u001b[0;34m:\u001b[0m \u001b[0my_train\u001b[0m\u001b[0;34m[\u001b[0m\u001b[0mb\u001b[0m\u001b[0;34m:\u001b[0m\u001b[0mb\u001b[0m\u001b[0;34m+\u001b[0m\u001b[0mbatch_size\u001b[0m\u001b[0;34m]\u001b[0m\u001b[0;34m,\u001b[0m\u001b[0;34m\u001b[0m\u001b[0m\n\u001b[1;32m     26\u001b[0m                                                                       \u001b[0mlearning_rate\u001b[0m\u001b[0;34m:\u001b[0m \u001b[0minit_learning_rate\u001b[0m\u001b[0;34m,\u001b[0m\u001b[0;34m\u001b[0m\u001b[0m\n\u001b[0;32m---> 27\u001b[0;31m                                                                     input_mask: mask_[b:b+batch_size]})\n\u001b[0m\u001b[1;32m     28\u001b[0m \u001b[0;31m#             print(vec_pred_)\u001b[0m\u001b[0;34m\u001b[0m\u001b[0;34m\u001b[0m\u001b[0m\n\u001b[1;32m     29\u001b[0m             \u001b[0mtrain_loss\u001b[0m\u001b[0;34m.\u001b[0m\u001b[0mappend\u001b[0m\u001b[0;34m(\u001b[0m\u001b[0mmae_\u001b[0m\u001b[0;34m)\u001b[0m\u001b[0;34m\u001b[0m\u001b[0m\n",
      "\u001b[0;32m~/.local/lib/python3.6/site-packages/tensorflow/python/client/session.py\u001b[0m in \u001b[0;36mrun\u001b[0;34m(self, fetches, feed_dict, options, run_metadata)\u001b[0m\n\u001b[1;32m    885\u001b[0m     \u001b[0;32mtry\u001b[0m\u001b[0;34m:\u001b[0m\u001b[0;34m\u001b[0m\u001b[0m\n\u001b[1;32m    886\u001b[0m       result = self._run(None, fetches, feed_dict, options_ptr,\n\u001b[0;32m--> 887\u001b[0;31m                          run_metadata_ptr)\n\u001b[0m\u001b[1;32m    888\u001b[0m       \u001b[0;32mif\u001b[0m \u001b[0mrun_metadata\u001b[0m\u001b[0;34m:\u001b[0m\u001b[0;34m\u001b[0m\u001b[0m\n\u001b[1;32m    889\u001b[0m         \u001b[0mproto_data\u001b[0m \u001b[0;34m=\u001b[0m \u001b[0mtf_session\u001b[0m\u001b[0;34m.\u001b[0m\u001b[0mTF_GetBuffer\u001b[0m\u001b[0;34m(\u001b[0m\u001b[0mrun_metadata_ptr\u001b[0m\u001b[0;34m)\u001b[0m\u001b[0;34m\u001b[0m\u001b[0m\n",
      "\u001b[0;32m~/.local/lib/python3.6/site-packages/tensorflow/python/client/session.py\u001b[0m in \u001b[0;36m_run\u001b[0;34m(self, handle, fetches, feed_dict, options, run_metadata)\u001b[0m\n\u001b[1;32m   1108\u001b[0m     \u001b[0;32mif\u001b[0m \u001b[0mfinal_fetches\u001b[0m \u001b[0;32mor\u001b[0m \u001b[0mfinal_targets\u001b[0m \u001b[0;32mor\u001b[0m \u001b[0;34m(\u001b[0m\u001b[0mhandle\u001b[0m \u001b[0;32mand\u001b[0m \u001b[0mfeed_dict_tensor\u001b[0m\u001b[0;34m)\u001b[0m\u001b[0;34m:\u001b[0m\u001b[0;34m\u001b[0m\u001b[0m\n\u001b[1;32m   1109\u001b[0m       results = self._do_run(handle, final_targets, final_fetches,\n\u001b[0;32m-> 1110\u001b[0;31m                              feed_dict_tensor, options, run_metadata)\n\u001b[0m\u001b[1;32m   1111\u001b[0m     \u001b[0;32melse\u001b[0m\u001b[0;34m:\u001b[0m\u001b[0;34m\u001b[0m\u001b[0m\n\u001b[1;32m   1112\u001b[0m       \u001b[0mresults\u001b[0m \u001b[0;34m=\u001b[0m \u001b[0;34m[\u001b[0m\u001b[0;34m]\u001b[0m\u001b[0;34m\u001b[0m\u001b[0m\n",
      "\u001b[0;32m~/.local/lib/python3.6/site-packages/tensorflow/python/client/session.py\u001b[0m in \u001b[0;36m_do_run\u001b[0;34m(self, handle, target_list, fetch_list, feed_dict, options, run_metadata)\u001b[0m\n\u001b[1;32m   1284\u001b[0m     \u001b[0;32mif\u001b[0m \u001b[0mhandle\u001b[0m \u001b[0;32mis\u001b[0m \u001b[0;32mNone\u001b[0m\u001b[0;34m:\u001b[0m\u001b[0;34m\u001b[0m\u001b[0m\n\u001b[1;32m   1285\u001b[0m       return self._do_call(_run_fn, feeds, fetches, targets, options,\n\u001b[0;32m-> 1286\u001b[0;31m                            run_metadata)\n\u001b[0m\u001b[1;32m   1287\u001b[0m     \u001b[0;32melse\u001b[0m\u001b[0;34m:\u001b[0m\u001b[0;34m\u001b[0m\u001b[0m\n\u001b[1;32m   1288\u001b[0m       \u001b[0;32mreturn\u001b[0m \u001b[0mself\u001b[0m\u001b[0;34m.\u001b[0m\u001b[0m_do_call\u001b[0m\u001b[0;34m(\u001b[0m\u001b[0m_prun_fn\u001b[0m\u001b[0;34m,\u001b[0m \u001b[0mhandle\u001b[0m\u001b[0;34m,\u001b[0m \u001b[0mfeeds\u001b[0m\u001b[0;34m,\u001b[0m \u001b[0mfetches\u001b[0m\u001b[0;34m)\u001b[0m\u001b[0;34m\u001b[0m\u001b[0m\n",
      "\u001b[0;32m~/.local/lib/python3.6/site-packages/tensorflow/python/client/session.py\u001b[0m in \u001b[0;36m_do_call\u001b[0;34m(self, fn, *args)\u001b[0m\n\u001b[1;32m   1290\u001b[0m   \u001b[0;32mdef\u001b[0m \u001b[0m_do_call\u001b[0m\u001b[0;34m(\u001b[0m\u001b[0mself\u001b[0m\u001b[0;34m,\u001b[0m \u001b[0mfn\u001b[0m\u001b[0;34m,\u001b[0m \u001b[0;34m*\u001b[0m\u001b[0margs\u001b[0m\u001b[0;34m)\u001b[0m\u001b[0;34m:\u001b[0m\u001b[0;34m\u001b[0m\u001b[0m\n\u001b[1;32m   1291\u001b[0m     \u001b[0;32mtry\u001b[0m\u001b[0;34m:\u001b[0m\u001b[0;34m\u001b[0m\u001b[0m\n\u001b[0;32m-> 1292\u001b[0;31m       \u001b[0;32mreturn\u001b[0m \u001b[0mfn\u001b[0m\u001b[0;34m(\u001b[0m\u001b[0;34m*\u001b[0m\u001b[0margs\u001b[0m\u001b[0;34m)\u001b[0m\u001b[0;34m\u001b[0m\u001b[0m\n\u001b[0m\u001b[1;32m   1293\u001b[0m     \u001b[0;32mexcept\u001b[0m \u001b[0merrors\u001b[0m\u001b[0;34m.\u001b[0m\u001b[0mOpError\u001b[0m \u001b[0;32mas\u001b[0m \u001b[0me\u001b[0m\u001b[0;34m:\u001b[0m\u001b[0;34m\u001b[0m\u001b[0m\n\u001b[1;32m   1294\u001b[0m       \u001b[0mmessage\u001b[0m \u001b[0;34m=\u001b[0m \u001b[0mcompat\u001b[0m\u001b[0;34m.\u001b[0m\u001b[0mas_text\u001b[0m\u001b[0;34m(\u001b[0m\u001b[0me\u001b[0m\u001b[0;34m.\u001b[0m\u001b[0mmessage\u001b[0m\u001b[0;34m)\u001b[0m\u001b[0;34m\u001b[0m\u001b[0m\n",
      "\u001b[0;32m~/.local/lib/python3.6/site-packages/tensorflow/python/client/session.py\u001b[0m in \u001b[0;36m_run_fn\u001b[0;34m(feed_dict, fetch_list, target_list, options, run_metadata)\u001b[0m\n\u001b[1;32m   1275\u001b[0m       \u001b[0mself\u001b[0m\u001b[0;34m.\u001b[0m\u001b[0m_extend_graph\u001b[0m\u001b[0;34m(\u001b[0m\u001b[0;34m)\u001b[0m\u001b[0;34m\u001b[0m\u001b[0m\n\u001b[1;32m   1276\u001b[0m       return self._call_tf_sessionrun(\n\u001b[0;32m-> 1277\u001b[0;31m           options, feed_dict, fetch_list, target_list, run_metadata)\n\u001b[0m\u001b[1;32m   1278\u001b[0m \u001b[0;34m\u001b[0m\u001b[0m\n\u001b[1;32m   1279\u001b[0m     \u001b[0;32mdef\u001b[0m \u001b[0m_prun_fn\u001b[0m\u001b[0;34m(\u001b[0m\u001b[0mhandle\u001b[0m\u001b[0;34m,\u001b[0m \u001b[0mfeed_dict\u001b[0m\u001b[0;34m,\u001b[0m \u001b[0mfetch_list\u001b[0m\u001b[0;34m)\u001b[0m\u001b[0;34m:\u001b[0m\u001b[0;34m\u001b[0m\u001b[0m\n",
      "\u001b[0;32m~/.local/lib/python3.6/site-packages/tensorflow/python/client/session.py\u001b[0m in \u001b[0;36m_call_tf_sessionrun\u001b[0;34m(self, options, feed_dict, fetch_list, target_list, run_metadata)\u001b[0m\n\u001b[1;32m   1365\u001b[0m     return tf_session.TF_SessionRun_wrapper(\n\u001b[1;32m   1366\u001b[0m         \u001b[0mself\u001b[0m\u001b[0;34m.\u001b[0m\u001b[0m_session\u001b[0m\u001b[0;34m,\u001b[0m \u001b[0moptions\u001b[0m\u001b[0;34m,\u001b[0m \u001b[0mfeed_dict\u001b[0m\u001b[0;34m,\u001b[0m \u001b[0mfetch_list\u001b[0m\u001b[0;34m,\u001b[0m \u001b[0mtarget_list\u001b[0m\u001b[0;34m,\u001b[0m\u001b[0;34m\u001b[0m\u001b[0m\n\u001b[0;32m-> 1367\u001b[0;31m         run_metadata)\n\u001b[0m\u001b[1;32m   1368\u001b[0m \u001b[0;34m\u001b[0m\u001b[0m\n\u001b[1;32m   1369\u001b[0m   \u001b[0;32mdef\u001b[0m \u001b[0m_call_tf_sessionprun\u001b[0m\u001b[0;34m(\u001b[0m\u001b[0mself\u001b[0m\u001b[0;34m,\u001b[0m \u001b[0mhandle\u001b[0m\u001b[0;34m,\u001b[0m \u001b[0mfeed_dict\u001b[0m\u001b[0;34m,\u001b[0m \u001b[0mfetch_list\u001b[0m\u001b[0;34m)\u001b[0m\u001b[0;34m:\u001b[0m\u001b[0;34m\u001b[0m\u001b[0m\n",
      "\u001b[0;31mKeyboardInterrupt\u001b[0m: "
     ]
    }
   ],
   "source": [
    "def pearson_numpy(y_true, y_pred, n_angles):\n",
    "    a_angles = np.split(np.cos(y_true.reshape(-1,)).reshape(-1,n_angles), \n",
    "                                     indices_or_sections=n_angles, axis=-1)\n",
    "    b_angles = np.split(np.cos(y_pred.reshape(-1,)).reshape(-1,n_angles),\n",
    "                                     indices_or_sections=n_angles, axis=-1)\n",
    "    return [scipy.stats.pearsonr(a.reshape(-1,), b.reshape(-1,))[0] for a,b in zip(a_angles, b_angles)]\n",
    "\n",
    "batch_size = 32\n",
    "n_epochs = 500\n",
    "\n",
    "# Start as session\n",
    "init_learning_rate = 0.001\n",
    "with tf.Session() as session:\n",
    "\n",
    "    # Run the initializer\n",
    "    session.run(init)\n",
    "\n",
    "    # Training cycle\n",
    "    for epoch in range(n_epochs):\n",
    "        print(\"Epoch:\", epoch)\n",
    "        train_loss = []\n",
    "        for b in range(0, x_train.shape[0], batch_size):\n",
    "            _, loss_value, mae_, vec_pred_ = session.run([optimizer, loss, mae_vec, vec_pred], feed_dict={X: x_train[b:b+batch_size],\n",
    "                                                                      y: y_train_labels[b:b+batch_size],\n",
    "                                                                      y_angles: y_train[b:b+batch_size],\n",
    "                                                                      learning_rate: init_learning_rate,\n",
    "                                                                    input_mask: mask_[b:b+batch_size]})\n",
    "#             print(vec_pred_)\n",
    "            train_loss.append(mae_)\n",
    "        \n",
    "        (validation_accuracy, mae_, loss_, pred_, \n",
    "         clusters_, y_pred_masked_, rad_pred_masked_,\n",
    "        y_angles_masked_) = session.run([accuracy, mae_vec, mae_ang, prediction, \n",
    "                                                              clusters_tf, y_pred_masked, rad_pred_masked,\n",
    "                                                                                   y_angles_masked], \n",
    "                                                              feed_dict={X: x_valid, y: y_valid_labels, \n",
    "                                                                         y_angles:y_valid,\n",
    "                                                                        input_mask: mask_v})\n",
    "        x_train, y_train_labels, y_train, mask_ = \\\n",
    "            ModelHelpers.unison_shuffled_copies_sklearn([x_train, y_train_labels, y_train, mask_])\n",
    "#         print(\"val. loss = %f, val_acc = %f\" % (loss_value, validation_accuracy))    \n",
    "        print(\"Train Normal MAE = %f\" % (np.mean(train_loss)))\n",
    "        print(\"Val. Ang MAE\", loss_)\n",
    "        print(\"PCC\", pearson_numpy(rad_pred_masked_, y_angles_masked_, n_angles))\n",
    "        print(collections.Counter(pred_))\n",
    "#         print(np.mean(y_pred_masked_, axis=0)) # prob. dist mean over clusters\n",
    "#         print(np.max(y_pred_masked_, axis=0)) # prob. dist max over clusters\n",
    "        print(init_learning_rate)\n",
    "#         print(clusters_)\n",
    "        \n",
    "        # Shrinks the learning rate every n epochs\n",
    "        train_loss = []\n",
    "        if (epoch + 1) % 10 == 0:\n",
    "            print(\"Adjusting learning rate\")\n",
    "            init_learning_rate = init_learning_rate / 1.05\n",
    "    \n",
    "    print(\"Optimization done\")\n",
    "\n",
    "    # Calculate training accuracy\n",
    "    train_accuracy_value, pred_train = session.run([accuracy, prediction], \n",
    "                                                                      feed_dict={X: x_train, y: y_train_labels,\n",
    "                                                                                y_angles: y_train,\n",
    "                                                                                input_mask: mask_})\n",
    "    print(\"Train accuracy:\", train_accuracy_value)\n",
    "    \n",
    "    # Calculate test accuracy\n",
    "    test_accuracy_value, pred_test = session.run([accuracy, prediction], \n",
    "                                                                    feed_dict={X: x_valid, y: y_valid_labels,\n",
    "                                                                              y_angles: y_valid,\n",
    "                                                                              input_mask: mask_v})\n",
    "    print(\"Test accuracy:\", test_accuracy_value)"
   ]
  },
  {
   "cell_type": "code",
   "execution_count": null,
   "metadata": {},
   "outputs": [],
   "source": [
    "rad_pred_.shape"
   ]
  },
  {
   "cell_type": "code",
   "execution_count": null,
   "metadata": {},
   "outputs": [],
   "source": [
    "n = 150\n",
    "plt.scatter(y_valid[n,:,0], y_valid[n,:,1], c='blue')\n",
    "plt.scatter(rad_pred_[:200,0], rad_pred_[:200,1], c='orange')\n",
    "\n",
    "np.mean(np.abs(y_valid[n,:,:2] - pred[n]))"
   ]
  },
  {
   "cell_type": "code",
   "execution_count": null,
   "metadata": {},
   "outputs": [],
   "source": [
    "np.min(rad_pred_), np.max(rad_pred_), np.min(rad_pred_cont_), np.max(rad_pred_cont_)"
   ]
  },
  {
   "cell_type": "markdown",
   "metadata": {},
   "source": [
    "Organize model modes:\n",
    "- predict angles through regression (tanh, *pi)\n",
    "- predict clusters and optimize for crossentropy\n",
    "- predict clusters and optimize for MAE\n",
    "- predict clusters as vectors and optimize for MAE"
   ]
  },
  {
   "cell_type": "code",
   "execution_count": null,
   "metadata": {},
   "outputs": [],
   "source": [
    "np.mean(np.abs(clusters_[pred_] - y_valid[mask_v])"
   ]
  },
  {
   "cell_type": "markdown",
   "metadata": {},
   "source": [
    "resnet CNN filter_length = 15 (with 5 it didn't change much either)\n",
    "\n",
    "*Rad angles, 10 not trainable clusters: 0.59\n",
    "\n",
    "*Rad angles, 10 trainable clusters, no clipping: MAE [0.43384644 0.721744  ] 0.5777952\n",
    "\n",
    "*Rad angles, 50 trainable clusters, no clipping: \n",
    "Train MAE = 0.545068\n",
    "Val. MAE [0.43777448 0.7208223 ] 0.5792984"
   ]
  },
  {
   "cell_type": "markdown",
   "metadata": {
    "collapsed": true
   },
   "source": [
    "pcc: 58 70 (10000 proteins, cluster, angular_mae_and_classification)\n",
    "pcc: 61.5 66.5 (10000 proteins, regression, angular_mae)"
   ]
  },
  {
   "cell_type": "code",
   "execution_count": null,
   "metadata": {},
   "outputs": [],
   "source": []
  }
 ],
 "metadata": {
  "kernelspec": {
   "display_name": "Python 3",
   "language": "python",
   "name": "python3"
  },
  "language_info": {
   "codemirror_mode": {
    "name": "ipython",
    "version": 3
   },
   "file_extension": ".py",
   "mimetype": "text/x-python",
   "name": "python",
   "nbconvert_exporter": "python",
   "pygments_lexer": "ipython3",
   "version": "3.6.6"
  }
 },
 "nbformat": 4,
 "nbformat_minor": 2
}
