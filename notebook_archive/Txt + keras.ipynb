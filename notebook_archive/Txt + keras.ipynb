{
 "cells": [
  {
   "cell_type": "markdown",
   "metadata": {},
   "source": [
    "Make sure you extracted following files into the same directory as this notebook:\n",
    "- training_50_dih.joblib\n",
    "- validation_dih.joblib\n",
    "- le.joblib\n",
    "- ohe.joblib\n",
    "\n",
    "And run 'pip install joblib'"
   ]
  },
  {
   "cell_type": "code",
   "execution_count": 1,
   "metadata": {},
   "outputs": [],
   "source": [
    "import numpy as np\n",
    "import matplotlib.pyplot as plt\n",
    "%matplotlib inline\n",
    "import glob\n",
    "import tensorflow as tf\n",
    "import time\n",
    "\n",
    "import data_loader as dl\n",
    "import data_transformer as dt"
   ]
  },
  {
   "cell_type": "markdown",
   "metadata": {},
   "source": [
    "Modify the path below"
   ]
  },
  {
   "cell_type": "code",
   "execution_count": 2,
   "metadata": {},
   "outputs": [],
   "source": [
    "# change this path to match the path of where you have the\n",
    "# training_50 and validation files\n",
    "txt_data_path = '/home/mikey/Data/ProteinNet/casp7_txt/'"
   ]
  },
  {
   "cell_type": "markdown",
   "metadata": {},
   "source": [
    "The data_lim is important because so far the full 13000 proteins crashes my system with 16Gb of ram\n",
    "\n",
    "Load training data"
   ]
  },
  {
   "cell_type": "code",
   "execution_count": 3,
   "metadata": {},
   "outputs": [
    {
     "name": "stdout",
     "output_type": "stream",
     "text": [
      "Loaded data and filtered line endings\n",
      "Extracted primary data\n",
      "Encoded primary sequences\n",
      "Loaded data and filtered line endings\n",
      "Extracted evolutionary data\n"
     ]
    },
    {
     "name": "stderr",
     "output_type": "stream",
     "text": [
      "100%|██████████| 5000/5000 [00:00<00:00, 68457.87it/s]\n"
     ]
    },
    {
     "name": "stdout",
     "output_type": "stream",
     "text": [
      "Grouped 21's together\n",
      "Loaded data and filtered line endings\n",
      "Extracted mask data\n"
     ]
    },
    {
     "data": {
      "text/plain": [
       "(5000, (70, 20), 5000, (70, 21), 5000, (70, 3), 5000, (70,))"
      ]
     },
     "execution_count": 3,
     "metadata": {},
     "output_type": "execute_result"
    }
   ],
   "source": [
    "file_name = 'training_50'\n",
    "data_lim = 5000\n",
    "prim_train, evo_train, dih_train, mask_train = (dl.parse_primary_from_file(txt_data_path + file_name, data_lim), \n",
    "                                                dl.parse_evolutionary_from_file(txt_data_path + file_name, data_lim),\n",
    "                                                dl.load_file('./'+file_name+'_dih.joblib'),\n",
    "                                                dl.parse_mask_from_file(txt_data_path + file_name, data_lim))\n",
    "dih_train = dih_train[:data_lim]\n",
    "len(prim_train), prim_train[0].shape, len(evo_train), evo_train[0].shape, len(dih_train), dih_train[0].shape, len(mask_train), mask_train[0].shape"
   ]
  },
  {
   "cell_type": "markdown",
   "metadata": {},
   "source": [
    "Load validation data"
   ]
  },
  {
   "cell_type": "code",
   "execution_count": 4,
   "metadata": {},
   "outputs": [
    {
     "name": "stdout",
     "output_type": "stream",
     "text": [
      "Loaded data and filtered line endings\n",
      "Extracted primary data\n",
      "Encoded primary sequences\n",
      "Loaded data and filtered line endings\n",
      "Extracted evolutionary data\n"
     ]
    },
    {
     "name": "stderr",
     "output_type": "stream",
     "text": [
      "100%|██████████| 224/224 [00:00<00:00, 59373.36it/s]"
     ]
    },
    {
     "name": "stdout",
     "output_type": "stream",
     "text": [
      "Grouped 21's together\n",
      "Loaded data and filtered line endings\n",
      "Extracted mask data\n"
     ]
    },
    {
     "name": "stderr",
     "output_type": "stream",
     "text": [
      "\n"
     ]
    },
    {
     "data": {
      "text/plain": [
       "(224, (269, 20), 224, (269, 21), 224, (269, 3), 224, (269,))"
      ]
     },
     "execution_count": 4,
     "metadata": {},
     "output_type": "execute_result"
    }
   ],
   "source": [
    "file_name = 'validation'\n",
    "prim_valid, evo_valid, dih_valid, mask_valid = (dl.parse_primary_from_file(txt_data_path + file_name), \n",
    "                                                dl.parse_evolutionary_from_file(txt_data_path + file_name),\n",
    "                                                dl.load_file('./'+ file_name + '_dih.joblib'),\n",
    "                                                dl.parse_mask_from_file(txt_data_path + file_name))\n",
    "len(prim_valid), prim_valid[0].shape, len(evo_valid), evo_valid[0].shape, len(dih_valid), dih_valid[0].shape, len(mask_valid), mask_valid[0].shape"
   ]
  },
  {
   "cell_type": "markdown",
   "metadata": {},
   "source": [
    "Pad the data and limit protein length. Prepare the data for training"
   ]
  },
  {
   "cell_type": "code",
   "execution_count": 5,
   "metadata": {},
   "outputs": [
    {
     "name": "stdout",
     "output_type": "stream",
     "text": [
      "padded\n",
      "(4764,) (70, 20)\n",
      "padded\n",
      "(4764,) (70, 21)\n",
      "padded\n",
      "(4764,) (70, 3)\n",
      "padded\n",
      "(4764,) (70, 1)\n",
      "padded\n",
      "(213,) (269, 20)\n",
      "padded\n",
      "(213,) (269, 21)\n",
      "padded\n",
      "(213,) (269, 3)\n",
      "padded\n",
      "(213,) (269, 1)\n"
     ]
    }
   ],
   "source": [
    "max_len = 500\n",
    "prim_, evo_, dih_, mask_ = dt.limit_length_and_pad(prim_train, evo_train, dih_train, mask_train, max_len)\n",
    "x_train, y_train = np.concatenate([prim_, evo_], axis=2), dih_\n",
    "prim_v, evo_v, dih_v, mask_v = dt.limit_length_and_pad(prim_valid, evo_valid, dih_valid, mask_valid, max_len)\n",
    "x_valid, y_valid = np.concatenate([prim_v, evo_v], axis=2), dih_v"
   ]
  },
  {
   "cell_type": "code",
   "execution_count": 6,
   "metadata": {},
   "outputs": [
    {
     "data": {
      "text/plain": [
       "(4764, 500, 41)"
      ]
     },
     "execution_count": 6,
     "metadata": {},
     "output_type": "execute_result"
    }
   ],
   "source": [
    "x_train.shape"
   ]
  },
  {
   "cell_type": "code",
   "execution_count": 7,
   "metadata": {},
   "outputs": [],
   "source": [
    "x_train[np.logical_not(mask_)] = -99.\n",
    "x_valid[np.logical_not(mask_v)] = -99."
   ]
  },
  {
   "cell_type": "code",
   "execution_count": 8,
   "metadata": {},
   "outputs": [],
   "source": [
    "histories = []"
   ]
  },
  {
   "cell_type": "code",
   "execution_count": 21,
   "metadata": {},
   "outputs": [],
   "source": [
    "def loss360(y_true, y_pred):\n",
    "    return tf.reduce_mean(tf.abs(tf.atan2(tf.sin(y_true - y_pred), tf.cos(y_true - y_pred))))\n",
    "\n",
    "def pcc(y_true, y_pred):\n",
    "    return tf.reduce_mean(tf.contrib.metrics.streaming_pearson_correlation(tf.cos(y_true), tf.cos(y_pred)))"
   ]
  },
  {
   "cell_type": "markdown",
   "metadata": {},
   "source": [
    "Run a simple regression task to check if it trains on the data"
   ]
  },
  {
   "cell_type": "code",
   "execution_count": 53,
   "metadata": {},
   "outputs": [
    {
     "name": "stdout",
     "output_type": "stream",
     "text": [
      "Train on 4764 samples, validate on 213 samples\n",
      "Epoch 1/5\n",
      "4764/4764 [==============================] - 50s 11ms/step - loss: 0.3710 - loss360: 0.3710 - pcc: nan - mean_absolute_error: 0.3744 - val_loss: 0.3571 - val_loss360: 0.3571 - val_pcc: 0.4326 - val_mean_absolute_error: 0.3608\n",
      "Epoch 2/5\n",
      "4764/4764 [==============================] - 47s 10ms/step - loss: 0.3453 - loss360: 0.3453 - pcc: 0.4488 - mean_absolute_error: 0.3490 - val_loss: 0.3466 - val_loss360: 0.3466 - val_pcc: 0.4618 - val_mean_absolute_error: 0.3509\n",
      "Epoch 3/5\n",
      "4764/4764 [==============================] - 47s 10ms/step - loss: 0.3360 - loss360: 0.3360 - pcc: 0.4721 - mean_absolute_error: 0.3411 - val_loss: 0.3377 - val_loss360: 0.3377 - val_pcc: 0.4857 - val_mean_absolute_error: 0.3442\n",
      "Epoch 4/5\n",
      "4764/4764 [==============================] - 47s 10ms/step - loss: 0.3286 - loss360: 0.3286 - pcc: 0.4991 - mean_absolute_error: 0.3355 - val_loss: 0.3311 - val_loss360: 0.3311 - val_pcc: 0.5129 - val_mean_absolute_error: 0.3389\n",
      "Epoch 5/5\n",
      "4764/4764 [==============================] - 47s 10ms/step - loss: 0.3217 - loss360: 0.3217 - pcc: 0.5255 - mean_absolute_error: 0.3301 - val_loss: 0.3237 - val_loss360: 0.3237 - val_pcc: 0.5376 - val_mean_absolute_error: 0.3333\n"
     ]
    }
   ],
   "source": [
    "from keras.models import Sequential, Model\n",
    "from keras.layers import Dense, Dropout, Lambda, Masking, concatenate, Subtract\n",
    "from keras.layers import LSTM, Conv1D, Input\n",
    "\n",
    "n_angles = 2\n",
    "inputs = Input(shape=(max_len,41))\n",
    "x1 = Masking(mask_value=-99.)(inputs)\n",
    "x2 = LSTM(10, return_sequences=True)(x1)\n",
    "x12 = concatenate([x1,x2])\n",
    "x3 = LSTM(10, return_sequences=True)(x12)\n",
    "x4 = Dense(n_angles, activation='sigmoid')(x3)\n",
    "y = Lambda(lambda x: (x-0.5)*2*np.pi)(x4)\n",
    "model = Model(inputs=inputs, outputs=y)\n",
    "\n",
    "# model = Sequential()\n",
    "# model.add(Masking(mask_value=-1.))\n",
    "# model.add(LSTM(128, return_sequences=True))\n",
    "# # model.add(LSTM(128, return_sequences=True))\n",
    "# # model.add(Conv1D(32, 15, padding='same'))\n",
    "# # model.add(Conv1D(64, 15, padding='same'))\n",
    "# # model.add(Conv1D(128, 15, padding='same'))\n",
    "# # model.add(Dropout(0.5))\n",
    "# model.add(Dense(3, activation='tanh'))\n",
    "# model.add(Lambda(lambda x: x*np.pi))\n",
    "\n",
    "model.compile(loss=loss360,\n",
    "              optimizer='adam',\n",
    "              metrics=[loss360, pcc, 'mean_absolute_error'])\n",
    "\n",
    "with tf.Session() as sess:\n",
    "    init = tf.group(tf.global_variables_initializer(), tf.local_variables_initializer())\n",
    "    sess.run(init)\n",
    "    history = model.fit(x_train, y_train[:,:,:n_angles], validation_data=(x_valid, y_valid[:,:,:n_angles]), batch_size=100, epochs=5)\n",
    "    histories.append(history)"
   ]
  },
  {
   "cell_type": "code",
   "execution_count": 54,
   "metadata": {},
   "outputs": [],
   "source": [
    "with tf.Session() as sess:\n",
    "    init = tf.group(tf.global_variables_initializer(), tf.local_variables_initializer())\n",
    "    sess.run(init)\n",
    "    pred = model.predict(x_valid)"
   ]
  },
  {
   "cell_type": "code",
   "execution_count": 64,
   "metadata": {},
   "outputs": [
    {
     "data": {
      "text/plain": [
       "0.501561"
      ]
     },
     "execution_count": 64,
     "metadata": {},
     "output_type": "execute_result"
    },
    {
     "data": {
      "image/png": "[encoded data removed]",
      "text/plain": [
       "<Figure size 432x288 with 1 Axes>"
      ]
     },
     "metadata": {
      "needs_background": "light"
     },
     "output_type": "display_data"
    }
   ],
   "source": [
    "n = 150\n",
    "plt.scatter(y_valid[n,:,0], y_valid[n,:,1], c='blue')\n",
    "plt.scatter(pred[n,:,0], pred[n,:,1], c='orange')\n",
    "\n",
    "np.mean(np.abs(y_valid[n,:,:2] - pred[n]))"
   ]
  },
  {
   "cell_type": "code",
   "execution_count": 37,
   "metadata": {},
   "outputs": [
    {
     "name": "stdout",
     "output_type": "stream",
     "text": [
      "Train on 1892 samples, validate on 213 samples\n",
      "Epoch 1/10\n",
      "1892/1892 [==============================] - 21s 11ms/step - loss: 0.5397 - mean_absolute_error: 0.5397 - val_loss: 0.5528 - val_mean_absolute_error: 0.5528\n",
      "Epoch 2/10\n",
      "1892/1892 [==============================] - 21s 11ms/step - loss: 0.5390 - mean_absolute_error: 0.5390 - val_loss: 0.5522 - val_mean_absolute_error: 0.5522\n",
      "Epoch 3/10\n",
      "1892/1892 [==============================] - 21s 11ms/step - loss: 0.5384 - mean_absolute_error: 0.5384 - val_loss: 0.5513 - val_mean_absolute_error: 0.5513\n",
      "Epoch 4/10\n",
      "1892/1892 [==============================] - 21s 11ms/step - loss: 0.5376 - mean_absolute_error: 0.5376 - val_loss: 0.5506 - val_mean_absolute_error: 0.5506\n",
      "Epoch 5/10\n",
      "1892/1892 [==============================] - 21s 11ms/step - loss: 0.5378 - mean_absolute_error: 0.5378 - val_loss: 0.5503 - val_mean_absolute_error: 0.5503\n",
      "Epoch 6/10\n",
      "1892/1892 [==============================] - 21s 11ms/step - loss: 0.5367 - mean_absolute_error: 0.5367 - val_loss: 0.5496 - val_mean_absolute_error: 0.5496\n",
      "Epoch 7/10\n",
      "1892/1892 [==============================] - 21s 11ms/step - loss: 0.5363 - mean_absolute_error: 0.5363 - val_loss: 0.5492 - val_mean_absolute_error: 0.5492\n",
      "Epoch 8/10\n",
      "1892/1892 [==============================] - 21s 11ms/step - loss: 0.5358 - mean_absolute_error: 0.5358 - val_loss: 0.5487 - val_mean_absolute_error: 0.5487\n",
      "Epoch 9/10\n",
      "1892/1892 [==============================] - 21s 11ms/step - loss: 0.5353 - mean_absolute_error: 0.5353 - val_loss: 0.5481 - val_mean_absolute_error: 0.5481\n",
      "Epoch 10/10\n",
      "1892/1892 [==============================] - 21s 11ms/step - loss: 0.5349 - mean_absolute_error: 0.5349 - val_loss: 0.5477 - val_mean_absolute_error: 0.5477\n"
     ]
    },
    {
     "data": {
      "text/plain": [
       "<keras.callbacks.History at 0x7fef449989b0>"
      ]
     },
     "execution_count": 37,
     "metadata": {},
     "output_type": "execute_result"
    }
   ],
   "source": [
    "model.fit(x_train, y_train, validation_data=(x_valid, y_valid), batch_size=100, epochs=10)"
   ]
  },
  {
   "cell_type": "code",
   "execution_count": 27,
   "metadata": {},
   "outputs": [
    {
     "data": {
      "text/plain": [
       "[<matplotlib.lines.Line2D at 0x7fef44c131d0>]"
      ]
     },
     "execution_count": 27,
     "metadata": {},
     "output_type": "execute_result"
    },
    {
     "data": {
      "image/png": "[encoded data removed]",
      "text/plain": [
       "<Figure size 432x288 with 1 Axes>"
      ]
     },
     "metadata": {
      "needs_background": "light"
     },
     "output_type": "display_data"
    }
   ],
   "source": [
    "plt.plot(histories[0].history['val_mean_absolute_error'])\n",
    "plt.plot(histories[0].history['mean_absolute_error'])"
   ]
  },
  {
   "cell_type": "code",
   "execution_count": null,
   "metadata": {},
   "outputs": [],
   "source": []
  }
 ],
 "metadata": {
  "kernelspec": {
   "display_name": "Python 3",
   "language": "python",
   "name": "python3"
  },
  "language_info": {
   "codemirror_mode": {
    "name": "ipython",
    "version": 3
   },
   "file_extension": ".py",
   "mimetype": "text/x-python",
   "name": "python",
   "nbconvert_exporter": "python",
   "pygments_lexer": "ipython3",
   "version": "3.6.6"
  }
 },
 "nbformat": 4,
 "nbformat_minor": 2
}
