{
 "cells": [
  {
   "cell_type": "code",
   "execution_count": 1,
   "metadata": {},
   "outputs": [],
   "source": [
    "import numpy as np\n",
    "import matplotlib.pyplot as plt\n",
    "%matplotlib inline\n",
    "import glob\n",
    "import tensorflow as tf\n",
    "import time\n",
    "import scipy\n",
    "import os\n",
    "\n",
    "from final.model import Model\n",
    "from final.helpers import Helpers\n",
    "from final.datahandler import DataHandler\n",
    "from final.dihedralcalculator import DihedralCalculator\n",
    "\n",
    "import txt_data_utils.data_transformer as dt"
   ]
  },
  {
   "cell_type": "code",
   "execution_count": 107,
   "metadata": {},
   "outputs": [],
   "source": [
    "### DATA AND QUEUE CONFIGURATION ###\n",
    "data_path = \"/home/mikey/Data/ProteinNet/\"\n",
    "validation_casps = ['casp11']\n",
    "training_casps = ['casp11']\n",
    "training_percentages = [30, 50, 70, 90, 95, 100]\n",
    "max_len = None # max len of the protein taken into account\n",
    "\n",
    "num_epochs = 500\n",
    "batch_size= 32\n",
    "capacity=1000\n",
    "\n",
    "### MODEL CONFIGURATION ###\n",
    "include_evo = True\n",
    "\n",
    "model_type = 'cnn_big'\n",
    "dropout_rate = 0.2\n",
    "\n",
    "mode_a = 'alphabet' # regression or alphabet\n",
    "mode_b = 'vectors' # angles or vectors\n",
    "\n",
    "prediction_mode = mode_a + '_' + mode_b\n",
    "n_clusters = 50 # only needed when prediction mode == alphabet\n",
    "\n",
    "angularization_mode = None\n",
    "regularize_vectors = None\n",
    "if prediction_mode == 'regression_angles':\n",
    "    angularization_mode = 'cos' # 'cos' or 'tanh', only matters in the regression_angles mode\n",
    "\n",
    "if prediction_mode == 'regression_vectors':\n",
    "    regularize_vectors = True # True or False, only matters in the regression_vectors mode\n",
    "\n",
    "loss_mode = 'mae'\n",
    "n_angles = 2"
   ]
  },
  {
   "cell_type": "code",
   "execution_count": 108,
   "metadata": {},
   "outputs": [
    {
     "name": "stdout",
     "output_type": "stream",
     "text": [
      "['/home/mikey/Data/ProteinNet/casp11/testing/*']\n",
      "Training samples available 81\n",
      "Done\n",
      "padded\n"
     ]
    },
    {
     "data": {
      "text/plain": [
       "((81, 669, 41), (81, 669, 3))"
      ]
     },
     "execution_count": 108,
     "metadata": {},
     "output_type": "execute_result"
    }
   ],
   "source": [
    "tf.reset_default_graph()\n",
    "\n",
    "data_mode = 'testing' # validation or testing\n",
    "\n",
    "data_handler = DataHandler(data_path=data_path,\n",
    "                           casps=validation_casps,\n",
    "                           num_epochs=1,\n",
    "                           mode='testing')\n",
    "\n",
    "ids, one_hot_primary, evolutionary, _, tertiary, ter_mask, pri_length, keep =\\\n",
    "    data_handler.generate_batches(batch_size = 1,\n",
    "                                  capacity = 1000,\n",
    "                                  max_protein_len = max_len)\n",
    "\n",
    "dihedral_calculator = DihedralCalculator()\n",
    "true_dihedrals = dihedral_calculator.dihedral_pipeline(tertiary, protein_length = tf.shape(one_hot_primary)[1])\n",
    "\n",
    "with tf.Session() as sess:\n",
    "    sess.run(tf.group(tf.global_variables_initializer(), tf.local_variables_initializer()))\n",
    "    \n",
    "    coord = tf.train.Coordinator()  \n",
    "    threads = tf.train.start_queue_runners(coord=coord, sess=sess)\n",
    "\n",
    "    try:\n",
    "        ids_v, ohp_v, evo_v, tert_v, ter_mask_v, dih_v = [], [], [], [], [], []\n",
    "        while not coord.should_stop(): \n",
    "            ids_, one_hot_primary_, evolutionary_, tertiary_, ter_mask_, pri_length_, keep_, true_dihedrals_ = sess.run([ids, one_hot_primary, evolutionary, tertiary, \n",
    "                                                                                                        ter_mask, pri_length, keep, true_dihedrals])\n",
    "        \n",
    "            ids_v.append(np.squeeze(ids_))\n",
    "            ohp_v.append(np.squeeze(one_hot_primary_))\n",
    "            evo_v.append(np.squeeze(evolutionary_))\n",
    "            tert_v.append(np.squeeze(tertiary_))\n",
    "            ter_mask_v.append(np.squeeze(ter_mask_))\n",
    "            dih_v.append(np.squeeze(true_dihedrals_))\n",
    "        \n",
    "    except tf.errors.OutOfRangeError:\n",
    "        print('Done')\n",
    "    finally:\n",
    "        # When done, ask the threads to stop.\n",
    "        coord.request_stop()\n",
    "\n",
    "        # Wait for threads to finish.\n",
    "        coord.join(threads)\n",
    "        sess.close()\n",
    "        \n",
    "prim_v, evo_v, dih_v, mask_v = dt.limit_length_and_pad(ohp_v, evo_v, dih_v, ter_mask_v, max_length=None)\n",
    "x_valid, y_valid = np.concatenate([prim_v, evo_v], axis=2), dih_v\n",
    "x_valid.shape, y_valid.shape"
   ]
  },
  {
   "cell_type": "code",
   "execution_count": null,
   "metadata": {
    "scrolled": true
   },
   "outputs": [
    {
     "name": "stdout",
     "output_type": "stream",
     "text": [
      "['/home/mikey/Data/ProteinNet/casp11/training/30/*', '/home/mikey/Data/ProteinNet/casp11/training/50/*', '/home/mikey/Data/ProteinNet/casp11/training/70/*', '/home/mikey/Data/ProteinNet/casp11/training/90/*', '/home/mikey/Data/ProteinNet/casp11/training/95/*', '/home/mikey/Data/ProteinNet/casp11/training/100/*']\n"
     ]
    }
   ],
   "source": [
    "tf.reset_default_graph()\n",
    "\n",
    "# define the training data paths and how many epochs they should be queued for\n",
    "# by instantiating the DataHandler object that takes care of parsing\n",
    "data_handler = DataHandler(data_path=data_path,\n",
    "                           casps=training_casps,\n",
    "                           percentages=training_percentages, \n",
    "                           num_epochs=num_epochs,\n",
    "                           mode='training')\n",
    "\n",
    "# use DataHandler to generate batches of specific size \n",
    "# and optional limit on protein length\n",
    "# secondary structure is missing from the ProteinNet, thus the underscore\n",
    "ids, one_hot_primary, evolutionary, _, tertiary, ter_mask, pri_length, keep =\\\n",
    "    data_handler.generate_batches(batch_size = batch_size,\n",
    "                                  capacity = capacity,\n",
    "                                  max_protein_len = max_len)\n",
    "\n",
    "# convert euclidean coordinates to dihedral angles\n",
    "dihedral_calculator = DihedralCalculator()\n",
    "true_dihedrals = dihedral_calculator.dihedral_pipeline(tertiary, protein_length = tf.shape(one_hot_primary)[1])\n",
    "true_dihedrals = true_dihedrals[:,:,:n_angles]\n",
    "\n",
    "# set up placeholders with batch_size=None to be able to feed them with validation data\n",
    "# they fall onto default coming from the queue if nothing is fed through feed_dict\n",
    "true_dihedrals = tf.placeholder_with_default(true_dihedrals, shape=(None, None, n_angles))\n",
    "true_vectors = Helpers.ang_to_vec_tf(true_dihedrals)\n",
    "one_hot_primary = tf.placeholder_with_default(one_hot_primary, shape=(None, None, 20))\n",
    "evolutionary = tf.placeholder_with_default(evolutionary, shape=(None, None, 21))\n",
    "ter_mask = tf.placeholder_with_default(ter_mask, shape=(None, None))\n",
    "\n",
    "# build a model and get predicted output\n",
    "model = Model(n_angles=n_angles, \n",
    "              n_clusters=n_clusters,\n",
    "              output_mask=ter_mask,\n",
    "              model_type=model_type, \n",
    "              prediction_mode=prediction_mode,\n",
    "              dropout_rate=dropout_rate,\n",
    "              ang_mode=angularization_mode,\n",
    "              regularize_vectors=regularize_vectors,\n",
    "              loss_mode=loss_mode\n",
    "            )\n",
    "\n",
    "if include_evo:\n",
    "    input_data = tf.concat([one_hot_primary, evolutionary], axis=2)\n",
    "else:\n",
    "    input_data = one_hot_primary\n",
    "\n",
    "rad_pred_masked, vec_pred_masked = model.build_model(input_data)\n",
    "\n",
    "true_dihedrals_masked, true_vectors_masked = model.mask_other([true_dihedrals, true_vectors])\n",
    "\n",
    "loss, loss_vec = model.calculate_loss(true_dihedrals_masked, rad_pred_masked,\n",
    "                                      true_vectors_masked, vec_pred_masked)\n",
    "\n",
    "mae_vec = Helpers.loss360(true_dihedrals_masked, rad_pred_masked)\n",
    "\n",
    "pcc = Helpers.pearson_tf(rad_pred_masked, true_dihedrals_masked)\n",
    "\n",
    "# learning rate placeholder for adaptive learning rate\n",
    "learning_rate = tf.placeholder(tf.float32, name='learning_rate')\n",
    "\n",
    "# choose an optimizer to minimize the loss\n",
    "global_step = tf.Variable(0, name='global_step', trainable=False)\n",
    "train_op = tf.train.AdamOptimizer(learning_rate = learning_rate).minimize(loss, global_step=global_step)\n",
    "\n",
    "init = tf.group(tf.global_variables_initializer(), tf.local_variables_initializer())\n",
    "try:\n",
    "    n_parameters = np.sum([np.prod(v.get_shape().as_list()) for v in tf.trainable_variables()])\n",
    "    print(\"Parameters:\", n_parameters)\n",
    "except:\n",
    "    print(\"Couldn't calculate the number of parameters\")"
   ]
  },
  {
   "cell_type": "markdown",
   "metadata": {},
   "source": [
    "Training loop"
   ]
  },
  {
   "cell_type": "code",
   "execution_count": null,
   "metadata": {
    "scrolled": true
   },
   "outputs": [],
   "source": [
    "learning_rate_decay = 0.99\n",
    "steps_to_print_after = 200\n",
    "init_learning_rate = 0.001\n",
    "load_checkpoint = False\n",
    "save_checkpoint = True\n",
    "\n",
    "def try_create_dir(path):\n",
    "    try:\n",
    "        os.mkdir(path)\n",
    "        print(\"Created directory: \" + path)\n",
    "    except:\n",
    "        print(\"Didn't create the directory: \" + path)\n",
    "        pass\n",
    "\n",
    "try_create_dir('./checkpoints')\n",
    "try_create_dir('./checkpoints/' + prediction_mode)\n",
    "try_create_dir('./checkpoints/' + prediction_mode + '/tmp')\n",
    "\n",
    "checkpoint_path = \"./checkpoints/\" + prediction_mode + \"/tmp/\"+loss_mode+\"_\"+str(n_angles)+\"_model.ckpt\"\n",
    "print(\"checkpoint path:\", checkpoint_path)\n",
    "\n",
    "if 'lstm' in model_type:\n",
    "    init_learning_rate = 0.001\n",
    "    steps_to_print_after = 200\n",
    "    \n",
    "saver = tf.train.Saver()\n",
    "with tf.Session() as sess:\n",
    "    # important to call both of these, because \n",
    "    # otherwise can't specify num_epochs in string_input_producer\n",
    "    sess.run(init)\n",
    "    \n",
    "    if load_checkpoint:\n",
    "        saver.restore(sess, checkpoint_path)\n",
    "    \n",
    "    coord = tf.train.Coordinator()  \n",
    "    threads = tf.train.start_queue_runners(coord=coord, sess=sess)\n",
    "\n",
    "    try:\n",
    "        step = 1\n",
    "        \n",
    "        losses = []\n",
    "        loss_vecs = []\n",
    "        mae_vecs = []\n",
    "        \n",
    "        train_losses = []\n",
    "        train_maes = []\n",
    "        val_maes = []\n",
    "        pccs = []\n",
    "        \n",
    "        while not coord.should_stop():        \n",
    "                \n",
    "            _, true_dihedrals_, rad_pred_masked_, loss_, loss_vec_, mae_vec_ = sess.run([train_op, true_dihedrals, \n",
    "                                                                    rad_pred_masked, loss, loss_vec, mae_vec], \n",
    "                                                                    feed_dict={learning_rate: init_learning_rate})\n",
    "\n",
    "            losses.append(loss_)\n",
    "            loss_vecs.append(loss_vec_)\n",
    "            mae_vecs.append(mae_vec_)\n",
    "            \n",
    "            if step % steps_to_print_after == 0:\n",
    "                avg_loss, avg_loss_vec =  np.mean(losses), np.mean(np.array(loss_vecs), axis=0)\n",
    "                train_losses.append(avg_loss_vec)\n",
    "                train_maes.append(np.mean(np.array(mae_vecs), axis=0))\n",
    "                print(\"Train loss:\", avg_loss, avg_loss_vec)\n",
    "\n",
    "                losses = []\n",
    "                loss_vecs = []\n",
    "                mae_vecs = []\n",
    "                \n",
    "                (true_dihedrals_masked_v, rad_pred_masked_v, \n",
    "                 loss_, loss_vec_, mae_vec_v) = sess.run([true_dihedrals_masked, rad_pred_masked, \n",
    "                                                   loss, loss_vec, mae_vec], \n",
    "                                                   feed_dict={\n",
    "                                                           one_hot_primary: prim_v,\n",
    "                                                           evolutionary: evo_v,\n",
    "                                                           true_dihedrals: dih_v[:,:,:n_angles],\n",
    "                                                           ter_mask: mask_v\n",
    "                                                          })\n",
    "                pcc = Helpers.pearson_numpy(np.squeeze(true_dihedrals_masked_v)[:,:n_angles], \n",
    "                                                               np.array(rad_pred_masked_v))\n",
    "                print(\"Validation loss:\", loss_, loss_vec_)\n",
    "                print(\"Validation PCC:\", pcc)\n",
    "                print(\"Validation MAE:\", mae_vec_v)\n",
    "                val_maes.append(mae_vec_v)\n",
    "                pccs.append(pcc)\n",
    "            \n",
    "            if step * batch_size > data_handler.training_samples:\n",
    "                step = 0\n",
    "                init_learning_rate = init_learning_rate * learning_rate_decay\n",
    "                print(\"EPOCH. New learning rate:\", init_learning_rate)\n",
    "                \n",
    "                if save_checkpoint:\n",
    "                    save_path = saver.save(sess, checkpoint_path)\n",
    "                    print(\"Model saved in path: %s\" % save_path)\n",
    "                \n",
    "            step += 1\n",
    "\n",
    "    except tf.errors.OutOfRangeError:\n",
    "        print('Done training for %d epochs, %d steps.' % (num_epochs, step))\n",
    "    finally:\n",
    "        \n",
    "        # When done, ask the threads to stop.\n",
    "        coord.request_stop()\n",
    "\n",
    "        # Wait for threads to finish.\n",
    "        coord.join(threads)\n",
    "        sess.close()"
   ]
  },
  {
   "cell_type": "code",
   "execution_count": 100,
   "metadata": {},
   "outputs": [],
   "source": [
    "train_maes = np.array(train_maes)\n",
    "val_maes = np.array(val_maes)\n",
    "pccs = np.array(pccs)"
   ]
  },
  {
   "cell_type": "markdown",
   "metadata": {},
   "source": [
    "Plot the avg losses over time"
   ]
  },
  {
   "cell_type": "code",
   "execution_count": 101,
   "metadata": {},
   "outputs": [
    {
     "data": {
      "text/plain": [
       "<matplotlib.legend.Legend at 0x7f7a1772f9e8>"
      ]
     },
     "execution_count": 101,
     "metadata": {},
     "output_type": "execute_result"
    },
    {
     "data": {
      "image/png": "[encoded data removed]",
      "text/plain": [
       "<Figure size 432x288 with 1 Axes>"
      ]
     },
     "metadata": {
      "needs_background": "light"
     },
     "output_type": "display_data"
    }
   ],
   "source": [
    "plt.plot(train_maes[:,0], label='Train mae $\\phi$')\n",
    "plt.plot(val_maes[:,0], label='Validation mae $\\phi$')\n",
    "plt.plot(np.ones_like(val_maes[:,0]) * np.deg2rad(20), '--', label='RaptorX mae $\\phi$')\n",
    "plt.legend()"
   ]
  },
  {
   "cell_type": "code",
   "execution_count": 102,
   "metadata": {},
   "outputs": [
    {
     "data": {
      "text/plain": [
       "<matplotlib.legend.Legend at 0x7f7a17399fd0>"
      ]
     },
     "execution_count": 102,
     "metadata": {},
     "output_type": "execute_result"
    },
    {
     "data": {
      "image/png": "[encoded data removed]",
      "text/plain": [
       "<Figure size 432x288 with 1 Axes>"
      ]
     },
     "metadata": {
      "needs_background": "light"
     },
     "output_type": "display_data"
    }
   ],
   "source": [
    "plt.plot(pccs[:,0], label='Validation pcc(cos($\\phi$))')\n",
    "plt.plot(np.ones_like(pccs[:,0]) * 0.6585, '--', label='RaptorX pcc(cos($\\phi$))')\n",
    "plt.legend()"
   ]
  },
  {
   "cell_type": "code",
   "execution_count": 104,
   "metadata": {},
   "outputs": [
    {
     "data": {
      "text/plain": [
       "<matplotlib.legend.Legend at 0x7f7a174e2860>"
      ]
     },
     "execution_count": 104,
     "metadata": {},
     "output_type": "execute_result"
    },
    {
     "data": {
      "image/png": "[encoded data removed]",
      "text/plain": [
       "<Figure size 432x288 with 1 Axes>"
      ]
     },
     "metadata": {
      "needs_background": "light"
     },
     "output_type": "display_data"
    }
   ],
   "source": [
    "plt.plot(train_maes[:,1], label='Train mae $\\psi$')\n",
    "plt.plot(val_maes[:,1], label='Validation mae $\\psi$')\n",
    "plt.plot(np.ones_like(val_maes[:,0]) * np.deg2rad(30.14), '--', label='RaptorX result')\n",
    "plt.legend()"
   ]
  },
  {
   "cell_type": "code",
   "execution_count": 105,
   "metadata": {},
   "outputs": [
    {
     "data": {
      "text/plain": [
       "<matplotlib.legend.Legend at 0x7f7a175b2128>"
      ]
     },
     "execution_count": 105,
     "metadata": {},
     "output_type": "execute_result"
    },
    {
     "data": {
      "image/png": "[encoded data removed]",
      "text/plain": [
       "<Figure size 432x288 with 1 Axes>"
      ]
     },
     "metadata": {
      "needs_background": "light"
     },
     "output_type": "display_data"
    }
   ],
   "source": [
    "plt.plot(pccs[:,1], label='Validation pcc(cos($\\psi$))')\n",
    "plt.plot(np.ones_like(pccs[:,0]) * 0.7103, '--', label='RaptorX pcc(cos($\\psi$))')\n",
    "plt.legend()"
   ]
  },
  {
   "cell_type": "code",
   "execution_count": 106,
   "metadata": {},
   "outputs": [
    {
     "ename": "IndexError",
     "evalue": "index 2 is out of bounds for axis 1 with size 2",
     "output_type": "error",
     "traceback": [
      "\u001b[0;31m---------------------------------------------------------------------------\u001b[0m",
      "\u001b[0;31mIndexError\u001b[0m                                Traceback (most recent call last)",
      "\u001b[0;32m<ipython-input-106-d6cb0847d066>\u001b[0m in \u001b[0;36m<module>\u001b[0;34m\u001b[0m\n\u001b[0;32m----> 1\u001b[0;31m \u001b[0mplt\u001b[0m\u001b[0;34m.\u001b[0m\u001b[0mplot\u001b[0m\u001b[0;34m(\u001b[0m\u001b[0mtrain_maes\u001b[0m\u001b[0;34m[\u001b[0m\u001b[0;34m:\u001b[0m\u001b[0;34m,\u001b[0m\u001b[0;36m2\u001b[0m\u001b[0;34m]\u001b[0m\u001b[0;34m,\u001b[0m \u001b[0mlabel\u001b[0m\u001b[0;34m=\u001b[0m\u001b[0;34m'Train mae $\\omega$'\u001b[0m\u001b[0;34m)\u001b[0m\u001b[0;34m\u001b[0m\u001b[0m\n\u001b[0m\u001b[1;32m      2\u001b[0m \u001b[0mplt\u001b[0m\u001b[0;34m.\u001b[0m\u001b[0mplot\u001b[0m\u001b[0;34m(\u001b[0m\u001b[0mval_maes\u001b[0m\u001b[0;34m[\u001b[0m\u001b[0;34m:\u001b[0m\u001b[0;34m,\u001b[0m\u001b[0;36m2\u001b[0m\u001b[0;34m]\u001b[0m\u001b[0;34m,\u001b[0m \u001b[0mlabel\u001b[0m\u001b[0;34m=\u001b[0m\u001b[0;34m'Validation mae $\\omega$'\u001b[0m\u001b[0;34m)\u001b[0m\u001b[0;34m\u001b[0m\u001b[0m\n\u001b[1;32m      3\u001b[0m \u001b[0;31m# plt.plot(np.ones_like(val_maes[:,0]) * np.deg2rad(30.14), '--', label='RaptorX result')\u001b[0m\u001b[0;34m\u001b[0m\u001b[0;34m\u001b[0m\u001b[0m\n\u001b[1;32m      4\u001b[0m \u001b[0mplt\u001b[0m\u001b[0;34m.\u001b[0m\u001b[0mlegend\u001b[0m\u001b[0;34m(\u001b[0m\u001b[0;34m)\u001b[0m\u001b[0;34m\u001b[0m\u001b[0m\n",
      "\u001b[0;31mIndexError\u001b[0m: index 2 is out of bounds for axis 1 with size 2"
     ]
    }
   ],
   "source": [
    "# plt.plot(train_maes[:,2], label='Train mae $\\omega$')\n",
    "# plt.plot(val_maes[:,2], label='Validation mae $\\omega$')\n",
    "# # plt.plot(np.ones_like(val_maes[:,0]) * np.deg2rad(30.14), '--', label='RaptorX result')\n",
    "# plt.legend()"
   ]
  },
  {
   "cell_type": "markdown",
   "metadata": {},
   "source": [
    "Get just the dihedral angles to see if they resemble how a ramachadran plot should look like"
   ]
  },
  {
   "cell_type": "code",
   "execution_count": 56,
   "metadata": {},
   "outputs": [],
   "source": [
    "protein_n = 12\n",
    "\n",
    "def get_predictions(protein_n):\n",
    "    with tf.Session() as sess:\n",
    "        sess.run(tf.global_variables_initializer())\n",
    "        sess.run(tf.local_variables_initializer())\n",
    "        saver.restore(sess, checkpoint_path)\n",
    "\n",
    "        coord = tf.train.Coordinator()\n",
    "        threads = tf.train.start_queue_runners(coord=coord, sess=sess)\n",
    "\n",
    "        true, pred, mae_ = sess.run([true_dihedrals_masked, rad_pred_masked, mae_vec])\n",
    "\n",
    "        (true, pred, mae_) = sess.run([true_dihedrals_masked, rad_pred_masked, mae_vec], \n",
    "                                                       feed_dict={\n",
    "                                                               one_hot_primary: np.expand_dims(prim_v[protein_n], 0),\n",
    "                                                               evolutionary: np.expand_dims(evo_v[protein_n], 0),\n",
    "                                                               true_dihedrals: np.expand_dims(dih_v[protein_n,:,:n_angles], 0),\n",
    "                                                               ter_mask: np.expand_dims(mask_v[protein_n],0)\n",
    "                                                              })\n",
    "\n",
    "        coord.request_stop()\n",
    "    return true, pred"
   ]
  },
  {
   "cell_type": "code",
   "execution_count": 73,
   "metadata": {},
   "outputs": [
    {
     "name": "stdout",
     "output_type": "stream",
     "text": [
      "INFO:tensorflow:Restoring parameters from ./checkpoints/regression_vectors/tmp/mae_3_model.ckpt\n"
     ]
    },
    {
     "data": {
      "text/plain": [
       "<matplotlib.legend.Legend at 0x7f7ac5c90be0>"
      ]
     },
     "execution_count": 73,
     "metadata": {},
     "output_type": "execute_result"
    },
    {
     "data": {
      "image/png": "[encoded data removed]",
      "text/plain": [
       "<Figure size 864x576 with 1 Axes>"
      ]
     },
     "metadata": {
      "needs_background": "light"
     },
     "output_type": "display_data"
    }
   ],
   "source": [
    "true, pred = get_predictions(18)\n",
    "\n",
    "plt.figure(figsize=(12,8))\n",
    "\n",
    "phi, psi, omega = np.split(pred, 3, -1)\n",
    "plt.scatter(phi[:], psi[:], s=1, label='pred')\n",
    "\n",
    "phi, psi, omega = np.split(true, 3, -1)\n",
    "plt.scatter(phi[:], psi[:], s=1, label='true')\n",
    "\n",
    "plt.xlim((-np.pi, np.pi))\n",
    "plt.ylim((-np.pi, np.pi))\n",
    "plt.xlabel('$\\phi$ [rad]')\n",
    "plt.ylabel('$\\psi$ [rad]')\n",
    "plt.legend(loc=1)"
   ]
  },
  {
   "cell_type": "code",
   "execution_count": null,
   "metadata": {},
   "outputs": [],
   "source": [
    "plt.hist(omega[protein_n], bins=100)"
   ]
  },
  {
   "cell_type": "code",
   "execution_count": null,
   "metadata": {},
   "outputs": [],
   "source": [
    "#                 # access trainable variables to see if they're training\n",
    "#                 variables_names = [v.name for v in tf.trainable_variables()]\n",
    "#                 values = sess.run(variables_names)\n",
    "#                 for k, v in zip(variables_names, values):\n",
    "#                     print(\"Variable: \", k)\n",
    "#                     print(\"Shape: \", v.shape)\n",
    "#                     print(v)"
   ]
  },
  {
   "cell_type": "code",
   "execution_count": null,
   "metadata": {},
   "outputs": [],
   "source": [
    "# def _coordinates(config, dihedrals):\n",
    "#     \"\"\" Converts dihedrals into full 3D structures. \"\"\"\n",
    "\n",
    "#     # converts dihedrals to points ready for reconstruction.\n",
    "#     points = dihedral_to_point(dihedrals) # [NUM_STEPS x NUM_DIHEDRALS, BATCH_SIZE, NUM_DIMENSIONS]\n",
    "             \n",
    "#     # converts points to final 3D coordinates.\n",
    "#     coordinates = point_to_coordinate(points, num_fragments=config['num_reconstruction_fragments'], \n",
    "#                                               parallel_iterations=config['num_reconstruction_parallel_iters']) \n",
    "#                   # [NUM_STEPS x NUM_DIHEDRALS, BATCH_SIZE, NUM_DIMENSIONS]\n",
    "\n",
    "#     return coordinates\n",
    "\n",
    "# def _drmsds(config, coordinates, targets, weights):\n",
    "#     \"\"\" Computes reduced weighted dRMSD loss (as specified by weights) \n",
    "#         between predicted tertiary structures and targets. \"\"\"\n",
    "                  \n",
    "#     # compute per structure dRMSDs\n",
    "#     drmsds = drmsd(coordinates, targets, weights, name='drmsds') # [BATCH_SIZE]\n",
    "\n",
    "#     # add to relevant collections for summaries, etc.\n",
    "#     if config['log_model_summaries']: tf.add_to_collection(config['name'] + '_drmsdss', drmsds)\n",
    "\n",
    "#     return drmsds"
   ]
  }
 ],
 "metadata": {
  "kernelspec": {
   "display_name": "Python 3",
   "language": "python",
   "name": "python3"
  }
 },
 "nbformat": 4,
 "nbformat_minor": 2
}
