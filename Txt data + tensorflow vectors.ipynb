{
 "cells": [
  {
   "cell_type": "code",
   "execution_count": 1,
   "metadata": {},
   "outputs": [
    {
     "name": "stderr",
     "output_type": "stream",
     "text": [
      "Using TensorFlow backend.\n"
     ]
    }
   ],
   "source": [
    "import numpy as np\n",
    "import matplotlib.pyplot as plt\n",
    "%matplotlib inline\n",
    "import glob\n",
    "import tensorflow as tf\n",
    "import time\n",
    "import scipy\n",
    "\n",
    "import collections, numpy\n",
    "\n",
    "import data_loader as dl\n",
    "import data_transformer as dt\n",
    "\n",
    "from sklearn.cluster import KMeans\n",
    "from keras.utils import to_categorical\n",
    "\n",
    "# helper for setting up the bidirectional, multilayer lstm\n",
    "def bidirectional_lstm(input_data, num_layers, rnn_size, keep_prob, lengths=None):\n",
    "    output = input_data\n",
    "    for layer in range(num_layers):\n",
    "        with tf.variable_scope('encoder_{}'.format(layer),reuse=tf.AUTO_REUSE):\n",
    "\n",
    "            cell_fw = tf.contrib.rnn.LSTMCell(rnn_size, initializer=tf.truncated_normal_initializer(-0.1, 0.1, seed=2))\n",
    "            cell_fw = tf.contrib.rnn.DropoutWrapper(cell_fw, input_keep_prob = keep_prob)\n",
    "\n",
    "            cell_bw = tf.contrib.rnn.LSTMCell(rnn_size, initializer=tf.truncated_normal_initializer(-0.1, 0.1, seed=2))\n",
    "            cell_bw = tf.contrib.rnn.DropoutWrapper(cell_bw, input_keep_prob = keep_prob)\n",
    "\n",
    "            outputs, states = tf.nn.bidirectional_dynamic_rnn(cell_fw, \n",
    "                                                              cell_bw, \n",
    "                                                              output,\n",
    "                                                              dtype=tf.float32,\n",
    "                                                              sequence_length=lengths)\n",
    "            output = tf.concat(outputs,2)\n",
    "\n",
    "    return output\n",
    "\n",
    "class ModelHelpers:\n",
    "    @staticmethod\n",
    "    @tf.custom_gradient\n",
    "    def clip_grad_layer(x):\n",
    "        def grad(dy):\n",
    "            return tf.clip_by_value(dy, 1e-10, 1e-10)\n",
    "        return tf.identity(x), grad\n",
    "    \n",
    "    @staticmethod\n",
    "    def input_placeholders(max_len, input_columns):\n",
    "        X = tf.placeholder(tf.float32, [None, max_len, input_columns], name=\"X\")\n",
    "        input_mask = tf.placeholder(tf.bool, [None, max_len], name=\"input_mask\")\n",
    "        return X, input_mask\n",
    "\n",
    "    @staticmethod\n",
    "    def labels_placeholders(max_len, n_clusters, n_angles):\n",
    "        y = tf.placeholder(tf.float32, [None, max_len, n_clusters], name='y')\n",
    "        y_angles = tf.placeholder(tf.float32, [None, max_len, n_angles], name='y_angles')\n",
    "        return y, y_angles\n",
    "\n",
    "    @staticmethod\n",
    "    def clusters(init_clusters, trainable=False, clip_gradient_eps=False):\n",
    "        clusters_tf = tf.Variable(initial_value=init_clusters, dtype=np.float32, trainable=True)\n",
    "        clusters_tf = tf.clip_by_value(clusters_tf, -np.pi, np.pi)\n",
    "        if clip_gradient_eps:\n",
    "            clusters_tf = ModelHelpers.clip_grad_layer(clusters_tf)\n",
    "        return clusters_tf\n",
    "\n",
    "    @staticmethod\n",
    "    def conv_layer(in_, neurons, filter_size):\n",
    "        if type(in_) == list:\n",
    "            in_ = tf.concat(in_, axis=2)\n",
    "        return tf.layers.conv1d(in_, neurons, filter_size, activation=tf.nn.relu, padding='same')\n",
    "\n",
    "    @staticmethod\n",
    "    def mask_all(tensors_list, mask):\n",
    "        res = []\n",
    "        for tensor in tensors_list:\n",
    "            res.append(tf.boolean_mask(tensor, mask))\n",
    "        return res\n",
    "    \n",
    "    @staticmethod\n",
    "    def angularize(input_tensor, name=None):\n",
    "#         with tf.name_scope(name, 'angularize', [input_tensor]) as scope:\n",
    "#             input_tensor = tf.convert_to_tensor(input_tensor, name='input_tensor')\n",
    "\n",
    "        return tf.multiply(np.pi, tf.cos(input_tensor + (np.pi / 2)))\n",
    "\n",
    "    @staticmethod\n",
    "    def vec_to_angle(input_tensor):\n",
    "        return tf.math.atan2(input_tensor[:,:,1], input_tensor[:,:,0])\n",
    "    \n",
    "    @staticmethod\n",
    "    def loss360(y_true, y_pred):\n",
    "        return tf.reduce_mean(tf.abs(tf.atan2(tf.sin(y_true - y_pred), tf.cos(y_true - y_pred))))"
   ]
  },
  {
   "cell_type": "code",
   "execution_count": 2,
   "metadata": {},
   "outputs": [],
   "source": [
    "def loss360_numpy(angles1, angles2):\n",
    "    return np.abs(np.arctan2(np.sin(angles1 - angles2), np.cos(angles1 - angles2)))"
   ]
  },
  {
   "cell_type": "code",
   "execution_count": 3,
   "metadata": {},
   "outputs": [],
   "source": [
    "angles1_deg = np.array([0, 45, 90, 135, 180, 235, 280, 325, 360])\n",
    "angles1 = np.deg2rad(angles1_deg)\n",
    "\n",
    "mask = np.expand_dims(angles1, 0)\n",
    "base = np.ones([np.size(mask), np.size(mask)])\n",
    "matrix_mask = base * mask\n",
    "\n",
    "# loss360_numpy(angles1, angles2)\n",
    "# loss360_numpy(matrix_mask, matrix_mask.T)\n",
    "mae = np.degrees(np.abs(matrix_mask - np.flip(matrix_mask.T)))\n",
    "\n",
    "ang_mae = np.degrees(loss360_numpy(matrix_mask, np.flip(matrix_mask.T)))"
   ]
  },
  {
   "cell_type": "code",
   "execution_count": 5,
   "metadata": {},
   "outputs": [
    {
     "data": {
      "image/png": "[encoded data removed]",
      "text/plain": [
       "<Figure size 432x288 with 2 Axes>"
      ]
     },
     "metadata": {
      "needs_background": "light"
     },
     "output_type": "display_data"
    },
    {
     "data": {
      "image/png": "[encoded data removed]",
      "text/plain": [
       "<Figure size 432x288 with 2 Axes>"
      ]
     },
     "metadata": {
      "needs_background": "light"
     },
     "output_type": "display_data"
    }
   ],
   "source": [
    "import itertools\n",
    "def plot_confusion_matrix(cm, classes,\n",
    "                          normalize=False,\n",
    "                          title='Confusion matrix',\n",
    "                          cmap=plt.cm.Blues):\n",
    "    if normalize:\n",
    "        cm = cm.astype('float') / cm.sum(axis=1)[:, np.newaxis]\n",
    "\n",
    "    plt.imshow(cm, interpolation='nearest', cmap=cmap)\n",
    "    plt.title(title)\n",
    "    plt.colorbar()\n",
    "    tick_marks = np.arange(len(classes))\n",
    "    plt.xticks(tick_marks, classes, rotation=45)\n",
    "    plt.yticks(tick_marks, reversed(classes))\n",
    "\n",
    "    fmt = '.2f' if normalize else 'd'\n",
    "    thresh = cm.max() / 2.\n",
    "\n",
    "    plt.ylabel('1st Angle (deg)')\n",
    "    plt.xlabel('2nd Angle (deg)')\n",
    "    plt.tight_layout()\n",
    "    return plt.gcf()\n",
    "\n",
    "\n",
    "plot_confusion_matrix(mae, [str(angle) for angle in angles1_deg], title='Regular MAE (deg)')\n",
    "plt.show()\n",
    "plot_confusion_matrix(ang_mae, [str(angle) for angle in angles1_deg], title='Angular MAE (deg)')\n",
    "plt.show()"
   ]
  },
  {
   "cell_type": "code",
   "execution_count": 6,
   "metadata": {},
   "outputs": [],
   "source": [
    "# change this path to match the path of where you have the\n",
    "# training_50 and validation files\n",
    "txt_data_path = '/home/mikey/Data/ProteinNet/casp7_txt/'\n",
    "\n",
    "max_len = 500 # max len of the protein taken into account\n",
    "n_angles = 2 # 3 if consider all angles or 2 if only phi and psi"
   ]
  },
  {
   "cell_type": "markdown",
   "metadata": {},
   "source": [
    "The data_lim is important because so far the full 13000 proteins crashes my system with 16Gb of ram\n",
    "\n",
    "Load training data"
   ]
  },
  {
   "cell_type": "code",
   "execution_count": 7,
   "metadata": {},
   "outputs": [
    {
     "name": "stdout",
     "output_type": "stream",
     "text": [
      "Loaded data and filtered line endings\n",
      "Extracted primary data\n",
      "Encoded primary sequences\n",
      "Loaded data and filtered line endings\n",
      "Extracted evolutionary data\n"
     ]
    },
    {
     "name": "stderr",
     "output_type": "stream",
     "text": [
      "100%|██████████| 8000/8000 [00:00<00:00, 75823.06it/s]\n"
     ]
    },
    {
     "name": "stdout",
     "output_type": "stream",
     "text": [
      "Grouped 21's together\n",
      "Loaded data and filtered line endings\n",
      "Extracted mask data\n"
     ]
    },
    {
     "data": {
      "text/plain": [
       "(8000, (70, 20), 8000, (70, 21), 8000, (70, 3), 8000, (70,))"
      ]
     },
     "execution_count": 7,
     "metadata": {},
     "output_type": "execute_result"
    }
   ],
   "source": [
    "file_name = 'training_50'\n",
    "data_lim = 8000\n",
    "prim_train, evo_train, dih_train, mask_train = (dl.parse_primary_from_file(txt_data_path + file_name, data_lim), \n",
    "                                                dl.parse_evolutionary_from_file(txt_data_path + file_name, data_lim),\n",
    "                                                dl.load_file('./'+file_name+'_dih.joblib'),\n",
    "                                                dl.parse_mask_from_file(txt_data_path + file_name, data_lim))\n",
    "dih_train = dih_train[:data_lim]\n",
    "len(prim_train), prim_train[0].shape, len(evo_train), evo_train[0].shape, len(dih_train), dih_train[0].shape, len(mask_train), mask_train[0].shape"
   ]
  },
  {
   "cell_type": "markdown",
   "metadata": {},
   "source": [
    "Load validation data"
   ]
  },
  {
   "cell_type": "code",
   "execution_count": 8,
   "metadata": {},
   "outputs": [
    {
     "name": "stdout",
     "output_type": "stream",
     "text": [
      "Loaded data and filtered line endings\n",
      "Extracted primary data\n",
      "Encoded primary sequences\n",
      "Loaded data and filtered line endings\n",
      "Extracted evolutionary data\n"
     ]
    },
    {
     "name": "stderr",
     "output_type": "stream",
     "text": [
      "100%|██████████| 224/224 [00:00<00:00, 66453.82it/s]"
     ]
    },
    {
     "name": "stdout",
     "output_type": "stream",
     "text": [
      "Grouped 21's together\n",
      "Loaded data and filtered line endings\n",
      "Extracted mask data\n"
     ]
    },
    {
     "name": "stderr",
     "output_type": "stream",
     "text": [
      "\n"
     ]
    },
    {
     "data": {
      "text/plain": [
       "(224, (269, 20), 224, (269, 21), 224, (269, 3), 224, (269,))"
      ]
     },
     "execution_count": 8,
     "metadata": {},
     "output_type": "execute_result"
    }
   ],
   "source": [
    "file_name = 'validation'\n",
    "prim_valid, evo_valid, dih_valid, mask_valid = (dl.parse_primary_from_file(txt_data_path + file_name), \n",
    "                                                dl.parse_evolutionary_from_file(txt_data_path + file_name),\n",
    "                                                dl.load_file('./'+ file_name + '_dih.joblib'),\n",
    "                                                dl.parse_mask_from_file(txt_data_path + file_name))\n",
    "len(prim_valid), prim_valid[0].shape, len(evo_valid), evo_valid[0].shape, len(dih_valid), dih_valid[0].shape, len(mask_valid), mask_valid[0].shape"
   ]
  },
  {
   "cell_type": "markdown",
   "metadata": {},
   "source": [
    "Pad the data and limit protein length. Prepare the data for training"
   ]
  },
  {
   "cell_type": "code",
   "execution_count": 9,
   "metadata": {},
   "outputs": [
    {
     "name": "stdout",
     "output_type": "stream",
     "text": [
      "padded\n",
      "(7623,) (70, 20)\n",
      "padded\n",
      "(7623,) (70, 21)\n",
      "padded\n",
      "(7623,) (70, 3)\n",
      "padded\n",
      "(7623,) (70, 1)\n",
      "padded\n",
      "(213,) (269, 20)\n",
      "padded\n",
      "(213,) (269, 21)\n",
      "padded\n",
      "(213,) (269, 3)\n",
      "padded\n",
      "(213,) (269, 1)\n"
     ]
    },
    {
     "data": {
      "text/plain": [
       "((7623, 500, 41), (7623, 500, 2), (213, 500, 41), (213, 500, 2))"
      ]
     },
     "execution_count": 9,
     "metadata": {},
     "output_type": "execute_result"
    }
   ],
   "source": [
    "prim_, evo_, dih_, mask_ = dt.limit_length_and_pad(prim_train, evo_train, dih_train, mask_train, max_len)\n",
    "x_train, y_train = np.concatenate([prim_, evo_], axis=2), dih_[:,:,:n_angles]\n",
    "prim_v, evo_v, dih_v, mask_v = dt.limit_length_and_pad(prim_valid, evo_valid, dih_valid, mask_valid, max_len)\n",
    "x_valid, y_valid = np.concatenate([prim_v, evo_v], axis=2), dih_v[:,:,:n_angles]\n",
    "\n",
    "x_train.shape, y_train.shape, x_valid.shape, y_valid.shape"
   ]
  },
  {
   "cell_type": "code",
   "execution_count": 10,
   "metadata": {
    "scrolled": false
   },
   "outputs": [
    {
     "name": "stdout",
     "output_type": "stream",
     "text": [
      "Fitting KMeans...\n",
      "Done\n"
     ]
    },
    {
     "data": {
      "text/plain": [
       "('n_clusters_after_fuse:', 46, 'fused', 4, 'padded to', (50, 2))"
      ]
     },
     "execution_count": 10,
     "metadata": {},
     "output_type": "execute_result"
    }
   ],
   "source": [
    "def manual_clusters(n_clusters):\n",
    "    # these manually selecteed clusters will be chosen from left to right\n",
    "    # when n_clusters < man_clusters.shape[0]\n",
    "    man_clusters = np.array([[-1.5, 0, 0], [-1.5, 2.5, 0], [1.5, 0.5, 0], [-2.2, -2.5, 0],\n",
    "                          [-1.5, 0, np.pi], [-1.5, 0, -np.pi], [-1.5, 2.5, np.pi], [-1.5, 2.5, -np.pi],\n",
    "                            [0,0,0],[0,0,0]])\n",
    "    try:\n",
    "        return {\n",
    "            i+1: man_clusters[:i+1] for i in range(man_clusters.shape[0])\n",
    "        }[n_clusters]\n",
    "    except KeyError as e:\n",
    "        print(\"Manual clusters only support max\", man_clusters.shape[0])\n",
    "        print(e)\n",
    "        raise\n",
    "\n",
    "def kmeans_clusters(angles, limit_data, filter_, n_clusters):\n",
    "    \"\"\"\n",
    "        angles: [..., ..., 3]\n",
    "        limit_data: int, how many protein to consider for clustering\n",
    "        filter_: bool, deciding if clusters too close to each other should be merged\n",
    "    \"\"\"\n",
    "    def dist2(p1, p2):\n",
    "        return np.sum((p1-p2)**2)\n",
    "\n",
    "    def fuse(points, min_dist):\n",
    "        ret = []\n",
    "        d2 = min_dist * min_dist\n",
    "        n = len(points)\n",
    "        taken = [False] * n\n",
    "        for i in range(n):\n",
    "            if not taken[i]:\n",
    "                count = 1\n",
    "                point = points[i]\n",
    "                taken[i] = True\n",
    "                for j in range(i+1, n):\n",
    "                    if dist2(points[i], points[j]) < d2:\n",
    "                        point += points[j]\n",
    "                        count+=1\n",
    "                        taken[j] = True\n",
    "                point /= count\n",
    "                ret.append(point)\n",
    "        return np.array(ret)\n",
    "    \n",
    "    print(\"Fitting KMeans...\")\n",
    "    km = KMeans(n_clusters=n_clusters, random_state=0, verbose=0, max_iter=1000).fit(angles[:limit_data].reshape(-1,n_angles))\n",
    "    print(\"Done\")\n",
    "    if filter_:\n",
    "        return fuse(km.cluster_centers_, min_dist=np.abs(np.max(angles)) / 10.)\n",
    "    else:\n",
    "        return km.cluster_centers_\n",
    "\n",
    "def get_cluster_centers(select_clusters_n, mode='manual'):\n",
    "    return {\n",
    "        'manual': lambda n_clusters: manual_clusters(n_clusters=n_clusters),\n",
    "        'kmeans': lambda n_clusters: kmeans_clusters(angles=y_train, limit_data=200, filter_=True, n_clusters=n_clusters)\n",
    "    }[mode](select_clusters_n)\n",
    "\n",
    "select_clusters_n = 50\n",
    "# initialize clusters - this might filter ones that are too close\n",
    "clusters = get_cluster_centers(select_clusters_n = select_clusters_n, mode='kmeans')[:,:n_angles]\n",
    "n_clusters_after_fuse = clusters.shape[0]\n",
    "\n",
    "# add missing clusters to much the desired number\n",
    "clusters = np.pad(clusters, ((0, select_clusters_n - n_clusters_after_fuse), (0,0)), mode='constant')\n",
    "n_clusters = clusters.shape[0]\n",
    "\n",
    "\"n_clusters_after_fuse:\", n_clusters_after_fuse, 'fused', select_clusters_n - n_clusters_after_fuse, 'padded to', clusters.shape"
   ]
  },
  {
   "cell_type": "code",
   "execution_count": 11,
   "metadata": {},
   "outputs": [
    {
     "data": {
      "image/png": "[encoded data removed]",
      "text/plain": [
       "<Figure size 720x432 with 1 Axes>"
      ]
     },
     "metadata": {
      "needs_background": "light"
     },
     "output_type": "display_data"
    }
   ],
   "source": [
    "def plot_cluster_centers(data, clusters, x_i, y_i, data_lim=10):\n",
    "    plt.figure(figsize=(10,6))\n",
    "    plt.scatter(y_valid[:data_lim][:,:,x_i], y_valid[:data_lim][:,:,y_i], s=1)\n",
    "    plt.scatter(clusters[:,x_i], clusters[:,y_i], marker='x', s=80)\n",
    "    \n",
    "plot_cluster_centers(y_valid, clusters, x_i=0, y_i=1, data_lim=10)\n",
    "if n_angles == 3:\n",
    "    plot_cluster_centers(y_valid, clusters, x_i=1, y_i=2, data_lim=10)\n",
    "    plot_cluster_centers(y_valid, clusters, x_i=0, y_i=2, data_lim=10)"
   ]
  },
  {
   "cell_type": "code",
   "execution_count": 12,
   "metadata": {},
   "outputs": [
    {
     "data": {
      "text/plain": [
       "((7623, 500, 50),\n",
       " (213, 500, 50),\n",
       " array([ 0,  1,  2,  3,  4,  5,  6,  7,  8,  9, 10, 11, 12, 13, 14, 15, 16,\n",
       "        17, 18, 19, 20, 21, 22, 23, 24, 25, 26, 27, 28, 29, 30, 31, 32, 33,\n",
       "        34, 35, 36, 37, 38, 39, 40, 41, 42, 43, 44, 45, 46]),\n",
       " array([ 0,  1,  2,  3,  4,  5,  6,  7,  8,  9, 10, 11, 12, 13, 14, 15, 16,\n",
       "        17, 18, 19, 20, 21, 22, 23, 24, 25, 26, 27, 28, 29, 30, 31, 32, 33,\n",
       "        34, 35, 36, 37, 38, 39, 40, 41, 42, 43, 44, 45, 46]),\n",
       " 50)"
      ]
     },
     "execution_count": 12,
     "metadata": {},
     "output_type": "execute_result"
    }
   ],
   "source": [
    "y_train_labels_ = np.argmin(scipy.spatial.distance_matrix(y_train.reshape(-1,n_angles), clusters), \n",
    "                            axis=1).reshape(y_train.shape[0], y_train.shape[1])\n",
    "\n",
    "y_valid_labels_ = np.argmin(scipy.spatial.distance_matrix(y_valid.reshape(-1,n_angles), clusters), \n",
    "                            axis=1).reshape(y_valid.shape[0], y_valid.shape[1])\n",
    "\n",
    "y_train_labels = to_categorical(y_train_labels_, num_classes=n_clusters)\n",
    "y_valid_labels = to_categorical(y_valid_labels_, num_classes=n_clusters)\n",
    "\n",
    "y_train_labels.shape, y_valid_labels.shape, np.unique(y_train_labels_), np.unique(y_valid_labels_), n_clusters"
   ]
  },
  {
   "cell_type": "code",
   "execution_count": 15,
   "metadata": {},
   "outputs": [
    {
     "name": "stderr",
     "output_type": "stream",
     "text": [
      "/home/mikey/.local/lib/python3.6/site-packages/tensorflow/python/ops/gradients_impl.py:108: UserWarning: Converting sparse IndexedSlices to a dense Tensor of unknown shape. This may consume a large amount of memory.\n",
      "  \"Converting sparse IndexedSlices to a dense Tensor of unknown shape. \"\n"
     ]
    },
    {
     "name": "stdout",
     "output_type": "stream",
     "text": [
      "Number of parameters: 774138\n"
     ]
    }
   ],
   "source": [
    "def conv_layer(in_, neurons, filter_size):\n",
    "    if type(in_) == list:\n",
    "        in_ = tf.concat(in_, axis=2)\n",
    "    return tf.layers.conv1d(in_, neurons, filter_size, activation=tf.nn.relu, padding='same')\n",
    "\n",
    "mode = 'vectors'\n",
    "loss_mode = 'angular_mae_and_classification'\n",
    "\n",
    "tf.reset_default_graph()  \n",
    "helpers = ModelHelpers()\n",
    "\n",
    "X, input_mask = helpers.input_placeholders(max_len = max_len, input_columns = 41)\n",
    "y, y_angles = helpers.labels_placeholders(max_len, n_clusters, n_angles)\n",
    "y_vectors = tf.placeholder(dtype=np.float32, shape=(max_len, n_clusters, n_angles, 2))\n",
    "\n",
    "clusters_tf = helpers.clusters(init_clusters=clusters, trainable=True, clip_gradient_eps=False)\n",
    "\n",
    "# construct the feature extraction part of the network\n",
    "conv1a = ModelHelpers.conv_layer(X, 32, 5)\n",
    "conv1b = ModelHelpers.conv_layer(conv1a, 32, 5)\n",
    "conv2a = ModelHelpers.conv_layer(conv1b, 64, 5)\n",
    "conv2b = ModelHelpers.conv_layer(conv2a, 64, 5)\n",
    "conv3a = ModelHelpers.conv_layer([conv1b, conv2b], 128, 5) # residual connection is automated in the conv_layer helper\n",
    "conv3b = ModelHelpers.conv_layer(conv3a, 128, 5)\n",
    "conv4a = ModelHelpers.conv_layer([conv2b, conv3b], 256, 5)\n",
    "conv4b = ModelHelpers.conv_layer(conv4a, 256, 5)\n",
    "core_out = conv4b\n",
    "\n",
    "## alternative to the cnn. very slow\n",
    "# lstm = bidirectional_lstm(X, 1, 32, keep_prob=0.05)\n",
    "\n",
    "### Regression ###\n",
    "rad_pred = tf.zeros_like(y_angles)\n",
    "if mode == 'regression':\n",
    "    rad_pred_cont = tf.layers.dense(core_out, n_angles)# angles logits\n",
    "    rad_pred = helpers.angularize(rad_pred_cont)\n",
    "\n",
    "if mode == 'vectors':\n",
    "    ### Angle vectors ###\n",
    "    vec_pred = tf.layers.dense(core_out, n_angles * 2) # angles logits\n",
    "\n",
    "    vec_pred = tf.reshape(vec_pred, shape=(-1, max_len, n_angles, 2)) # reshape to 2 numbers (vector) per angle\n",
    "    vec_loss_reg = tf.square(1 - (vec_pred[:,:,:,0] ** 2 + vec_pred[:,:,:,1]**2))\n",
    "#     vec_pred = vec_pred / (tf.expand_dims(tf.sqrt(vec_pred[:,:,:,0]**2 + vec_pred[:,:,:,1]**2), 3)+1) # normalize\n",
    "    rad_pred = tf.atan2(tf.cos(vec_pred[:,:,:,0]), tf.sin(vec_pred[:,:,:,1])) # convert vector to angle\n",
    "\n",
    "    \n",
    "logits = tf.layers.dense(core_out, n_clusters) # cluster logits\n",
    "logits = tf.layers.dropout(logits, rate=0.05)\n",
    "y_pred = tf.nn.softmax(logits)\n",
    "\n",
    "# apply mask to all outputs used for losses (beware that the mask flattens them automatically)\n",
    "y_masked, logits_masked, y_pred_masked, y_angles_masked, rad_pred_masked =\\\n",
    "    helpers.mask_all([y, logits, y_pred, y_angles, rad_pred], input_mask)\n",
    "\n",
    "# computes the weighted sum of clusters (weighted by the predicted prob. dist.)\n",
    "if mode == 'clusters':\n",
    "    rad_pred_masked = tf.einsum('ij,bi->bj', clusters_tf, y_pred_masked)\n",
    "\n",
    "# crossentropy loss on the classification task\n",
    "clusters_crossentropy = tf.reduce_mean(tf.nn.softmax_cross_entropy_with_logits_v2(labels=y_masked, logits=logits_masked))\n",
    "\n",
    "# mae computed for each angle separately\n",
    "mae_vec = tf.reduce_mean(tf.abs(tf.subtract(rad_pred_masked[:,:], y_angles_masked[:,:])), axis=0)\n",
    "\n",
    "# mae reduced to 1 number\n",
    "mae = tf.reduce_mean(tf.abs(tf.subtract(rad_pred_masked[:,:], y_angles_masked[:,:])))\n",
    "\n",
    "# angular mae\n",
    "mae_ang = helpers.loss360(rad_pred_masked, y_angles_masked)\n",
    "    \n",
    "loss = {\n",
    "    'normal_mae': mae,\n",
    "    'angular_mae': mae_ang,\n",
    "    'classification': clusters_crossentropy,\n",
    "    'angular_mae_and_classification': mae_ang + clusters_crossentropy\n",
    "}[loss_mode]\n",
    "\n",
    "regularization = []\n",
    "if 'vec_on_unit_circle':\n",
    "    regularization.append(vec_loss_reg)\n",
    "    \n",
    "for reg in regularization:\n",
    "    loss += reg\n",
    "\n",
    "# Define the optimizer operation\n",
    "learning_rate = tf.placeholder(tf.float32)\n",
    "\n",
    "# we can choose if we want to optimize mae or loss\n",
    "optimizer = tf.train.AdamOptimizer(learning_rate=learning_rate).minimize(loss)\n",
    "\n",
    "# Variables for prediction and accuracy\n",
    "prediction = tf.argmax(y_pred_masked, 1)\n",
    "accuracy = tf.reduce_mean(tf.cast(tf.equal(prediction, tf.argmax(y_masked, 1)), tf.float32))\n",
    "\n",
    "# Initialize the variables (they are assigned default values)\n",
    "init = tf.global_variables_initializer()\n",
    "init = tf.group(tf.global_variables_initializer(), tf.local_variables_initializer())\n",
    "\n",
    "n_parameters = np.sum([np.prod(v.get_shape().as_list()) for v in tf.trainable_variables()])\n",
    "print(\"Number of parameters:\", n_parameters)"
   ]
  },
  {
   "cell_type": "code",
   "execution_count": 16,
   "metadata": {},
   "outputs": [],
   "source": [
    "# with tf.Session() as session:\n",
    "\n",
    "#     # Run the initializer\n",
    "#     session.run(init)\n",
    "#     _, loss_value, mae_, vec_pred_, rad_pred_ = session.run([optimizer, loss, mae_vec, vec_pred,\n",
    "#                                                           rad_pred], feed_dict={X: x_train[b:b+batch_size],\n",
    "#                                                                       y: y_train_labels[b:b+batch_size],\n",
    "#                                                                       y_angles: y_train[b:b+batch_size],\n",
    "#                                                                       learning_rate: init_learning_rate,\n",
    "#                                                                     input_mask: mask_[b:b+batch_size]})\n",
    "#     print(rad_pred_)\n",
    "#     (validation_accuracy, mae__, pred_, \n",
    "#  clusters_, y_pred_masked_, vec_pred_, rad_pred_) = session.run([accuracy, mae_vec, prediction, \n",
    "#                                                       clusters_tf, y_pred_masked, vec_pred, rad_pred], \n",
    "#                                                       feed_dict={X: x_valid, y: y_valid_labels, \n",
    "#                                                                  y_angles:y_valid,\n",
    "#                                                                 input_mask: mask_v})\n",
    "# print(vec_pred1_[0][0])\n",
    "# print(vec_pred2_[0][0])\n",
    "# print(rad_pred_[0][0])\n",
    "# print(loss_value)\n",
    "# print(mae_)"
   ]
  },
  {
   "cell_type": "code",
   "execution_count": 17,
   "metadata": {
    "scrolled": true
   },
   "outputs": [
    {
     "name": "stdout",
     "output_type": "stream",
     "text": [
      "Epoch: 0\n",
      "Train MAE = 1.859257\n",
      "Val. MAE [2.1100035 1.4105262] 1.7602649 1.760265\n",
      "(37634, 2) (37634, 2)\n",
      "PCC [0.2814586, 0.37832174]\n",
      "Counter({2: 25658, 10: 6139, 22: 4528, 16: 769, 12: 540})\n",
      "0.001\n",
      "Epoch: 1\n",
      "Train MAE = 1.755611\n",
      "Val. MAE [2.041454  1.2244494] 1.6329517 1.6329517\n",
      "(37634, 2) (37634, 2)\n",
      "PCC [0.2840867, 0.4969941]\n",
      "Counter({2: 18504, 16: 6498, 22: 5048, 12: 3846, 10: 2961, 41: 535, 18: 152, 40: 66, 24: 22, 26: 2})\n",
      "0.001\n",
      "Epoch: 2\n",
      "Train MAE = 1.689858\n",
      "Val. MAE [2.0468874 1.1566223] 1.6017549 1.6017549\n",
      "(37634, 2) (37634, 2)\n",
      "PCC [0.2897254, 0.58450496]\n",
      "Counter({2: 14983, 16: 5499, 22: 3851, 12: 3200, 10: 3111, 40: 2209, 41: 1041, 27: 953, 24: 789, 18: 703, 8: 491, 26: 204, 33: 192, 3: 143, 20: 100, 19: 43, 45: 40, 1: 40, 4: 23, 44: 17, 38: 1, 31: 1})\n",
      "0.001\n",
      "Epoch: 3\n",
      "Train MAE = 1.664563\n",
      "Val. MAE [2.0424898 1.1459254] 1.5942075 1.5942078\n",
      "(37634, 2) (37634, 2)\n",
      "PCC [0.1665857, 0.6330725]\n",
      "Counter({2: 13302, 16: 5231, 22: 3971, 12: 2893, 10: 2871, 40: 1930, 8: 1161, 27: 807, 41: 762, 18: 756, 24: 712, 26: 596, 33: 510, 3: 424, 25: 419, 19: 335, 20: 306, 45: 187, 44: 173, 4: 65, 31: 63, 1: 62, 5: 33, 29: 21, 38: 17, 28: 9, 15: 9, 17: 4, 21: 3, 36: 2})\n",
      "0.001\n",
      "Epoch: 4\n",
      "Train MAE = 1.653766\n",
      "Val. MAE [2.0811787 1.1614478] 1.6213132 1.6213132\n",
      "(37634, 2) (37634, 2)\n",
      "PCC [0.1357072, 0.6564273]\n",
      "Counter({2: 12064, 16: 4841, 22: 4276, 12: 2853, 10: 2724, 40: 1847, 8: 1352, 24: 895, 27: 882, 26: 858, 18: 802, 41: 649, 3: 515, 33: 512, 19: 509, 20: 488, 25: 449, 1: 184, 15: 150, 44: 148, 45: 139, 31: 130, 4: 74, 5: 66, 28: 44, 38: 44, 29: 42, 17: 29, 7: 20, 46: 15, 36: 11, 21: 11, 42: 9, 6: 2})\n",
      "0.001\n",
      "Epoch: 5\n",
      "Train MAE = 1.647303\n",
      "Val. MAE [2.1366587 1.154262 ] 1.6454604 1.6454604\n",
      "(37634, 2) (37634, 2)\n",
      "PCC [0.15051444, 0.66883516]\n",
      "Counter({2: 11831, 16: 4430, 22: 4211, 10: 2874, 12: 2785, 40: 1896, 8: 1448, 26: 861, 24: 848, 27: 797, 18: 767, 41: 657, 20: 634, 3: 572, 19: 558, 33: 459, 25: 444, 1: 325, 15: 261, 44: 160, 31: 159, 45: 127, 5: 81, 4: 71, 7: 68, 28: 64, 17: 61, 29: 52, 42: 39, 38: 35, 36: 22, 21: 15, 46: 10, 14: 5, 6: 5, 9: 2})\n",
      "0.001\n",
      "Epoch: 6\n",
      "Train MAE = 1.643246\n",
      "Val. MAE [2.1568027 1.1465455] 1.651674 1.651674\n",
      "(37634, 2) (37634, 2)\n",
      "PCC [0.15946631, 0.67665035]\n",
      "Counter({2: 11940, 16: 4249, 22: 4049, 10: 2810, 12: 2491, 40: 2043, 8: 1503, 26: 874, 20: 757, 27: 713, 18: 695, 24: 687, 41: 672, 3: 600, 19: 593, 25: 474, 1: 469, 33: 430, 15: 354, 44: 201, 31: 163, 45: 121, 7: 116, 17: 96, 28: 88, 4: 83, 42: 78, 5: 68, 29: 55, 38: 49, 14: 39, 36: 35, 21: 28, 6: 7, 9: 3, 46: 1})\n",
      "0.001\n",
      "Epoch: 7\n",
      "Train MAE = 1.640271\n",
      "Val. MAE [2.1637058 1.1417344] 1.6527201 1.6527202\n",
      "(37634, 2) (37634, 2)\n",
      "PCC [0.16701935, 0.68143827]\n",
      "Counter({2: 11798, 22: 4006, 16: 3976, 10: 2830, 12: 2368, 40: 2116, 8: 1555, 26: 960, 20: 820, 41: 681, 18: 651, 3: 646, 19: 640, 27: 615, 24: 610, 1: 536, 25: 496, 33: 417, 15: 404, 44: 218, 7: 175, 17: 167, 31: 165, 45: 119, 42: 109, 28: 109, 14: 82, 4: 80, 5: 79, 29: 60, 38: 50, 36: 45, 21: 28, 6: 14, 9: 9})\n",
      "0.001\n",
      "Epoch: 8\n",
      "Train MAE = 1.659316\n",
      "Val. MAE [2.4700003 1.1517106] 1.8108554 1.8108555\n",
      "(37634, 2) (37634, 2)\n",
      "PCC [0.47121292, 0.68061405]\n",
      "Counter({2: 11349, 16: 4223, 22: 4116, 10: 2916, 12: 2505, 40: 2450, 8: 1170, 20: 885, 26: 850, 41: 697, 18: 669, 3: 656, 24: 647, 19: 592, 27: 558, 25: 466, 33: 431, 15: 406, 1: 371, 17: 254, 44: 247, 7: 205, 42: 152, 31: 129, 28: 122, 45: 118, 14: 109, 5: 80, 29: 72, 4: 58, 36: 44, 38: 37, 21: 28, 6: 17, 9: 5})\n",
      "0.001\n",
      "Epoch: 9\n",
      "Train MAE = 1.858224\n",
      "Val. MAE [2.642122  1.1591982] 1.90066 1.9006602\n",
      "(37634, 2) (37634, 2)\n",
      "PCC [0.51558876, 0.6900042]\n",
      "Counter({2: 10589, 16: 4215, 22: 3809, 10: 3132, 12: 2454, 40: 2450, 8: 1333, 26: 1000, 20: 917, 18: 717, 41: 689, 3: 688, 19: 629, 24: 593, 1: 590, 27: 539, 25: 472, 15: 429, 33: 412, 17: 379, 44: 268, 7: 265, 31: 155, 42: 135, 14: 126, 45: 118, 28: 99, 36: 82, 4: 71, 29: 69, 5: 65, 38: 45, 21: 40, 6: 33, 9: 18, 35: 4, 11: 4, 37: 1})\n",
      "0.001\n",
      "Adjusting learning rate\n",
      "Epoch: 10\n",
      "Train MAE = 1.901214\n",
      "Val. MAE [2.6649623 1.1325983] 1.8987803 1.8987805\n",
      "(37634, 2) (37634, 2)\n",
      "PCC [0.52665514, 0.690308]\n",
      "Counter({2: 10277, 22: 4110, 16: 3879, 10: 3216, 12: 2475, 40: 2447, 8: 1312, 26: 1112, 20: 986, 18: 717, 41: 690, 19: 664, 3: 628, 24: 600, 27: 575, 1: 564, 25: 473, 17: 458, 15: 431, 33: 407, 7: 239, 44: 236, 31: 153, 14: 134, 42: 130, 45: 115, 28: 99, 29: 88, 4: 85, 36: 80, 5: 74, 38: 71, 21: 36, 6: 31, 9: 26, 35: 8, 11: 4, 39: 3, 32: 1})\n",
      "0.0009523809523809524\n",
      "Epoch: 11\n",
      "Train MAE = 1.909088\n",
      "Val. MAE [2.6600237 1.1335562] 1.89679 1.89679\n",
      "(37634, 2) (37634, 2)\n",
      "PCC [0.5281207, 0.6888886]\n",
      "Counter({2: 10568, 22: 4164, 16: 3864, 10: 3140, 40: 2552, 12: 2374, 8: 1092, 26: 1044, 20: 1009, 18: 730, 41: 676, 27: 647, 19: 602, 1: 602, 3: 600, 24: 568, 17: 518, 15: 426, 25: 421, 33: 413, 7: 239, 44: 234, 31: 144, 14: 132, 42: 117, 45: 113, 36: 98, 28: 97, 4: 86, 29: 86, 38: 79, 5: 72, 21: 37, 6: 34, 9: 31, 35: 11, 39: 5, 11: 4, 37: 3, 32: 2})\n",
      "0.0009523809523809524\n",
      "Epoch: 12\n",
      "Train MAE = 1.913807\n",
      "Val. MAE [2.8022912 1.1578462] 1.9800687 1.9800687\n",
      "(37634, 2) (37634, 2)\n",
      "PCC [0.541858, 0.6936838]\n",
      "Counter({2: 9472, 16: 5275, 22: 3308, 12: 2421, 10: 2351, 40: 2153, 8: 1634, 26: 1528, 20: 1065, 27: 839, 19: 722, 3: 714, 1: 700, 18: 698, 41: 590, 24: 535, 17: 515, 33: 417, 15: 408, 25: 353, 7: 315, 44: 313, 31: 249, 38: 140, 42: 130, 45: 114, 4: 109, 28: 102, 36: 99, 5: 80, 29: 73, 14: 67, 21: 43, 6: 41, 9: 39, 37: 5, 35: 5, 11: 4, 43: 2, 39: 2, 46: 2, 32: 2})\n",
      "0.0009523809523809524\n",
      "Epoch: 13\n",
      "Train MAE = 1.921456\n",
      "Val. MAE [2.776812  1.1446054] 1.9607087 1.9607087\n",
      "(37634, 2) (37634, 2)\n",
      "PCC [0.54763347, 0.6986127]\n",
      "Counter({2: 9796, 16: 4819, 22: 3464, 12: 2618, 10: 2334, 40: 2173, 8: 1477, 26: 1404, 20: 1157, 27: 891, 18: 726, 1: 690, 19: 685, 3: 646, 41: 568, 24: 567, 17: 492, 33: 438, 15: 416, 25: 341, 7: 301, 44: 270, 31: 236, 38: 166, 42: 154, 45: 115, 4: 108, 36: 96, 28: 87, 14: 87, 29: 79, 5: 77, 6: 43, 21: 43, 9: 38, 37: 8, 35: 7, 32: 6, 11: 4, 43: 3, 39: 2, 46: 1, 23: 1})\n",
      "0.0009523809523809524\n",
      "Epoch: 14\n",
      "Train MAE = 1.921291\n",
      "Val. MAE [2.7662184 1.1491691] 1.9576938 1.9576937\n",
      "(37634, 2) (37634, 2)\n",
      "PCC [0.54830396, 0.70073813]\n",
      "Counter({2: 9930, 16: 4595, 22: 3423, 12: 2752, 10: 2404, 40: 2191, 8: 1344, 26: 1327, 20: 1091, 27: 860, 18: 768, 1: 727, 19: 683, 3: 667, 24: 577, 17: 565, 41: 533, 33: 462, 15: 401, 25: 382, 44: 289, 7: 277, 31: 201, 38: 160, 42: 152, 45: 115, 4: 113, 36: 109, 28: 97, 5: 93, 29: 87, 14: 87, 6: 47, 21: 44, 9: 40, 37: 13, 35: 9, 32: 8, 43: 3, 11: 3, 39: 2, 23: 2, 46: 1})\n",
      "0.0009523809523809524\n",
      "Epoch: 15\n",
      "Train MAE = 1.918799\n",
      "Val. MAE [2.7794652 1.1478832] 1.9636742 1.963674\n",
      "(37634, 2) (37634, 2)\n",
      "PCC [0.54942167, 0.699583]\n",
      "Counter({2: 9802, 16: 4809, 22: 3371, 12: 2575, 10: 2243, 40: 2054, 8: 1596, 26: 1456, 20: 978, 27: 934, 19: 754, 3: 715, 18: 704, 1: 659, 17: 631, 41: 566, 24: 541, 33: 450, 15: 404, 25: 362, 44: 316, 7: 309, 31: 216, 38: 178, 42: 149, 4: 118, 45: 116, 28: 105, 36: 103, 29: 85, 5: 77, 14: 73, 6: 52, 21: 46, 9: 41, 37: 13, 32: 9, 35: 8, 23: 7, 43: 5, 39: 2, 11: 1, 46: 1})\n",
      "0.0009523809523809524\n",
      "Epoch: 16\n",
      "Train MAE = 1.918019\n",
      "Val. MAE [2.7775087 1.1419331] 1.9597208 1.959721\n",
      "(37634, 2) (37634, 2)\n",
      "PCC [0.550074, 0.70219916]\n",
      "Counter({2: 9911, 16: 4723, 22: 3470, 12: 2381, 40: 2252, 10: 2239, 8: 1629, 26: 1370, 20: 1045, 27: 788, 19: 740, 3: 702, 18: 676, 1: 665, 17: 650, 41: 606, 24: 526, 33: 423, 15: 408, 44: 342, 25: 336, 7: 335, 31: 192, 42: 175, 38: 160, 4: 137, 28: 113, 45: 113, 36: 108, 29: 87, 5: 76, 14: 69, 6: 55, 21: 39, 9: 35, 37: 15, 35: 12, 32: 11, 23: 7, 43: 6, 39: 4, 46: 2, 11: 1})\n",
      "0.0009523809523809524\n",
      "Epoch: 17\n",
      "Train MAE = 1.917253\n",
      "Val. MAE [2.7662535 1.1344995] 1.9503765 1.9503765\n",
      "(37634, 2) (37634, 2)\n",
      "PCC [0.5481909, 0.702749]\n",
      "Counter({2: 9846, 16: 4507, 22: 3319, 40: 2430, 12: 2420, 10: 2223, 8: 1568, 26: 1484, 20: 1035, 27: 801, 19: 733, 1: 710, 3: 704, 17: 700, 18: 660, 41: 643, 24: 508, 33: 462, 15: 420, 7: 392, 44: 317, 25: 302, 38: 187, 31: 183, 42: 165, 4: 132, 28: 121, 36: 112, 45: 110, 29: 86, 14: 81, 5: 77, 6: 60, 21: 38, 9: 36, 37: 16, 35: 11, 23: 10, 32: 9, 43: 6, 39: 6, 46: 3, 11: 1})\n",
      "0.0009523809523809524\n",
      "Epoch: 18\n",
      "Train MAE = 1.917191\n",
      "Val. MAE [2.7328682 1.1270475] 1.9299579 1.9299577\n",
      "(37634, 2) (37634, 2)\n",
      "PCC [0.5450195, 0.7035634]\n",
      "Counter({2: 9828, 16: 4349, 22: 3729, 40: 2516, 12: 2417, 10: 2186, 8: 1432, 26: 1378, 20: 1060, 27: 793, 17: 716, 1: 703, 3: 693, 18: 664, 41: 651, 19: 632, 24: 499, 33: 478, 15: 430, 7: 417, 25: 286, 44: 281, 38: 194, 42: 173, 31: 161, 28: 144, 4: 134, 45: 106, 36: 101, 14: 91, 29: 88, 5: 83, 6: 74, 21: 49, 9: 32, 37: 15, 35: 15, 39: 10, 32: 10, 23: 7, 43: 5, 46: 3, 11: 1})\n",
      "0.0009523809523809524\n",
      "Epoch: 19\n"
     ]
    },
    {
     "name": "stdout",
     "output_type": "stream",
     "text": [
      "Train MAE = 1.914207\n",
      "Val. MAE [2.7792788 1.1350847] 1.9571817 1.9571818\n",
      "(37634, 2) (37634, 2)\n",
      "PCC [0.5500225, 0.70157045]\n",
      "Counter({2: 9527, 16: 4368, 22: 3416, 12: 2457, 10: 2391, 40: 2334, 26: 1620, 8: 1447, 20: 1040, 17: 808, 1: 773, 19: 758, 27: 735, 18: 710, 3: 680, 41: 566, 24: 530, 33: 488, 7: 455, 15: 399, 25: 290, 44: 255, 38: 225, 31: 187, 4: 175, 42: 170, 28: 145, 45: 106, 5: 91, 29: 89, 36: 86, 14: 79, 6: 74, 21: 50, 9: 37, 37: 24, 32: 11, 39: 10, 35: 10, 23: 9, 43: 4, 11: 3, 46: 2})\n",
      "0.0009523809523809524\n",
      "Adjusting learning rate\n",
      "Epoch: 20\n",
      "Train MAE = 1.914396\n",
      "Val. MAE [2.763983  1.1439629] 1.9539729 1.9539728\n",
      "(37634, 2) (37634, 2)\n",
      "PCC [0.5518333, 0.7022085]\n",
      "Counter({2: 8807, 22: 4205, 16: 3903, 12: 2809, 40: 2357, 10: 2242, 26: 1456, 8: 1428, 20: 983, 19: 915, 17: 868, 27: 810, 1: 733, 18: 728, 3: 706, 24: 579, 41: 578, 33: 489, 7: 452, 15: 370, 25: 326, 38: 250, 31: 221, 44: 212, 42: 172, 28: 139, 4: 139, 5: 131, 45: 110, 29: 99, 14: 94, 36: 92, 6: 70, 21: 57, 9: 37, 37: 21, 23: 14, 32: 13, 35: 8, 39: 6, 43: 3, 46: 2})\n",
      "0.0009070294784580498\n",
      "Epoch: 21\n",
      "Train MAE = 1.914569\n",
      "Val. MAE [2.8174553 1.1545414] 1.9859984 1.9859982\n",
      "(37634, 2) (37634, 2)\n",
      "PCC [0.5511223, 0.69692296]\n",
      "Counter({2: 8655, 22: 4175, 16: 4115, 12: 2930, 10: 2425, 40: 2115, 26: 1631, 8: 1386, 20: 1077, 27: 918, 17: 800, 1: 774, 19: 713, 18: 686, 3: 571, 24: 541, 41: 539, 7: 486, 33: 484, 15: 378, 38: 277, 25: 270, 44: 235, 31: 201, 4: 178, 42: 176, 28: 149, 5: 147, 45: 106, 29: 102, 36: 84, 6: 79, 21: 60, 14: 59, 9: 32, 37: 22, 23: 16, 32: 12, 35: 10, 39: 9, 43: 7, 46: 3, 0: 1})\n",
      "0.0009070294784580498\n",
      "Epoch: 22\n",
      "Train MAE = 1.914793\n",
      "Val. MAE [2.8098042 1.151196 ] 1.9805001 1.9804999\n",
      "(37634, 2) (37634, 2)\n",
      "PCC [0.55294424, 0.70047355]\n",
      "Counter({2: 9278, 16: 4195, 22: 4146, 12: 2644, 10: 2153, 40: 1988, 8: 1532, 26: 1513, 27: 960, 19: 839, 17: 824, 20: 801, 1: 700, 18: 662, 3: 588, 24: 552, 41: 509, 33: 462, 38: 451, 7: 438, 15: 365, 25: 298, 44: 250, 31: 231, 4: 196, 42: 159, 28: 156, 5: 115, 45: 108, 29: 107, 6: 95, 14: 75, 36: 74, 21: 52, 9: 33, 37: 25, 23: 19, 32: 13, 39: 9, 35: 7, 43: 6, 11: 3, 46: 3})\n",
      "0.0009070294784580498\n",
      "Epoch: 23\n",
      "Train MAE = 1.913903\n",
      "Val. MAE [2.779981  1.1344737] 1.9572272 1.9572275\n",
      "(37634, 2) (37634, 2)\n",
      "PCC [0.55015975, 0.6998781]\n",
      "Counter({2: 10308, 16: 4157, 22: 3931, 12: 2701, 40: 2223, 10: 1874, 8: 1684, 26: 1305, 20: 982, 27: 874, 1: 704, 19: 607, 24: 597, 17: 578, 3: 576, 18: 570, 41: 541, 33: 445, 15: 400, 7: 366, 38: 323, 25: 272, 44: 251, 42: 204, 31: 195, 4: 151, 28: 129, 45: 111, 5: 104, 36: 83, 29: 73, 21: 68, 6: 67, 14: 48, 9: 42, 37: 27, 23: 19, 32: 15, 35: 13, 43: 6, 46: 5, 39: 3, 11: 2})\n",
      "0.0009070294784580498\n",
      "Epoch: 24\n",
      "Train MAE = 1.916766\n",
      "Val. MAE [2.738962  1.1220225] 1.9304922 1.9304923\n",
      "(37634, 2) (37634, 2)\n",
      "PCC [0.5475201, 0.6976636]\n",
      "Counter({2: 10836, 16: 4213, 22: 4007, 12: 2461, 40: 2234, 10: 1810, 8: 1601, 26: 1314, 27: 928, 20: 912, 3: 619, 18: 607, 1: 602, 41: 582, 24: 554, 17: 534, 19: 521, 15: 424, 33: 383, 38: 371, 7: 363, 44: 233, 25: 227, 31: 185, 42: 172, 28: 122, 4: 121, 45: 111, 5: 108, 29: 90, 36: 84, 6: 71, 21: 56, 14: 49, 9: 42, 37: 27, 23: 16, 32: 15, 35: 12, 43: 7, 46: 4, 39: 3, 11: 2, 0: 1})\n",
      "0.0009070294784580498\n",
      "Epoch: 25\n",
      "Train MAE = 1.915294\n",
      "Val. MAE [2.7373955 1.1219971] 1.9296963 1.9296962\n",
      "(37634, 2) (37634, 2)\n",
      "PCC [0.5485783, 0.7010221]\n",
      "Counter({2: 10975, 16: 4174, 22: 3774, 40: 2287, 12: 2242, 8: 1660, 10: 1622, 26: 1548, 27: 939, 20: 812, 18: 651, 17: 644, 1: 619, 41: 601, 3: 552, 19: 521, 24: 519, 38: 410, 7: 401, 33: 400, 15: 398, 25: 264, 44: 245, 31: 195, 42: 183, 4: 150, 45: 112, 36: 102, 28: 99, 5: 96, 29: 80, 14: 75, 21: 72, 6: 71, 9: 45, 37: 34, 23: 19, 35: 16, 32: 13, 43: 5, 46: 4, 39: 3, 11: 2})\n",
      "0.0009070294784580498\n",
      "Epoch: 26\n",
      "Train MAE = 1.912544\n",
      "Val. MAE [2.7942877 1.1315438] 1.9629157 1.9629154\n",
      "(37634, 2) (37634, 2)\n",
      "PCC [0.5565961, 0.7031416]\n",
      "Counter({2: 10537, 16: 3947, 22: 3844, 40: 2280, 12: 2242, 8: 1665, 10: 1649, 26: 1415, 27: 964, 20: 915, 1: 680, 3: 648, 41: 636, 17: 636, 24: 626, 18: 624, 19: 599, 38: 434, 33: 418, 7: 410, 15: 409, 25: 269, 44: 262, 31: 221, 42: 211, 4: 154, 28: 118, 45: 112, 36: 105, 5: 98, 29: 93, 6: 88, 14: 80, 21: 69, 9: 47, 37: 35, 32: 28, 35: 24, 23: 24, 43: 5, 11: 5, 39: 4, 46: 3, 0: 1})\n",
      "0.0009070294784580498\n",
      "Epoch: 27\n",
      "Train MAE = 1.912098\n",
      "Val. MAE [2.7519886 1.1239647] 1.9379766 1.9379766\n",
      "(37634, 2) (37634, 2)\n",
      "PCC [0.5527831, 0.7051373]\n",
      "Counter({2: 10749, 16: 3950, 22: 3401, 12: 2514, 40: 2387, 10: 1711, 8: 1340, 26: 1274, 20: 1044, 27: 973, 17: 757, 3: 746, 41: 720, 1: 715, 18: 625, 24: 538, 19: 510, 33: 469, 38: 418, 15: 394, 7: 378, 25: 296, 44: 290, 42: 189, 31: 149, 4: 139, 28: 117, 36: 114, 5: 113, 45: 111, 29: 89, 6: 83, 14: 83, 21: 77, 9: 56, 37: 39, 35: 22, 23: 20, 32: 19, 43: 4, 39: 4, 11: 3, 46: 3, 0: 1})\n",
      "0.0009070294784580498\n",
      "Epoch: 28\n",
      "Train MAE = 1.908265\n",
      "Val. MAE [2.7449796 1.1269261] 1.9359529 1.9359527\n",
      "(37634, 2) (37634, 2)\n",
      "PCC [0.5506149, 0.7021465]\n",
      "Counter({2: 11227, 16: 4220, 22: 3039, 12: 2454, 40: 2296, 10: 1541, 8: 1438, 26: 1260, 27: 933, 20: 847, 3: 818, 1: 718, 17: 689, 41: 673, 24: 563, 18: 561, 19: 540, 33: 469, 38: 447, 15: 425, 7: 387, 44: 297, 25: 274, 42: 191, 31: 180, 4: 167, 28: 139, 5: 122, 36: 110, 45: 106, 6: 85, 29: 80, 14: 79, 21: 71, 37: 50, 9: 44, 32: 29, 23: 26, 35: 16, 46: 8, 43: 6, 39: 5, 11: 3, 0: 1})\n",
      "0.0009070294784580498\n",
      "Epoch: 29\n",
      "Train MAE = 1.908013\n",
      "Val. MAE [2.7661643 1.1298327] 1.9479985 1.9479985\n",
      "(37634, 2) (37634, 2)\n",
      "PCC [0.55458504, 0.7017888]\n",
      "Counter({2: 10768, 16: 4109, 22: 3568, 40: 2418, 12: 2116, 10: 1547, 8: 1477, 26: 1366, 20: 881, 27: 846, 1: 800, 3: 792, 17: 763, 41: 653, 19: 607, 18: 602, 24: 473, 33: 439, 7: 434, 38: 416, 15: 404, 44: 309, 25: 280, 42: 239, 31: 185, 4: 171, 28: 141, 36: 111, 45: 111, 5: 104, 14: 90, 6: 89, 29: 77, 21: 65, 37: 51, 9: 44, 23: 27, 32: 22, 35: 21, 43: 6, 46: 5, 39: 3, 11: 3, 0: 1})\n",
      "0.0009070294784580498\n",
      "Adjusting learning rate\n",
      "Epoch: 30\n",
      "Train MAE = 1.906446\n",
      "Val. MAE [2.7401078 1.1295633] 1.9348356 1.9348356\n",
      "(37634, 2) (37634, 2)\n",
      "PCC [0.55110914, 0.7023438]\n",
      "Counter({2: 11073, 16: 3896, 22: 3253, 40: 2360, 12: 2244, 8: 1532, 10: 1511, 26: 1419, 3: 847, 20: 829, 1: 812, 17: 750, 27: 704, 19: 659, 41: 645, 18: 555, 24: 495, 33: 459, 7: 454, 15: 408, 38: 372, 44: 361, 25: 310, 42: 253, 31: 187, 4: 182, 28: 161, 36: 140, 5: 129, 45: 112, 6: 88, 21: 84, 29: 84, 14: 74, 37: 62, 9: 46, 23: 33, 32: 21, 35: 15, 43: 6, 46: 4, 39: 2, 11: 2, 0: 1})\n",
      "0.000863837598531476\n",
      "Epoch: 31\n",
      "Train MAE = 1.906161\n",
      "Val. MAE [2.7117136 1.1209767] 1.9163451 1.916345\n",
      "(37634, 2) (37634, 2)\n",
      "PCC [0.5493448, 0.6998524]\n",
      "Counter({2: 11156, 16: 3613, 22: 3402, 40: 2507, 12: 2379, 10: 1539, 26: 1296, 8: 1290, 1: 844, 17: 826, 3: 740, 19: 731, 20: 726, 27: 685, 18: 627, 41: 606, 24: 530, 7: 441, 33: 440, 15: 424, 38: 375, 44: 372, 25: 368, 42: 278, 31: 164, 5: 152, 28: 151, 4: 151, 36: 147, 45: 108, 6: 92, 21: 89, 29: 88, 14: 80, 37: 73, 9: 49, 23: 31, 32: 21, 35: 19, 46: 8, 11: 7, 43: 5, 39: 3, 0: 1})\n",
      "0.000863837598531476\n",
      "Epoch: 32\n",
      "Train MAE = 1.903816\n",
      "Val. MAE [2.7347758 1.1266526] 1.9307141 1.9307142\n",
      "(37634, 2) (37634, 2)\n",
      "PCC [0.5485593, 0.696285]\n",
      "Counter({2: 11323, 16: 3730, 22: 3408, 40: 2366, 12: 2286, 10: 1506, 8: 1415, 26: 1255, 1: 881, 20: 846, 17: 796, 3: 721, 19: 701, 27: 688, 41: 653, 18: 552, 24: 514, 7: 428, 38: 393, 15: 387, 33: 380, 44: 339, 25: 328, 42: 308, 31: 177, 4: 176, 28: 156, 36: 149, 5: 119, 45: 102, 29: 93, 14: 93, 21: 80, 6: 75, 37: 60, 9: 50, 23: 38, 32: 21, 35: 14, 46: 11, 11: 6, 43: 5, 39: 4, 0: 1})\n",
      "0.000863837598531476\n",
      "Epoch: 33\n",
      "Train MAE = 1.904375\n",
      "Val. MAE [2.7057636 1.1205914] 1.9131775 1.9131774\n",
      "(37634, 2) (37634, 2)\n",
      "PCC [0.5487607, 0.69848037]\n",
      "Counter({2: 11363, 16: 3467, 22: 3461, 40: 2442, 12: 2311, 10: 1656, 26: 1232, 8: 1200, 1: 921, 17: 767, 27: 749, 20: 743, 3: 731, 19: 689, 41: 655, 24: 616, 18: 581, 38: 447, 33: 442, 15: 371, 7: 359, 44: 351, 25: 325, 42: 288, 28: 170, 31: 162, 4: 160, 5: 143, 36: 138, 45: 107, 29: 97, 21: 95, 6: 91, 14: 89, 37: 72, 9: 40, 23: 35, 32: 23, 35: 18, 46: 10, 11: 7, 43: 5, 39: 4, 0: 1})\n",
      "0.000863837598531476\n",
      "Epoch: 34\n",
      "Train MAE = 1.904686\n",
      "Val. MAE [2.7206686 1.1189481] 1.9198084 1.919808\n",
      "(37634, 2) (37634, 2)\n",
      "PCC [0.54594964, 0.699089]\n",
      "Counter({2: 10946, 22: 3385, 16: 3147, 12: 2666, 40: 2621, 10: 1818, 26: 1246, 8: 1155, 17: 955, 20: 896, 1: 895, 19: 733, 3: 709, 27: 688, 41: 657, 18: 637, 24: 625, 33: 453, 38: 378, 7: 371, 15: 354, 25: 318, 42: 315, 44: 280, 28: 155, 31: 153, 4: 138, 36: 132, 5: 127, 29: 108, 45: 107, 21: 89, 6: 88, 14: 88, 37: 63, 9: 47, 23: 32, 32: 21, 35: 21, 39: 7, 43: 4, 46: 4, 11: 1, 0: 1})\n",
      "0.000863837598531476\n",
      "Epoch: 35\n"
     ]
    },
    {
     "name": "stdout",
     "output_type": "stream",
     "text": [
      "Train MAE = 1.905054\n",
      "Val. MAE [2.709318  1.1192858] 1.9143019 1.9143021\n",
      "(37634, 2) (37634, 2)\n",
      "PCC [0.5477021, 0.6999744]\n",
      "Counter({2: 10685, 22: 3352, 16: 3289, 12: 2752, 40: 2600, 10: 2073, 26: 1248, 8: 1196, 20: 938, 17: 928, 1: 851, 3: 744, 41: 739, 27: 655, 24: 632, 19: 624, 18: 483, 33: 481, 38: 402, 25: 353, 15: 315, 7: 309, 42: 278, 44: 266, 36: 169, 28: 161, 5: 144, 4: 136, 29: 126, 31: 119, 45: 102, 14: 88, 21: 87, 6: 85, 37: 67, 23: 47, 9: 46, 32: 21, 35: 20, 39: 8, 46: 6, 43: 4, 0: 2, 11: 2, 30: 1})\n",
      "0.000863837598531476\n",
      "Epoch: 36\n",
      "Train MAE = 1.903565\n",
      "Val. MAE [2.6765964 1.1024562] 1.8895264 1.8895264\n",
      "(37634, 2) (37634, 2)\n",
      "PCC [0.5380193, 0.6916294]\n",
      "Counter({2: 11456, 22: 3457, 16: 2837, 12: 2641, 40: 2396, 10: 2089, 26: 1479, 8: 1266, 17: 960, 20: 805, 1: 793, 3: 734, 41: 685, 27: 593, 24: 580, 18: 543, 19: 542, 33: 523, 7: 382, 25: 351, 38: 306, 42: 293, 15: 286, 44: 265, 28: 153, 36: 148, 4: 129, 5: 118, 31: 117, 21: 105, 29: 103, 6: 101, 45: 90, 37: 80, 14: 60, 9: 53, 23: 37, 32: 22, 35: 18, 46: 16, 39: 10, 43: 5, 0: 5, 30: 1, 13: 1})\n",
      "0.000863837598531476\n",
      "Epoch: 37\n",
      "Train MAE = 1.906136\n",
      "Val. MAE [2.7043262 1.1009102] 1.9026182 1.9026182\n",
      "(37634, 2) (37634, 2)\n",
      "PCC [0.54876196, 0.7011927]\n",
      "Counter({2: 10816, 22: 3168, 12: 3010, 16: 2687, 40: 2520, 10: 1963, 26: 1515, 8: 1418, 20: 893, 27: 867, 17: 842, 1: 837, 24: 781, 3: 681, 41: 617, 33: 608, 18: 559, 19: 518, 42: 351, 38: 344, 25: 332, 7: 332, 15: 310, 44: 216, 5: 173, 31: 152, 36: 146, 28: 137, 21: 124, 4: 118, 29: 113, 45: 93, 6: 91, 37: 71, 14: 60, 9: 55, 23: 31, 32: 26, 35: 16, 39: 14, 46: 13, 43: 6, 11: 5, 0: 3, 34: 1, 30: 1})\n",
      "0.000863837598531476\n",
      "Epoch: 38\n",
      "Train MAE = 1.902562\n",
      "Val. MAE [2.6940691 1.1019242] 1.8979967 1.8979965\n",
      "(37634, 2) (37634, 2)\n",
      "PCC [0.5424826, 0.6997102]\n",
      "Counter({2: 10434, 22: 3360, 12: 3275, 40: 2544, 16: 2419, 10: 1945, 26: 1560, 8: 1282, 20: 1007, 27: 907, 24: 854, 17: 827, 1: 794, 3: 640, 33: 605, 41: 602, 18: 600, 19: 563, 38: 410, 42: 358, 7: 352, 15: 352, 25: 324, 5: 188, 44: 174, 31: 154, 21: 142, 28: 141, 36: 129, 4: 112, 6: 106, 45: 93, 29: 88, 37: 78, 14: 64, 9: 47, 23: 30, 32: 22, 35: 15, 46: 13, 43: 9, 39: 9, 0: 3, 34: 1, 30: 1, 11: 1})\n",
      "0.000863837598531476\n",
      "Epoch: 39\n",
      "Train MAE = 1.899675\n",
      "Val. MAE [2.6875868 1.0968395] 1.8922131 1.8922131\n",
      "(37634, 2) (37634, 2)\n",
      "PCC [0.5430547, 0.69626147]\n",
      "Counter({2: 9964, 22: 3636, 12: 3070, 40: 2761, 16: 2393, 10: 1976, 26: 1368, 8: 1143, 20: 1136, 17: 952, 1: 924, 27: 831, 24: 725, 33: 676, 41: 654, 3: 653, 19: 599, 18: 563, 7: 427, 15: 374, 38: 368, 42: 351, 25: 329, 44: 230, 5: 185, 28: 149, 36: 145, 4: 130, 31: 121, 6: 118, 29: 113, 21: 111, 14: 96, 45: 92, 37: 90, 9: 54, 23: 42, 32: 26, 35: 25, 46: 15, 39: 7, 43: 6, 0: 3, 11: 2, 30: 1})\n",
      "0.000863837598531476\n",
      "Adjusting learning rate\n",
      "Epoch: 40\n"
     ]
    },
    {
     "ename": "KeyboardInterrupt",
     "evalue": "",
     "output_type": "error",
     "traceback": [
      "\u001b[0;31m---------------------------------------------------------------------------\u001b[0m",
      "\u001b[0;31mKeyboardInterrupt\u001b[0m                         Traceback (most recent call last)",
      "\u001b[0;32m<ipython-input-17-6f22e1b971a2>\u001b[0m in \u001b[0;36m<module>\u001b[0;34m\u001b[0m\n\u001b[1;32m     25\u001b[0m                                                                       \u001b[0my_angles\u001b[0m\u001b[0;34m:\u001b[0m \u001b[0my_train\u001b[0m\u001b[0;34m[\u001b[0m\u001b[0mb\u001b[0m\u001b[0;34m:\u001b[0m\u001b[0mb\u001b[0m\u001b[0;34m+\u001b[0m\u001b[0mbatch_size\u001b[0m\u001b[0;34m]\u001b[0m\u001b[0;34m,\u001b[0m\u001b[0;34m\u001b[0m\u001b[0m\n\u001b[1;32m     26\u001b[0m                                                                       \u001b[0mlearning_rate\u001b[0m\u001b[0;34m:\u001b[0m \u001b[0minit_learning_rate\u001b[0m\u001b[0;34m,\u001b[0m\u001b[0;34m\u001b[0m\u001b[0m\n\u001b[0;32m---> 27\u001b[0;31m                                                                     input_mask: mask_[b:b+batch_size]})\n\u001b[0m\u001b[1;32m     28\u001b[0m \u001b[0;31m#             print(vec_pred_)\u001b[0m\u001b[0;34m\u001b[0m\u001b[0;34m\u001b[0m\u001b[0m\n\u001b[1;32m     29\u001b[0m             \u001b[0mtrain_loss\u001b[0m\u001b[0;34m.\u001b[0m\u001b[0mappend\u001b[0m\u001b[0;34m(\u001b[0m\u001b[0mmae_\u001b[0m\u001b[0;34m)\u001b[0m\u001b[0;34m\u001b[0m\u001b[0m\n",
      "\u001b[0;32m~/.local/lib/python3.6/site-packages/tensorflow/python/client/session.py\u001b[0m in \u001b[0;36mrun\u001b[0;34m(self, fetches, feed_dict, options, run_metadata)\u001b[0m\n\u001b[1;32m    885\u001b[0m     \u001b[0;32mtry\u001b[0m\u001b[0;34m:\u001b[0m\u001b[0;34m\u001b[0m\u001b[0m\n\u001b[1;32m    886\u001b[0m       result = self._run(None, fetches, feed_dict, options_ptr,\n\u001b[0;32m--> 887\u001b[0;31m                          run_metadata_ptr)\n\u001b[0m\u001b[1;32m    888\u001b[0m       \u001b[0;32mif\u001b[0m \u001b[0mrun_metadata\u001b[0m\u001b[0;34m:\u001b[0m\u001b[0;34m\u001b[0m\u001b[0m\n\u001b[1;32m    889\u001b[0m         \u001b[0mproto_data\u001b[0m \u001b[0;34m=\u001b[0m \u001b[0mtf_session\u001b[0m\u001b[0;34m.\u001b[0m\u001b[0mTF_GetBuffer\u001b[0m\u001b[0;34m(\u001b[0m\u001b[0mrun_metadata_ptr\u001b[0m\u001b[0;34m)\u001b[0m\u001b[0;34m\u001b[0m\u001b[0m\n",
      "\u001b[0;32m~/.local/lib/python3.6/site-packages/tensorflow/python/client/session.py\u001b[0m in \u001b[0;36m_run\u001b[0;34m(self, handle, fetches, feed_dict, options, run_metadata)\u001b[0m\n\u001b[1;32m   1108\u001b[0m     \u001b[0;32mif\u001b[0m \u001b[0mfinal_fetches\u001b[0m \u001b[0;32mor\u001b[0m \u001b[0mfinal_targets\u001b[0m \u001b[0;32mor\u001b[0m \u001b[0;34m(\u001b[0m\u001b[0mhandle\u001b[0m \u001b[0;32mand\u001b[0m \u001b[0mfeed_dict_tensor\u001b[0m\u001b[0;34m)\u001b[0m\u001b[0;34m:\u001b[0m\u001b[0;34m\u001b[0m\u001b[0m\n\u001b[1;32m   1109\u001b[0m       results = self._do_run(handle, final_targets, final_fetches,\n\u001b[0;32m-> 1110\u001b[0;31m                              feed_dict_tensor, options, run_metadata)\n\u001b[0m\u001b[1;32m   1111\u001b[0m     \u001b[0;32melse\u001b[0m\u001b[0;34m:\u001b[0m\u001b[0;34m\u001b[0m\u001b[0m\n\u001b[1;32m   1112\u001b[0m       \u001b[0mresults\u001b[0m \u001b[0;34m=\u001b[0m \u001b[0;34m[\u001b[0m\u001b[0;34m]\u001b[0m\u001b[0;34m\u001b[0m\u001b[0m\n",
      "\u001b[0;32m~/.local/lib/python3.6/site-packages/tensorflow/python/client/session.py\u001b[0m in \u001b[0;36m_do_run\u001b[0;34m(self, handle, target_list, fetch_list, feed_dict, options, run_metadata)\u001b[0m\n\u001b[1;32m   1284\u001b[0m     \u001b[0;32mif\u001b[0m \u001b[0mhandle\u001b[0m \u001b[0;32mis\u001b[0m \u001b[0;32mNone\u001b[0m\u001b[0;34m:\u001b[0m\u001b[0;34m\u001b[0m\u001b[0m\n\u001b[1;32m   1285\u001b[0m       return self._do_call(_run_fn, feeds, fetches, targets, options,\n\u001b[0;32m-> 1286\u001b[0;31m                            run_metadata)\n\u001b[0m\u001b[1;32m   1287\u001b[0m     \u001b[0;32melse\u001b[0m\u001b[0;34m:\u001b[0m\u001b[0;34m\u001b[0m\u001b[0m\n\u001b[1;32m   1288\u001b[0m       \u001b[0;32mreturn\u001b[0m \u001b[0mself\u001b[0m\u001b[0;34m.\u001b[0m\u001b[0m_do_call\u001b[0m\u001b[0;34m(\u001b[0m\u001b[0m_prun_fn\u001b[0m\u001b[0;34m,\u001b[0m \u001b[0mhandle\u001b[0m\u001b[0;34m,\u001b[0m \u001b[0mfeeds\u001b[0m\u001b[0;34m,\u001b[0m \u001b[0mfetches\u001b[0m\u001b[0;34m)\u001b[0m\u001b[0;34m\u001b[0m\u001b[0m\n",
      "\u001b[0;32m~/.local/lib/python3.6/site-packages/tensorflow/python/client/session.py\u001b[0m in \u001b[0;36m_do_call\u001b[0;34m(self, fn, *args)\u001b[0m\n\u001b[1;32m   1290\u001b[0m   \u001b[0;32mdef\u001b[0m \u001b[0m_do_call\u001b[0m\u001b[0;34m(\u001b[0m\u001b[0mself\u001b[0m\u001b[0;34m,\u001b[0m \u001b[0mfn\u001b[0m\u001b[0;34m,\u001b[0m \u001b[0;34m*\u001b[0m\u001b[0margs\u001b[0m\u001b[0;34m)\u001b[0m\u001b[0;34m:\u001b[0m\u001b[0;34m\u001b[0m\u001b[0m\n\u001b[1;32m   1291\u001b[0m     \u001b[0;32mtry\u001b[0m\u001b[0;34m:\u001b[0m\u001b[0;34m\u001b[0m\u001b[0m\n\u001b[0;32m-> 1292\u001b[0;31m       \u001b[0;32mreturn\u001b[0m \u001b[0mfn\u001b[0m\u001b[0;34m(\u001b[0m\u001b[0;34m*\u001b[0m\u001b[0margs\u001b[0m\u001b[0;34m)\u001b[0m\u001b[0;34m\u001b[0m\u001b[0m\n\u001b[0m\u001b[1;32m   1293\u001b[0m     \u001b[0;32mexcept\u001b[0m \u001b[0merrors\u001b[0m\u001b[0;34m.\u001b[0m\u001b[0mOpError\u001b[0m \u001b[0;32mas\u001b[0m \u001b[0me\u001b[0m\u001b[0;34m:\u001b[0m\u001b[0;34m\u001b[0m\u001b[0m\n\u001b[1;32m   1294\u001b[0m       \u001b[0mmessage\u001b[0m \u001b[0;34m=\u001b[0m \u001b[0mcompat\u001b[0m\u001b[0;34m.\u001b[0m\u001b[0mas_text\u001b[0m\u001b[0;34m(\u001b[0m\u001b[0me\u001b[0m\u001b[0;34m.\u001b[0m\u001b[0mmessage\u001b[0m\u001b[0;34m)\u001b[0m\u001b[0;34m\u001b[0m\u001b[0m\n",
      "\u001b[0;32m~/.local/lib/python3.6/site-packages/tensorflow/python/client/session.py\u001b[0m in \u001b[0;36m_run_fn\u001b[0;34m(feed_dict, fetch_list, target_list, options, run_metadata)\u001b[0m\n\u001b[1;32m   1275\u001b[0m       \u001b[0mself\u001b[0m\u001b[0;34m.\u001b[0m\u001b[0m_extend_graph\u001b[0m\u001b[0;34m(\u001b[0m\u001b[0;34m)\u001b[0m\u001b[0;34m\u001b[0m\u001b[0m\n\u001b[1;32m   1276\u001b[0m       return self._call_tf_sessionrun(\n\u001b[0;32m-> 1277\u001b[0;31m           options, feed_dict, fetch_list, target_list, run_metadata)\n\u001b[0m\u001b[1;32m   1278\u001b[0m \u001b[0;34m\u001b[0m\u001b[0m\n\u001b[1;32m   1279\u001b[0m     \u001b[0;32mdef\u001b[0m \u001b[0m_prun_fn\u001b[0m\u001b[0;34m(\u001b[0m\u001b[0mhandle\u001b[0m\u001b[0;34m,\u001b[0m \u001b[0mfeed_dict\u001b[0m\u001b[0;34m,\u001b[0m \u001b[0mfetch_list\u001b[0m\u001b[0;34m)\u001b[0m\u001b[0;34m:\u001b[0m\u001b[0;34m\u001b[0m\u001b[0m\n",
      "\u001b[0;32m~/.local/lib/python3.6/site-packages/tensorflow/python/client/session.py\u001b[0m in \u001b[0;36m_call_tf_sessionrun\u001b[0;34m(self, options, feed_dict, fetch_list, target_list, run_metadata)\u001b[0m\n\u001b[1;32m   1365\u001b[0m     return tf_session.TF_SessionRun_wrapper(\n\u001b[1;32m   1366\u001b[0m         \u001b[0mself\u001b[0m\u001b[0;34m.\u001b[0m\u001b[0m_session\u001b[0m\u001b[0;34m,\u001b[0m \u001b[0moptions\u001b[0m\u001b[0;34m,\u001b[0m \u001b[0mfeed_dict\u001b[0m\u001b[0;34m,\u001b[0m \u001b[0mfetch_list\u001b[0m\u001b[0;34m,\u001b[0m \u001b[0mtarget_list\u001b[0m\u001b[0;34m,\u001b[0m\u001b[0;34m\u001b[0m\u001b[0m\n\u001b[0;32m-> 1367\u001b[0;31m         run_metadata)\n\u001b[0m\u001b[1;32m   1368\u001b[0m \u001b[0;34m\u001b[0m\u001b[0m\n\u001b[1;32m   1369\u001b[0m   \u001b[0;32mdef\u001b[0m \u001b[0m_call_tf_sessionprun\u001b[0m\u001b[0;34m(\u001b[0m\u001b[0mself\u001b[0m\u001b[0;34m,\u001b[0m \u001b[0mhandle\u001b[0m\u001b[0;34m,\u001b[0m \u001b[0mfeed_dict\u001b[0m\u001b[0;34m,\u001b[0m \u001b[0mfetch_list\u001b[0m\u001b[0;34m)\u001b[0m\u001b[0;34m:\u001b[0m\u001b[0;34m\u001b[0m\u001b[0m\n",
      "\u001b[0;31mKeyboardInterrupt\u001b[0m: "
     ]
    }
   ],
   "source": [
    "def pearson_numpy(y_true, y_pred, n_angles):\n",
    "    a_angles = np.split(np.cos(y_true.reshape(-1,)).reshape(-1,n_angles), \n",
    "                                     indices_or_sections=n_angles, axis=-1)\n",
    "    b_angles = np.split(np.cos(y_pred.reshape(-1,)).reshape(-1,n_angles),\n",
    "                                     indices_or_sections=n_angles, axis=-1)\n",
    "    return [scipy.stats.pearsonr(a.reshape(-1,), b.reshape(-1,))[0] for a,b in zip(a_angles, b_angles)]\n",
    "\n",
    "batch_size = 32\n",
    "n_epochs = 500\n",
    "\n",
    "# Start as session\n",
    "init_learning_rate = 0.001\n",
    "with tf.Session() as session:\n",
    "\n",
    "    # Run the initializer\n",
    "    session.run(init)\n",
    "\n",
    "    # Training cycle\n",
    "    for epoch in range(n_epochs):\n",
    "        print(\"Epoch:\", epoch)\n",
    "        train_loss = []\n",
    "        for b in range(0, x_train.shape[0], batch_size):\n",
    "            _, loss_value, mae_, vec_pred_ = session.run([optimizer, loss, mae_vec, vec_pred], feed_dict={X: x_train[b:b+batch_size],\n",
    "                                                                      y: y_train_labels[b:b+batch_size],\n",
    "                                                                      y_angles: y_train[b:b+batch_size],\n",
    "                                                                      learning_rate: init_learning_rate,\n",
    "                                                                    input_mask: mask_[b:b+batch_size]})\n",
    "#             print(vec_pred_)\n",
    "            train_loss.append(mae_)\n",
    "        \n",
    "        (validation_accuracy, mae_, loss_, pred_, \n",
    "         clusters_, y_pred_masked_, rad_pred_masked_,\n",
    "        y_angles_masked_) = session.run([accuracy, mae_vec, mae_ang, prediction, \n",
    "                                                              clusters_tf, y_pred_masked, rad_pred_masked,\n",
    "                                                                                   y_angles_masked], \n",
    "                                                              feed_dict={X: x_valid, y: y_valid_labels, \n",
    "                                                                         y_angles:y_valid,\n",
    "                                                                        input_mask: mask_v})\n",
    "#         print(\"val. loss = %f, val_acc = %f\" % (loss_value, validation_accuracy))    \n",
    "        print(\"Train Normal MAE = %f\" % (np.mean(train_loss)))\n",
    "        print(\"Val. Ang MAE\", loss_)\n",
    "        print(rad_pred_masked_.shape, y_angles_masked_.shape)\n",
    "        print(\"PCC\", pearson_numpy(rad_pred_masked_, y_angles_masked_, n_angles))\n",
    "        print(collections.Counter(pred_))\n",
    "#         print(np.mean(y_pred_masked_, axis=0)) # prob. dist mean over clusters\n",
    "#         print(np.max(y_pred_masked_, axis=0)) # prob. dist max over clusters\n",
    "        print(init_learning_rate)\n",
    "#         print(clusters_)\n",
    "        \n",
    "        # Shrinks the learning rate every n epochs\n",
    "        train_loss = []\n",
    "        if (epoch + 1) % 10 == 0:\n",
    "            print(\"Adjusting learning rate\")\n",
    "            init_learning_rate = init_learning_rate / 1.05\n",
    "    \n",
    "    print(\"Optimization done\")\n",
    "\n",
    "    # Calculate training accuracy\n",
    "    train_accuracy_value, pred_train = session.run([accuracy, prediction], \n",
    "                                                                      feed_dict={X: x_train, y: y_train_labels,\n",
    "                                                                                y_angles: y_train,\n",
    "                                                                                input_mask: mask_})\n",
    "    print(\"Train accuracy:\", train_accuracy_value)\n",
    "    \n",
    "    # Calculate test accuracy\n",
    "    test_accuracy_value, pred_test = session.run([accuracy, prediction], \n",
    "                                                                    feed_dict={X: x_valid, y: y_valid_labels,\n",
    "                                                                              y_angles: y_valid,\n",
    "                                                                              input_mask: mask_v})\n",
    "    print(\"Test accuracy:\", test_accuracy_value)"
   ]
  },
  {
   "cell_type": "code",
   "execution_count": null,
   "metadata": {},
   "outputs": [],
   "source": [
    "rad_pred_.shape"
   ]
  },
  {
   "cell_type": "code",
   "execution_count": 23,
   "metadata": {},
   "outputs": [
    {
     "ename": "NameError",
     "evalue": "name 'pred' is not defined",
     "output_type": "error",
     "traceback": [
      "\u001b[0;31m---------------------------------------------------------------------------\u001b[0m",
      "\u001b[0;31mNameError\u001b[0m                                 Traceback (most recent call last)",
      "\u001b[0;32m<ipython-input-23-1cb494be29ad>\u001b[0m in \u001b[0;36m<module>\u001b[0;34m\u001b[0m\n\u001b[1;32m      3\u001b[0m \u001b[0mplt\u001b[0m\u001b[0;34m.\u001b[0m\u001b[0mscatter\u001b[0m\u001b[0;34m(\u001b[0m\u001b[0mrad_pred_\u001b[0m\u001b[0;34m[\u001b[0m\u001b[0;34m:\u001b[0m\u001b[0;36m200\u001b[0m\u001b[0;34m,\u001b[0m\u001b[0;36m0\u001b[0m\u001b[0;34m]\u001b[0m\u001b[0;34m,\u001b[0m \u001b[0mrad_pred_\u001b[0m\u001b[0;34m[\u001b[0m\u001b[0;34m:\u001b[0m\u001b[0;36m200\u001b[0m\u001b[0;34m,\u001b[0m\u001b[0;36m1\u001b[0m\u001b[0;34m]\u001b[0m\u001b[0;34m,\u001b[0m \u001b[0mc\u001b[0m\u001b[0;34m=\u001b[0m\u001b[0;34m'orange'\u001b[0m\u001b[0;34m)\u001b[0m\u001b[0;34m\u001b[0m\u001b[0m\n\u001b[1;32m      4\u001b[0m \u001b[0;34m\u001b[0m\u001b[0m\n\u001b[0;32m----> 5\u001b[0;31m \u001b[0mnp\u001b[0m\u001b[0;34m.\u001b[0m\u001b[0mmean\u001b[0m\u001b[0;34m(\u001b[0m\u001b[0mnp\u001b[0m\u001b[0;34m.\u001b[0m\u001b[0mabs\u001b[0m\u001b[0;34m(\u001b[0m\u001b[0my_valid\u001b[0m\u001b[0;34m[\u001b[0m\u001b[0mn\u001b[0m\u001b[0;34m,\u001b[0m\u001b[0;34m:\u001b[0m\u001b[0;34m,\u001b[0m\u001b[0;34m:\u001b[0m\u001b[0;36m2\u001b[0m\u001b[0;34m]\u001b[0m \u001b[0;34m-\u001b[0m \u001b[0mpred\u001b[0m\u001b[0;34m[\u001b[0m\u001b[0mn\u001b[0m\u001b[0;34m]\u001b[0m\u001b[0;34m)\u001b[0m\u001b[0;34m)\u001b[0m\u001b[0;34m\u001b[0m\u001b[0m\n\u001b[0m",
      "\u001b[0;31mNameError\u001b[0m: name 'pred' is not defined"
     ]
    },
    {
     "data": {
      "image/png": "[encoded data removed]",
      "text/plain": [
       "<Figure size 432x288 with 1 Axes>"
      ]
     },
     "metadata": {
      "needs_background": "light"
     },
     "output_type": "display_data"
    }
   ],
   "source": [
    "n = 150\n",
    "plt.scatter(y_valid[n,:,0], y_valid[n,:,1], c='blue')\n",
    "plt.scatter(rad_pred_[:200,0], rad_pred_[:200,1], c='orange')\n",
    "\n",
    "np.mean(np.abs(y_valid[n,:,:2] - pred[n]))"
   ]
  },
  {
   "cell_type": "code",
   "execution_count": 36,
   "metadata": {},
   "outputs": [
    {
     "data": {
      "text/plain": [
       "(-2.4833233, -1.3732338e-07, 0.0, 0.91156995)"
      ]
     },
     "execution_count": 36,
     "metadata": {},
     "output_type": "execute_result"
    }
   ],
   "source": [
    "np.min(rad_pred_), np.max(rad_pred_), np.min(rad_pred_cont_), np.max(rad_pred_cont_)"
   ]
  },
  {
   "cell_type": "markdown",
   "metadata": {},
   "source": [
    "Organize model modes:\n",
    "- predict angles through regression (tanh, *pi)\n",
    "- predict clusters and optimize for crossentropy\n",
    "- predict clusters and optimize for MAE\n",
    "- predict clusters as vectors and optimize for MAE"
   ]
  },
  {
   "cell_type": "code",
   "execution_count": null,
   "metadata": {},
   "outputs": [],
   "source": [
    "np.mean(np.abs(clusters_[pred_] - y_valid[mask_v])"
   ]
  },
  {
   "cell_type": "markdown",
   "metadata": {},
   "source": [
    "resnet CNN filter_length = 15 (with 5 it didn't change much either)\n",
    "\n",
    "*Rad angles, 10 not trainable clusters: 0.59\n",
    "\n",
    "*Rad angles, 10 trainable clusters, no clipping: MAE [0.43384644 0.721744  ] 0.5777952\n",
    "\n",
    "*Rad angles, 50 trainable clusters, no clipping: \n",
    "Train MAE = 0.545068\n",
    "Val. MAE [0.43777448 0.7208223 ] 0.5792984"
   ]
  },
  {
   "cell_type": "markdown",
   "metadata": {
    "collapsed": true
   },
   "source": [
    "pcc: 58 70 (10000 proteins, cluster, angular_mae_and_classification)\n",
    "pcc: 61.5 66.5 (10000 proteins, regression, angular_mae)"
   ]
  },
  {
   "cell_type": "code",
   "execution_count": null,
   "metadata": {},
   "outputs": [],
   "source": []
  }
 ],
 "metadata": {
  "kernelspec": {
   "display_name": "Python 3",
   "language": "python",
   "name": "python3"
  },
  "language_info": {
   "codemirror_mode": {
    "name": "ipython",
    "version": 3
   },
   "file_extension": ".py",
   "mimetype": "text/x-python",
   "name": "python",
   "nbconvert_exporter": "python",
   "pygments_lexer": "ipython3",
   "version": "3.6.6"
  }
 },
 "nbformat": 4,
 "nbformat_minor": 2
}
