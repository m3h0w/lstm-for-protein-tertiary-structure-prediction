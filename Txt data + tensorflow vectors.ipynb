{
 "cells": [
  {
   "cell_type": "code",
   "execution_count": 1,
   "metadata": {},
   "outputs": [
    {
     "name": "stderr",
     "output_type": "stream",
     "text": [
      "C:\\Users\\Michal\\Anaconda3\\lib\\site-packages\\h5py\\__init__.py:36: FutureWarning: Conversion of the second argument of issubdtype from `float` to `np.floating` is deprecated. In future, it will be treated as `np.float64 == np.dtype(float).type`.\n",
      "  from ._conv import register_converters as _register_converters\n",
      "Using TensorFlow backend.\n"
     ]
    }
   ],
   "source": [
    "import numpy as np\n",
    "import matplotlib.pyplot as plt\n",
    "%matplotlib inline\n",
    "import glob\n",
    "import tensorflow as tf\n",
    "import time\n",
    "import scipy\n",
    "\n",
    "import collections, numpy\n",
    "\n",
    "import data_loader as dl\n",
    "import data_transformer as dt\n",
    "\n",
    "from sklearn.cluster import KMeans\n",
    "from keras.utils import to_categorical\n",
    "\n",
    "# helper for setting up the bidirectional, multilayer lstm\n",
    "def bidirectional_lstm(input_data, num_layers, rnn_size, keep_prob, lengths=None):\n",
    "    output = input_data\n",
    "    for layer in range(num_layers):\n",
    "        with tf.variable_scope('encoder_{}'.format(layer),reuse=tf.AUTO_REUSE):\n",
    "\n",
    "            cell_fw = tf.contrib.rnn.LSTMCell(rnn_size, initializer=tf.truncated_normal_initializer(-0.1, 0.1, seed=2))\n",
    "            cell_fw = tf.contrib.rnn.DropoutWrapper(cell_fw, input_keep_prob = keep_prob)\n",
    "\n",
    "            cell_bw = tf.contrib.rnn.LSTMCell(rnn_size, initializer=tf.truncated_normal_initializer(-0.1, 0.1, seed=2))\n",
    "            cell_bw = tf.contrib.rnn.DropoutWrapper(cell_bw, input_keep_prob = keep_prob)\n",
    "\n",
    "            outputs, states = tf.nn.bidirectional_dynamic_rnn(cell_fw, \n",
    "                                                              cell_bw, \n",
    "                                                              output,\n",
    "                                                              dtype=tf.float32,\n",
    "                                                              sequence_length=lengths)\n",
    "            output = tf.concat(outputs,2)\n",
    "\n",
    "    return output"
   ]
  },
  {
   "cell_type": "code",
   "execution_count": 2,
   "metadata": {
    "collapsed": true
   },
   "outputs": [],
   "source": [
    "# change this path to match the path of where you have the\n",
    "# training_50 and validation files\n",
    "txt_data_path = '../casp7_txt/'\n",
    "\n",
    "max_len = 500 # max len of the protein taken into account\n",
    "n_angles = 2 # 3 if consider all angles or 2 if only phi and psi"
   ]
  },
  {
   "cell_type": "markdown",
   "metadata": {},
   "source": [
    "The data_lim is important because so far the full 13000 proteins crashes my system with 16Gb of ram\n",
    "\n",
    "Load training data"
   ]
  },
  {
   "cell_type": "code",
   "execution_count": 39,
   "metadata": {},
   "outputs": [
    {
     "name": "stdout",
     "output_type": "stream",
     "text": [
      "Loaded data and filtered line endings\n",
      "Extracted primary data\n",
      "Encoded primary sequences\n",
      "Loaded data and filtered line endings\n",
      "Extracted evolutionary data\n"
     ]
    },
    {
     "name": "stderr",
     "output_type": "stream",
     "text": [
      "100%|███████████████████████████████████████████████████████████████████████████| 6000/6000 [00:00<00:00, 37745.77it/s]\n"
     ]
    },
    {
     "name": "stdout",
     "output_type": "stream",
     "text": [
      "Grouped 21's together\n",
      "Loaded data and filtered line endings\n",
      "Extracted mask data\n"
     ]
    },
    {
     "data": {
      "text/plain": [
       "(6000, (70, 20), 6000, (70, 21), 6000, (70, 3), 6000, (70,))"
      ]
     },
     "execution_count": 39,
     "metadata": {},
     "output_type": "execute_result"
    }
   ],
   "source": [
    "file_name = 'training_50'\n",
    "data_lim = 6000\n",
    "prim_train, evo_train, dih_train, mask_train = (dl.parse_primary_from_file(txt_data_path + file_name, data_lim), \n",
    "                                                dl.parse_evolutionary_from_file(txt_data_path + file_name, data_lim),\n",
    "                                                dl.load_file('./'+file_name+'_dih.joblib'),\n",
    "                                                dl.parse_mask_from_file(txt_data_path + file_name, data_lim))\n",
    "dih_train = dih_train[:data_lim]\n",
    "len(prim_train), prim_train[0].shape, len(evo_train), evo_train[0].shape, len(dih_train), dih_train[0].shape, len(mask_train), mask_train[0].shape"
   ]
  },
  {
   "cell_type": "markdown",
   "metadata": {},
   "source": [
    "Load validation data"
   ]
  },
  {
   "cell_type": "code",
   "execution_count": 40,
   "metadata": {},
   "outputs": [
    {
     "name": "stdout",
     "output_type": "stream",
     "text": [
      "Loaded data and filtered line endings\n",
      "Extracted primary data\n",
      "Encoded primary sequences\n",
      "Loaded data and filtered line endings\n",
      "Extracted evolutionary data\n"
     ]
    },
    {
     "name": "stderr",
     "output_type": "stream",
     "text": [
      "100%|█████████████████████████████████████████████████████████████████████████████| 224/224 [00:00<00:00, 21346.51it/s]\n"
     ]
    },
    {
     "name": "stdout",
     "output_type": "stream",
     "text": [
      "Grouped 21's together\n",
      "Loaded data and filtered line endings\n",
      "Extracted mask data\n"
     ]
    },
    {
     "data": {
      "text/plain": [
       "(224, (269, 20), 224, (269, 21), 224, (269, 3), 224, (269,))"
      ]
     },
     "execution_count": 40,
     "metadata": {},
     "output_type": "execute_result"
    }
   ],
   "source": [
    "file_name = 'validation'\n",
    "prim_valid, evo_valid, dih_valid, mask_valid = (dl.parse_primary_from_file(txt_data_path + file_name), \n",
    "                                                dl.parse_evolutionary_from_file(txt_data_path + file_name),\n",
    "                                                dl.load_file('./'+ file_name + '_dih.joblib'),\n",
    "                                                dl.parse_mask_from_file(txt_data_path + file_name))\n",
    "len(prim_valid), prim_valid[0].shape, len(evo_valid), evo_valid[0].shape, len(dih_valid), dih_valid[0].shape, len(mask_valid), mask_valid[0].shape"
   ]
  },
  {
   "cell_type": "markdown",
   "metadata": {},
   "source": [
    "Pad the data and limit protein length. Prepare the data for training"
   ]
  },
  {
   "cell_type": "code",
   "execution_count": 41,
   "metadata": {},
   "outputs": [
    {
     "name": "stdout",
     "output_type": "stream",
     "text": [
      "padded\n",
      "(5704,) (70, 20)\n",
      "padded\n",
      "(5704,) (70, 21)\n",
      "padded\n",
      "(5704,) (70, 3)\n",
      "padded\n",
      "(5704,) (70, 1)\n",
      "padded\n",
      "(213,) (269, 20)\n",
      "padded\n",
      "(213,) (269, 21)\n",
      "padded\n",
      "(213,) (269, 3)\n",
      "padded\n",
      "(213,) (269, 1)\n"
     ]
    },
    {
     "data": {
      "text/plain": [
       "((5704, 500, 41), (5704, 500, 2), (213, 500, 41), (213, 500, 2))"
      ]
     },
     "execution_count": 41,
     "metadata": {},
     "output_type": "execute_result"
    }
   ],
   "source": [
    "prim_, evo_, dih_, mask_ = dt.limit_length_and_pad(prim_train, evo_train, dih_train, mask_train, max_len)\n",
    "x_train, y_train = np.concatenate([prim_, evo_], axis=2), dih_[:,:,:n_angles]\n",
    "prim_v, evo_v, dih_v, mask_v = dt.limit_length_and_pad(prim_valid, evo_valid, dih_valid, mask_valid, max_len)\n",
    "x_valid, y_valid = np.concatenate([prim_v, evo_v], axis=2), dih_v[:,:,:n_angles]\n",
    "\n",
    "x_train.shape, y_train.shape, x_valid.shape, y_valid.shape"
   ]
  },
  {
   "cell_type": "code",
   "execution_count": 42,
   "metadata": {
    "scrolled": false
   },
   "outputs": [
    {
     "name": "stdout",
     "output_type": "stream",
     "text": [
      "Fitting KMeans...\n",
      "Done\n"
     ]
    },
    {
     "data": {
      "text/plain": [
       "('n_clusters_after_fuse:', 10, 'fused', 0, 'padded to', (10, 2))"
      ]
     },
     "execution_count": 42,
     "metadata": {},
     "output_type": "execute_result"
    }
   ],
   "source": [
    "def manual_clusters(n_clusters):\n",
    "    # these manually selecteed clusters will be chosen from left to right\n",
    "    # when n_clusters < man_clusters.shape[0]\n",
    "    man_clusters = np.array([[-1.5, 0, 0], [-1.5, 2.5, 0], [1.5, 0.5, 0], [-2.2, -2.5, 0],\n",
    "                          [-1.5, 0, np.pi], [-1.5, 0, -np.pi], [-1.5, 2.5, np.pi], [-1.5, 2.5, -np.pi],\n",
    "                            [0,0,0],[0,0,0]])\n",
    "    try:\n",
    "        return {\n",
    "            i+1: man_clusters[:i+1] for i in range(man_clusters.shape[0])\n",
    "        }[n_clusters]\n",
    "    except KeyError as e:\n",
    "        print(\"Manual clusters only support max\", man_clusters.shape[0])\n",
    "        print(e)\n",
    "        raise\n",
    "\n",
    "def kmeans_clusters(angles, limit_data, filter_, n_clusters):\n",
    "    \"\"\"\n",
    "        angles: [..., ..., 3]\n",
    "        limit_data: int, how many protein to consider for clustering\n",
    "        filter_: bool, deciding if clusters too close to each other should be merged\n",
    "    \"\"\"\n",
    "    def dist2(p1, p2):\n",
    "        return np.sum((p1-p2)**2)\n",
    "\n",
    "    def fuse(points, min_dist):\n",
    "        ret = []\n",
    "        d2 = min_dist * min_dist\n",
    "        n = len(points)\n",
    "        taken = [False] * n\n",
    "        for i in range(n):\n",
    "            if not taken[i]:\n",
    "                count = 1\n",
    "                point = points[i]\n",
    "                taken[i] = True\n",
    "                for j in range(i+1, n):\n",
    "                    if dist2(points[i], points[j]) < d2:\n",
    "                        point += points[j]\n",
    "                        count+=1\n",
    "                        taken[j] = True\n",
    "                point /= count\n",
    "                ret.append(point)\n",
    "        return np.array(ret)\n",
    "    \n",
    "    print(\"Fitting KMeans...\")\n",
    "    km = KMeans(n_clusters=n_clusters, random_state=0, verbose=0, max_iter=1000).fit(angles[:limit_data].reshape(-1,n_angles))\n",
    "    print(\"Done\")\n",
    "    if filter_:\n",
    "        return fuse(km.cluster_centers_, min_dist=np.abs(np.max(angles)) / 10.)\n",
    "    else:\n",
    "        return km.cluster_centers_\n",
    "\n",
    "def get_cluster_centers(select_clusters_n, mode='manual'):\n",
    "    return {\n",
    "        'manual': lambda n_clusters: manual_clusters(n_clusters=n_clusters),\n",
    "        'kmeans': lambda n_clusters: kmeans_clusters(angles=y_train, limit_data=200, filter_=True, n_clusters=n_clusters)\n",
    "    }[mode](select_clusters_n)\n",
    "\n",
    "select_clusters_n = 10\n",
    "# initialize clusters - this might filter ones that are too close\n",
    "clusters = get_cluster_centers(select_clusters_n = select_clusters_n, mode='kmeans')[:,:n_angles]\n",
    "n_clusters_after_fuse = clusters.shape[0]\n",
    "\n",
    "# add missing clusters to much the desired number\n",
    "clusters = np.pad(clusters, ((0, select_clusters_n - n_clusters_after_fuse), (0,0)), mode='constant')\n",
    "n_clusters = clusters.shape[0]\n",
    "\n",
    "\"n_clusters_after_fuse:\", n_clusters_after_fuse, 'fused', select_clusters_n - n_clusters_after_fuse, 'padded to', clusters.shape"
   ]
  },
  {
   "cell_type": "code",
   "execution_count": 43,
   "metadata": {},
   "outputs": [
    {
     "data": {
      "image/png": "[encoded data removed]",
      "text/plain": [
       "<matplotlib.figure.Figure at 0x24723ddea90>"
      ]
     },
     "metadata": {},
     "output_type": "display_data"
    }
   ],
   "source": [
    "def plot_cluster_centers(data, clusters, x_i, y_i, data_lim=10):\n",
    "    plt.figure(figsize=(10,6))\n",
    "    plt.scatter(y_valid[:data_lim][:,:,x_i], y_valid[:data_lim][:,:,y_i], s=1)\n",
    "    plt.scatter(clusters[:,x_i], clusters[:,y_i], marker='x', s=80)\n",
    "    \n",
    "plot_cluster_centers(y_valid, clusters, x_i=0, y_i=1, data_lim=10)\n",
    "if n_angles == 3:\n",
    "    plot_cluster_centers(y_valid, clusters, x_i=1, y_i=2, data_lim=10)\n",
    "    plot_cluster_centers(y_valid, clusters, x_i=0, y_i=2, data_lim=10)"
   ]
  },
  {
   "cell_type": "code",
   "execution_count": 44,
   "metadata": {},
   "outputs": [
    {
     "data": {
      "text/plain": [
       "((5704, 500, 10),\n",
       " (213, 500, 10),\n",
       " array([0, 1, 2, 3, 4, 5, 6, 7, 8, 9], dtype=int64),\n",
       " array([0, 1, 2, 3, 4, 5, 6, 7, 8, 9], dtype=int64),\n",
       " 10)"
      ]
     },
     "execution_count": 44,
     "metadata": {},
     "output_type": "execute_result"
    }
   ],
   "source": [
    "y_train_labels_ = np.argmin(scipy.spatial.distance_matrix(y_train.reshape(-1,n_angles), clusters), \n",
    "                            axis=1).reshape(y_train.shape[0], y_train.shape[1])\n",
    "\n",
    "y_valid_labels_ = np.argmin(scipy.spatial.distance_matrix(y_valid.reshape(-1,n_angles), clusters), \n",
    "                            axis=1).reshape(y_valid.shape[0], y_valid.shape[1])\n",
    "\n",
    "y_train_labels = to_categorical(y_train_labels_, num_classes=n_clusters)\n",
    "y_valid_labels = to_categorical(y_valid_labels_, num_classes=n_clusters)\n",
    "\n",
    "y_train_labels.shape, y_valid_labels.shape, np.unique(y_train_labels_), np.unique(y_valid_labels_), n_clusters"
   ]
  },
  {
   "cell_type": "code",
   "execution_count": null,
   "metadata": {},
   "outputs": [
    {
     "name": "stderr",
     "output_type": "stream",
     "text": [
      "C:\\Users\\Michal\\Anaconda3\\lib\\site-packages\\tensorflow\\python\\ops\\gradients_impl.py:100: UserWarning: Converting sparse IndexedSlices to a dense Tensor of unknown shape. This may consume a large amount of memory.\n",
      "  \"Converting sparse IndexedSlices to a dense Tensor of unknown shape. \"\n"
     ]
    },
    {
     "name": "stdout",
     "output_type": "stream",
     "text": [
      "Number of parameters: 43392\n"
     ]
    }
   ],
   "source": [
    "tf.reset_default_graph()\n",
    "\n",
    "class ModelHelpers:\n",
    "    @staticmethod\n",
    "    @tf.custom_gradient\n",
    "    def clip_grad_layer(x, eps=1e-10):\n",
    "        def grad(dy):\n",
    "            return tf.clip_by_value(dy, eps, eps)\n",
    "        return tf.identity(x), grad\n",
    "    \n",
    "    @staticmethod\n",
    "    def input_placeholders(max_len, input_columns):\n",
    "        X = tf.placeholder(tf.float32, [None, max_len, input_columns], name=\"X\")\n",
    "        input_mask = tf.placeholder(tf.bool, [None, max_len], name=\"input_mask\")\n",
    "        return X, input_mask\n",
    "\n",
    "    @staticmethod\n",
    "    def labels_placeholders(max_len, n_clusters, n_angles):\n",
    "        y = tf.placeholder(tf.float32, [None, max_len, n_clusters], name='y')\n",
    "        y_angles = tf.placeholder(tf.float32, [None, max_len, n_angles], name='y_angles')\n",
    "        return y, y_angles\n",
    "\n",
    "    @staticmethod\n",
    "    def clusters(init_clusters, trainable=False, clip_gradient_eps=None):\n",
    "        clusters_tf = tf.Variable(initial_value=init_clusters, dtype=np.float32, trainable=True)\n",
    "        clusters_tf = tf.clip_by_value(clusters_tf, -np.pi, np.pi)\n",
    "        if clip_gradient_eps:\n",
    "            clusters_tf = ModelHelpers.clip_grad_layer(clusters_tf, eps=clip_gradient_eps)\n",
    "        return clusters_tf\n",
    "\n",
    "    @staticmethod\n",
    "    def conv_layer(in_, neurons, filter_size):\n",
    "        if type(in_) == list:\n",
    "            in_ = tf.concat(in_, axis=2)\n",
    "        return tf.layers.conv1d(in_, neurons, filter_size, activation=tf.nn.relu, padding='same')\n",
    "\n",
    "    @staticmethod\n",
    "    def mask_all(tensors_list, mask):\n",
    "        res = []\n",
    "        for tensor in tensors_list:\n",
    "            res.append(tf.boolean_mask(tensor, mask))\n",
    "        return res\n",
    "    \n",
    "    @staticmethod\n",
    "    def angularize(input_tensor, name=None):\n",
    "#         with tf.name_scope(name, 'angularize', [input_tensor]) as scope:\n",
    "#             input_tensor = tf.convert_to_tensor(input_tensor, name='input_tensor')\n",
    "\n",
    "        return tf.multiply(np.pi, tf.cos(input_tensor + (np.pi / 2)))\n",
    "    \n",
    "        \n",
    "helpers = ModelHelpers()\n",
    "\n",
    "X, input_mask = helpers.input_placeholders(max_len = max_len, input_columns = 41)\n",
    "y, y_angles = helpers.labels_placeholders(max_len, n_clusters, n_angles)\n",
    "\n",
    "clusters_tf = helpers.clusters(init_clusters=clusters, trainable=True, clip_gradient_eps=None)\n",
    "\n",
    "# construct the feature extraction part of the network\n",
    "conv1a = helpers.conv_layer(X, 32, 5)\n",
    "conv1b = helpers.conv_layer(conv1a, 32, 5)\n",
    "conv2a = helpers.conv_layer(conv1b, 64, 5)\n",
    "conv2b = helpers.conv_layer(conv2a, 64, 5)\n",
    "# conv3 = helpers.conv_layer([conv1b, conv2b], 128, 5) # residual connection is automated in the conv_layer helper\n",
    "conv3 = tf.layers.dropout(conv2b, rate=0.01)\n",
    "\n",
    "## alternative to the cnn. very slow\n",
    "# lstm = bidirectional_lstm(X, 1, 32, keep_prob=0.05)\n",
    "\n",
    "# construct the classification part of the network\n",
    "# dense = tf.layers.dense(conv3, 32, activation=tf.nn.relu)\n",
    "\n",
    "rad_pred_cont = tf.layers.dense(conv3, n_angles)# angles logits\n",
    "rad_pred = helpers.angularize(rad_pred_cont)\n",
    "# rad_pred = tf.multiply(np.pi, rad_pred)\n",
    "\n",
    "logits = tf.layers.dense(conv3, n_clusters) # cluster logits\n",
    "logits = tf.layers.dropout(logits, rate=0.05)\n",
    "y_pred = tf.nn.softmax(logits)\n",
    "\n",
    "# apply mask to all outputs used for losses (beware that the mask flattens them automatically)\n",
    "y_masked, logits_masked, y_pred_masked, y_angles_masked, rad_pred_masked = helpers.mask_all([y, logits, y_pred, y_angles, rad_pred], input_mask)\n",
    "shape_after_mask = tf.shape(y_masked)\n",
    "\n",
    "# computes the weighted sum of clusters (weighted by the predicted prob. dist.)\n",
    "# rad_pred = tf.einsum('ij,bi->bj', clusters_tf, y_pred_masked)\n",
    "\n",
    "# crossentropy loss on the classification task\n",
    "loss = tf.reduce_mean(tf.nn.softmax_cross_entropy_with_logits_v2(labels=y_masked, logits=logits_masked))\n",
    "\n",
    "# mae computed for each angle separately\n",
    "mae_vec = tf.reduce_mean(tf.abs(tf.subtract(rad_pred_masked[:,:], y_angles_masked[:,:])), axis=0)\n",
    "# mae reduced to 1 number\n",
    "mae = tf.reduce_mean(tf.abs(tf.subtract(rad_pred_masked[:,:], y_angles_masked[:,:])))\n",
    "\n",
    "# Define the optimizer operation\n",
    "learning_rate = tf.placeholder(tf.float32)\n",
    "\n",
    "# we can choose if we want to optimize mae or loss\n",
    "optimizer = tf.train.GradientDescentOptimizer(learning_rate = learning_rate).minimize(mae)\n",
    "\n",
    "# Variables for prediction and accuracy\n",
    "prediction = tf.argmax(y_pred_masked, 1)\n",
    "accuracy = tf.reduce_mean(tf.cast(tf.equal(prediction, tf.argmax(y_masked, 1)), tf.float32))\n",
    "\n",
    "# Initialize the variables (they are assigned default values)\n",
    "init = tf.global_variables_initializer()\n",
    "\n",
    "n_parameters = np.sum([np.prod(v.get_shape().as_list()) for v in tf.trainable_variables()])\n",
    "print(\"Number of parameters:\", n_parameters)"
   ]
  },
  {
   "cell_type": "code",
   "execution_count": null,
   "metadata": {
    "scrolled": true
   },
   "outputs": [
    {
     "name": "stdout",
     "output_type": "stream",
     "text": [
      "Epoch: 0\n",
      "Train MAE = 0.927141\n",
      "Val. MAE [0.5684469 1.1150489] 0.8417479\n",
      "Counter({0: 24253, 3: 12691, 6: 340, 9: 196, 7: 148, 5: 5, 8: 1})\n",
      "0.1\n",
      "Epoch: 1\n",
      "Train MAE = 0.815513\n",
      "Val. MAE [0.53980607 1.0033785 ] 0.77159226\n",
      "Counter({0: 20188, 3: 15605, 6: 868, 9: 594, 7: 262, 5: 85, 2: 29, 8: 3})\n",
      "0.1\n",
      "Epoch: 2\n",
      "Train MAE = 0.769275\n",
      "Val. MAE [0.5253639  0.94679624] 0.73608005\n",
      "Counter({3: 18218, 0: 17353, 6: 1232, 9: 406, 7: 204, 5: 145, 2: 71, 8: 5})\n",
      "0.1\n",
      "Epoch: 3\n",
      "Train MAE = 0.739268\n",
      "Val. MAE [0.51618165 0.9090543 ] 0.712618\n",
      "Counter({3: 18737, 0: 16682, 6: 1420, 9: 273, 7: 233, 5: 178, 2: 108, 8: 3})\n",
      "0.1\n",
      "Epoch: 4\n",
      "Train MAE = 0.717256\n",
      "Val. MAE [0.5071408  0.87921804] 0.6931794\n",
      "Counter({0: 17850, 3: 17027, 6: 1921, 7: 314, 9: 196, 5: 187, 2: 126, 8: 13})\n",
      "0.1\n",
      "Epoch: 5\n",
      "Train MAE = 0.697303\n",
      "Val. MAE [0.49783087 0.8576456 ] 0.6777382\n",
      "Counter({0: 19901, 3: 14410, 6: 2410, 7: 433, 9: 186, 5: 163, 2: 114, 8: 17})\n",
      "0.1\n",
      "Epoch: 6\n",
      "Train MAE = 0.679517\n",
      "Val. MAE [0.48378867 0.8419632 ] 0.6628759\n",
      "Counter({0: 22760, 3: 11382, 6: 2489, 7: 468, 9: 268, 5: 121, 2: 92, 8: 54})\n",
      "0.1\n",
      "Epoch: 7\n",
      "Train MAE = 0.666114\n",
      "Val. MAE [0.4771914  0.82967687] 0.65343416\n",
      "Counter({0: 23565, 3: 10290, 6: 2440, 7: 520, 9: 518, 5: 126, 8: 124, 2: 51})\n",
      "0.1\n",
      "Epoch: 8\n",
      "Train MAE = 0.657195\n",
      "Val. MAE [0.47326958 0.82064396] 0.6469568\n",
      "Counter({0: 23318, 3: 9763, 6: 2517, 9: 1076, 7: 539, 8: 245, 5: 149, 2: 27})\n",
      "0.1\n",
      "Epoch: 9\n",
      "Train MAE = 0.649401\n",
      "Val. MAE [0.46942228 0.8074713 ] 0.6384468\n",
      "Counter({0: 22522, 3: 9996, 6: 2660, 9: 1402, 7: 588, 8: 314, 5: 127, 2: 23, 1: 2})\n",
      "0.1\n",
      "Adjusting learning rate\n",
      "Epoch: 10\n",
      "Train MAE = 0.639624\n",
      "Val. MAE [0.4652151 0.7943806] 0.6297978\n",
      "Counter({0: 22562, 3: 9667, 6: 2974, 9: 1255, 7: 715, 8: 327, 5: 105, 2: 23, 4: 3, 1: 3})\n",
      "0.09090909090909091\n",
      "Epoch: 11\n",
      "Train MAE = 0.635033\n",
      "Val. MAE [0.46386108 0.78989667] 0.62687886\n",
      "Counter({0: 22379, 3: 9395, 6: 3120, 9: 1426, 7: 776, 8: 413, 5: 100, 2: 19, 1: 4, 4: 2})\n",
      "0.09090909090909091\n",
      "Epoch: 12\n",
      "Train MAE = 0.630797\n",
      "Val. MAE [0.46222463 0.7835297 ] 0.6228772\n",
      "Counter({0: 21833, 3: 9416, 6: 3223, 9: 1685, 7: 853, 8: 484, 5: 119, 2: 17, 1: 3, 4: 1})\n",
      "0.09090909090909091\n",
      "Epoch: 13\n",
      "Train MAE = 0.627124\n",
      "Val. MAE [0.4605593 0.7788435] 0.6197014\n",
      "Counter({0: 21023, 3: 9690, 6: 3403, 9: 1940, 7: 876, 8: 541, 5: 136, 2: 15, 1: 8, 4: 2})\n",
      "0.09090909090909091\n",
      "Epoch: 14\n",
      "Train MAE = 0.623550\n",
      "Val. MAE [0.45923078 0.7750075 ] 0.61711913\n",
      "Counter({0: 20590, 3: 9851, 6: 3358, 9: 2122, 7: 904, 8: 608, 5: 172, 2: 15, 1: 12, 4: 2})\n",
      "0.09090909090909091\n",
      "Epoch: 15\n",
      "Train MAE = 0.620526\n",
      "Val. MAE [0.45812568 0.77131593] 0.6147208\n",
      "Counter({0: 20174, 3: 9908, 6: 3389, 9: 2312, 7: 960, 8: 649, 5: 205, 1: 20, 2: 15, 4: 2})\n",
      "0.09090909090909091\n",
      "Epoch: 16\n",
      "Train MAE = 0.617609\n",
      "Val. MAE [0.45689362 0.76788616] 0.6123899\n",
      "Counter({0: 19734, 3: 10007, 6: 3439, 9: 2490, 7: 995, 8: 676, 5: 254, 1: 20, 2: 17, 4: 2})\n",
      "0.09090909090909091\n",
      "Epoch: 17\n",
      "Train MAE = 0.615005\n",
      "Val. MAE [0.4557815 0.7649267] 0.61035407\n",
      "Counter({0: 19309, 3: 10018, 6: 3516, 9: 2686, 7: 1047, 8: 698, 5: 315, 1: 26, 2: 17, 4: 2})\n",
      "0.09090909090909091\n",
      "Epoch: 18\n",
      "Train MAE = 0.612659\n",
      "Val. MAE [0.45480147 0.7620563 ] 0.6084289\n",
      "Counter({0: 19241, 3: 9792, 6: 3524, 9: 2818, 7: 1103, 8: 723, 5: 386, 1: 25, 2: 20, 4: 2})\n",
      "0.09090909090909091\n",
      "Epoch: 19\n",
      "Train MAE = 0.610641\n",
      "Val. MAE [0.45388716 0.76001376] 0.60695046\n",
      "Counter({0: 19064, 3: 9637, 6: 3585, 9: 2949, 7: 1164, 8: 735, 5: 451, 1: 27, 2: 20, 4: 2})\n",
      "0.09090909090909091\n",
      "Adjusting learning rate\n",
      "Epoch: 20\n",
      "Train MAE = 0.606234\n",
      "Val. MAE [0.4528149  0.75872964] 0.60577226\n",
      "Counter({0: 19100, 3: 9244, 6: 3873, 9: 2886, 7: 1247, 8: 758, 5: 485, 1: 23, 2: 17, 4: 1})\n",
      "0.08264462809917356\n",
      "Epoch: 21\n",
      "Train MAE = 0.604586\n",
      "Val. MAE [0.45185074 0.75527996] 0.60356534\n",
      "Counter({0: 18833, 3: 9175, 6: 3840, 9: 3055, 7: 1287, 8: 766, 5: 640, 1: 21, 2: 15, 4: 2})\n",
      "0.08264462809917356\n",
      "Epoch: 22\n",
      "Train MAE = 0.603087\n",
      "Val. MAE [0.45108515 0.7528923 ] 0.60198873\n",
      "Counter({0: 18899, 3: 8999, 6: 3726, 9: 3162, 7: 1310, 8: 777, 5: 724, 2: 19, 1: 17, 4: 1})\n",
      "0.08264462809917356\n",
      "Epoch: 23\n",
      "Train MAE = 0.601617\n",
      "Val. MAE [0.45039108 0.7509234 ] 0.6006572\n",
      "Counter({0: 18944, 3: 8896, 6: 3621, 9: 3215, 7: 1350, 5: 819, 8: 753, 1: 20, 2: 15, 4: 1})\n",
      "0.08264462809917356\n",
      "Epoch: 24\n",
      "Train MAE = 0.600341\n",
      "Val. MAE [0.449735  0.7492144] 0.59947467\n",
      "Counter({0: 18956, 3: 8702, 6: 3508, 9: 3293, 7: 1443, 5: 950, 8: 746, 1: 19, 2: 16, 4: 1})\n",
      "0.08264462809917356\n",
      "Epoch: 25\n",
      "Train MAE = 0.598921\n",
      "Val. MAE [0.44900653 0.7476714 ] 0.59833896\n",
      "Counter({0: 18867, 3: 8545, 6: 3551, 9: 3346, 7: 1493, 5: 1038, 8: 760, 2: 17, 1: 16, 4: 1})\n",
      "0.08264462809917356\n",
      "Epoch: 26\n",
      "Train MAE = 0.597666\n",
      "Val. MAE [0.4483726 0.7460691] 0.59722084\n",
      "Counter({0: 18641, 3: 8489, 6: 3540, 9: 3403, 7: 1595, 5: 1146, 8: 795, 2: 14, 1: 11})\n",
      "0.08264462809917356\n",
      "Epoch: 27\n",
      "Train MAE = 0.596433\n",
      "Val. MAE [0.44780785 0.7446793 ] 0.59624356\n",
      "Counter({0: 18646, 3: 8311, 9: 3481, 6: 3440, 7: 1687, 5: 1241, 8: 804, 1: 12, 2: 12})\n",
      "0.08264462809917356\n",
      "Epoch: 28\n",
      "Train MAE = 0.595035\n",
      "Val. MAE [0.44737288 0.74346566] 0.5954193\n",
      "Counter({0: 18629, 3: 8261, 9: 3471, 6: 3392, 7: 1758, 5: 1312, 8: 787, 1: 12, 2: 12})\n",
      "0.08264462809917356\n",
      "Epoch: 29\n",
      "Train MAE = 0.594052\n",
      "Val. MAE [0.4467062 0.7422931] 0.59449965\n",
      "Counter({0: 18761, 3: 8189, 9: 3471, 6: 3249, 7: 1794, 5: 1347, 8: 801, 1: 11, 2: 11})\n",
      "0.08264462809917356\n",
      "Adjusting learning rate\n",
      "Epoch: 30\n",
      "Train MAE = 0.591928\n",
      "Val. MAE [0.4463342 0.7433893] 0.59486175\n",
      "Counter({0: 19078, 3: 8080, 9: 3276, 6: 3212, 7: 1901, 5: 1292, 8: 766, 2: 16, 1: 13})\n",
      "0.07513148009015777\n",
      "Epoch: 31\n",
      "Train MAE = 0.590984\n",
      "Val. MAE [0.44588313 0.74256676] 0.59422493\n",
      "Counter({0: 19184, 3: 7954, 9: 3256, 6: 3170, 7: 1919, 5: 1354, 8: 772, 1: 13, 2: 12})\n",
      "0.07513148009015777\n",
      "Epoch: 32\n",
      "Train MAE = 0.590014\n",
      "Val. MAE [0.44528878 0.73967594] 0.5924823\n",
      "Counter({0: 19075, 3: 7876, 9: 3333, 6: 3080, 7: 1935, 5: 1530, 8: 781, 2: 13, 1: 11})\n",
      "0.07513148009015777\n",
      "Epoch: 33\n"
     ]
    }
   ],
   "source": [
    "batch_size = 32\n",
    "n_epochs = 500\n",
    "\n",
    "# Start as session\n",
    "init_learning_rate = 0.1\n",
    "with tf.Session() as session:\n",
    "\n",
    "    # Run the initializer\n",
    "    session.run(init)\n",
    "\n",
    "    # Training cycle\n",
    "    for epoch in range(n_epochs):\n",
    "        print(\"Epoch:\", epoch)\n",
    "        train_loss = []\n",
    "        for b in range(0, x_train.shape[0], batch_size):\n",
    "            _, loss_value, mae_ = session.run([optimizer, loss, mae_vec], feed_dict={X: x_train[b:b+batch_size],\n",
    "                                                                      y: y_train_labels[b:b+batch_size],\n",
    "                                                                      y_angles: y_train[b:b+batch_size],\n",
    "                                                                      learning_rate: init_learning_rate,\n",
    "                                                                    input_mask: mask_[b:b+batch_size]})\n",
    "            train_loss.append(mae_)\n",
    "        \n",
    "        (validation_accuracy, mae_, pred_, \n",
    "         clusters_, y_pred_masked_, rad_pred_, rad_pred_cont_) = session.run([accuracy, mae_vec, prediction, \n",
    "                                                              clusters_tf, y_pred_masked, rad_pred,rad_pred_cont], \n",
    "                                                              feed_dict={X: x_valid, y: y_valid_labels, \n",
    "                                                                         y_angles:y_valid,\n",
    "                                                                        input_mask: mask_v})\n",
    "#         print(\"val. loss = %f, val_acc = %f\" % (loss_value, validation_accuracy))    \n",
    "        print(\"Train MAE = %f\" % (np.mean(train_loss)))\n",
    "        print(\"Val. MAE\", mae_, np.mean(mae_))\n",
    "        print(collections.Counter(pred_))\n",
    "#         print(np.mean(y_pred_masked_, axis=0)) # prob. dist mean over clusters\n",
    "#         print(np.max(y_pred_masked_, axis=0)) # prob. dist max over clusters\n",
    "        print(init_learning_rate)\n",
    "#         print(clusters_)\n",
    "        \n",
    "        # Shrinks the learning rate every n epochs\n",
    "        train_loss = []\n",
    "        if (epoch + 1) % 10 == 0:\n",
    "            print(\"Adjusting learning rate\")\n",
    "            init_learning_rate = init_learning_rate / 1.1\n",
    "    \n",
    "    print(\"Optimization done\")\n",
    "\n",
    "    # Calculate training accuracy\n",
    "    train_accuracy_value, pred_train, shape_after_mask_ = session.run([accuracy, prediction, shape_after_mask], \n",
    "                                                                      feed_dict={X: x_train, y: y_train_labels,\n",
    "                                                                                y_angles: y_train,\n",
    "                                                                                input_mask: mask_})\n",
    "    print(\"Train accuracy:\", train_accuracy_value)\n",
    "    print(\"Shape after mask:\", shape_after_mask_)\n",
    "    \n",
    "    # Calculate test accuracy\n",
    "    test_accuracy_value, pred_test, shape_after_mask_ = session.run([accuracy, prediction, shape_after_mask], \n",
    "                                                                    feed_dict={X: x_valid, y: y_valid_labels,\n",
    "                                                                              y_angles: y_valid,\n",
    "                                                                              input_mask: mask_v})\n",
    "    print(\"Test accuracy:\", test_accuracy_value)\n",
    "    print(\"Shape after mask:\", shape_after_mask_)"
   ]
  },
  {
   "cell_type": "code",
   "execution_count": 36,
   "metadata": {},
   "outputs": [
    {
     "data": {
      "text/plain": [
       "(-2.4833233, -1.3732338e-07, 0.0, 0.91156995)"
      ]
     },
     "execution_count": 36,
     "metadata": {},
     "output_type": "execute_result"
    }
   ],
   "source": [
    "np.min(rad_pred_), np.max(rad_pred_), np.min(rad_pred_cont_), np.max(rad_pred_cont_)"
   ]
  },
  {
   "cell_type": "markdown",
   "metadata": {},
   "source": [
    "Organize model modes:\n",
    "- predict angles through regression (tanh, *pi)\n",
    "- predict clusters and optimize for crossentropy\n",
    "- predict clusters and optimize for MAE\n",
    "- predict clusters as vectors and optimize for MAE"
   ]
  },
  {
   "cell_type": "code",
   "execution_count": null,
   "metadata": {},
   "outputs": [],
   "source": [
    "np.mean(np.abs(clusters_[pred_] - y_valid[mask_v])"
   ]
  },
  {
   "cell_type": "markdown",
   "metadata": {},
   "source": [
    "resnet CNN filter_length = 15 (with 5 it didn't change much either)\n",
    "\n",
    "*Rad angles, 10 not trainable clusters: 0.59\n",
    "\n",
    "*Rad angles, 10 trainable clusters, no clipping: MAE [0.43384644 0.721744  ] 0.5777952\n",
    "\n",
    "*Rad angles, 50 trainable clusters, no clipping: \n",
    "Train MAE = 0.545068\n",
    "Val. MAE [0.43777448 0.7208223 ] 0.5792984"
   ]
  },
  {
   "cell_type": "code",
   "execution_count": null,
   "metadata": {
    "collapsed": true
   },
   "outputs": [],
   "source": []
  }
 ],
 "metadata": {
  "kernelspec": {
   "display_name": "Python 3",
   "language": "python",
   "name": "python3"
  },
  "language_info": {
   "codemirror_mode": {
    "name": "ipython",
    "version": 3
   },
   "file_extension": ".py",
   "mimetype": "text/x-python",
   "name": "python",
   "nbconvert_exporter": "python",
   "pygments_lexer": "ipython3",
   "version": "3.6.1"
  }
 },
 "nbformat": 4,
 "nbformat_minor": 2
}
