{
 "cells": [
  {
   "cell_type": "code",
   "execution_count": 59,
   "metadata": {},
   "outputs": [],
   "source": [
    "import numpy as np\n",
    "import matplotlib.pyplot as plt\n",
    "%matplotlib inline\n",
    "import glob\n",
    "import tensorflow as tf\n",
    "import time\n",
    "import scipy\n",
    "\n",
    "import collections, numpy\n",
    "\n",
    "import data_loader as dl\n",
    "import data_transformer as dt\n",
    "\n",
    "from sklearn.cluster import KMeans\n",
    "from keras.utils import to_categorical\n",
    "\n",
    "# helper for setting up the bidirectional, multilayer lstm\n",
    "def bidirectional_lstm(input_data, num_layers, rnn_size, keep_prob, lengths=None):\n",
    "    output = input_data\n",
    "    for layer in range(num_layers):\n",
    "        with tf.variable_scope('encoder_{}'.format(layer),reuse=tf.AUTO_REUSE):\n",
    "\n",
    "            cell_fw = tf.contrib.rnn.LSTMCell(rnn_size, initializer=tf.truncated_normal_initializer(-0.1, 0.1, seed=2))\n",
    "            cell_fw = tf.contrib.rnn.DropoutWrapper(cell_fw, input_keep_prob = keep_prob)\n",
    "\n",
    "            cell_bw = tf.contrib.rnn.LSTMCell(rnn_size, initializer=tf.truncated_normal_initializer(-0.1, 0.1, seed=2))\n",
    "            cell_bw = tf.contrib.rnn.DropoutWrapper(cell_bw, input_keep_prob = keep_prob)\n",
    "\n",
    "            outputs, states = tf.nn.bidirectional_dynamic_rnn(cell_fw, \n",
    "                                                              cell_bw, \n",
    "                                                              output,\n",
    "                                                              dtype=tf.float32,\n",
    "                                                              sequence_length=lengths)\n",
    "            output = tf.concat(outputs,2)\n",
    "\n",
    "    return output\n",
    "\n",
    "class ModelHelpers:\n",
    "    @staticmethod\n",
    "    @tf.custom_gradient\n",
    "    def clip_grad_layer(x):\n",
    "        def grad(dy):\n",
    "            return tf.clip_by_value(dy, 1e-10, 1e-10)\n",
    "        return tf.identity(x), grad\n",
    "    \n",
    "    @staticmethod\n",
    "    def input_placeholders(max_len, input_columns):\n",
    "        X = tf.placeholder(tf.float32, [None, max_len, input_columns], name=\"X\")\n",
    "        input_mask = tf.placeholder(tf.bool, [None, max_len], name=\"input_mask\")\n",
    "        return X, input_mask\n",
    "\n",
    "    @staticmethod\n",
    "    def labels_placeholders(max_len, n_clusters, n_angles):\n",
    "        y = tf.placeholder(tf.float32, [None, max_len, n_clusters], name='y')\n",
    "        y_angles = tf.placeholder(tf.float32, [None, max_len, n_angles], name='y_angles')\n",
    "        return y, y_angles\n",
    "\n",
    "    @staticmethod\n",
    "    def clusters(init_clusters, trainable=False, clip_value = 1, clip_gradient_eps=False):\n",
    "        clusters_tf = tf.Variable(initial_value=init_clusters, dtype=np.float32, trainable=trainable)\n",
    "        clusters_tf = tf.clip_by_value(clusters_tf, -clip_value, clip_value)\n",
    "        if clip_gradient_eps:\n",
    "            clusters_tf = ModelHelpers.clip_grad_layer(clusters_tf)\n",
    "        return clusters_tf\n",
    "\n",
    "    @staticmethod\n",
    "    def conv_layer(in_, neurons, filter_size):\n",
    "        if type(in_) == list:\n",
    "            in_ = tf.concat(in_, axis=2)\n",
    "        return tf.layers.conv1d(in_, neurons, filter_size, activation=tf.nn.relu, padding='same')\n",
    "\n",
    "    @staticmethod\n",
    "    def mask_all(tensors_list, mask):\n",
    "        res = []\n",
    "        for tensor in tensors_list:\n",
    "            res.append(tf.boolean_mask(tensor, mask))\n",
    "        return res\n",
    "    \n",
    "    @staticmethod\n",
    "    def angularize(input_tensor, name=None):\n",
    "#         with tf.name_scope(name, 'angularize', [input_tensor]) as scope:\n",
    "#             input_tensor = tf.convert_to_tensor(input_tensor, name='input_tensor')\n",
    "\n",
    "        return tf.multiply(np.pi, tf.cos(input_tensor + (np.pi / 2)))\n",
    "\n",
    "    @staticmethod\n",
    "    def vec_to_angle(input_tensor):\n",
    "        return tf.math.atan2(input_tensor[:,:,1], input_tensor[:,:,0])\n",
    "    \n",
    "    @staticmethod\n",
    "    def loss360(y_true, y_pred):\n",
    "        return tf.reduce_mean(tf.abs(tf.atan2(tf.sin(y_true - y_pred), tf.cos(y_true - y_pred))))"
   ]
  },
  {
   "cell_type": "code",
   "execution_count": 2,
   "metadata": {},
   "outputs": [],
   "source": [
    "def loss360_numpy(angles1, angles2):\n",
    "    return np.abs(np.arctan2(np.sin(angles1 - angles2), np.cos(angles1 - angles2)))"
   ]
  },
  {
   "cell_type": "code",
   "execution_count": 3,
   "metadata": {},
   "outputs": [],
   "source": [
    "angles1_deg = np.array([0, 45, 90, 135, 180, 235, 280, 325, 360])\n",
    "angles1 = np.deg2rad(angles1_deg)\n",
    "\n",
    "mask = np.expand_dims(angles1, 0)\n",
    "base = np.ones([np.size(mask), np.size(mask)])\n",
    "matrix_mask = base * mask\n",
    "\n",
    "# loss360_numpy(angles1, angles2)\n",
    "# loss360_numpy(matrix_mask, matrix_mask.T)\n",
    "mae = np.degrees(np.abs(matrix_mask - np.flip(matrix_mask.T)))\n",
    "\n",
    "ang_mae = np.degrees(loss360_numpy(matrix_mask, np.flip(matrix_mask.T)))"
   ]
  },
  {
   "cell_type": "code",
   "execution_count": 4,
   "metadata": {},
   "outputs": [
    {
     "data": {
      "text/plain": [
       "['0.0',\n",
       " '0.7853981633974483',\n",
       " '1.5707963267948966',\n",
       " '2.356194490192345',\n",
       " '3.141592653589793',\n",
       " '4.101523742186674',\n",
       " '4.886921905584122',\n",
       " '5.672320068981571',\n",
       " '6.283185307179586']"
      ]
     },
     "execution_count": 4,
     "metadata": {},
     "output_type": "execute_result"
    }
   ],
   "source": [
    "[str(angle) for angle in angles1]"
   ]
  },
  {
   "cell_type": "code",
   "execution_count": 5,
   "metadata": {},
   "outputs": [
    {
     "data": {
      "image/png": "[encoded data removed]",
      "text/plain": [
       "<Figure size 432x288 with 2 Axes>"
      ]
     },
     "metadata": {
      "needs_background": "light"
     },
     "output_type": "display_data"
    },
    {
     "data": {
      "image/png": "[encoded data removed]",
      "text/plain": [
       "<Figure size 432x288 with 2 Axes>"
      ]
     },
     "metadata": {
      "needs_background": "light"
     },
     "output_type": "display_data"
    }
   ],
   "source": [
    "import itertools\n",
    "def plot_confusion_matrix(cm, classes,\n",
    "                          normalize=False,\n",
    "                          title='Confusion matrix',\n",
    "                          cmap=plt.cm.Blues):\n",
    "    if normalize:\n",
    "        cm = cm.astype('float') / cm.sum(axis=1)[:, np.newaxis]\n",
    "\n",
    "    plt.imshow(cm, interpolation='nearest', cmap=cmap)\n",
    "    plt.title(title)\n",
    "    plt.colorbar()\n",
    "    tick_marks = np.arange(len(classes))\n",
    "    plt.xticks(tick_marks, classes, rotation=45)\n",
    "    plt.yticks(tick_marks, reversed(classes))\n",
    "\n",
    "    fmt = '.2f' if normalize else 'd'\n",
    "    thresh = cm.max() / 2.\n",
    "#     for i, j in itertools.product(range(cm.shape[0]), range(cm.shape[1])):\n",
    "#         plt.text(j, i, np.round(cm[i, j], 2),\n",
    "#                  horizontalalignment=\"center\",\n",
    "#                  color=\"white\" if cm[i, j] > thresh else \"black\")\n",
    "\n",
    "    plt.ylabel('1st Angle (deg)')\n",
    "    plt.xlabel('2nd Angle (deg)')\n",
    "    plt.tight_layout()\n",
    "    return plt.gcf()\n",
    "\n",
    "\n",
    "plot_confusion_matrix(mae, [str(angle) for angle in angles1_deg], title='Regular MAE (deg)')\n",
    "plt.show()\n",
    "plot_confusion_matrix(ang_mae, [str(angle) for angle in angles1_deg], title='Angular MAE (deg)')\n",
    "plt.show()"
   ]
  },
  {
   "cell_type": "code",
   "execution_count": 6,
   "metadata": {},
   "outputs": [],
   "source": [
    "# change this path to match the path of where you have the\n",
    "# training_50 and validation files\n",
    "txt_data_path = '/home/mikey/Data/ProteinNet/casp7_txt/'\n",
    "\n",
    "max_len = 500 # max len of the protein taken into account\n",
    "n_angles = 2 # 3 if consider all angles or 2 if only phi and psi"
   ]
  },
  {
   "cell_type": "markdown",
   "metadata": {},
   "source": [
    "The data_lim is important because so far the full 13000 proteins crashes my system with 16Gb of ram\n",
    "\n",
    "Load training data"
   ]
  },
  {
   "cell_type": "code",
   "execution_count": 7,
   "metadata": {},
   "outputs": [
    {
     "name": "stdout",
     "output_type": "stream",
     "text": [
      "Loaded data and filtered line endings\n",
      "Extracted primary data\n",
      "Encoded primary sequences\n",
      "Loaded data and filtered line endings\n",
      "Extracted evolutionary data\n"
     ]
    },
    {
     "name": "stderr",
     "output_type": "stream",
     "text": [
      "100%|██████████| 8000/8000 [00:00<00:00, 76443.19it/s]\n"
     ]
    },
    {
     "name": "stdout",
     "output_type": "stream",
     "text": [
      "Grouped 21's together\n",
      "Loaded data and filtered line endings\n",
      "Extracted mask data\n"
     ]
    },
    {
     "data": {
      "text/plain": [
       "(8000, (70, 20), 8000, (70, 21), 8000, (70, 3), 8000, (70,))"
      ]
     },
     "execution_count": 7,
     "metadata": {},
     "output_type": "execute_result"
    }
   ],
   "source": [
    "file_name = 'training_50'\n",
    "data_lim = 8000\n",
    "prim_train, evo_train, dih_train, mask_train = (dl.parse_primary_from_file(txt_data_path + file_name, data_lim), \n",
    "                                                dl.parse_evolutionary_from_file(txt_data_path + file_name, data_lim),\n",
    "                                                dl.load_file('./'+file_name+'_dih.joblib'),\n",
    "                                                dl.parse_mask_from_file(txt_data_path + file_name, data_lim))\n",
    "dih_train = dih_train[:data_lim]\n",
    "len(prim_train), prim_train[0].shape, len(evo_train), evo_train[0].shape, len(dih_train), dih_train[0].shape, len(mask_train), mask_train[0].shape"
   ]
  },
  {
   "cell_type": "markdown",
   "metadata": {},
   "source": [
    "Load validation data"
   ]
  },
  {
   "cell_type": "code",
   "execution_count": 8,
   "metadata": {},
   "outputs": [
    {
     "name": "stdout",
     "output_type": "stream",
     "text": [
      "Loaded data and filtered line endings\n",
      "Extracted primary data\n",
      "Encoded primary sequences\n",
      "Loaded data and filtered line endings\n",
      "Extracted evolutionary data\n"
     ]
    },
    {
     "name": "stderr",
     "output_type": "stream",
     "text": [
      "100%|██████████| 224/224 [00:00<00:00, 63930.60it/s]"
     ]
    },
    {
     "name": "stdout",
     "output_type": "stream",
     "text": [
      "Grouped 21's together\n",
      "Loaded data and filtered line endings\n",
      "Extracted mask data\n"
     ]
    },
    {
     "name": "stderr",
     "output_type": "stream",
     "text": [
      "\n"
     ]
    },
    {
     "data": {
      "text/plain": [
       "(224, (269, 20), 224, (269, 21), 224, (269, 3), 224, (269,))"
      ]
     },
     "execution_count": 8,
     "metadata": {},
     "output_type": "execute_result"
    }
   ],
   "source": [
    "file_name = 'validation'\n",
    "prim_valid, evo_valid, dih_valid, mask_valid = (dl.parse_primary_from_file(txt_data_path + file_name), \n",
    "                                                dl.parse_evolutionary_from_file(txt_data_path + file_name),\n",
    "                                                dl.load_file('./'+ file_name + '_dih.joblib'),\n",
    "                                                dl.parse_mask_from_file(txt_data_path + file_name))\n",
    "len(prim_valid), prim_valid[0].shape, len(evo_valid), evo_valid[0].shape, len(dih_valid), dih_valid[0].shape, len(mask_valid), mask_valid[0].shape"
   ]
  },
  {
   "cell_type": "markdown",
   "metadata": {},
   "source": [
    "Pad the data and limit protein length. Prepare the data for training"
   ]
  },
  {
   "cell_type": "code",
   "execution_count": 25,
   "metadata": {},
   "outputs": [
    {
     "name": "stdout",
     "output_type": "stream",
     "text": [
      "padded\n",
      "(7623,) (70, 20)\n",
      "padded\n",
      "(7623,) (70, 21)\n",
      "padded\n",
      "(7623,) (70, 3)\n",
      "padded\n",
      "(7623,) (70, 1)\n",
      "padded\n",
      "(213,) (269, 20)\n",
      "padded\n",
      "(213,) (269, 21)\n",
      "padded\n",
      "(213,) (269, 3)\n",
      "padded\n",
      "(213,) (269, 1)\n"
     ]
    },
    {
     "data": {
      "text/plain": [
       "((7623, 500, 41), (7623, 500, 2), (213, 500, 41), (213, 500, 2))"
      ]
     },
     "execution_count": 25,
     "metadata": {},
     "output_type": "execute_result"
    }
   ],
   "source": [
    "prim_, evo_, dih_, mask_ = dt.limit_length_and_pad(prim_train, evo_train, dih_train, mask_train, max_len)\n",
    "x_train, y_train = np.concatenate([prim_, evo_], axis=2), dih_[:,:,:n_angles]\n",
    "prim_v, evo_v, dih_v, mask_v = dt.limit_length_and_pad(prim_valid, evo_valid, dih_valid, mask_valid, max_len)\n",
    "x_valid, y_valid = np.concatenate([prim_v, evo_v], axis=2), dih_v[:,:,:n_angles]\n",
    "\n",
    "x_train.shape, y_train.shape, x_valid.shape, y_valid.shape"
   ]
  },
  {
   "cell_type": "code",
   "execution_count": 26,
   "metadata": {},
   "outputs": [
    {
     "data": {
      "text/plain": [
       "((7623, 500, 4), (213, 500, 4))"
      ]
     },
     "execution_count": 26,
     "metadata": {},
     "output_type": "execute_result"
    }
   ],
   "source": [
    "def ang_to_vec(angles):\n",
    "    res = []\n",
    "    for i in range(angles.shape[-1]):\n",
    "        angles_cos = np.cos(angles[:,:,i])\n",
    "        angles_sin = np.sin(angles[:,:,i])\n",
    "        angles_stacked = np.stack([angles_cos, angles_sin], axis=-1)\n",
    "        res.append(angles_stacked)\n",
    "    return np.concatenate(res, axis=-1)\n",
    "\n",
    "y_train_angles = y_train\n",
    "y_valid_angles = y_valid\n",
    "y_train = ang_to_vec(y_train)\n",
    "y_valid = ang_to_vec(y_valid)\n",
    "y_train.shape, y_valid.shape"
   ]
  },
  {
   "cell_type": "code",
   "execution_count": 27,
   "metadata": {
    "scrolled": false
   },
   "outputs": [
    {
     "data": {
      "text/plain": [
       "(50, 4)"
      ]
     },
     "execution_count": 27,
     "metadata": {},
     "output_type": "execute_result"
    }
   ],
   "source": [
    "def manual_clusters(n_clusters):\n",
    "    # these manually selecteed clusters will be chosen from left to right\n",
    "    # when n_clusters < man_clusters.shape[0]\n",
    "    man_clusters = np.array([[-1.5, 0, 0], [-1.5, 2.5, 0], [1.5, 0.5, 0], [-2.2, -2.5, 0],\n",
    "                          [-1.5, 0, np.pi], [-1.5, 0, -np.pi], [-1.5, 2.5, np.pi], [-1.5, 2.5, -np.pi],\n",
    "                            [0,0,0],[0,0,0]])\n",
    "    try:\n",
    "        return {\n",
    "            i+1: man_clusters[:i+1] for i in range(man_clusters.shape[0])\n",
    "        }[n_clusters]\n",
    "    except KeyError as e:\n",
    "        print(\"Manual clusters only support max\", man_clusters.shape[0])\n",
    "        print(e)\n",
    "        raise\n",
    "\n",
    "def kmeans_clusters(angles, limit_data, filter_, n_clusters):\n",
    "    \"\"\"\n",
    "        angles: [..., ..., 3]\n",
    "        limit_data: int, how many protein to consider for clustering\n",
    "        filter_: bool, deciding if clusters too close to each other should be merged\n",
    "    \"\"\"\n",
    "    def dist2(p1, p2):\n",
    "        return np.sum((p1-p2)**2)\n",
    "\n",
    "    def fuse(points, min_dist):\n",
    "        ret = []\n",
    "        d2 = min_dist * min_dist\n",
    "        n = len(points)\n",
    "        taken = [False] * n\n",
    "        for i in range(n):\n",
    "            if not taken[i]:\n",
    "                count = 1\n",
    "                point = points[i]\n",
    "                taken[i] = True\n",
    "                for j in range(i+1, n):\n",
    "                    if dist2(points[i], points[j]) < d2:\n",
    "                        point += points[j]\n",
    "                        count+=1\n",
    "                        taken[j] = True\n",
    "                point /= count\n",
    "                ret.append(point)\n",
    "        return np.array(ret)\n",
    "    \n",
    "    print(\"Fitting KMeans...\")\n",
    "    km = KMeans(n_clusters=n_clusters, random_state=0, verbose=0, max_iter=1000).fit(angles[:limit_data].reshape(-1,n_angles))\n",
    "    print(\"Done\")\n",
    "    if filter_:\n",
    "        return fuse(km.cluster_centers_, min_dist=np.abs(np.max(angles)) / 10.)\n",
    "    else:\n",
    "        return km.cluster_centers_\n",
    "\n",
    "def get_cluster_centers(select_clusters_n, mode='manual'):\n",
    "    return {\n",
    "        'manual': lambda n_clusters: manual_clusters(n_clusters=n_clusters),\n",
    "        'kmeans': lambda n_clusters: kmeans_clusters(angles=y_train, limit_data=200, filter_=False, n_clusters=n_clusters)\n",
    "    }[mode](select_clusters_n)\n",
    "\n",
    "# select_clusters_n = 50\n",
    "# # initialize clusters - this might filter ones that are too close\n",
    "# clusters = get_cluster_centers(select_clusters_n = select_clusters_n, mode='kmeans')[:,:n_angles]\n",
    "# n_clusters_after_fuse = clusters.shape[0]\n",
    "\n",
    "# # add missing clusters to much the desired number\n",
    "# clusters = np.pad(clusters, ((0, select_clusters_n - n_clusters_after_fuse), (0,0)), mode='constant')\n",
    "# n_clusters = clusters.shape[0]\n",
    "\n",
    "# \"n_clusters_after_fuse:\", n_clusters_after_fuse, 'fused', select_clusters_n - n_clusters_after_fuse, 'padded to', clusters.shape\n",
    "\n",
    "select_clusters_n = 50\n",
    "km = KMeans(n_clusters=select_clusters_n, random_state=0, verbose=0, max_iter=1000).fit(y_train[:200].reshape(-1,n_angles*2))\n",
    "clusters = km.cluster_centers_\n",
    "n_clusters = clusters.shape[0]\n",
    "clusters.shape"
   ]
  },
  {
   "cell_type": "code",
   "execution_count": 28,
   "metadata": {},
   "outputs": [
    {
     "data": {
      "image/png": "[encoded data removed]",
      "text/plain": [
       "<Figure size 720x432 with 1 Axes>"
      ]
     },
     "metadata": {
      "needs_background": "light"
     },
     "output_type": "display_data"
    }
   ],
   "source": [
    "def plot_cluster_centers(data, clusters, x_i, y_i, data_lim=10):\n",
    "    plt.figure(figsize=(10,6))\n",
    "    plt.scatter(y_valid[:data_lim][:,:,x_i], y_valid[:data_lim][:,:,y_i], s=1)\n",
    "    plt.scatter(clusters[:,x_i], clusters[:,y_i], marker='x', s=80)\n",
    "    \n",
    "plot_cluster_centers(y_valid, clusters, x_i=0, y_i=1, data_lim=10)\n",
    "if n_angles == 3:\n",
    "    plot_cluster_centers(y_valid, clusters, x_i=1, y_i=2, data_lim=10)\n",
    "    plot_cluster_centers(y_valid, clusters, x_i=0, y_i=2, data_lim=10)"
   ]
  },
  {
   "cell_type": "code",
   "execution_count": 29,
   "metadata": {},
   "outputs": [
    {
     "data": {
      "text/plain": [
       "(50, 4)"
      ]
     },
     "execution_count": 29,
     "metadata": {},
     "output_type": "execute_result"
    }
   ],
   "source": [
    "clusters.shape"
   ]
  },
  {
   "cell_type": "code",
   "execution_count": 30,
   "metadata": {},
   "outputs": [
    {
     "data": {
      "text/plain": [
       "((7623, 500, 50),\n",
       " (213, 500, 50),\n",
       " array([ 0,  1,  2,  3,  4,  5,  6,  7,  8,  9, 10, 11, 12, 13, 14, 15, 16,\n",
       "        17, 18, 19, 20, 21, 22, 23, 24, 25, 26, 27, 28, 29, 30, 31, 32, 33,\n",
       "        34, 35, 36, 37, 38, 39, 40, 41, 42, 43, 44, 45, 46, 47, 48, 49]),\n",
       " array([ 0,  1,  2,  3,  4,  5,  6,  7,  8,  9, 10, 11, 12, 13, 14, 15, 16,\n",
       "        17, 18, 19, 20, 21, 22, 23, 24, 25, 26, 27, 28, 29, 30, 31, 32, 33,\n",
       "        34, 35, 36, 37, 38, 39, 40, 41, 42, 43, 44, 45, 46, 47, 48, 49]),\n",
       " 50)"
      ]
     },
     "execution_count": 30,
     "metadata": {},
     "output_type": "execute_result"
    }
   ],
   "source": [
    "y_train_labels_ = np.argmin(scipy.spatial.distance_matrix(y_train.reshape(-1,n_angles*2), clusters), \n",
    "                            axis=1).reshape(y_train.shape[0], y_train.shape[1])\n",
    "\n",
    "y_valid_labels_ = np.argmin(scipy.spatial.distance_matrix(y_valid.reshape(-1,n_angles*2), clusters), \n",
    "                            axis=1).reshape(y_valid.shape[0], y_valid.shape[1])\n",
    "\n",
    "y_train_labels = to_categorical(y_train_labels_, num_classes=n_clusters)\n",
    "y_valid_labels = to_categorical(y_valid_labels_, num_classes=n_clusters)\n",
    "\n",
    "y_train_labels.shape, y_valid_labels.shape, np.unique(y_train_labels_), np.unique(y_valid_labels_), n_clusters"
   ]
  },
  {
   "cell_type": "code",
   "execution_count": 66,
   "metadata": {},
   "outputs": [
    {
     "name": "stdout",
     "output_type": "stream",
     "text": [
      "Number of parameters: 773658\n"
     ]
    }
   ],
   "source": [
    "mode = 'clusters'\n",
    "loss_mode = 'classification'\n",
    "\n",
    "tf.reset_default_graph()  \n",
    "helpers = ModelHelpers()\n",
    "\n",
    "X, input_mask = helpers.input_placeholders(max_len = max_len, input_columns = 41)\n",
    "y, y_vectors = helpers.labels_placeholders(max_len, n_clusters, n_angles*2)\n",
    "y, y_angles = helpers.labels_placeholders(max_len, n_clusters, n_angles)\n",
    "# y_vectors = tf.placeholder(max_len, n_clusters, n_angles, 2)\n",
    "\n",
    "clusters_tf = helpers.clusters(init_clusters=clusters, trainable=True, clip_gradient_eps=False)\n",
    "\n",
    "# construct the feature extraction part of the network\n",
    "dropout = 0.7\n",
    "conv1a = ModelHelpers.conv_layer(X, 32, 5)\n",
    "conv1b = ModelHelpers.conv_layer(conv1a, 32, 5)\n",
    "conv1b = tf.layers.batch_normalization(conv1b)\n",
    "conv2a = ModelHelpers.conv_layer(conv1b, 64, 5)\n",
    "conv2b = ModelHelpers.conv_layer(conv2a, 64, 5)\n",
    "conv2b = tf.layers.dropout(conv2b, rate=dropout)\n",
    "conv2b = tf.layers.batch_normalization(conv2b)\n",
    "conv3a = ModelHelpers.conv_layer([conv1b, conv2b], 128, 5) # residual connection is automated in the conv_layer helper\n",
    "conv3b = ModelHelpers.conv_layer(conv3a, 128, 5)\n",
    "conv3b = tf.layers.dropout(conv3b, rate=dropout)\n",
    "conv3b = tf.layers.batch_normalization(conv3b)\n",
    "conv4a = ModelHelpers.conv_layer([conv2b, conv3b], 256, 5)\n",
    "conv4b = ModelHelpers.conv_layer(conv4a, 256, 5)\n",
    "conv4b = tf.layers.dropout(conv4b, rate=dropout)\n",
    "core_out = conv4b\n",
    "\n",
    "## alternative to the cnn. very slow\n",
    "# lstm = bidirectional_lstm(X, 1, 32, keep_prob=0.05)\n",
    "\n",
    "### Regression ###\n",
    "if mode == 'vectors':\n",
    "    ### Angle vectors ###\n",
    "    vec_pred = tf.layers.dense(core_out, n_angles * 2) # angles logits\n",
    "#     vec_loss = \n",
    "\n",
    "#     vec_pred_r = tf.reshape(vec_pred, shape=(-1, max_len, n_angles, 2)) # reshape to 2 numbers (vector) per angle\n",
    "#     vec_loss_reg = tf.square(1 - (vec_pred_r[:,:,:,0] ** 2 + vec_pred_r[:,:,:,1]**2))\n",
    "# #     vec_pred = vec_pred / (tf.expand_dims(tf.sqrt(vec_pred[:,:,:,0]**2 + vec_pred[:,:,:,1]**2), 3)+1) # normalize\n",
    "#     rad_pred = tf.atan2((vec_pred_r[:,:,:,0]), (vec_pred_r[:,:,:,1])) # convert vector to angle\n",
    "\n",
    "    \n",
    "logits = tf.layers.dense(core_out, n_clusters) # cluster logits\n",
    "logits = tf.layers.dropout(logits, rate=0.05)\n",
    "y_pred = tf.nn.softmax(logits)\n",
    "\n",
    "# apply mask to all outputs used for losses (beware that the mask flattens them automatically)\n",
    "y_masked, logits_masked, y_pred_masked, y_vectors_masked, y_angles_masked =\\\n",
    "    helpers.mask_all([y, logits, y_pred, y_vectors, y_angles], input_mask)\n",
    "\n",
    "# computes the weighted sum of clusters (weighted by the predicted prob. dist.)\n",
    "if mode == 'clusters':\n",
    "    vec_pred_masked = tf.einsum('ij,bi->bj', clusters_tf, y_pred_masked)\n",
    "    vec_pred_masked_r = tf.reshape(vec_pred_masked, shape=(-1,n_angles,2))\n",
    "    rad_pred_masked = tf.atan2(vec_pred_masked_r[:,:,1], vec_pred_masked_r[:,:,0])\n",
    "\n",
    "# crossentropy loss on the classification task\n",
    "clusters_crossentropy = tf.reduce_mean(tf.nn.softmax_cross_entropy_with_logits_v2(labels=y_masked, logits=logits_masked))\n",
    "\n",
    "# mae computed for each angle separately\n",
    "# mae_vec = tf.reduce_mean(tf.abs(tf.subtract(rad_pred_masked[:,:], y_angles_masked[:,:])), axis=0)\n",
    "\n",
    "# mae reduced to 1 number\n",
    "mae = tf.reduce_mean(tf.abs(tf.subtract(vec_pred_masked, y_vectors_masked)))\n",
    "\n",
    "# angular mae\n",
    "mae_angles = helpers.loss360(rad_pred_masked, y_angles_masked)\n",
    "    \n",
    "loss = {\n",
    "    'normal_mae': mae,\n",
    "#     'angular_mae': mae_ang,\n",
    "    'classification': clusters_crossentropy,\n",
    "#     'angular_mae_and_classification': mae_ang + clusters_crossentropy\n",
    "}[loss_mode]\n",
    "\n",
    "regularization = []\n",
    "if 'vec_on_unit_circle':\n",
    "#     regularization.append(vec_loss_reg)\n",
    "    pass\n",
    "    \n",
    "for reg in regularization:\n",
    "    loss += reg\n",
    "\n",
    "# Define the optimizer operation\n",
    "learning_rate = tf.placeholder(tf.float32)\n",
    "\n",
    "# we can choose if we want to optimize mae or loss\n",
    "optimizer = tf.train.AdamOptimizer(learning_rate=learning_rate).minimize(mae)\n",
    "\n",
    "# Variables for prediction and accuracy\n",
    "prediction = tf.argmax(y_pred_masked, 1)\n",
    "accuracy = tf.reduce_mean(tf.cast(tf.equal(prediction, tf.argmax(y_masked, 1)), tf.float32))\n",
    "\n",
    "# Initialize the variables (they are assigned default values)\n",
    "init = tf.group(tf.global_variables_initializer(), tf.local_variables_initializer())\n",
    "\n",
    "n_parameters = np.sum([np.prod(v.get_shape().as_list()) for v in tf.trainable_variables()])\n",
    "print(\"Number of parameters:\", n_parameters)"
   ]
  },
  {
   "cell_type": "code",
   "execution_count": 67,
   "metadata": {},
   "outputs": [],
   "source": [
    "# batch_size = 32\n",
    "# init_learning_rate = 0.001\n",
    "# with tf.Session() as session:\n",
    "\n",
    "#     # Run the initializer\n",
    "#     session.run(init)\n",
    "#     b=0\n",
    "#     loss_value = session.run([clusters_crossentropy], feed_dict={X: x_train[b:b+batch_size],\n",
    "#                                                               y: y_train_labels[b:b+batch_size],\n",
    "#                                                               y_vectors: y_train[b:b+batch_size],\n",
    "#                                                               learning_rate: init_learning_rate,\n",
    "#                                                             input_mask: mask_[b:b+batch_size]})"
   ]
  },
  {
   "cell_type": "code",
   "execution_count": 68,
   "metadata": {
    "scrolled": true
   },
   "outputs": [
    {
     "name": "stdout",
     "output_type": "stream",
     "text": [
      "Epoch: 0\n",
      "Train MAE = 6.156212\n",
      "MAE angles 0.6217286\n",
      "PCC [0.5168591, 0.53892624]\n",
      "Counter({21: 14267, 14: 10305, 13: 4515, 3: 3624, 37: 2210, 28: 1600, 40: 886, 2: 155, 9: 55, 23: 14, 25: 3})\n",
      "0.001\n",
      "Epoch: 1\n",
      "Train MAE = 6.880851\n",
      "MAE angles 0.5678491\n",
      "PCC [0.5171826, 0.6035316]\n",
      "Counter({21: 13334, 14: 10247, 28: 3006, 3: 3004, 13: 2624, 0: 1501, 2: 1349, 37: 1261, 23: 534, 40: 286, 17: 161, 15: 157, 9: 102, 25: 68})\n",
      "0.001\n",
      "Epoch: 2\n",
      "Train MAE = 7.137828\n",
      "MAE angles 0.5300127\n",
      "PCC [0.5746653, 0.62364185]\n",
      "Counter({21: 14238, 14: 9717, 3: 3034, 28: 2244, 2: 2110, 13: 1700, 46: 1192, 37: 1006, 23: 697, 44: 518, 40: 337, 17: 309, 0: 190, 27: 161, 25: 94, 36: 41, 24: 36, 9: 10})\n",
      "0.001\n",
      "Epoch: 3\n",
      "Train MAE = 7.347225\n",
      "MAE angles 0.51602256\n",
      "PCC [0.5925699, 0.6416458]\n",
      "Counter({21: 13211, 14: 8547, 28: 4040, 3: 2958, 2: 2337, 13: 1288, 46: 1283, 37: 1228, 40: 699, 23: 574, 44: 531, 17: 282, 24: 205, 0: 175, 36: 117, 49: 57, 27: 41, 41: 34, 25: 27})\n",
      "0.001\n",
      "Epoch: 4\n",
      "Train MAE = 7.512523\n",
      "MAE angles 0.51109374\n",
      "PCC [0.5935156, 0.64642537]\n",
      "Counter({21: 13568, 14: 7701, 28: 3892, 3: 3602, 2: 2317, 37: 1352, 46: 1219, 13: 1026, 23: 657, 40: 630, 44: 593, 17: 327, 24: 229, 0: 170, 36: 142, 25: 81, 41: 51, 49: 45, 27: 32})\n",
      "0.001\n",
      "Epoch: 5\n",
      "Train MAE = 7.629308\n",
      "MAE angles 0.5167953\n",
      "PCC [0.59620965, 0.647548]\n",
      "Counter({21: 11857, 14: 7986, 28: 4634, 3: 4118, 2: 1909, 37: 1427, 13: 1296, 46: 1235, 44: 723, 23: 639, 40: 519, 17: 298, 24: 267, 0: 190, 36: 170, 25: 155, 49: 86, 41: 76, 27: 49})\n",
      "0.001\n",
      "Epoch: 6\n",
      "Train MAE = 7.751148\n",
      "MAE angles 0.5119253\n",
      "PCC [0.59860045, 0.64749205]\n",
      "Counter({21: 11823, 14: 9535, 3: 4021, 28: 2386, 13: 2014, 2: 1653, 37: 1458, 46: 1264, 40: 818, 23: 577, 44: 554, 24: 335, 17: 298, 49: 247, 36: 226, 0: 207, 41: 105, 25: 78, 27: 35})\n",
      "0.001\n",
      "Epoch: 7\n",
      "Train MAE = 7.865784\n",
      "MAE angles 0.49895757\n",
      "PCC [0.60433716, 0.6503899]\n",
      "Counter({21: 13257, 14: 7398, 3: 3379, 28: 2904, 13: 2352, 2: 1976, 37: 1611, 46: 1356, 40: 788, 23: 601, 44: 454, 49: 372, 17: 344, 24: 279, 36: 227, 0: 127, 25: 90, 41: 86, 27: 33})\n",
      "0.001\n",
      "Epoch: 8\n",
      "Train MAE = 7.989303\n",
      "MAE angles 0.5024326\n",
      "PCC [0.6003322, 0.64528245]\n",
      "Counter({21: 13880, 14: 6615, 3: 3377, 28: 2990, 13: 2087, 2: 1985, 37: 1924, 46: 1207, 40: 857, 23: 659, 44: 434, 49: 376, 25: 299, 17: 260, 24: 232, 36: 221, 0: 116, 41: 73, 27: 41, 34: 1})\n",
      "0.001\n",
      "Epoch: 9\n",
      "Train MAE = 8.250061\n",
      "MAE angles 0.49529514\n",
      "PCC [0.6108979, 0.6561842]\n",
      "Counter({21: 12936, 14: 7782, 3: 3305, 28: 3275, 2: 2040, 13: 1974, 37: 1719, 46: 1227, 40: 756, 23: 549, 44: 454, 49: 427, 17: 294, 24: 213, 36: 205, 25: 195, 0: 154, 41: 71, 27: 53, 34: 5})\n",
      "0.001\n",
      "Adjusting learning rate\n",
      "Epoch: 10\n",
      "Train MAE = 8.513224\n",
      "MAE angles 0.4991263\n",
      "PCC [0.6124306, 0.6548358]\n",
      "Counter({21: 11969, 14: 8226, 28: 3391, 3: 3259, 37: 2158, 13: 1879, 2: 1877, 46: 1237, 40: 749, 23: 515, 25: 465, 44: 464, 49: 394, 24: 323, 17: 245, 36: 206, 0: 166, 41: 67, 27: 36, 34: 8})\n",
      "0.0009523809523809524\n",
      "Epoch: 11\n",
      "Train MAE = 8.758299\n",
      "MAE angles 0.49975747\n",
      "PCC [0.6114123, 0.6531698]\n",
      "Counter({21: 12345, 14: 7244, 28: 4027, 3: 3187, 2: 2018, 37: 1993, 13: 1752, 46: 1069, 25: 879, 40: 722, 44: 484, 23: 434, 49: 404, 24: 356, 0: 213, 36: 196, 17: 194, 41: 68, 27: 28, 34: 21})\n",
      "0.0009523809523809524\n",
      "Epoch: 12\n",
      "Train MAE = 8.916862\n",
      "MAE angles 0.49606434\n",
      "PCC [0.6120623, 0.6547627]\n",
      "Counter({21: 12982, 14: 6464, 28: 4025, 3: 2610, 37: 2212, 13: 1978, 2: 1944, 25: 1147, 46: 1121, 40: 724, 23: 538, 44: 458, 49: 343, 24: 295, 17: 235, 0: 228, 36: 223, 41: 51, 34: 29, 27: 27})\n",
      "0.0009523809523809524\n",
      "Epoch: 13\n",
      "Train MAE = 9.088238\n",
      "MAE angles 0.49366006\n",
      "PCC [0.6099053, 0.65603644]\n",
      "Counter({21: 12707, 14: 5880, 3: 3211, 28: 3110, 37: 2333, 13: 2209, 2: 2023, 25: 1341, 46: 1275, 23: 751, 40: 657, 49: 571, 44: 427, 17: 333, 24: 249, 0: 233, 36: 213, 41: 41, 34: 37, 27: 26, 15: 7})\n",
      "0.0009523809523809524\n",
      "Epoch: 14\n",
      "Train MAE = 9.299500\n",
      "MAE angles 0.49273077\n",
      "PCC [0.6086642, 0.6577083]\n",
      "Counter({21: 12379, 14: 6510, 3: 3592, 28: 2837, 13: 2382, 37: 2272, 2: 1910, 46: 1169, 25: 880, 49: 835, 23: 792, 40: 512, 17: 390, 44: 366, 0: 279, 24: 209, 36: 163, 41: 61, 27: 49, 34: 38, 15: 9})\n",
      "0.0009523809523809524\n",
      "Epoch: 15\n",
      "Train MAE = 9.466582\n",
      "MAE angles 0.4929998\n",
      "PCC [0.60999924, 0.6642499]\n",
      "Counter({21: 11618, 14: 6046, 3: 3600, 28: 3385, 13: 2312, 37: 2192, 2: 1656, 25: 1383, 46: 1249, 49: 1047, 23: 748, 40: 625, 17: 513, 44: 353, 0: 294, 24: 281, 36: 163, 27: 61, 41: 51, 34: 48, 15: 9})\n",
      "0.0009523809523809524\n",
      "Epoch: 16\n",
      "Train MAE = 9.566365\n",
      "MAE angles 0.4946283\n",
      "PCC [0.6108451, 0.6599966]\n",
      "Counter({21: 11812, 14: 5815, 28: 3507, 3: 3369, 37: 2362, 13: 2161, 2: 1573, 46: 1399, 25: 1317, 49: 995, 23: 761, 40: 647, 17: 607, 44: 405, 24: 317, 0: 219, 36: 175, 34: 71, 27: 71, 41: 44, 15: 7})\n",
      "0.0009523809523809524\n",
      "Epoch: 17\n",
      "Train MAE = 9.805664\n",
      "MAE angles 0.49548113\n",
      "PCC [0.609067, 0.65674883]\n",
      "Counter({21: 12136, 14: 5447, 3: 3574, 28: 3201, 37: 2853, 13: 2260, 2: 1499, 25: 1449, 46: 1328, 40: 751, 49: 735, 23: 708, 17: 540, 44: 387, 24: 224, 0: 201, 36: 186, 27: 62, 34: 47, 41: 40, 15: 6})\n",
      "0.0009523809523809524\n",
      "Epoch: 18\n",
      "Train MAE = 10.091613\n",
      "MAE angles 0.49739835\n",
      "PCC [0.6040359, 0.6560302]\n",
      "Counter({21: 12528, 14: 5160, 3: 3704, 28: 3196, 37: 2957, 13: 2100, 25: 1460, 46: 1274, 2: 1266, 23: 789, 40: 786, 49: 758, 17: 510, 44: 327, 24: 244, 36: 240, 0: 173, 34: 82, 27: 51, 41: 26, 15: 3})\n",
      "0.0009523809523809524\n",
      "Epoch: 19\n",
      "Train MAE = 10.310488\n",
      "MAE angles 0.49900106\n",
      "PCC [0.60179925, 0.65280086]\n",
      "Counter({21: 12868, 14: 5193, 3: 3897, 37: 2928, 28: 2806, 13: 2383, 25: 1607, 46: 1143, 2: 918, 49: 775, 40: 746, 23: 678, 17: 666, 44: 282, 36: 214, 0: 198, 24: 184, 27: 59, 34: 52, 41: 30, 15: 7})\n",
      "0.0009523809523809524\n",
      "Adjusting learning rate\n",
      "Epoch: 20\n",
      "Train MAE = 10.539660\n",
      "MAE angles 0.50246894\n",
      "PCC [0.59829426, 0.6465346]\n",
      "Counter({21: 13514, 14: 5248, 3: 3109, 13: 3009, 37: 2460, 28: 2388, 25: 1496, 46: 1120, 2: 1020, 49: 959, 40: 921, 17: 786, 23: 570, 44: 244, 36: 230, 24: 188, 0: 183, 27: 72, 34: 69, 41: 31, 15: 12, 19: 5})\n",
      "0.0009070294784580498\n",
      "Epoch: 21\n"
     ]
    },
    {
     "ename": "KeyboardInterrupt",
     "evalue": "",
     "output_type": "error",
     "traceback": [
      "\u001b[0;31m---------------------------------------------------------------------------\u001b[0m",
      "\u001b[0;31mKeyboardInterrupt\u001b[0m                         Traceback (most recent call last)",
      "\u001b[0;32m<ipython-input-68-59d30be269fb>\u001b[0m in \u001b[0;36m<module>\u001b[0;34m\u001b[0m\n\u001b[1;32m     27\u001b[0m                                                                       \u001b[0my_angles\u001b[0m\u001b[0;34m:\u001b[0m \u001b[0my_train_angles\u001b[0m\u001b[0;34m[\u001b[0m\u001b[0mb\u001b[0m\u001b[0;34m:\u001b[0m\u001b[0mb\u001b[0m\u001b[0;34m+\u001b[0m\u001b[0mbatch_size\u001b[0m\u001b[0;34m]\u001b[0m\u001b[0;34m,\u001b[0m\u001b[0;34m\u001b[0m\u001b[0m\n\u001b[1;32m     28\u001b[0m                                                                       \u001b[0mlearning_rate\u001b[0m\u001b[0;34m:\u001b[0m \u001b[0minit_learning_rate\u001b[0m\u001b[0;34m,\u001b[0m\u001b[0;34m\u001b[0m\u001b[0m\n\u001b[0;32m---> 29\u001b[0;31m                                                                     input_mask: mask_[b:b+batch_size]})\n\u001b[0m\u001b[1;32m     30\u001b[0m \u001b[0;31m#             print(loss_value)\u001b[0m\u001b[0;34m\u001b[0m\u001b[0;34m\u001b[0m\u001b[0m\n\u001b[1;32m     31\u001b[0m             \u001b[0mtrain_loss\u001b[0m\u001b[0;34m.\u001b[0m\u001b[0mappend\u001b[0m\u001b[0;34m(\u001b[0m\u001b[0mloss_value\u001b[0m\u001b[0;34m)\u001b[0m\u001b[0;34m\u001b[0m\u001b[0m\n",
      "\u001b[0;32m~/.local/lib/python3.6/site-packages/tensorflow/python/client/session.py\u001b[0m in \u001b[0;36mrun\u001b[0;34m(self, fetches, feed_dict, options, run_metadata)\u001b[0m\n\u001b[1;32m    885\u001b[0m     \u001b[0;32mtry\u001b[0m\u001b[0;34m:\u001b[0m\u001b[0;34m\u001b[0m\u001b[0m\n\u001b[1;32m    886\u001b[0m       result = self._run(None, fetches, feed_dict, options_ptr,\n\u001b[0;32m--> 887\u001b[0;31m                          run_metadata_ptr)\n\u001b[0m\u001b[1;32m    888\u001b[0m       \u001b[0;32mif\u001b[0m \u001b[0mrun_metadata\u001b[0m\u001b[0;34m:\u001b[0m\u001b[0;34m\u001b[0m\u001b[0m\n\u001b[1;32m    889\u001b[0m         \u001b[0mproto_data\u001b[0m \u001b[0;34m=\u001b[0m \u001b[0mtf_session\u001b[0m\u001b[0;34m.\u001b[0m\u001b[0mTF_GetBuffer\u001b[0m\u001b[0;34m(\u001b[0m\u001b[0mrun_metadata_ptr\u001b[0m\u001b[0;34m)\u001b[0m\u001b[0;34m\u001b[0m\u001b[0m\n",
      "\u001b[0;32m~/.local/lib/python3.6/site-packages/tensorflow/python/client/session.py\u001b[0m in \u001b[0;36m_run\u001b[0;34m(self, handle, fetches, feed_dict, options, run_metadata)\u001b[0m\n\u001b[1;32m   1108\u001b[0m     \u001b[0;32mif\u001b[0m \u001b[0mfinal_fetches\u001b[0m \u001b[0;32mor\u001b[0m \u001b[0mfinal_targets\u001b[0m \u001b[0;32mor\u001b[0m \u001b[0;34m(\u001b[0m\u001b[0mhandle\u001b[0m \u001b[0;32mand\u001b[0m \u001b[0mfeed_dict_tensor\u001b[0m\u001b[0;34m)\u001b[0m\u001b[0;34m:\u001b[0m\u001b[0;34m\u001b[0m\u001b[0m\n\u001b[1;32m   1109\u001b[0m       results = self._do_run(handle, final_targets, final_fetches,\n\u001b[0;32m-> 1110\u001b[0;31m                              feed_dict_tensor, options, run_metadata)\n\u001b[0m\u001b[1;32m   1111\u001b[0m     \u001b[0;32melse\u001b[0m\u001b[0;34m:\u001b[0m\u001b[0;34m\u001b[0m\u001b[0m\n\u001b[1;32m   1112\u001b[0m       \u001b[0mresults\u001b[0m \u001b[0;34m=\u001b[0m \u001b[0;34m[\u001b[0m\u001b[0;34m]\u001b[0m\u001b[0;34m\u001b[0m\u001b[0m\n",
      "\u001b[0;32m~/.local/lib/python3.6/site-packages/tensorflow/python/client/session.py\u001b[0m in \u001b[0;36m_do_run\u001b[0;34m(self, handle, target_list, fetch_list, feed_dict, options, run_metadata)\u001b[0m\n\u001b[1;32m   1284\u001b[0m     \u001b[0;32mif\u001b[0m \u001b[0mhandle\u001b[0m \u001b[0;32mis\u001b[0m \u001b[0;32mNone\u001b[0m\u001b[0;34m:\u001b[0m\u001b[0;34m\u001b[0m\u001b[0m\n\u001b[1;32m   1285\u001b[0m       return self._do_call(_run_fn, feeds, fetches, targets, options,\n\u001b[0;32m-> 1286\u001b[0;31m                            run_metadata)\n\u001b[0m\u001b[1;32m   1287\u001b[0m     \u001b[0;32melse\u001b[0m\u001b[0;34m:\u001b[0m\u001b[0;34m\u001b[0m\u001b[0m\n\u001b[1;32m   1288\u001b[0m       \u001b[0;32mreturn\u001b[0m \u001b[0mself\u001b[0m\u001b[0;34m.\u001b[0m\u001b[0m_do_call\u001b[0m\u001b[0;34m(\u001b[0m\u001b[0m_prun_fn\u001b[0m\u001b[0;34m,\u001b[0m \u001b[0mhandle\u001b[0m\u001b[0;34m,\u001b[0m \u001b[0mfeeds\u001b[0m\u001b[0;34m,\u001b[0m \u001b[0mfetches\u001b[0m\u001b[0;34m)\u001b[0m\u001b[0;34m\u001b[0m\u001b[0m\n",
      "\u001b[0;32m~/.local/lib/python3.6/site-packages/tensorflow/python/client/session.py\u001b[0m in \u001b[0;36m_do_call\u001b[0;34m(self, fn, *args)\u001b[0m\n\u001b[1;32m   1290\u001b[0m   \u001b[0;32mdef\u001b[0m \u001b[0m_do_call\u001b[0m\u001b[0;34m(\u001b[0m\u001b[0mself\u001b[0m\u001b[0;34m,\u001b[0m \u001b[0mfn\u001b[0m\u001b[0;34m,\u001b[0m \u001b[0;34m*\u001b[0m\u001b[0margs\u001b[0m\u001b[0;34m)\u001b[0m\u001b[0;34m:\u001b[0m\u001b[0;34m\u001b[0m\u001b[0m\n\u001b[1;32m   1291\u001b[0m     \u001b[0;32mtry\u001b[0m\u001b[0;34m:\u001b[0m\u001b[0;34m\u001b[0m\u001b[0m\n\u001b[0;32m-> 1292\u001b[0;31m       \u001b[0;32mreturn\u001b[0m \u001b[0mfn\u001b[0m\u001b[0;34m(\u001b[0m\u001b[0;34m*\u001b[0m\u001b[0margs\u001b[0m\u001b[0;34m)\u001b[0m\u001b[0;34m\u001b[0m\u001b[0m\n\u001b[0m\u001b[1;32m   1293\u001b[0m     \u001b[0;32mexcept\u001b[0m \u001b[0merrors\u001b[0m\u001b[0;34m.\u001b[0m\u001b[0mOpError\u001b[0m \u001b[0;32mas\u001b[0m \u001b[0me\u001b[0m\u001b[0;34m:\u001b[0m\u001b[0;34m\u001b[0m\u001b[0m\n\u001b[1;32m   1294\u001b[0m       \u001b[0mmessage\u001b[0m \u001b[0;34m=\u001b[0m \u001b[0mcompat\u001b[0m\u001b[0;34m.\u001b[0m\u001b[0mas_text\u001b[0m\u001b[0;34m(\u001b[0m\u001b[0me\u001b[0m\u001b[0;34m.\u001b[0m\u001b[0mmessage\u001b[0m\u001b[0;34m)\u001b[0m\u001b[0;34m\u001b[0m\u001b[0m\n",
      "\u001b[0;32m~/.local/lib/python3.6/site-packages/tensorflow/python/client/session.py\u001b[0m in \u001b[0;36m_run_fn\u001b[0;34m(feed_dict, fetch_list, target_list, options, run_metadata)\u001b[0m\n\u001b[1;32m   1275\u001b[0m       \u001b[0mself\u001b[0m\u001b[0;34m.\u001b[0m\u001b[0m_extend_graph\u001b[0m\u001b[0;34m(\u001b[0m\u001b[0;34m)\u001b[0m\u001b[0;34m\u001b[0m\u001b[0m\n\u001b[1;32m   1276\u001b[0m       return self._call_tf_sessionrun(\n\u001b[0;32m-> 1277\u001b[0;31m           options, feed_dict, fetch_list, target_list, run_metadata)\n\u001b[0m\u001b[1;32m   1278\u001b[0m \u001b[0;34m\u001b[0m\u001b[0m\n\u001b[1;32m   1279\u001b[0m     \u001b[0;32mdef\u001b[0m \u001b[0m_prun_fn\u001b[0m\u001b[0;34m(\u001b[0m\u001b[0mhandle\u001b[0m\u001b[0;34m,\u001b[0m \u001b[0mfeed_dict\u001b[0m\u001b[0;34m,\u001b[0m \u001b[0mfetch_list\u001b[0m\u001b[0;34m)\u001b[0m\u001b[0;34m:\u001b[0m\u001b[0;34m\u001b[0m\u001b[0m\n",
      "\u001b[0;32m~/.local/lib/python3.6/site-packages/tensorflow/python/client/session.py\u001b[0m in \u001b[0;36m_call_tf_sessionrun\u001b[0;34m(self, options, feed_dict, fetch_list, target_list, run_metadata)\u001b[0m\n\u001b[1;32m   1365\u001b[0m     return tf_session.TF_SessionRun_wrapper(\n\u001b[1;32m   1366\u001b[0m         \u001b[0mself\u001b[0m\u001b[0;34m.\u001b[0m\u001b[0m_session\u001b[0m\u001b[0;34m,\u001b[0m \u001b[0moptions\u001b[0m\u001b[0;34m,\u001b[0m \u001b[0mfeed_dict\u001b[0m\u001b[0;34m,\u001b[0m \u001b[0mfetch_list\u001b[0m\u001b[0;34m,\u001b[0m \u001b[0mtarget_list\u001b[0m\u001b[0;34m,\u001b[0m\u001b[0;34m\u001b[0m\u001b[0m\n\u001b[0;32m-> 1367\u001b[0;31m         run_metadata)\n\u001b[0m\u001b[1;32m   1368\u001b[0m \u001b[0;34m\u001b[0m\u001b[0m\n\u001b[1;32m   1369\u001b[0m   \u001b[0;32mdef\u001b[0m \u001b[0m_call_tf_sessionprun\u001b[0m\u001b[0;34m(\u001b[0m\u001b[0mself\u001b[0m\u001b[0;34m,\u001b[0m \u001b[0mhandle\u001b[0m\u001b[0;34m,\u001b[0m \u001b[0mfeed_dict\u001b[0m\u001b[0;34m,\u001b[0m \u001b[0mfetch_list\u001b[0m\u001b[0;34m)\u001b[0m\u001b[0;34m:\u001b[0m\u001b[0;34m\u001b[0m\u001b[0m\n",
      "\u001b[0;31mKeyboardInterrupt\u001b[0m: "
     ]
    }
   ],
   "source": [
    "def pearson_numpy(y_true, y_pred):\n",
    "    n_angles = y_true.shape[-1]\n",
    "    a_angles = np.split(np.cos(y_true.reshape(-1,)).reshape(-1,n_angles), \n",
    "                                     indices_or_sections=n_angles, axis=-1)\n",
    "    b_angles = np.split(np.cos(y_pred.reshape(-1,)).reshape(-1,n_angles),\n",
    "                                     indices_or_sections=n_angles, axis=-1)\n",
    "    return [scipy.stats.pearsonr(a.reshape(-1,), b.reshape(-1,))[0] for a,b in zip(a_angles, b_angles)]\n",
    "\n",
    "batch_size = 32\n",
    "n_epochs = 500\n",
    "\n",
    "# Start as session\n",
    "init_learning_rate = 0.001\n",
    "with tf.Session() as session:\n",
    "\n",
    "    # Run the initializer\n",
    "    session.run(init)\n",
    "\n",
    "    # Training cycle\n",
    "    for epoch in range(n_epochs):\n",
    "        print(\"Epoch:\", epoch)\n",
    "        train_loss = []\n",
    "        for b in range(0, x_train.shape[0], batch_size):\n",
    "            _, loss_value = session.run([optimizer, loss], feed_dict={X: x_train[b:b+batch_size],\n",
    "                                                                      y: y_train_labels[b:b+batch_size],\n",
    "                                                                      y_vectors: y_train[b:b+batch_size],\n",
    "                                                                      y_angles: y_train_angles[b:b+batch_size],\n",
    "                                                                      learning_rate: init_learning_rate,\n",
    "                                                                    input_mask: mask_[b:b+batch_size]})\n",
    "#             print(loss_value)\n",
    "            train_loss.append(loss_value)\n",
    "        \n",
    "        (validation_accuracy, loss_, pred_, \n",
    "         clusters_, y_pred_masked_, mae_angles_,\n",
    "        rad_pred_masked_, y_angles_masked_) = session.run([accuracy, mae, prediction, \n",
    "                                                              clusters_tf, y_pred_masked, mae_angles,\n",
    "                                                               rad_pred_masked, y_angles_masked], \n",
    "                                                              feed_dict={X: x_valid, y: y_valid_labels, \n",
    "                                                                         y_vectors:y_valid,\n",
    "                                                                         y_angles: y_valid_angles,\n",
    "                                                                        input_mask: mask_v})\n",
    "#         print(\"val. loss = %f, val_acc = %f\" % (loss_value, validation_accuracy))    \n",
    "        print(\"Train MAE = %f\" % (np.mean(train_loss)))\n",
    "        print(\"MAE angles\", mae_angles_)\n",
    "        print(\"PCC\", pearson_numpy(rad_pred_masked_, y_angles_masked_))\n",
    "#         print(\"Val. MAE\", mae_, np.mean(mae_), loss_)\n",
    "#         print(rad_pred_masked_.shape, y_angles_masked_.shape)\n",
    "#         print(\"PCC\", pearson_numpy(rad_pred_masked_, y_angles_masked_, n_angles))\n",
    "        print(collections.Counter(pred_))\n",
    "#         print(np.mean(y_pred_masked_, axis=0)) # prob. dist mean over clusters\n",
    "#         print(np.max(y_pred_masked_, axis=0)) # prob. dist max over clusters\n",
    "        print(init_learning_rate)\n",
    "#         print(clusters_)\n",
    "        \n",
    "        # Shrinks the learning rate every n epochs\n",
    "        train_loss = []\n",
    "        if (epoch + 1) % 10 == 0:\n",
    "            print(\"Adjusting learning rate\")\n",
    "            init_learning_rate = init_learning_rate / 1.05\n",
    "    \n",
    "    print(\"Optimization done\")\n",
    "\n",
    "    # Calculate training accuracy\n",
    "    train_accuracy_value, pred_train = session.run([accuracy, prediction], \n",
    "                                                                      feed_dict={X: x_train, y: y_train_labels,\n",
    "                                                                                y_vectors: y_train,\n",
    "                                                                                input_mask: mask_})\n",
    "    print(\"Train accuracy:\", train_accuracy_value)\n",
    "    \n",
    "    # Calculate test accuracy\n",
    "    test_accuracy_value, pred_test = session.run([accuracy, prediction], \n",
    "                                                                    feed_dict={X: x_valid, y: y_valid_labels,\n",
    "                                                                              y_vectors: y_valid,\n",
    "                                                                              input_mask: mask_v})\n",
    "    print(\"Test accuracy:\", test_accuracy_value)"
   ]
  },
  {
   "cell_type": "code",
   "execution_count": null,
   "metadata": {},
   "outputs": [],
   "source": [
    "rad_pred_.shape"
   ]
  },
  {
   "cell_type": "code",
   "execution_count": null,
   "metadata": {},
   "outputs": [],
   "source": [
    "n = 150\n",
    "plt.scatter(y_valid[n,:,0], y_valid[n,:,1], c='blue')\n",
    "plt.scatter(rad_pred_[:200,0], rad_pred_[:200,1], c='orange')\n",
    "\n",
    "np.mean(np.abs(y_valid[n,:,:2] - pred[n]))"
   ]
  },
  {
   "cell_type": "code",
   "execution_count": null,
   "metadata": {},
   "outputs": [],
   "source": [
    "np.min(rad_pred_), np.max(rad_pred_), np.min(rad_pred_cont_), np.max(rad_pred_cont_)"
   ]
  },
  {
   "cell_type": "markdown",
   "metadata": {},
   "source": [
    "Organize model modes:\n",
    "- predict angles through regression (tanh, *pi)\n",
    "- predict clusters and optimize for crossentropy\n",
    "- predict clusters and optimize for MAE\n",
    "- predict clusters as vectors and optimize for MAE"
   ]
  },
  {
   "cell_type": "code",
   "execution_count": null,
   "metadata": {},
   "outputs": [],
   "source": [
    "np.mean(np.abs(clusters_[pred_] - y_valid[mask_v])"
   ]
  },
  {
   "cell_type": "markdown",
   "metadata": {},
   "source": [
    "resnet CNN filter_length = 15 (with 5 it didn't change much either)\n",
    "\n",
    "*Rad angles, 10 not trainable clusters: 0.59\n",
    "\n",
    "*Rad angles, 10 trainable clusters, no clipping: MAE [0.43384644 0.721744  ] 0.5777952\n",
    "\n",
    "*Rad angles, 50 trainable clusters, no clipping: \n",
    "Train MAE = 0.545068\n",
    "Val. MAE [0.43777448 0.7208223 ] 0.5792984"
   ]
  },
  {
   "cell_type": "markdown",
   "metadata": {
    "collapsed": true
   },
   "source": [
    "pcc: 58 70 (10000 proteins, cluster, angular_mae_and_classification)\n",
    "pcc: 61.5 66.5 (10000 proteins, regression, angular_mae)"
   ]
  },
  {
   "cell_type": "code",
   "execution_count": null,
   "metadata": {},
   "outputs": [],
   "source": []
  }
 ],
 "metadata": {
  "kernelspec": {
   "display_name": "Python 3",
   "language": "python",
   "name": "python3"
  },
  "language_info": {
   "codemirror_mode": {
    "name": "ipython",
    "version": 3
   },
   "file_extension": ".py",
   "mimetype": "text/x-python",
   "name": "python",
   "nbconvert_exporter": "python",
   "pygments_lexer": "ipython3",
   "version": "3.6.6"
  }
 },
 "nbformat": 4,
 "nbformat_minor": 2
}
