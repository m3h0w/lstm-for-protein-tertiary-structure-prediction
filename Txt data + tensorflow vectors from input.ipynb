{
 "cells": [
  {
   "cell_type": "code",
   "execution_count": 15,
   "metadata": {},
   "outputs": [],
   "source": [
    "import numpy as np\n",
    "import matplotlib.pyplot as plt\n",
    "%matplotlib inline\n",
    "import glob\n",
    "import tensorflow as tf\n",
    "import time\n",
    "import scipy\n",
    "\n",
    "import collections, numpy\n",
    "\n",
    "import data_loader as dl\n",
    "import data_transformer as dt\n",
    "\n",
    "from sklearn.cluster import KMeans\n",
    "from keras.utils import to_categorical\n",
    "\n",
    "# helper for setting up the bidirectional, multilayer lstm\n",
    "def bidirectional_lstm(input_data, num_layers, rnn_size, keep_prob, lengths=None):\n",
    "    output = input_data\n",
    "    for layer in range(num_layers):\n",
    "        with tf.variable_scope('encoder_{}'.format(layer),reuse=tf.AUTO_REUSE):\n",
    "\n",
    "            cell_fw = tf.contrib.rnn.LSTMCell(rnn_size, initializer=tf.truncated_normal_initializer(-0.1, 0.1, seed=2))\n",
    "            cell_fw = tf.contrib.rnn.DropoutWrapper(cell_fw, input_keep_prob = keep_prob)\n",
    "\n",
    "            cell_bw = tf.contrib.rnn.LSTMCell(rnn_size, initializer=tf.truncated_normal_initializer(-0.1, 0.1, seed=2))\n",
    "            cell_bw = tf.contrib.rnn.DropoutWrapper(cell_bw, input_keep_prob = keep_prob)\n",
    "\n",
    "            outputs, states = tf.nn.bidirectional_dynamic_rnn(cell_fw, \n",
    "                                                              cell_bw, \n",
    "                                                              output,\n",
    "                                                              dtype=tf.float32,\n",
    "                                                              sequence_length=lengths)\n",
    "            output = tf.concat(outputs,2)\n",
    "\n",
    "    return output\n",
    "\n",
    "class ModelHelpers:\n",
    "    @staticmethod\n",
    "    @tf.custom_gradient\n",
    "    def clip_grad_layer(x):\n",
    "        def grad(dy):\n",
    "            return tf.clip_by_value(dy, 1e-10, 1e-10)\n",
    "        return tf.identity(x), grad\n",
    "    \n",
    "    @staticmethod\n",
    "    def input_placeholders(max_len, input_columns):\n",
    "        X = tf.placeholder(tf.float32, [None, max_len, input_columns], name=\"X\")\n",
    "        input_mask = tf.placeholder(tf.bool, [None, max_len], name=\"input_mask\")\n",
    "        return X, input_mask\n",
    "\n",
    "    @staticmethod\n",
    "    def labels_placeholders(max_len, n_clusters, n_angles):\n",
    "        y = tf.placeholder(tf.float32, [None, max_len, n_clusters], name='y')\n",
    "        y_angles = tf.placeholder(tf.float32, [None, max_len, n_angles], name='y_angles')\n",
    "        return y, y_angles\n",
    "\n",
    "    @staticmethod\n",
    "    def clusters(init_clusters, trainable=False, clip_value = 1, clip_gradient_eps=False):\n",
    "        clusters_tf = tf.Variable(initial_value=init_clusters, dtype=np.float32, trainable=trainable)\n",
    "        clusters_tf = tf.clip_by_value(clusters_tf, -clip_value, clip_value)\n",
    "        if clip_gradient_eps:\n",
    "            clusters_tf = ModelHelpers.clip_grad_layer(clusters_tf)\n",
    "        return clusters_tf\n",
    "\n",
    "    @staticmethod\n",
    "    def conv_layer(in_, neurons, filter_size):\n",
    "        if type(in_) == list:\n",
    "            in_ = tf.concat(in_, axis=2)\n",
    "        return tf.layers.conv1d(in_, neurons, filter_size, activation=tf.nn.relu, padding='same')\n",
    "\n",
    "    @staticmethod\n",
    "    def mask_all(tensors_list, mask):\n",
    "        res = []\n",
    "        for tensor in tensors_list:\n",
    "            res.append(tf.boolean_mask(tensor, mask))\n",
    "        return res\n",
    "    \n",
    "    @staticmethod\n",
    "    def angularize(input_tensor, name=None):\n",
    "#         with tf.name_scope(name, 'angularize', [input_tensor]) as scope:\n",
    "#             input_tensor = tf.convert_to_tensor(input_tensor, name='input_tensor')\n",
    "\n",
    "        return tf.multiply(np.pi, tf.cos(input_tensor + (np.pi / 2)))\n",
    "\n",
    "    @staticmethod\n",
    "    def vec_to_angle(input_tensor):\n",
    "        return tf.math.atan2(input_tensor[:,:,1], input_tensor[:,:,0])\n",
    "    \n",
    "    @staticmethod\n",
    "    def loss360(y_true, y_pred):\n",
    "        return tf.reduce_mean(tf.abs(tf.atan2(tf.sin(y_true - y_pred), tf.cos(y_true - y_pred))))\n",
    "    \n",
    "    @staticmethod\n",
    "    def unison_shuffled_copies(the_list):\n",
    "        assert len(the_list) > 1\n",
    "        for i in range(len(the_list) - 1):\n",
    "            assert len(the_list[i]) == len(the_list[i+1])\n",
    "        p = np.random.permutation(len(the_list[0]))\n",
    "        return [el[p] for el in the_list]"
   ]
  },
  {
   "cell_type": "code",
   "execution_count": 2,
   "metadata": {},
   "outputs": [],
   "source": [
    "# change this path to match the path of where you have the\n",
    "# training_50 and validation files\n",
    "txt_data_path = '/home/mikey/Data/ProteinNet/casp7_txt/'\n",
    "\n",
    "max_len = 500 # max len of the protein taken into account\n",
    "n_angles = 2 # 3 if consider all angles or 2 if only phi and psi"
   ]
  },
  {
   "cell_type": "markdown",
   "metadata": {},
   "source": [
    "The data_lim is important because so far the full 13000 proteins crashes my system with 16Gb of ram\n",
    "\n",
    "Load training data"
   ]
  },
  {
   "cell_type": "code",
   "execution_count": 3,
   "metadata": {},
   "outputs": [
    {
     "name": "stdout",
     "output_type": "stream",
     "text": [
      "Loaded data and filtered line endings\n",
      "Extracted primary data\n",
      "Encoded primary sequences\n",
      "Loaded data and filtered line endings\n",
      "Extracted evolutionary data\n"
     ]
    },
    {
     "name": "stderr",
     "output_type": "stream",
     "text": [
      "100%|██████████| 8000/8000 [00:00<00:00, 75508.93it/s]\n"
     ]
    },
    {
     "name": "stdout",
     "output_type": "stream",
     "text": [
      "Grouped 21's together\n",
      "Loaded data and filtered line endings\n",
      "Extracted mask data\n"
     ]
    },
    {
     "data": {
      "text/plain": [
       "(8000, (70, 20), 8000, (70, 21), 8000, (70, 3), 8000, (70,))"
      ]
     },
     "execution_count": 3,
     "metadata": {},
     "output_type": "execute_result"
    }
   ],
   "source": [
    "file_name = 'training_50'\n",
    "data_lim = 8000\n",
    "prim_train, evo_train, dih_train, mask_train = (dl.parse_primary_from_file(txt_data_path + file_name, data_lim), \n",
    "                                                dl.parse_evolutionary_from_file(txt_data_path + file_name, data_lim),\n",
    "                                                dl.load_file('./'+file_name+'_dih.joblib'),\n",
    "                                                dl.parse_mask_from_file(txt_data_path + file_name, data_lim))\n",
    "dih_train = dih_train[:data_lim]\n",
    "len(prim_train), prim_train[0].shape, len(evo_train), evo_train[0].shape, len(dih_train), dih_train[0].shape, len(mask_train), mask_train[0].shape"
   ]
  },
  {
   "cell_type": "markdown",
   "metadata": {},
   "source": [
    "Load validation data"
   ]
  },
  {
   "cell_type": "code",
   "execution_count": 4,
   "metadata": {},
   "outputs": [
    {
     "name": "stdout",
     "output_type": "stream",
     "text": [
      "Loaded data and filtered line endings\n",
      "Extracted primary data\n",
      "Encoded primary sequences\n",
      "Loaded data and filtered line endings\n",
      "Extracted evolutionary data\n"
     ]
    },
    {
     "name": "stderr",
     "output_type": "stream",
     "text": [
      "100%|██████████| 224/224 [00:00<00:00, 65820.66it/s]"
     ]
    },
    {
     "name": "stdout",
     "output_type": "stream",
     "text": [
      "Grouped 21's together\n",
      "Loaded data and filtered line endings\n",
      "Extracted mask data\n"
     ]
    },
    {
     "name": "stderr",
     "output_type": "stream",
     "text": [
      "\n"
     ]
    },
    {
     "data": {
      "text/plain": [
       "(224, (269, 20), 224, (269, 21), 224, (269, 3), 224, (269,))"
      ]
     },
     "execution_count": 4,
     "metadata": {},
     "output_type": "execute_result"
    }
   ],
   "source": [
    "file_name = 'validation'\n",
    "prim_valid, evo_valid, dih_valid, mask_valid = (dl.parse_primary_from_file(txt_data_path + file_name), \n",
    "                                                dl.parse_evolutionary_from_file(txt_data_path + file_name),\n",
    "                                                dl.load_file('./'+ file_name + '_dih.joblib'),\n",
    "                                                dl.parse_mask_from_file(txt_data_path + file_name))\n",
    "len(prim_valid), prim_valid[0].shape, len(evo_valid), evo_valid[0].shape, len(dih_valid), dih_valid[0].shape, len(mask_valid), mask_valid[0].shape"
   ]
  },
  {
   "cell_type": "markdown",
   "metadata": {},
   "source": [
    "Pad the data and limit protein length. Prepare the data for training"
   ]
  },
  {
   "cell_type": "code",
   "execution_count": 5,
   "metadata": {},
   "outputs": [
    {
     "name": "stdout",
     "output_type": "stream",
     "text": [
      "padded\n",
      "(7623,) (70, 20)\n",
      "padded\n",
      "(7623,) (70, 21)\n",
      "padded\n",
      "(7623,) (70, 3)\n",
      "padded\n",
      "(7623,) (70, 1)\n",
      "padded\n",
      "(213,) (269, 20)\n",
      "padded\n",
      "(213,) (269, 21)\n",
      "padded\n",
      "(213,) (269, 3)\n",
      "padded\n",
      "(213,) (269, 1)\n"
     ]
    },
    {
     "data": {
      "text/plain": [
       "((7623, 500, 41), (7623, 500, 2), (213, 500, 41), (213, 500, 2))"
      ]
     },
     "execution_count": 5,
     "metadata": {},
     "output_type": "execute_result"
    }
   ],
   "source": [
    "prim_, evo_, dih_, mask_ = dt.limit_length_and_pad(prim_train, evo_train, dih_train, mask_train, max_len)\n",
    "x_train, y_train = np.concatenate([prim_, evo_], axis=2), dih_[:,:,:n_angles]\n",
    "prim_v, evo_v, dih_v, mask_v = dt.limit_length_and_pad(prim_valid, evo_valid, dih_valid, mask_valid, max_len)\n",
    "x_valid, y_valid = np.concatenate([prim_v, evo_v], axis=2), dih_v[:,:,:n_angles]\n",
    "\n",
    "x_train.shape, y_train.shape, x_valid.shape, y_valid.shape"
   ]
  },
  {
   "cell_type": "code",
   "execution_count": 6,
   "metadata": {},
   "outputs": [
    {
     "data": {
      "text/plain": [
       "((7623, 500, 4), (213, 500, 4))"
      ]
     },
     "execution_count": 6,
     "metadata": {},
     "output_type": "execute_result"
    }
   ],
   "source": [
    "def ang_to_vec(angles):\n",
    "    res = []\n",
    "    for i in range(angles.shape[-1]):\n",
    "        angles_cos = np.cos(angles[:,:,i])\n",
    "        angles_sin = np.sin(angles[:,:,i])\n",
    "        angles_stacked = np.stack([angles_cos, angles_sin], axis=-1)\n",
    "        res.append(angles_stacked)\n",
    "    return np.concatenate(res, axis=-1)\n",
    "\n",
    "y_train_angles = y_train\n",
    "y_valid_angles = y_valid\n",
    "y_train = ang_to_vec(y_train)\n",
    "y_valid = ang_to_vec(y_valid)\n",
    "y_train.shape, y_valid.shape"
   ]
  },
  {
   "cell_type": "code",
   "execution_count": 7,
   "metadata": {
    "scrolled": false
   },
   "outputs": [
    {
     "data": {
      "text/plain": [
       "(50, 4)"
      ]
     },
     "execution_count": 7,
     "metadata": {},
     "output_type": "execute_result"
    }
   ],
   "source": [
    "select_clusters_n = 50\n",
    "km = KMeans(n_clusters=select_clusters_n, random_state=0, verbose=0, max_iter=1000).fit(y_train[:200].reshape(-1,n_angles*2))\n",
    "clusters = km.cluster_centers_\n",
    "n_clusters = clusters.shape[0]\n",
    "clusters.shape"
   ]
  },
  {
   "cell_type": "code",
   "execution_count": 8,
   "metadata": {},
   "outputs": [
    {
     "data": {
      "image/png": "[encoded data removed]",
      "text/plain": [
       "<Figure size 720x432 with 1 Axes>"
      ]
     },
     "metadata": {
      "needs_background": "light"
     },
     "output_type": "display_data"
    }
   ],
   "source": [
    "def plot_cluster_centers(data, clusters, x_i, y_i, data_lim=10):\n",
    "    plt.figure(figsize=(10,6))\n",
    "    plt.scatter(y_valid[:data_lim][:,:,x_i], y_valid[:data_lim][:,:,y_i], s=1)\n",
    "    plt.scatter(clusters[:,x_i], clusters[:,y_i], marker='x', s=80)\n",
    "    \n",
    "plot_cluster_centers(y_valid, clusters, x_i=0, y_i=1, data_lim=10)\n",
    "if n_angles == 3:\n",
    "    plot_cluster_centers(y_valid, clusters, x_i=1, y_i=2, data_lim=10)\n",
    "    plot_cluster_centers(y_valid, clusters, x_i=0, y_i=2, data_lim=10)"
   ]
  },
  {
   "cell_type": "code",
   "execution_count": 9,
   "metadata": {},
   "outputs": [
    {
     "data": {
      "text/plain": [
       "(50, 4)"
      ]
     },
     "execution_count": 9,
     "metadata": {},
     "output_type": "execute_result"
    }
   ],
   "source": [
    "clusters.shape"
   ]
  },
  {
   "cell_type": "code",
   "execution_count": 10,
   "metadata": {},
   "outputs": [
    {
     "data": {
      "text/plain": [
       "((7623, 500, 50),\n",
       " (213, 500, 50),\n",
       " array([ 0,  1,  2,  3,  4,  5,  6,  7,  8,  9, 10, 11, 12, 13, 14, 15, 16,\n",
       "        17, 18, 19, 20, 21, 22, 23, 24, 25, 26, 27, 28, 29, 30, 31, 32, 33,\n",
       "        34, 35, 36, 37, 38, 39, 40, 41, 42, 43, 44, 45, 46, 47, 48, 49]),\n",
       " array([ 0,  1,  2,  3,  4,  5,  6,  7,  8,  9, 10, 11, 12, 13, 14, 15, 16,\n",
       "        17, 18, 19, 20, 21, 22, 23, 24, 25, 26, 27, 28, 29, 30, 31, 32, 33,\n",
       "        34, 35, 36, 37, 38, 39, 40, 41, 42, 43, 44, 45, 46, 47, 48, 49]),\n",
       " 50)"
      ]
     },
     "execution_count": 10,
     "metadata": {},
     "output_type": "execute_result"
    }
   ],
   "source": [
    "y_train_labels_ = np.argmin(scipy.spatial.distance_matrix(y_train.reshape(-1,n_angles*2), clusters), \n",
    "                            axis=1).reshape(y_train.shape[0], y_train.shape[1])\n",
    "\n",
    "y_valid_labels_ = np.argmin(scipy.spatial.distance_matrix(y_valid.reshape(-1,n_angles*2), clusters), \n",
    "                            axis=1).reshape(y_valid.shape[0], y_valid.shape[1])\n",
    "\n",
    "y_train_labels = to_categorical(y_train_labels_, num_classes=n_clusters)\n",
    "y_valid_labels = to_categorical(y_valid_labels_, num_classes=n_clusters)\n",
    "\n",
    "y_train_labels.shape, y_valid_labels.shape, np.unique(y_train_labels_), np.unique(y_valid_labels_), n_clusters"
   ]
  },
  {
   "cell_type": "code",
   "execution_count": 11,
   "metadata": {},
   "outputs": [
    {
     "name": "stderr",
     "output_type": "stream",
     "text": [
      "/home/mikey/.local/lib/python3.6/site-packages/tensorflow/python/ops/gradients_impl.py:108: UserWarning: Converting sparse IndexedSlices to a dense Tensor of unknown shape. This may consume a large amount of memory.\n",
      "  \"Converting sparse IndexedSlices to a dense Tensor of unknown shape. \"\n"
     ]
    },
    {
     "name": "stdout",
     "output_type": "stream",
     "text": [
      "Number of parameters: 773658\n"
     ]
    }
   ],
   "source": [
    "mode = 'clusters'\n",
    "loss_mode = 'classification'\n",
    "\n",
    "tf.reset_default_graph()  \n",
    "helpers = ModelHelpers()\n",
    "\n",
    "X, input_mask = helpers.input_placeholders(max_len = max_len, input_columns = 41)\n",
    "y, y_vectors = helpers.labels_placeholders(max_len, n_clusters, n_angles*2)\n",
    "y, y_angles = helpers.labels_placeholders(max_len, n_clusters, n_angles)\n",
    "# y_vectors = tf.placeholder(max_len, n_clusters, n_angles, 2)\n",
    "\n",
    "clusters_tf = helpers.clusters(init_clusters=clusters, trainable=True, clip_gradient_eps=False)\n",
    "\n",
    "# construct the feature extraction part of the network\n",
    "dropout = 0.7\n",
    "conv1a = ModelHelpers.conv_layer(X, 32, 5)\n",
    "conv1b = ModelHelpers.conv_layer(conv1a, 32, 5)\n",
    "conv1b = tf.layers.batch_normalization(conv1b)\n",
    "conv2a = ModelHelpers.conv_layer(conv1b, 64, 5)\n",
    "conv2b = ModelHelpers.conv_layer(conv2a, 64, 5)\n",
    "conv2b = tf.layers.dropout(conv2b, rate=dropout)\n",
    "conv2b = tf.layers.batch_normalization(conv2b)\n",
    "conv3a = ModelHelpers.conv_layer([conv1b, conv2b], 128, 5) # residual connection is automated in the conv_layer helper\n",
    "conv3b = ModelHelpers.conv_layer(conv3a, 128, 5)\n",
    "conv3b = tf.layers.dropout(conv3b, rate=dropout)\n",
    "conv3b = tf.layers.batch_normalization(conv3b)\n",
    "conv4a = ModelHelpers.conv_layer([conv2b, conv3b], 256, 5)\n",
    "conv4b = ModelHelpers.conv_layer(conv4a, 256, 5)\n",
    "conv4b = tf.layers.dropout(conv4b, rate=dropout)\n",
    "core_out = conv4b\n",
    "\n",
    "## alternative to the cnn. very slow\n",
    "# lstm = bidirectional_lstm(X, 1, 32, keep_prob=0.05)\n",
    "\n",
    "### Regression ###\n",
    "if mode == 'vectors':\n",
    "    ### Angle vectors ###\n",
    "    vec_pred = tf.layers.dense(core_out, n_angles * 2) # angles logits\n",
    "#     vec_loss = \n",
    "\n",
    "#     vec_pred_r = tf.reshape(vec_pred, shape=(-1, max_len, n_angles, 2)) # reshape to 2 numbers (vector) per angle\n",
    "#     vec_loss_reg = tf.square(1 - (vec_pred_r[:,:,:,0] ** 2 + vec_pred_r[:,:,:,1]**2))\n",
    "# #     vec_pred = vec_pred / (tf.expand_dims(tf.sqrt(vec_pred[:,:,:,0]**2 + vec_pred[:,:,:,1]**2), 3)+1) # normalize\n",
    "#     rad_pred = tf.atan2((vec_pred_r[:,:,:,0]), (vec_pred_r[:,:,:,1])) # convert vector to angle\n",
    "\n",
    "    \n",
    "logits = tf.layers.dense(core_out, n_clusters) # cluster logits\n",
    "logits = tf.layers.dropout(logits, rate=0.05)\n",
    "y_pred = tf.nn.softmax(logits)\n",
    "\n",
    "# apply mask to all outputs used for losses (beware that the mask flattens them automatically)\n",
    "y_masked, logits_masked, y_pred_masked, y_vectors_masked, y_angles_masked =\\\n",
    "    helpers.mask_all([y, logits, y_pred, y_vectors, y_angles], input_mask)\n",
    "\n",
    "# computes the weighted sum of clusters (weighted by the predicted prob. dist.)\n",
    "if mode == 'clusters':\n",
    "    vec_pred_masked = tf.einsum('ij,bi->bj', clusters_tf, y_pred_masked)\n",
    "    vec_pred_masked_r = tf.reshape(vec_pred_masked, shape=(-1,n_angles,2))\n",
    "    rad_pred_masked = tf.atan2(vec_pred_masked_r[:,:,1], vec_pred_masked_r[:,:,0])\n",
    "\n",
    "# crossentropy loss on the classification task\n",
    "clusters_crossentropy = tf.reduce_mean(tf.nn.softmax_cross_entropy_with_logits_v2(labels=y_masked, logits=logits_masked))\n",
    "\n",
    "# mae computed for each angle separately\n",
    "# mae_vec = tf.reduce_mean(tf.abs(tf.subtract(rad_pred_masked[:,:], y_angles_masked[:,:])), axis=0)\n",
    "\n",
    "# mae reduced to 1 number\n",
    "mae = tf.reduce_mean(tf.abs(tf.subtract(vec_pred_masked, y_vectors_masked)))\n",
    "\n",
    "# angular mae\n",
    "mae_angles = helpers.loss360(rad_pred_masked, y_angles_masked)\n",
    "    \n",
    "loss = {\n",
    "    'normal_mae': mae,\n",
    "#     'angular_mae': mae_ang,\n",
    "    'classification': clusters_crossentropy,\n",
    "#     'angular_mae_and_classification': mae_ang + clusters_crossentropy\n",
    "}[loss_mode]\n",
    "\n",
    "regularization = []\n",
    "if 'vec_on_unit_circle':\n",
    "#     regularization.append(vec_loss_reg)\n",
    "    pass\n",
    "    \n",
    "for reg in regularization:\n",
    "    loss += reg\n",
    "\n",
    "# Define the optimizer operation\n",
    "learning_rate = tf.placeholder(tf.float32)\n",
    "\n",
    "# we can choose if we want to optimize mae or loss\n",
    "optimizer = tf.train.AdamOptimizer(learning_rate=learning_rate).minimize(mae)\n",
    "\n",
    "# Variables for prediction and accuracy\n",
    "prediction = tf.argmax(y_pred_masked, 1)\n",
    "accuracy = tf.reduce_mean(tf.cast(tf.equal(prediction, tf.argmax(y_masked, 1)), tf.float32))\n",
    "\n",
    "# Initialize the variables (they are assigned default values)\n",
    "init = tf.group(tf.global_variables_initializer(), tf.local_variables_initializer())\n",
    "\n",
    "n_parameters = np.sum([np.prod(v.get_shape().as_list()) for v in tf.trainable_variables()])\n",
    "print(\"Number of parameters:\", n_parameters)"
   ]
  },
  {
   "cell_type": "code",
   "execution_count": 12,
   "metadata": {},
   "outputs": [],
   "source": [
    "# batch_size = 32\n",
    "# init_learning_rate = 0.001\n",
    "# with tf.Session() as session:\n",
    "\n",
    "#     # Run the initializer\n",
    "#     session.run(init)\n",
    "#     b=0\n",
    "#     loss_value = session.run([clusters_crossentropy], feed_dict={X: x_train[b:b+batch_size],\n",
    "#                                                               y: y_train_labels[b:b+batch_size],\n",
    "#                                                               y_vectors: y_train[b:b+batch_size],\n",
    "#                                                               learning_rate: init_learning_rate,\n",
    "#                                                             input_mask: mask_[b:b+batch_size]})"
   ]
  },
  {
   "cell_type": "code",
   "execution_count": null,
   "metadata": {
    "scrolled": true
   },
   "outputs": [
    {
     "name": "stdout",
     "output_type": "stream",
     "text": [
      "Epoch: 0\n",
      "Train MAE = 7.388309\n",
      "MAE angles 0.61197513\n",
      "PCC [0.5290268, 0.5571151]\n",
      "Counter({45: 17849, 14: 9097, 3: 6183, 37: 1706, 43: 1116, 2: 613, 24: 488, 13: 477, 16: 77, 11: 26, 29: 2})\n",
      "0.001\n",
      "Epoch: 1\n",
      "Train MAE = 8.163951\n",
      "MAE angles 0.5571857\n",
      "PCC [0.5511713, 0.5920314]\n",
      "Counter({45: 15327, 14: 8714, 3: 3429, 2: 3035, 13: 2075, 46: 1294, 43: 1120, 17: 847, 37: 568, 29: 337, 4: 305, 44: 267, 11: 184, 41: 125, 16: 4, 24: 2, 40: 1})\n",
      "0.001\n",
      "Epoch: 2\n"
     ]
    }
   ],
   "source": [
    "def pearson_numpy(y_true, y_pred):\n",
    "    n_angles = y_true.shape[-1]\n",
    "    a_angles = np.split(np.cos(y_true.reshape(-1,)).reshape(-1,n_angles), \n",
    "                                     indices_or_sections=n_angles, axis=-1)\n",
    "    b_angles = np.split(np.cos(y_pred.reshape(-1,)).reshape(-1,n_angles),\n",
    "                                     indices_or_sections=n_angles, axis=-1)\n",
    "    return [scipy.stats.pearsonr(a.reshape(-1,), b.reshape(-1,))[0] for a,b in zip(a_angles, b_angles)]\n",
    "\n",
    "batch_size = 32\n",
    "n_epochs = 500\n",
    "\n",
    "# Start as session\n",
    "init_learning_rate = 0.001\n",
    "with tf.Session() as session:\n",
    "\n",
    "    # Run the initializer\n",
    "    session.run(init)\n",
    "\n",
    "    # Training cycle\n",
    "    for epoch in range(n_epochs):\n",
    "        print(\"Epoch:\", epoch)\n",
    "        train_loss = []\n",
    "        for b in range(0, x_train.shape[0], batch_size):\n",
    "            _, loss_value = session.run([optimizer, loss], feed_dict={X: x_train[b:b+batch_size],\n",
    "                                                                      y: y_train_labels[b:b+batch_size],\n",
    "                                                                      y_vectors: y_train[b:b+batch_size],\n",
    "                                                                      y_angles: y_train_angles[b:b+batch_size],\n",
    "                                                                      learning_rate: init_learning_rate,\n",
    "                                                                    input_mask: mask_[b:b+batch_size]})\n",
    "#             print(loss_value)\n",
    "            train_loss.append(loss_value)\n",
    "        \n",
    "        (validation_accuracy, loss_, pred_, \n",
    "         clusters_, y_pred_masked_, mae_angles_,\n",
    "        rad_pred_masked_, y_angles_masked_) = session.run([accuracy, mae, prediction, \n",
    "                                                              clusters_tf, y_pred_masked, mae_angles,\n",
    "                                                               rad_pred_masked, y_angles_masked], \n",
    "                                                              feed_dict={X: x_valid, y: y_valid_labels, \n",
    "                                                                         y_vectors:y_valid,\n",
    "                                                                         y_angles: y_valid_angles,\n",
    "                                                                        input_mask: mask_v})\n",
    "        x_train, y_train_labels, y_train, y_train_angles, mask_ = \\\n",
    "            ModelHelpers.unison_shuffled_copies([x_train, y_train_labels, y_train, y_train_angles, mask_])\n",
    "        \n",
    "#         print(\"val. loss = %f, val_acc = %f\" % (loss_value, validation_accuracy))    \n",
    "        print(\"Train MAE = %f\" % (np.mean(train_loss)))\n",
    "        print(\"MAE angles\", mae_angles_)\n",
    "        print(\"PCC\", pearson_numpy(rad_pred_masked_, y_angles_masked_))\n",
    "        print(collections.Counter(pred_))\n",
    "#         print(np.mean(y_pred_masked_, axis=0)) # prob. dist mean over clusters\n",
    "#         print(np.max(y_pred_masked_, axis=0)) # prob. dist max over clusters\n",
    "        print(init_learning_rate)\n",
    "#         print(clusters_)\n",
    "        \n",
    "        # Shrinks the learning rate every n epochs\n",
    "        train_loss = []\n",
    "        if (epoch + 1) % 10 == 0:\n",
    "            print(\"Adjusting learning rate\")\n",
    "            init_learning_rate = init_learning_rate / 1.05\n",
    "    \n",
    "    print(\"Optimization done\")\n",
    "\n",
    "    # Calculate training accuracy\n",
    "    train_accuracy_value, pred_train = session.run([accuracy, prediction], \n",
    "                                                                      feed_dict={X: x_train, y: y_train_labels,\n",
    "                                                                                y_vectors: y_train,\n",
    "                                                                                input_mask: mask_})\n",
    "    print(\"Train accuracy:\", train_accuracy_value)\n",
    "    \n",
    "    # Calculate test accuracy\n",
    "    test_accuracy_value, pred_test = session.run([accuracy, prediction], \n",
    "                                                                    feed_dict={X: x_valid, y: y_valid_labels,\n",
    "                                                                              y_vectors: y_valid,\n",
    "                                                                              input_mask: mask_v})\n",
    "    print(\"Test accuracy:\", test_accuracy_value)"
   ]
  },
  {
   "cell_type": "code",
   "execution_count": null,
   "metadata": {},
   "outputs": [],
   "source": [
    "rad_pred_.shape"
   ]
  },
  {
   "cell_type": "code",
   "execution_count": null,
   "metadata": {},
   "outputs": [],
   "source": [
    "n = 150\n",
    "plt.scatter(y_valid[n,:,0], y_valid[n,:,1], c='blue')\n",
    "plt.scatter(rad_pred_[:200,0], rad_pred_[:200,1], c='orange')\n",
    "\n",
    "np.mean(np.abs(y_valid[n,:,:2] - pred[n]))"
   ]
  },
  {
   "cell_type": "code",
   "execution_count": null,
   "metadata": {},
   "outputs": [],
   "source": [
    "np.min(rad_pred_), np.max(rad_pred_), np.min(rad_pred_cont_), np.max(rad_pred_cont_)"
   ]
  },
  {
   "cell_type": "markdown",
   "metadata": {},
   "source": [
    "Organize model modes:\n",
    "- predict angles through regression (tanh, *pi)\n",
    "- predict clusters and optimize for crossentropy\n",
    "- predict clusters and optimize for MAE\n",
    "- predict clusters as vectors and optimize for MAE"
   ]
  },
  {
   "cell_type": "code",
   "execution_count": null,
   "metadata": {},
   "outputs": [],
   "source": [
    "np.mean(np.abs(clusters_[pred_] - y_valid[mask_v])"
   ]
  },
  {
   "cell_type": "markdown",
   "metadata": {},
   "source": [
    "resnet CNN filter_length = 15 (with 5 it didn't change much either)\n",
    "\n",
    "*Rad angles, 10 not trainable clusters: 0.59\n",
    "\n",
    "*Rad angles, 10 trainable clusters, no clipping: MAE [0.43384644 0.721744  ] 0.5777952\n",
    "\n",
    "*Rad angles, 50 trainable clusters, no clipping: \n",
    "Train MAE = 0.545068\n",
    "Val. MAE [0.43777448 0.7208223 ] 0.5792984"
   ]
  },
  {
   "cell_type": "markdown",
   "metadata": {
    "collapsed": true
   },
   "source": [
    "pcc: 58 70 (10000 proteins, cluster, angular_mae_and_classification)\n",
    "pcc: 61.5 66.5 (10000 proteins, regression, angular_mae)"
   ]
  },
  {
   "cell_type": "code",
   "execution_count": null,
   "metadata": {},
   "outputs": [],
   "source": []
  }
 ],
 "metadata": {
  "kernelspec": {
   "display_name": "Python 3",
   "language": "python",
   "name": "python3"
  },
  "language_info": {
   "codemirror_mode": {
    "name": "ipython",
    "version": 3
   },
   "file_extension": ".py",
   "mimetype": "text/x-python",
   "name": "python",
   "nbconvert_exporter": "python",
   "pygments_lexer": "ipython3",
   "version": "3.6.6"
  }
 },
 "nbformat": 4,
 "nbformat_minor": 2
}
