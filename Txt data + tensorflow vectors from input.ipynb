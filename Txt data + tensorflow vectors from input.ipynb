{
 "cells": [
  {
   "cell_type": "code",
   "execution_count": 1,
   "metadata": {},
   "outputs": [
    {
     "name": "stderr",
     "output_type": "stream",
     "text": [
      "Using TensorFlow backend.\n"
     ]
    }
   ],
   "source": [
    "import numpy as np\n",
    "import matplotlib.pyplot as plt\n",
    "%matplotlib inline\n",
    "import glob\n",
    "import tensorflow as tf\n",
    "import time\n",
    "import scipy\n",
    "\n",
    "import collections, numpy\n",
    "\n",
    "import data_loader as dl\n",
    "import data_transformer as dt\n",
    "\n",
    "from sklearn.cluster import KMeans\n",
    "from keras.utils import to_categorical\n",
    "\n",
    "from sklearn.utils import shuffle\n",
    "\n",
    "from final.model import Model\n",
    "from final.helpers import Helpers\n",
    "\n",
    "class ModelHelpers:\n",
    "    @staticmethod\n",
    "    @tf.custom_gradient\n",
    "    def clip_grad_layer(x):\n",
    "        def grad(dy):\n",
    "            return tf.clip_by_value(dy, 1e-10, 1e-10)\n",
    "        return tf.identity(x), grad\n",
    "    \n",
    "    @staticmethod\n",
    "    def input_placeholders(max_len, input_columns):\n",
    "        X = tf.placeholder(tf.float32, [None, max_len, input_columns], name=\"X\")\n",
    "        input_mask = tf.placeholder(tf.bool, [None, max_len], name=\"input_mask\")\n",
    "        return X, input_mask\n",
    "\n",
    "    @staticmethod\n",
    "    def labels_placeholders(max_len, n_clusters, n_angles):\n",
    "        y = tf.placeholder(tf.float32, [None, max_len, n_clusters], name='y')\n",
    "        y_angles = tf.placeholder(tf.float32, [None, max_len, n_angles], name='y_angles')\n",
    "        return y, y_angles\n",
    "\n",
    "    @staticmethod\n",
    "    def clusters(init_clusters, trainable=False, clip_value = 1, clip_gradient_eps=False):\n",
    "        clusters_tf = tf.Variable(initial_value=init_clusters, dtype=np.float32, trainable=trainable)\n",
    "        clusters_tf = tf.clip_by_value(clusters_tf, -clip_value, clip_value)\n",
    "        if clip_gradient_eps:\n",
    "            clusters_tf = ModelHelpers.clip_grad_layer(clusters_tf)\n",
    "        return clusters_tf  "
   ]
  },
  {
   "cell_type": "code",
   "execution_count": 2,
   "metadata": {},
   "outputs": [],
   "source": [
    "# change this path to match the path of where you have the\n",
    "# training_50 and validation files\n",
    "txt_data_path = '/home/mikey/Data/ProteinNet/casp7_txt/'\n",
    "\n",
    "max_len = None # max len of the protein taken into account\n",
    "n_angles = 2 # 3 if consider all angles or 2 if only phi and psi"
   ]
  },
  {
   "cell_type": "markdown",
   "metadata": {},
   "source": [
    "The data_lim is important because so far the full 13000 proteins crashes my system with 16Gb of ram\n",
    "\n",
    "Load training data"
   ]
  },
  {
   "cell_type": "code",
   "execution_count": 3,
   "metadata": {},
   "outputs": [
    {
     "name": "stdout",
     "output_type": "stream",
     "text": [
      "Loaded data and filtered line endings\n",
      "Extracted primary data\n",
      "Encoded primary sequences\n",
      "Loaded data and filtered line endings\n",
      "Extracted evolutionary data\n"
     ]
    },
    {
     "name": "stderr",
     "output_type": "stream",
     "text": [
      "100%|██████████| 6000/6000 [00:00<00:00, 74142.52it/s]\n"
     ]
    },
    {
     "name": "stdout",
     "output_type": "stream",
     "text": [
      "Grouped 21's together\n",
      "Loaded data and filtered line endings\n",
      "Extracted mask data\n"
     ]
    },
    {
     "data": {
      "text/plain": [
       "(6000, (70, 20), 6000, (70, 21), 6000, (70, 3), 6000, (70,))"
      ]
     },
     "execution_count": 3,
     "metadata": {},
     "output_type": "execute_result"
    }
   ],
   "source": [
    "file_name = 'training_50'\n",
    "data_lim = 6000\n",
    "prim_train, evo_train, dih_train, mask_train = (dl.parse_primary_from_file(txt_data_path + file_name, data_lim), \n",
    "                                                dl.parse_evolutionary_from_file(txt_data_path + file_name, data_lim),\n",
    "                                                dl.load_file('./'+file_name+'_dih.joblib'),\n",
    "                                                dl.parse_mask_from_file(txt_data_path + file_name, data_lim))\n",
    "dih_train = dih_train[:data_lim]\n",
    "len(prim_train), prim_train[0].shape, len(evo_train), evo_train[0].shape, len(dih_train), dih_train[0].shape, len(mask_train), mask_train[0].shape"
   ]
  },
  {
   "cell_type": "markdown",
   "metadata": {},
   "source": [
    "Load validation data"
   ]
  },
  {
   "cell_type": "code",
   "execution_count": 4,
   "metadata": {},
   "outputs": [
    {
     "name": "stdout",
     "output_type": "stream",
     "text": [
      "Loaded data and filtered line endings\n",
      "Extracted primary data\n",
      "Encoded primary sequences\n",
      "Loaded data and filtered line endings\n",
      "Extracted evolutionary data\n"
     ]
    },
    {
     "name": "stderr",
     "output_type": "stream",
     "text": [
      "100%|██████████| 224/224 [00:00<00:00, 67330.09it/s]"
     ]
    },
    {
     "name": "stdout",
     "output_type": "stream",
     "text": [
      "Grouped 21's together\n",
      "Loaded data and filtered line endings\n",
      "Extracted mask data\n"
     ]
    },
    {
     "name": "stderr",
     "output_type": "stream",
     "text": [
      "\n"
     ]
    },
    {
     "data": {
      "text/plain": [
       "(224, (269, 20), 224, (269, 21), 224, (269, 3), 224, (269,))"
      ]
     },
     "execution_count": 4,
     "metadata": {},
     "output_type": "execute_result"
    }
   ],
   "source": [
    "file_name = 'validation'\n",
    "prim_valid, evo_valid, dih_valid, mask_valid = (dl.parse_primary_from_file(txt_data_path + file_name), \n",
    "                                                dl.parse_evolutionary_from_file(txt_data_path + file_name),\n",
    "                                                dl.load_file('./'+ file_name + '_dih.joblib'),\n",
    "                                                dl.parse_mask_from_file(txt_data_path + file_name))\n",
    "len(prim_valid), prim_valid[0].shape, len(evo_valid), evo_valid[0].shape, len(dih_valid), dih_valid[0].shape, len(mask_valid), mask_valid[0].shape"
   ]
  },
  {
   "cell_type": "markdown",
   "metadata": {},
   "source": [
    "Pad the data and limit protein length. Prepare the data for training"
   ]
  },
  {
   "cell_type": "code",
   "execution_count": 5,
   "metadata": {},
   "outputs": [
    {
     "name": "stdout",
     "output_type": "stream",
     "text": [
      "padded\n",
      "(6000,) (70, 20)\n",
      "padded\n",
      "(6000,) (70, 21)\n",
      "padded\n",
      "(6000,) (70, 3)\n",
      "padded\n",
      "(6000,) (70, 1)\n",
      "padded\n",
      "(224,) (269, 20)\n",
      "padded\n",
      "(224,) (269, 21)\n",
      "padded\n",
      "(224,) (269, 3)\n",
      "padded\n",
      "(224,) (269, 1)\n"
     ]
    },
    {
     "data": {
      "text/plain": [
       "((6000, 1733, 41), (6000, 1733, 2), (224, 696, 41), (224, 696, 2))"
      ]
     },
     "execution_count": 5,
     "metadata": {},
     "output_type": "execute_result"
    }
   ],
   "source": [
    "prim_, evo_, dih_, mask_ = dt.limit_length_and_pad(prim_train, evo_train, dih_train, mask_train, max_len)\n",
    "x_train, y_train = np.concatenate([prim_, evo_], axis=2), dih_[:,:,:n_angles]\n",
    "prim_v, evo_v, dih_v, mask_v = dt.limit_length_and_pad(prim_valid, evo_valid, dih_valid, mask_valid, max_len)\n",
    "x_valid, y_valid = np.concatenate([prim_v, evo_v], axis=2), dih_v[:,:,:n_angles]\n",
    "\n",
    "x_train.shape, y_train.shape, x_valid.shape, y_valid.shape"
   ]
  },
  {
   "cell_type": "code",
   "execution_count": 6,
   "metadata": {},
   "outputs": [
    {
     "data": {
      "text/plain": [
       "((6000, 1733, 4), (224, 696, 4))"
      ]
     },
     "execution_count": 6,
     "metadata": {},
     "output_type": "execute_result"
    }
   ],
   "source": [
    "def ang_to_vec(angles):\n",
    "    res = []\n",
    "    for i in range(angles.shape[-1]):\n",
    "        angles_cos = np.cos(angles[:,:,i])\n",
    "        angles_sin = np.sin(angles[:,:,i])\n",
    "        angles_stacked = np.stack([angles_cos, angles_sin], axis=-1)\n",
    "        res.append(angles_stacked)\n",
    "    return np.concatenate(res, axis=-1)\n",
    "\n",
    "y_train_angles = y_train\n",
    "y_valid_angles = y_valid\n",
    "y_train = ang_to_vec(y_train)\n",
    "y_valid = ang_to_vec(y_valid)\n",
    "y_train.shape, y_valid.shape"
   ]
  },
  {
   "cell_type": "code",
   "execution_count": 7,
   "metadata": {
    "scrolled": false
   },
   "outputs": [
    {
     "data": {
      "text/plain": [
       "(50, 4)"
      ]
     },
     "execution_count": 7,
     "metadata": {},
     "output_type": "execute_result"
    }
   ],
   "source": [
    "select_clusters_n = 50\n",
    "km = KMeans(n_clusters=select_clusters_n, random_state=0, verbose=0, max_iter=1000).fit(y_train[:200].reshape(-1,n_angles*2))\n",
    "clusters = km.cluster_centers_\n",
    "n_clusters = clusters.shape[0]\n",
    "clusters.shape"
   ]
  },
  {
   "cell_type": "code",
   "execution_count": 8,
   "metadata": {},
   "outputs": [
    {
     "data": {
      "image/png": "[encoded data removed]",
      "text/plain": [
       "<Figure size 720x432 with 1 Axes>"
      ]
     },
     "metadata": {
      "needs_background": "light"
     },
     "output_type": "display_data"
    }
   ],
   "source": [
    "def plot_cluster_centers(data, clusters, x_i, y_i, data_lim=10):\n",
    "    plt.figure(figsize=(10,6))\n",
    "    plt.scatter(y_valid[:data_lim][:,:,x_i], y_valid[:data_lim][:,:,y_i], s=1)\n",
    "    plt.scatter(clusters[:,x_i], clusters[:,y_i], marker='x', s=80)\n",
    "    \n",
    "plot_cluster_centers(y_valid, clusters, x_i=0, y_i=1, data_lim=10)\n",
    "if n_angles == 3:\n",
    "    plot_cluster_centers(y_valid, clusters, x_i=1, y_i=2, data_lim=10)\n",
    "    plot_cluster_centers(y_valid, clusters, x_i=0, y_i=2, data_lim=10)"
   ]
  },
  {
   "cell_type": "code",
   "execution_count": 9,
   "metadata": {},
   "outputs": [
    {
     "data": {
      "text/plain": [
       "((6000, 1733, 50),\n",
       " (224, 696, 50),\n",
       " array([ 0,  1,  2,  3,  4,  5,  6,  7,  8,  9, 10, 11, 12, 13, 14, 15, 16,\n",
       "        17, 18, 19, 20, 21, 22, 23, 24, 25, 26, 27, 28, 29, 30, 31, 32, 33,\n",
       "        34, 35, 36, 37, 38, 39, 40, 41, 42, 43, 44, 45, 46, 47, 48, 49]),\n",
       " array([ 0,  1,  2,  3,  4,  5,  6,  7,  8,  9, 10, 11, 12, 13, 14, 15, 16,\n",
       "        17, 18, 19, 20, 21, 22, 23, 24, 25, 26, 27, 28, 29, 30, 31, 32, 33,\n",
       "        34, 35, 36, 37, 38, 39, 40, 41, 42, 43, 44, 45, 46, 47, 48, 49]),\n",
       " 50)"
      ]
     },
     "execution_count": 9,
     "metadata": {},
     "output_type": "execute_result"
    }
   ],
   "source": [
    "y_train_labels_ = np.argmin(scipy.spatial.distance_matrix(y_train.reshape(-1,n_angles*2), clusters), \n",
    "                            axis=1).reshape(y_train.shape[0], y_train.shape[1])\n",
    "\n",
    "y_valid_labels_ = np.argmin(scipy.spatial.distance_matrix(y_valid.reshape(-1,n_angles*2), clusters), \n",
    "                            axis=1).reshape(y_valid.shape[0], y_valid.shape[1])\n",
    "\n",
    "y_train_labels = to_categorical(y_train_labels_, num_classes=n_clusters)\n",
    "y_valid_labels = to_categorical(y_valid_labels_, num_classes=n_clusters)\n",
    "\n",
    "y_train_labels.shape, y_valid_labels.shape, np.unique(y_train_labels_), np.unique(y_valid_labels_), n_clusters"
   ]
  },
  {
   "cell_type": "code",
   "execution_count": 10,
   "metadata": {},
   "outputs": [],
   "source": [
    "def load_config(config):\n",
    "    return config['mode'], config['loss_mode']\n",
    "\n",
    "config1 = {'mode': 'regression', 'loss_mode': 'angular_mae'}\n",
    "\n",
    "config2 = {'mode': 'vectors','loss_mode': 'angular_mae'}\n",
    "\n",
    "config3 = {'mode': 'vectors','loss_mode': 'normal_mae'}\n",
    "\n",
    "config4 = {'mode': 'clusters','loss_mode': 'angular_mae'}\n",
    "\n",
    "config5 = {'mode': 'clusters','loss_mode': 'normal_mae'}"
   ]
  },
  {
   "cell_type": "code",
   "execution_count": 11,
   "metadata": {},
   "outputs": [
    {
     "name": "stderr",
     "output_type": "stream",
     "text": [
      "/home/mikey/.local/lib/python3.6/site-packages/tensorflow/python/ops/gradients_impl.py:108: UserWarning: Converting sparse IndexedSlices to a dense Tensor of unknown shape. This may consume a large amount of memory.\n",
      "  \"Converting sparse IndexedSlices to a dense Tensor of unknown shape. \"\n"
     ]
    },
    {
     "name": "stdout",
     "output_type": "stream",
     "text": [
      "Number of parameters: 775130\n"
     ]
    }
   ],
   "source": [
    "mode, loss_mode = load_config(config5)\n",
    "\n",
    "vec_on_unit_circle = False\n",
    "if not mode == 'regression':\n",
    "    if loss_mode == 'normal_mae':\n",
    "        vec_on_unit_circle = False\n",
    "    else:\n",
    "        vec_on_unit_circle = True\n",
    "\n",
    "tf.reset_default_graph()  \n",
    "\n",
    "X, input_mask = ModelHelpers.input_placeholders(max_len = max_len, input_columns = 41)\n",
    "y, y_vectors = ModelHelpers.labels_placeholders(max_len, n_clusters, n_angles*2)\n",
    "y, y_angles = ModelHelpers.labels_placeholders(max_len, n_clusters, n_angles)\n",
    "# y_vectors = tf.placeholder(max_len, n_clusters, n_angles, 2)\n",
    "\n",
    "clusters_tf = ModelHelpers.clusters(init_clusters=clusters, trainable=True, clip_gradient_eps=False)\n",
    "\n",
    "# construct the feature extraction part of the network\n",
    "dropout = 0.3\n",
    "core_out = Model.CoreModels.resnet1d_big(X, 0.4)\n",
    "\n",
    "### Regression ###\n",
    "rad_pred = tf.zeros_like(y_angles)\n",
    "if mode == 'regression':\n",
    "    rad_pred_cont = tf.layers.dense(core_out, n_angles)# angles logits\n",
    "    rad_pred = Helpers.angularize(rad_pred_cont)\n",
    "\n",
    "### Regression ###\n",
    "vec_pred = tf.zeros_like(y_angles)\n",
    "if mode == 'vectors':\n",
    "    if vec_on_unit_circle:\n",
    "        activation = 'tanh'\n",
    "    else:\n",
    "        activation = 'linear'\n",
    "    vec_pred = tf.layers.dense(core_out, n_angles * 2, activation=activation) # angles logits\n",
    "\n",
    "    vec_pred_r = tf.reshape(vec_pred, shape=(-1, tf.shape(vec_pred)[1], n_angles, 2)) # reshape to 2 numbers (vector) per angle\n",
    "    vec_loss_reg = tf.reduce_mean(tf.square(1 - (vec_pred_r[:,:,:,0] ** 2 + vec_pred_r[:,:,:,1]**2)))\n",
    "#     vec_pred = vec_pred / (tf.expand_dims(tf.sqrt(vec_pred[:,:,:,0]**2 + vec_pred[:,:,:,1]**2), 3)+1) # normalize\n",
    "    rad_pred = tf.atan2(vec_pred_r[:,:,:,0], vec_pred_r[:,:,:,1]) # convert vector to angle\n",
    "\n",
    "logits = tf.layers.dense(core_out, n_clusters) # cluster logits\n",
    "logits = tf.layers.dropout(logits, rate=0.05)\n",
    "y_pred = tf.nn.softmax(logits)\n",
    "\n",
    "# apply mask to all outputs used for losses (beware that the mask flattens them automatically)\n",
    "y_masked, logits_masked, y_pred_masked, y_vectors_masked, y_angles_masked, rad_pred_masked, vec_pred_masked =\\\n",
    "    Helpers.mask_all([y, logits, y_pred, y_vectors, y_angles, rad_pred, vec_pred], input_mask)\n",
    "\n",
    "### Clusters ###\n",
    "# computes the weighted sum of clusters (weighted by the predicted prob. dist.)\n",
    "if mode == 'clusters':\n",
    "    vec_pred_masked = tf.einsum('ij,bi->bj', clusters_tf, y_pred_masked)\n",
    "    vec_pred_masked_r = tf.reshape(vec_pred_masked, shape=(-1,n_angles,2))\n",
    "    vec_loss_reg = tf.reduce_mean(tf.square(1 - (vec_pred_masked_r[:,:,0] ** 2 + vec_pred_masked_r[:,:,1]**2)))\n",
    "    rad_pred_masked = tf.atan2(vec_pred_masked_r[:,:,1], vec_pred_masked_r[:,:,0])\n",
    "\n",
    "# crossentropy loss on the classification task\n",
    "clusters_crossentropy = tf.reduce_mean(tf.nn.softmax_cross_entropy_with_logits_v2(labels=y_masked, logits=logits_masked))\n",
    "\n",
    "# mae computed for each angle separately\n",
    "# mae_vec = tf.reduce_mean(tf.abs(tf.subtract(rad_pred_masked[:,:], y_angles_masked[:,:])), axis=0)\n",
    "\n",
    "# mae reduced to 1 number\n",
    "mae = tf.constant(0)\n",
    "if not mode == 'regression':\n",
    "    mae = tf.reduce_mean(tf.abs(tf.subtract(vec_pred_masked, \n",
    "                                            y_vectors_masked)))\n",
    "\n",
    "# angular mae\n",
    "mae_angles_vec = Helpers.loss360(rad_pred_masked, y_angles_masked)\n",
    "mae_angles = tf.reduce_mean(mae_angles_vec)    \n",
    "\n",
    "loss = {\n",
    "    'normal_mae': mae,\n",
    "    'angular_mae': mae_angles,\n",
    "    'classification': clusters_crossentropy,\n",
    "#     'angular_mae_and_classification': mae_ang + clusters_crossentropy\n",
    "}[loss_mode]\n",
    "\n",
    "regularization = []\n",
    "if vec_on_unit_circle:\n",
    "    regularization.append(vec_loss_reg)\n",
    "    \n",
    "if len(regularization) > 0:\n",
    "    loss = tf.add_n([loss] + regularization)\n",
    "\n",
    "# Define the optimizer operation\n",
    "learning_rate = tf.placeholder(tf.float32)\n",
    "\n",
    "# we can choose if we want to optimize mae or loss\n",
    "optimizer = tf.train.AdamOptimizer(learning_rate=learning_rate).minimize(loss)\n",
    "\n",
    "# Variables for prediction and accuracy\n",
    "prediction = tf.argmax(y_pred_masked, 1)\n",
    "accuracy = tf.reduce_mean(tf.cast(tf.equal(prediction, tf.argmax(y_masked, 1)), tf.float32))\n",
    "\n",
    "# Initialize the variables (they are assigned default values)\n",
    "init = tf.group(tf.global_variables_initializer(), tf.local_variables_initializer())\n",
    "\n",
    "n_parameters = np.sum([np.prod(v.get_shape().as_list()) for v in tf.trainable_variables()])\n",
    "print(\"Number of parameters:\", n_parameters)"
   ]
  },
  {
   "cell_type": "code",
   "execution_count": 12,
   "metadata": {},
   "outputs": [],
   "source": [
    "# batch_size = 32\n",
    "# init_learning_rate = 0.001\n",
    "# with tf.Session() as session:\n",
    "\n",
    "#     # Run the initializer\n",
    "#     session.run(init)\n",
    "#     b=0\n",
    "#     loss_value = session.run([clusters_crossentropy], feed_dict={X: x_train[b:b+batch_size],\n",
    "#                                                               y: y_train_labels[b:b+batch_size],\n",
    "#                                                               y_vectors: y_train[b:b+batch_size],\n",
    "#                                                               learning_rate: init_learning_rate,\n",
    "#                                                             input_mask: mask_[b:b+batch_size]})"
   ]
  },
  {
   "cell_type": "code",
   "execution_count": 103,
   "metadata": {
    "scrolled": true
   },
   "outputs": [
    {
     "name": "stdout",
     "output_type": "stream",
     "text": [
      "Epoch: 0\n",
      "Train loss = 0.387148\n",
      "Valid loss = 0.3305084\n",
      "PCC [0.4802013, 0.50347394]\n",
      "Counter({26: 16315, 23: 6230, 9: 6068, 14: 5294, 15: 4680, 27: 1873, 13: 1735, 24: 1306, 43: 304, 10: 62})\n",
      "0.001\n",
      "-0.08414492\n",
      "Epoch: 1\n",
      "Train loss = 0.317366\n",
      "Valid loss = 0.30236083\n",
      "PCC [0.544332, 0.58738166]\n",
      "Counter({26: 13707, 9: 12772, 10: 4108, 14: 3082, 15: 2135, 27: 1841, 24: 1839, 13: 1398, 23: 1109, 4: 713, 0: 703, 43: 333, 47: 127})\n",
      "0.001\n",
      "-0.08323164\n",
      "Epoch: 2\n"
     ]
    },
    {
     "ename": "KeyboardInterrupt",
     "evalue": "",
     "output_type": "error",
     "traceback": [
      "\u001b[0;31m---------------------------------------------------------------------------\u001b[0m",
      "\u001b[0;31mKeyboardInterrupt\u001b[0m                         Traceback (most recent call last)",
      "\u001b[0;32m<ipython-input-103-53c8c915a535>\u001b[0m in \u001b[0;36m<module>\u001b[0;34m\u001b[0m\n\u001b[1;32m     27\u001b[0m                                                                       \u001b[0my_angles\u001b[0m\u001b[0;34m:\u001b[0m \u001b[0my_train_angles\u001b[0m\u001b[0;34m[\u001b[0m\u001b[0mb\u001b[0m\u001b[0;34m:\u001b[0m\u001b[0mb\u001b[0m\u001b[0;34m+\u001b[0m\u001b[0mbatch_size\u001b[0m\u001b[0;34m]\u001b[0m\u001b[0;34m,\u001b[0m\u001b[0;34m\u001b[0m\u001b[0m\n\u001b[1;32m     28\u001b[0m                                                                       \u001b[0mlearning_rate\u001b[0m\u001b[0;34m:\u001b[0m \u001b[0minit_learning_rate\u001b[0m\u001b[0;34m,\u001b[0m\u001b[0;34m\u001b[0m\u001b[0m\n\u001b[0;32m---> 29\u001b[0;31m                                                                     input_mask: mask_[b:b+batch_size]})\n\u001b[0m\u001b[1;32m     30\u001b[0m \u001b[0;31m#             print(loss_value)\u001b[0m\u001b[0;34m\u001b[0m\u001b[0;34m\u001b[0m\u001b[0m\n\u001b[1;32m     31\u001b[0m             \u001b[0mtrain_loss\u001b[0m\u001b[0;34m.\u001b[0m\u001b[0mappend\u001b[0m\u001b[0;34m(\u001b[0m\u001b[0mloss_value\u001b[0m\u001b[0;34m)\u001b[0m\u001b[0;34m\u001b[0m\u001b[0m\n",
      "\u001b[0;32m~/.local/lib/python3.6/site-packages/tensorflow/python/client/session.py\u001b[0m in \u001b[0;36mrun\u001b[0;34m(self, fetches, feed_dict, options, run_metadata)\u001b[0m\n\u001b[1;32m    885\u001b[0m     \u001b[0;32mtry\u001b[0m\u001b[0;34m:\u001b[0m\u001b[0;34m\u001b[0m\u001b[0m\n\u001b[1;32m    886\u001b[0m       result = self._run(None, fetches, feed_dict, options_ptr,\n\u001b[0;32m--> 887\u001b[0;31m                          run_metadata_ptr)\n\u001b[0m\u001b[1;32m    888\u001b[0m       \u001b[0;32mif\u001b[0m \u001b[0mrun_metadata\u001b[0m\u001b[0;34m:\u001b[0m\u001b[0;34m\u001b[0m\u001b[0m\n\u001b[1;32m    889\u001b[0m         \u001b[0mproto_data\u001b[0m \u001b[0;34m=\u001b[0m \u001b[0mtf_session\u001b[0m\u001b[0;34m.\u001b[0m\u001b[0mTF_GetBuffer\u001b[0m\u001b[0;34m(\u001b[0m\u001b[0mrun_metadata_ptr\u001b[0m\u001b[0;34m)\u001b[0m\u001b[0;34m\u001b[0m\u001b[0m\n",
      "\u001b[0;32m~/.local/lib/python3.6/site-packages/tensorflow/python/client/session.py\u001b[0m in \u001b[0;36m_run\u001b[0;34m(self, handle, fetches, feed_dict, options, run_metadata)\u001b[0m\n\u001b[1;32m   1108\u001b[0m     \u001b[0;32mif\u001b[0m \u001b[0mfinal_fetches\u001b[0m \u001b[0;32mor\u001b[0m \u001b[0mfinal_targets\u001b[0m \u001b[0;32mor\u001b[0m \u001b[0;34m(\u001b[0m\u001b[0mhandle\u001b[0m \u001b[0;32mand\u001b[0m \u001b[0mfeed_dict_tensor\u001b[0m\u001b[0;34m)\u001b[0m\u001b[0;34m:\u001b[0m\u001b[0;34m\u001b[0m\u001b[0m\n\u001b[1;32m   1109\u001b[0m       results = self._do_run(handle, final_targets, final_fetches,\n\u001b[0;32m-> 1110\u001b[0;31m                              feed_dict_tensor, options, run_metadata)\n\u001b[0m\u001b[1;32m   1111\u001b[0m     \u001b[0;32melse\u001b[0m\u001b[0;34m:\u001b[0m\u001b[0;34m\u001b[0m\u001b[0m\n\u001b[1;32m   1112\u001b[0m       \u001b[0mresults\u001b[0m \u001b[0;34m=\u001b[0m \u001b[0;34m[\u001b[0m\u001b[0;34m]\u001b[0m\u001b[0;34m\u001b[0m\u001b[0m\n",
      "\u001b[0;32m~/.local/lib/python3.6/site-packages/tensorflow/python/client/session.py\u001b[0m in \u001b[0;36m_do_run\u001b[0;34m(self, handle, target_list, fetch_list, feed_dict, options, run_metadata)\u001b[0m\n\u001b[1;32m   1284\u001b[0m     \u001b[0;32mif\u001b[0m \u001b[0mhandle\u001b[0m \u001b[0;32mis\u001b[0m \u001b[0;32mNone\u001b[0m\u001b[0;34m:\u001b[0m\u001b[0;34m\u001b[0m\u001b[0m\n\u001b[1;32m   1285\u001b[0m       return self._do_call(_run_fn, feeds, fetches, targets, options,\n\u001b[0;32m-> 1286\u001b[0;31m                            run_metadata)\n\u001b[0m\u001b[1;32m   1287\u001b[0m     \u001b[0;32melse\u001b[0m\u001b[0;34m:\u001b[0m\u001b[0;34m\u001b[0m\u001b[0m\n\u001b[1;32m   1288\u001b[0m       \u001b[0;32mreturn\u001b[0m \u001b[0mself\u001b[0m\u001b[0;34m.\u001b[0m\u001b[0m_do_call\u001b[0m\u001b[0;34m(\u001b[0m\u001b[0m_prun_fn\u001b[0m\u001b[0;34m,\u001b[0m \u001b[0mhandle\u001b[0m\u001b[0;34m,\u001b[0m \u001b[0mfeeds\u001b[0m\u001b[0;34m,\u001b[0m \u001b[0mfetches\u001b[0m\u001b[0;34m)\u001b[0m\u001b[0;34m\u001b[0m\u001b[0m\n",
      "\u001b[0;32m~/.local/lib/python3.6/site-packages/tensorflow/python/client/session.py\u001b[0m in \u001b[0;36m_do_call\u001b[0;34m(self, fn, *args)\u001b[0m\n\u001b[1;32m   1290\u001b[0m   \u001b[0;32mdef\u001b[0m \u001b[0m_do_call\u001b[0m\u001b[0;34m(\u001b[0m\u001b[0mself\u001b[0m\u001b[0;34m,\u001b[0m \u001b[0mfn\u001b[0m\u001b[0;34m,\u001b[0m \u001b[0;34m*\u001b[0m\u001b[0margs\u001b[0m\u001b[0;34m)\u001b[0m\u001b[0;34m:\u001b[0m\u001b[0;34m\u001b[0m\u001b[0m\n\u001b[1;32m   1291\u001b[0m     \u001b[0;32mtry\u001b[0m\u001b[0;34m:\u001b[0m\u001b[0;34m\u001b[0m\u001b[0m\n\u001b[0;32m-> 1292\u001b[0;31m       \u001b[0;32mreturn\u001b[0m \u001b[0mfn\u001b[0m\u001b[0;34m(\u001b[0m\u001b[0;34m*\u001b[0m\u001b[0margs\u001b[0m\u001b[0;34m)\u001b[0m\u001b[0;34m\u001b[0m\u001b[0m\n\u001b[0m\u001b[1;32m   1293\u001b[0m     \u001b[0;32mexcept\u001b[0m \u001b[0merrors\u001b[0m\u001b[0;34m.\u001b[0m\u001b[0mOpError\u001b[0m \u001b[0;32mas\u001b[0m \u001b[0me\u001b[0m\u001b[0;34m:\u001b[0m\u001b[0;34m\u001b[0m\u001b[0m\n\u001b[1;32m   1294\u001b[0m       \u001b[0mmessage\u001b[0m \u001b[0;34m=\u001b[0m \u001b[0mcompat\u001b[0m\u001b[0;34m.\u001b[0m\u001b[0mas_text\u001b[0m\u001b[0;34m(\u001b[0m\u001b[0me\u001b[0m\u001b[0;34m.\u001b[0m\u001b[0mmessage\u001b[0m\u001b[0;34m)\u001b[0m\u001b[0;34m\u001b[0m\u001b[0m\n",
      "\u001b[0;32m~/.local/lib/python3.6/site-packages/tensorflow/python/client/session.py\u001b[0m in \u001b[0;36m_run_fn\u001b[0;34m(feed_dict, fetch_list, target_list, options, run_metadata)\u001b[0m\n\u001b[1;32m   1275\u001b[0m       \u001b[0mself\u001b[0m\u001b[0;34m.\u001b[0m\u001b[0m_extend_graph\u001b[0m\u001b[0;34m(\u001b[0m\u001b[0;34m)\u001b[0m\u001b[0;34m\u001b[0m\u001b[0m\n\u001b[1;32m   1276\u001b[0m       return self._call_tf_sessionrun(\n\u001b[0;32m-> 1277\u001b[0;31m           options, feed_dict, fetch_list, target_list, run_metadata)\n\u001b[0m\u001b[1;32m   1278\u001b[0m \u001b[0;34m\u001b[0m\u001b[0m\n\u001b[1;32m   1279\u001b[0m     \u001b[0;32mdef\u001b[0m \u001b[0m_prun_fn\u001b[0m\u001b[0;34m(\u001b[0m\u001b[0mhandle\u001b[0m\u001b[0;34m,\u001b[0m \u001b[0mfeed_dict\u001b[0m\u001b[0;34m,\u001b[0m \u001b[0mfetch_list\u001b[0m\u001b[0;34m)\u001b[0m\u001b[0;34m:\u001b[0m\u001b[0;34m\u001b[0m\u001b[0m\n",
      "\u001b[0;32m~/.local/lib/python3.6/site-packages/tensorflow/python/client/session.py\u001b[0m in \u001b[0;36m_call_tf_sessionrun\u001b[0;34m(self, options, feed_dict, fetch_list, target_list, run_metadata)\u001b[0m\n\u001b[1;32m   1365\u001b[0m     return tf_session.TF_SessionRun_wrapper(\n\u001b[1;32m   1366\u001b[0m         \u001b[0mself\u001b[0m\u001b[0;34m.\u001b[0m\u001b[0m_session\u001b[0m\u001b[0;34m,\u001b[0m \u001b[0moptions\u001b[0m\u001b[0;34m,\u001b[0m \u001b[0mfeed_dict\u001b[0m\u001b[0;34m,\u001b[0m \u001b[0mfetch_list\u001b[0m\u001b[0;34m,\u001b[0m \u001b[0mtarget_list\u001b[0m\u001b[0;34m,\u001b[0m\u001b[0;34m\u001b[0m\u001b[0m\n\u001b[0;32m-> 1367\u001b[0;31m         run_metadata)\n\u001b[0m\u001b[1;32m   1368\u001b[0m \u001b[0;34m\u001b[0m\u001b[0m\n\u001b[1;32m   1369\u001b[0m   \u001b[0;32mdef\u001b[0m \u001b[0m_call_tf_sessionprun\u001b[0m\u001b[0;34m(\u001b[0m\u001b[0mself\u001b[0m\u001b[0;34m,\u001b[0m \u001b[0mhandle\u001b[0m\u001b[0;34m,\u001b[0m \u001b[0mfeed_dict\u001b[0m\u001b[0;34m,\u001b[0m \u001b[0mfetch_list\u001b[0m\u001b[0;34m)\u001b[0m\u001b[0;34m:\u001b[0m\u001b[0;34m\u001b[0m\u001b[0m\n",
      "\u001b[0;31mKeyboardInterrupt\u001b[0m: "
     ]
    }
   ],
   "source": [
    "def pearson_numpy(y_true, y_pred):\n",
    "    n_angles = y_true.shape[-1]\n",
    "    a_angles = np.split(np.cos(y_true.reshape(-1,)).reshape(-1,n_angles), \n",
    "                                     indices_or_sections=n_angles, axis=-1)\n",
    "    b_angles = np.split(np.cos(y_pred.reshape(-1,)).reshape(-1,n_angles),\n",
    "                                     indices_or_sections=n_angles, axis=-1)\n",
    "    return [scipy.stats.pearsonr(a.reshape(-1,), b.reshape(-1,))[0] for a,b in zip(a_angles, b_angles)]\n",
    "\n",
    "batch_size = 32\n",
    "n_epochs = 500\n",
    "\n",
    "# Start as session\n",
    "init_learning_rate = 0.001\n",
    "with tf.Session() as session:\n",
    "\n",
    "    # Run the initializer\n",
    "    session.run(init)\n",
    "\n",
    "    # Training cycle\n",
    "    for epoch in range(n_epochs):\n",
    "        print(\"Epoch:\", epoch)\n",
    "        train_loss = []\n",
    "        for b in range(0, x_train.shape[0], batch_size):\n",
    "            _, loss_value = session.run([optimizer, loss], feed_dict={X: x_train[b:b+batch_size],\n",
    "                                                                      y: y_train_labels[b:b+batch_size],\n",
    "                                                                      y_vectors: y_train[b:b+batch_size],\n",
    "                                                                      y_angles: y_train_angles[b:b+batch_size],\n",
    "                                                                      learning_rate: init_learning_rate,\n",
    "                                                                    input_mask: mask_[b:b+batch_size]})\n",
    "#             print(loss_value)\n",
    "            train_loss.append(loss_value)\n",
    "        \n",
    "        (validation_accuracy, loss_, pred_, \n",
    "         clusters_, y_pred_masked_, mae_angles_,\n",
    "        rad_pred_masked_, y_angles_masked_, core_out_,\n",
    "        clusters_tf_) = session.run([accuracy, loss, prediction, \n",
    "                                                              clusters_tf, y_pred_masked, mae_angles,\n",
    "                                                               rad_pred_masked, y_angles_masked, core_out,\n",
    "                                   clusters_tf], \n",
    "                                                              feed_dict={X: x_valid, y: y_valid_labels, \n",
    "                                                                         y_vectors:y_valid,\n",
    "                                                                         y_angles: y_valid_angles,\n",
    "                                                                        input_mask: mask_v})\n",
    "        x_train, y_train_labels, y_train, y_train_angles, mask_ = \\\n",
    "            Helpers.unison_shuffled_copies_sklearn([x_train, y_train_labels, y_train, y_train_angles, mask_])\n",
    "        \n",
    "#         print(\"val. loss = %f, val_acc = %f\" % (loss_value, validation_accuracy))    \n",
    "        print(\"Train loss = %f\" % np.mean(train_loss))\n",
    "        print(\"Valid loss =\", loss_)\n",
    "        print(\"PCC\", pearson_numpy(rad_pred_masked_, y_angles_masked_))\n",
    "        print(collections.Counter(pred_))\n",
    "#         print(np.mean(y_pred_masked_, axis=0)) # prob. dist mean over clusters\n",
    "#         print(np.max(y_pred_masked_, axis=0)) # prob. dist max over clusters\n",
    "        print(init_learning_rate)\n",
    "#         print(clusters_)\n",
    "        \n",
    "        # Shrinks the learning rate every n epochs\n",
    "        train_loss = []\n",
    "        if (epoch + 1) % 10 == 0:\n",
    "            print(\"Adjusting learning rate\")\n",
    "            init_learning_rate = init_learning_rate / 1.05"
   ]
  },
  {
   "cell_type": "code",
   "execution_count": 79,
   "metadata": {},
   "outputs": [
    {
     "name": "stdout",
     "output_type": "stream",
     "text": [
      "[t-SNE] Computing 151 nearest neighbors...\n",
      "[t-SNE] Indexed 3480 samples in 0.024s...\n",
      "[t-SNE] Computed neighbors for 3480 samples in 1.710s...\n",
      "[t-SNE] Computed conditional probabilities for sample 1000 / 3480\n",
      "[t-SNE] Computed conditional probabilities for sample 2000 / 3480\n",
      "[t-SNE] Computed conditional probabilities for sample 3000 / 3480\n",
      "[t-SNE] Computed conditional probabilities for sample 3480 / 3480\n",
      "[t-SNE] Mean sigma: 0.000000\n",
      "[t-SNE] KL divergence after 250 iterations with early exaggeration: 60.877213\n",
      "[t-SNE] KL divergence after 1000 iterations: 0.466702\n"
     ]
    }
   ],
   "source": [
    "from sklearn.manifold import TSNE\n",
    "\n",
    "to_tsne = core_out_[0:5]\n",
    "tsne = TSNE(n_components=2, verbose=1, perplexity=50, n_iter=1000)\n",
    "tsne_results = tsne.fit_transform(to_tsne.reshape(-1,core_out_.shape[-1]))"
   ]
  },
  {
   "cell_type": "code",
   "execution_count": 82,
   "metadata": {},
   "outputs": [],
   "source": [
    "tsne_results_2 = tsne_results.reshape((to_tsne.shape[0], to_tsne.shape[1], 2))"
   ]
  },
  {
   "cell_type": "code",
   "execution_count": 94,
   "metadata": {},
   "outputs": [
    {
     "data": {
      "text/plain": [
       "<matplotlib.collections.PathCollection at 0x7f831a2bdba8>"
      ]
     },
     "execution_count": 94,
     "metadata": {},
     "output_type": "execute_result"
    },
    {
     "data": {
      "image/png": "[encoded data removed]",
      "text/plain": [
       "<Figure size 432x288 with 1 Axes>"
      ]
     },
     "metadata": {
      "needs_background": "light"
     },
     "output_type": "display_data"
    }
   ],
   "source": [
    "n = 4\n",
    "mask = np.argmax(y_valid_labels[n], axis=1) != 0\n",
    "plt.scatter(tsne_results_2[n][mask,0], tsne_results_2[n][mask,1], c=np.argmax(y_valid_labels[n][mask], axis=1), \n",
    "            s=30, cmap=plt.cm.cool)"
   ]
  },
  {
   "cell_type": "code",
   "execution_count": 101,
   "metadata": {},
   "outputs": [
    {
     "data": {
      "text/plain": [
       "0.6064993"
      ]
     },
     "execution_count": 101,
     "metadata": {},
     "output_type": "execute_result"
    },
    {
     "data": {
      "image/png": "[encoded data removed]",
      "text/plain": [
       "<Figure size 432x288 with 1 Axes>"
      ]
     },
     "metadata": {
      "needs_background": "light"
     },
     "output_type": "display_data"
    }
   ],
   "source": [
    "n = 500\n",
    "plt.scatter(y_angles_masked_[:n,0], y_angles_masked_[:n,1], c='blue')\n",
    "plt.scatter(rad_pred_masked_[:n,0], rad_pred_masked_[:n,1], c='orange')\n",
    "\n",
    "np.mean(np.abs(y_angles_masked_ - rad_pred_masked_))"
   ]
  },
  {
   "cell_type": "code",
   "execution_count": null,
   "metadata": {},
   "outputs": [],
   "source": [
    "np.min(rad_pred_), np.max(rad_pred_), np.min(rad_pred_cont_), np.max(rad_pred_cont_)"
   ]
  },
  {
   "cell_type": "markdown",
   "metadata": {},
   "source": [
    "Organize model modes:\n",
    "- predict angles through regression (tanh, *pi)\n",
    "- predict clusters and optimize for crossentropy\n",
    "- predict clusters and optimize for MAE\n",
    "- predict clusters as vectors and optimize for MAE"
   ]
  },
  {
   "cell_type": "code",
   "execution_count": null,
   "metadata": {},
   "outputs": [],
   "source": [
    "np.mean(np.abs(clusters_[pred_] - y_valid[mask_v])"
   ]
  },
  {
   "cell_type": "markdown",
   "metadata": {},
   "source": [
    "resnet CNN filter_length = 15 (with 5 it didn't change much either)\n",
    "\n",
    "*Rad angles, 10 not trainable clusters: 0.59\n",
    "\n",
    "*Rad angles, 10 trainable clusters, no clipping: MAE [0.43384644 0.721744  ] 0.5777952\n",
    "\n",
    "*Rad angles, 50 trainable clusters, no clipping: \n",
    "Train MAE = 0.545068\n",
    "Val. MAE [0.43777448 0.7208223 ] 0.5792984"
   ]
  },
  {
   "cell_type": "markdown",
   "metadata": {
    "collapsed": true
   },
   "source": [
    "pcc: 58 70 (10000 proteins, cluster, angular_mae_and_classification)\n",
    "pcc: 61.5 66.5 (10000 proteins, regression, angular_mae)"
   ]
  },
  {
   "cell_type": "code",
   "execution_count": null,
   "metadata": {},
   "outputs": [],
   "source": []
  }
 ],
 "metadata": {
  "kernelspec": {
   "display_name": "Python 3",
   "language": "python",
   "name": "python3"
  },
  "language_info": {
   "codemirror_mode": {
    "name": "ipython",
    "version": 3
   },
   "file_extension": ".py",
   "mimetype": "text/x-python",
   "name": "python",
   "nbconvert_exporter": "python",
   "pygments_lexer": "ipython3",
   "version": "3.6.6"
  }
 },
 "nbformat": 4,
 "nbformat_minor": 2
}
