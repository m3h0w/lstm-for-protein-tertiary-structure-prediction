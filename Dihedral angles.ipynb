{
 "cells": [
  {
   "cell_type": "code",
   "execution_count": 1,
   "metadata": {},
   "outputs": [
    {
     "name": "stderr",
     "output_type": "stream",
     "text": [
      "C:\\Users\\Michal\\Anaconda3\\lib\\site-packages\\h5py\\__init__.py:36: FutureWarning: Conversion of the second argument of issubdtype from `float` to `np.floating` is deprecated. In future, it will be treated as `np.float64 == np.dtype(float).type`.\n",
      "  from ._conv import register_converters as _register_converters\n"
     ]
    }
   ],
   "source": [
    "import numpy as np\n",
    "import matplotlib.pyplot as plt\n",
    "%matplotlib inline\n",
    "import glob\n",
    "import tensorflow as tf\n",
    "import time"
   ]
  },
  {
   "cell_type": "code",
   "execution_count": 29,
   "metadata": {
    "collapsed": true
   },
   "outputs": [],
   "source": [
    "def tf_rad2deg(rad):\n",
    "    pi_on_180 = 0.017453292519943295\n",
    "    return rad / pi_on_180\n",
    "\n",
    "def dihedral(p):\n",
    "    \"\"\"Praxeolitic formula\n",
    "    1 sqrt, 1 cross product\"\"\"\n",
    "    p0 = p[0]\n",
    "    p1 = p[1]\n",
    "    p2 = p[2]\n",
    "    p3 = p[3]\n",
    "\n",
    "    b0 = -1.0*(p1 - p0)\n",
    "    b1 = p2 - p1\n",
    "    b2 = p3 - p2\n",
    "\n",
    "    # normalize b1 so that it does not influence magnitude of vector\n",
    "    # rejections that come next\n",
    "    b1 /= np.linalg.norm(b1)\n",
    "\n",
    "    # vector rejections\n",
    "    # v = projection of b0 onto plane perpendicular to b1\n",
    "    #   = b0 minus component that aligns with b1\n",
    "    # w = projection of b2 onto plane perpendicular to b1\n",
    "    #   = b2 minus component that aligns with b1\n",
    "    v = b0 - np.dot(b0, b1)*b1\n",
    "    w = b2 - np.dot(b2, b1)*b1\n",
    "\n",
    "    # angle between v and w in a plane is the torsion angle\n",
    "    # v and w may not be normalized but that's fine since tan is y/x\n",
    "    x = np.dot(v, w)\n",
    "    y = np.dot(np.cross(b1, v), w)\n",
    "    return np.degrees(np.arctan2(y, x))\n",
    "\n",
    "# takes 1 dimensional tensor and outputs an angle\n",
    "def dihedral_tf1(p):\n",
    "    p0 = tf.gather(p, 0)\n",
    "    p1 = tf.gather(p, 1)\n",
    "    p2 = tf.gather(p, 2)\n",
    "    p3 = tf.gather(p, 3)\n",
    "    \n",
    "    b0 = -1.0 * (tf.subtract(p1, p0))\n",
    "    b1 = tf.subtract(p2, p1)\n",
    "    b2 = tf.subtract(p3, p2)\n",
    "    \n",
    "    b1 = tf.divide(b1, tf.norm(b1))\n",
    "    \n",
    "    v = tf.subtract(b0, tf.multiply(tf.tensordot(b0, b1, 1), b1))\n",
    "    w = tf.subtract(b2, tf.multiply(tf.tensordot(b2, b1, 1), b1))\n",
    "    \n",
    "    x = tf.tensordot(v, w, 1)\n",
    "    y = tf.tensordot(tf.cross(b1, v), w, 1)\n",
    "    \n",
    "    return tf_rad2deg(tf.atan2(y,x))\n",
    "\n",
    "# takes 2 dimensional tensor (K, 4) and outputs K angles\n",
    "def dihedral_tf2(p):\n",
    "    p0 = tf.gather(p, 0, axis=1)\n",
    "    p1 = tf.gather(p, 1, axis=1)\n",
    "    p2 = tf.gather(p, 2, axis=1)\n",
    "    p3 = tf.gather(p, 3, axis=1)\n",
    "    \n",
    "    b0 = -1.0 * (tf.subtract(p1, p0))\n",
    "    b1 = tf.subtract(p2, p1)\n",
    "    b2 = tf.subtract(p3, p2)\n",
    "    \n",
    "    b1 = tf.divide(b1, tf.norm(b1, axis=1, keepdims=True))\n",
    "    \n",
    "    v = tf.subtract(b0, tf.einsum('b,bi->bi', tf.einsum('bi,bi->b', b0, b1), b1))\n",
    "    w = tf.subtract(b2, tf.einsum('b,bi->bi', tf.einsum('bi,bi->b', b2, b1), b1))\n",
    "    \n",
    "    x = tf.reduce_sum( tf.multiply( v, w ), 1, keepdims=True )\n",
    "    y = tf.reduce_sum( tf.multiply( tf.cross(b1, v), w ), 1, keepdims=True )\n",
    "\n",
    "    return tf_rad2deg(tf.atan2(y,x))\n",
    "\n",
    "# takes a 3 dimensional tensor (N, K, 4) and outputs (N,K) angles\n",
    "def dihedral_tf3(p):\n",
    "    p0 = tf.gather(p, 0, axis=2)\n",
    "    p1 = tf.gather(p, 1, axis=2)\n",
    "    p2 = tf.gather(p, 2, axis=2)\n",
    "    p3 = tf.gather(p, 3, axis=2)\n",
    "    \n",
    "    b0 = -1.0 * (tf.subtract(p1, p0))\n",
    "    b1 = tf.subtract(p2, p1)\n",
    "    b2 = tf.subtract(p3, p2)\n",
    "    \n",
    "    b1 = tf.divide(b1, tf.norm(b1, axis=2, keepdims=True))\n",
    "    b1 = tf.where(tf.is_nan(b1), tf.ones_like(b1), b1)\n",
    "    \n",
    "    v = tf.subtract(b0, tf.einsum('bi,bij->bij', tf.einsum('bij,bij->bi', b0, b1), b1))\n",
    "    w = tf.subtract(b2, tf.einsum('bi,bij->bij', tf.einsum('bij,bij->bi', b2, b1), b1))\n",
    "    \n",
    "    x = tf.reduce_sum( tf.multiply( v, w ), 2, keepdims=True )\n",
    "    y = tf.reduce_sum( tf.multiply( tf.cross(b1, v), w ), 2, keepdims=True )\n",
    "\n",
    "    return tf.atan2(y,x)"
   ]
  },
  {
   "cell_type": "code",
   "execution_count": 30,
   "metadata": {},
   "outputs": [
    {
     "name": "stdout",
     "output_type": "stream",
     "text": [
      "(3, 7, 3)\n"
     ]
    },
    {
     "data": {
      "text/plain": [
       "(array(-71.21515115), array([[ -71.21515115],\n",
       "        [-127.82961937],\n",
       "        [   0.        ],\n",
       "        [          nan]]), array([[-1.24293886],\n",
       "        [-2.23104774],\n",
       "        [ 0.        ],\n",
       "        [ 0.        ]]))"
      ]
     },
     "execution_count": 30,
     "metadata": {},
     "output_type": "execute_result"
    }
   ],
   "source": [
    "p0 = np.array([24.969, 13.428, 30.692]) # N\n",
    "p1 = np.array([24.044, 12.661, 29.808]) # CA\n",
    "p2 = np.array([22.785, 13.482, 29.543]) # C\n",
    "p3 = np.array([21.951, 13.670, 30.431]) # O\n",
    "# result: -71\n",
    "\n",
    "p_org = np.array([[\n",
    "                [ 1,           0,         0     ],\n",
    "                [ 0,           0,         0     ],\n",
    "                [ 0,           0,         1     ],\n",
    "                [ 0.999999,    0.000001,  1     ],\n",
    "                [ 0.999999,    0.000001,  1     ],\n",
    "                [ 0.999999,    0.000001,  1     ],\n",
    "                [ 0.999999,    0.000001,  1     ]\n",
    "            ],[\n",
    "                [ 1,           0,         0     ],\n",
    "                [ 0,           0,         0     ],\n",
    "                [ 0,           0,         1     ],\n",
    "                [ 0.999999,    0.000001,  1     ],\n",
    "                [ 0.999999,    0.000001,  1     ],\n",
    "                [ 0.999999,    0.000001,  1     ],\n",
    "                [ 0.999999,    0.000001,  1     ]\n",
    "            ],[\n",
    "                p0,\n",
    "                p1,\n",
    "                p2,\n",
    "                p3,\n",
    "                [ 0.999999,    0.000001,  1     ],\n",
    "                [ 0.999999,    0.000001,  1     ],\n",
    "                [ 0.999999,    0.000001,  1     ]\n",
    "            ]])\n",
    "print(p_org.shape)\n",
    "\n",
    "p = tf.convert_to_tensor(p_org[2])\n",
    "# p1 = np.expand_dims(p1, axis=0)\n",
    "p = p[None,:,:,None]\n",
    "p = tf.extract_image_patches(p,\n",
    "  ksizes=[1, 4, 3, 1],\n",
    "  strides=[1, 1, 1, 1],\n",
    "  rates=[1, 1, 1, 1],\n",
    "  padding='VALID')\n",
    "p = tf.reshape(tf.squeeze(p), [-1, 4, 3])\n",
    "angles = dihedral_tf1(tf.convert_to_tensor(p_org[2, 0:4]))\n",
    "angles2 = dihedral_tf2(p)\n",
    "\n",
    "p2 = tf.convert_to_tensor(p_org)\n",
    "# p1 = np.expand_dims(p1, axis=0)\n",
    "p2 = p2[:,:,:,None]\n",
    "p2 = tf.extract_image_patches(p2,\n",
    "  ksizes=[1, 4, 3, 1],\n",
    "  strides=[1, 1, 1, 1],\n",
    "  rates=[1, 1, 1, 1],\n",
    "  padding='VALID')\n",
    "p2 = tf.reshape(tf.squeeze(p2), [3, -1, 4, 3])\n",
    "angles3 = dihedral_tf3(p2)\n",
    "\n",
    "with tf.Session() as sess:\n",
    "    angles_, angles2_, angles3_, pshape, p2shape = sess.run([angles, angles2, angles3, tf.shape(p), tf.shape(p2)])\n",
    "    \n",
    "np.array(angles_), np.array(angles2_), np.array(angles3_[2])"
   ]
  },
  {
   "cell_type": "code",
   "execution_count": 44,
   "metadata": {},
   "outputs": [],
   "source": [
    "from Bio.PDB.PDBParser import PDBParser\n",
    "from Bio.PDB import PPBuilder\n",
    "parser = PDBParser(PERMISSIVE=1)\n",
    "structure = parser.get_structure(\"2gb1\", \"2gb1.pdb\")\n",
    "ppb=PPBuilder()\n",
    "protein = []\n",
    "for pp in ppb.build_peptides(structure):\n",
    "    for i,res in enumerate(pp):\n",
    "        protein.append([res[\"N\"].get_coord(), res[\"CA\"].get_coord(), res[\"C\"].get_coord()])\n",
    "    diheadrals = np.array(pp.get_phi_psi_list())"
   ]
  },
  {
   "cell_type": "code",
   "execution_count": 47,
   "metadata": {
    "collapsed": true
   },
   "outputs": [],
   "source": [
    "protein = np.array(protein).reshape(-1, 3)\n",
    "protein = np.expand_dims(protein, axis=0)"
   ]
  },
  {
   "cell_type": "code",
   "execution_count": 48,
   "metadata": {},
   "outputs": [
    {
     "data": {
      "text/plain": [
       "((1, 168, 3), (56, 2))"
      ]
     },
     "execution_count": 48,
     "metadata": {},
     "output_type": "execute_result"
    }
   ],
   "source": [
    "protein.shape, diheadrals.shape"
   ]
  },
  {
   "cell_type": "code",
   "execution_count": 144,
   "metadata": {},
   "outputs": [
    {
     "name": "stdout",
     "output_type": "stream",
     "text": [
      "(2, 168, 3)\n"
     ]
    }
   ],
   "source": [
    "p2 = tf.convert_to_tensor(np.concatenate([protein, protein]))\n",
    "print(p2.get_shape())\n",
    "# p2 = np.expand_dims(p2, axis=0)\n",
    "p2 = p2[:,:,:,None]\n",
    "p2 = tf.extract_image_patches(p2,\n",
    "  ksizes=[1, 4, 3, 1],\n",
    "  strides=[1, 1, 1, 1],\n",
    "  rates=[1, 1, 1, 1],\n",
    "  padding='VALID')\n",
    "p2 = tf.reshape(tf.squeeze(p2), [2, -1, 4, 3])\n",
    "angles3 = dihedral_tf3(p2)\n",
    "\n",
    "with tf.Session() as sess:\n",
    "    angles3_, pshape, p2shape = sess.run([angles3, tf.shape(p), tf.shape(p2)])"
   ]
  },
  {
   "cell_type": "code",
   "execution_count": 153,
   "metadata": {
    "collapsed": true
   },
   "outputs": [],
   "source": [
    "angles3_ = np.insert(angles3_, 0, None, axis=1)"
   ]
  },
  {
   "cell_type": "code",
   "execution_count": 172,
   "metadata": {},
   "outputs": [
    {
     "data": {
      "text/plain": [
       "array([  0,   1,   3,   4,   6,   7,   9,  10,  12,  13,  15,  16,  18,\n",
       "        19,  21,  22,  24,  25,  27,  28,  30,  31,  33,  34,  36,  37,\n",
       "        39,  40,  42,  43,  45,  46,  48,  49,  51,  52,  54,  55,  57,\n",
       "        58,  60,  61,  63,  64,  66,  67,  69,  70,  72,  73,  75,  76,\n",
       "        78,  79,  81,  82,  84,  85,  87,  88,  90,  91,  93,  94,  96,\n",
       "        97,  99, 100, 102, 103, 105, 106, 108, 109, 111, 112, 114, 115,\n",
       "       117, 118, 120, 121, 123, 124, 126, 127, 129, 130, 132, 133, 135,\n",
       "       136, 138, 139, 141, 142, 144, 145, 147, 148, 150, 151, 153, 154,\n",
       "       156, 157, 159, 160, 162, 163, 165])"
      ]
     },
     "execution_count": 172,
     "metadata": {},
     "output_type": "execute_result"
    }
   ],
   "source": [
    "psi_and_phi_i = np.array(np.sort(list(range(0,angles3_.shape[1],3)) + list(range(1,angles3_.shape[1],3))))\n",
    "psi_and_phi_i"
   ]
  },
  {
   "cell_type": "code",
   "execution_count": 173,
   "metadata": {},
   "outputs": [
    {
     "data": {
      "text/plain": [
       "array([nan, 2.0956292152404785, -2.2517926692962646, 2.058528423309326,\n",
       "       -1.6022758483886719, 2.867117166519165, -1.9393948316574097,\n",
       "       2.0755319595336914, -1.5184667110443115, 2.557396411895752,\n",
       "       -2.1848230361938477, 1.8136522769927979, -1.3834537267684937,\n",
       "       2.005882978439331, -1.84293794631958, 0.6435086131095886,\n",
       "       -0.9751341342926025, 2.513482093811035, -1.0469741821289062,\n",
       "       -1.022780179977417, -1.5940858125686646, 0.14123353362083435,\n",
       "       -2.7431325912475586, 2.390169143676758, -2.3366808891296387,\n",
       "       2.5530786514282227, -2.931011199951172, -2.8704309463500977,\n",
       "       -3.0626862049102783, 2.284626007080078, -2.585129737854004,\n",
       "       2.6722536087036133, -1.8480744361877441, 2.4088892936706543,\n",
       "       -2.1858036518096924, 2.6633639335632324, -1.642419457435608,\n",
       "       2.1030330657958984, -2.427008867263794, 2.559390068054199,\n",
       "       -1.4653993844985962, -0.38810446858406067, -2.55434250831604,\n",
       "       3.030111074447632, -1.255328893661499, -0.5438076853752136,\n",
       "       -1.083276391029358, -1.1243820190429688, -0.9752159118652344,\n",
       "       -0.4265695810317993, -1.2327194213867188, -0.59276282787323,\n",
       "       -1.115297555923462, -0.8298243284225464, -1.3291898965835571,\n",
       "       -0.6605285406112671, -0.9470531344413757, -0.9585341811180115,\n",
       "       -1.127947449684143, -0.7793495059013367, -0.9107239842414856,\n",
       "       -0.7081433534622192, -1.0267099142074585, -0.6426007747650146,\n",
       "       -1.2182966470718384, -1.0106614828109741, -0.8318895101547241,\n",
       "       -0.6671671867370605, -0.9872567653656006, -0.707474410533905,\n",
       "       -1.1649194955825806, 0.07877440750598907, -2.2099671363830566,\n",
       "       -0.4988066256046295, 1.7206525802612305, 0.6360291242599487,\n",
       "       -2.0637032985687256, 1.5641167163848877, -2.3362603187561035,\n",
       "       2.2094714641571045, -3.0777788162231445, -1.700243353843689,\n",
       "       -1.7897337675094604, 2.40378475189209, -2.1309397220611572,\n",
       "       2.373570442199707, -2.1643404960632324, 2.8733015060424805,\n",
       "       -2.391441583633423, 2.2382049560546875, -1.8859503269195557,\n",
       "       1.3525049686431885, -1.1653493642807007, 0.02047087252140045,\n",
       "       -1.3845778703689575, -0.5854059457778931, -2.3831021785736084,\n",
       "       0.3684455454349518, 0.9253236651420593, 1.0483417510986328,\n",
       "       -2.4033398628234863, 2.0040977001190186, -1.3908039331436157,\n",
       "       2.8253819942474365, -2.779374122619629, 2.3791542053222656,\n",
       "       -2.3811252117156982, 2.6225404739379883, -2.512472629547119,\n",
       "       2.0760765075683594, -1.1395260095596313, None], dtype=object)"
      ]
     },
     "execution_count": 173,
     "metadata": {},
     "output_type": "execute_result"
    }
   ],
   "source": [
    "phi_and_psi"
   ]
  },
  {
   "cell_type": "code",
   "execution_count": 174,
   "metadata": {},
   "outputs": [],
   "source": [
    "phi_and_psi = angles3_[0][psi_and_phi_i][:,0]\n",
    "phi_and_psi = np.append(phi_and_psi, None)\n",
    "angles = phi_and_psi.reshape(-1,2)\n",
    "# angles3_[0][:10]"
   ]
  },
  {
   "cell_type": "code",
   "execution_count": 183,
   "metadata": {},
   "outputs": [
    {
     "data": {
      "text/plain": [
       "(1.0, 0.0)"
      ]
     },
     "execution_count": 183,
     "metadata": {},
     "output_type": "execute_result"
    }
   ],
   "source": [
    "angles = np.asarray(angles, dtype=np.float32)\n",
    "diheadrals = np.asarray(diheadrals, dtype=np.float32)\n",
    "\n",
    "np.mean(np.isclose(angles, diheadrals, equal_nan=True)), np.mean(np.isclose(np.zeros_like(diheadrals), diheadrals, equal_nan=True))"
   ]
  }
 ],
 "metadata": {
  "kernelspec": {
   "display_name": "Python 3",
   "language": "python",
   "name": "python3"
  },
  "language_info": {
   "codemirror_mode": {
    "name": "ipython",
    "version": 3
   },
   "file_extension": ".py",
   "mimetype": "text/x-python",
   "name": "python",
   "nbconvert_exporter": "python",
   "pygments_lexer": "ipython3",
   "version": "3.6.6"
  }
 },
 "nbformat": 4,
 "nbformat_minor": 2
}
