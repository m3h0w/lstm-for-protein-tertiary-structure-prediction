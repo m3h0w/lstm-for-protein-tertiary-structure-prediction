{
 "cells": [
  {
   "cell_type": "code",
   "execution_count": 1,
   "metadata": {},
   "outputs": [],
   "source": [
    "import numpy as np\n",
    "import matplotlib.pyplot as plt\n",
    "%matplotlib inline\n",
    "import glob\n",
    "import tensorflow as tf\n",
    "import time"
   ]
  },
  {
   "cell_type": "code",
   "execution_count": 232,
   "metadata": {},
   "outputs": [],
   "source": [
    "# helper for setting up the bidirectional, multilayer lstm\n",
    "def bidirectional_lstm(input_data, num_layers, rnn_size, keep_prob, lengths=None):\n",
    "    output = input_data\n",
    "    for layer in range(num_layers):\n",
    "        with tf.variable_scope('encoder_{}'.format(layer),reuse=tf.AUTO_REUSE):\n",
    "\n",
    "            cell_fw = tf.contrib.rnn.LSTMCell(rnn_size, initializer=tf.truncated_normal_initializer(-0.1, 0.1, seed=2))\n",
    "            cell_fw = tf.contrib.rnn.DropoutWrapper(cell_fw, input_keep_prob = keep_prob)\n",
    "\n",
    "            cell_bw = tf.contrib.rnn.LSTMCell(rnn_size, initializer=tf.truncated_normal_initializer(-0.1, 0.1, seed=2))\n",
    "            cell_bw = tf.contrib.rnn.DropoutWrapper(cell_bw, input_keep_prob = keep_prob)\n",
    "\n",
    "            outputs, states = tf.nn.bidirectional_dynamic_rnn(cell_fw, \n",
    "                                                              cell_bw, \n",
    "                                                              output,\n",
    "                                                              dtype=tf.float32,\n",
    "                                                              sequence_length=lengths)\n",
    "            output = tf.concat(outputs,2)\n",
    "\n",
    "    return output"
   ]
  },
  {
   "cell_type": "code",
   "execution_count": 6,
   "metadata": {},
   "outputs": [],
   "source": [
    "import data_loader as dl\n",
    "import data_transformer as dt\n",
    "# change this path to match the path of where you have the\n",
    "# training_50 and validation files\n",
    "txt_data_path = '/home/mikey/Data/ProteinNet/casp7_txt/'"
   ]
  },
  {
   "cell_type": "code",
   "execution_count": 3,
   "metadata": {},
   "outputs": [
    {
     "name": "stdout",
     "output_type": "stream",
     "text": [
      "Loaded data and filtered line endings\n",
      "Extracted primary data\n",
      "Encoded primary sequences\n",
      "Loaded data and filtered line endings\n",
      "Extracted evolutionary data\n"
     ]
    },
    {
     "name": "stderr",
     "output_type": "stream",
     "text": [
      "100%|██████████| 5000/5000 [00:00<00:00, 49078.34it/s]\n"
     ]
    },
    {
     "name": "stdout",
     "output_type": "stream",
     "text": [
      "Grouped 21's together\n"
     ]
    },
    {
     "data": {
      "text/plain": [
       "(5000, (70, 20), 5000, (70, 21), 5000, (70, 3))"
      ]
     },
     "execution_count": 3,
     "metadata": {},
     "output_type": "execute_result"
    }
   ],
   "source": [
    "file_name = 'training_50'\n",
    "data_lim = 5000\n",
    "prim_train, evo_train, dih_train = (dl.parse_primary_from_file(txt_data_path + file_name, data_lim), \n",
    "                                    dl.parse_evolutionary_from_file(txt_data_path + file_name, data_lim),\n",
    "                                    dl.load_file('./'+file_name+'_dih.joblib'))\n",
    "dih_train = dih_train[:data_lim]\n",
    "len(prim_train), prim_train[0].shape, len(evo_train), evo_train[0].shape, len(dih_train), dih_train[0].shape"
   ]
  },
  {
   "cell_type": "code",
   "execution_count": 5,
   "metadata": {},
   "outputs": [
    {
     "name": "stdout",
     "output_type": "stream",
     "text": [
      "Loaded data and filtered line endings\n",
      "Extracted primary data\n",
      "Encoded primary sequences\n",
      "Loaded data and filtered line endings\n",
      "Extracted evolutionary data\n"
     ]
    },
    {
     "name": "stderr",
     "output_type": "stream",
     "text": [
      "100%|██████████| 224/224 [00:00<00:00, 75890.48it/s]"
     ]
    },
    {
     "name": "stdout",
     "output_type": "stream",
     "text": [
      "Grouped 21's together\n"
     ]
    },
    {
     "name": "stderr",
     "output_type": "stream",
     "text": [
      "\n"
     ]
    },
    {
     "data": {
      "text/plain": [
       "(224, (269, 20), 224, (269, 21), 224, (269, 3))"
      ]
     },
     "execution_count": 5,
     "metadata": {},
     "output_type": "execute_result"
    }
   ],
   "source": [
    "file_name = 'validation'\n",
    "prim_valid, evo_valid, dih_valid = (dl.parse_primary_from_file(txt_data_path + file_name), \n",
    "                                    dl.parse_evolutionary_from_file(txt_data_path + file_name),\n",
    "                                    dl.load_file('./'+ file_name + '_dih.joblib'))\n",
    "len(prim_valid), prim_valid[0].shape, len(evo_valid), evo_valid[0].shape, len(dih_valid), dih_valid[0].shape"
   ]
  },
  {
   "cell_type": "code",
   "execution_count": 188,
   "metadata": {},
   "outputs": [
    {
     "data": {
      "text/plain": [
       "((3053, 200, 41), (3053, 200, 3), (127, 200, 41), (127, 200, 3))"
      ]
     },
     "execution_count": 188,
     "metadata": {},
     "output_type": "execute_result"
    }
   ],
   "source": [
    "max_len = 200\n",
    "prim_, evo_, dih_ = dt.limit_length_and_pad(prim_train, evo_train, dih_train, max_len)\n",
    "x_train, y_train = np.concatenate([prim_, evo_], axis=2), dih_\n",
    "prim_v, evo_v, dih_v = dt.limit_length_and_pad(prim_valid, evo_valid, dih_valid, max_len)\n",
    "x_valid, y_valid = np.concatenate([prim_v, evo_v], axis=2), dih_v\n",
    "\n",
    "x_train.shape, y_train.shape, x_valid.shape, y_valid.shape"
   ]
  },
  {
   "cell_type": "code",
   "execution_count": 206,
   "metadata": {},
   "outputs": [],
   "source": [
    "from sklearn.cluster import KMeans\n",
    "from keras.utils import to_categorical\n",
    "\n",
    "n_clusters = 10\n",
    "kmeans = KMeans(n_clusters=n_clusters-1, random_state=0, verbose=0).fit(y_train[:500].reshape(-1,3))"
   ]
  },
  {
   "cell_type": "code",
   "execution_count": 207,
   "metadata": {},
   "outputs": [
    {
     "data": {
      "text/plain": [
       "array([[-1.2905366e+00, -6.7637688e-01, -3.1049449e+00],\n",
       "       [-1.5044749e-02,  1.5398264e-03, -7.5548887e-06],\n",
       "       [-2.2788348e+00,  2.4490602e+00,  3.0649731e+00],\n",
       "       [-1.2594174e+00, -6.4054614e-01,  3.1042385e+00],\n",
       "       [-1.7908230e+00,  2.2621212e+00, -3.0957763e+00],\n",
       "       [ 1.4414744e+00,  2.4293438e-01,  3.0961897e+00],\n",
       "       [-1.2828548e+00,  2.3996851e+00,  3.0832396e+00],\n",
       "       [ 1.4389775e+00,  8.1029749e-01, -3.0936613e+00],\n",
       "       [ 1.5655324e+00, -2.3716803e+00, -3.0398128e+00]], dtype=float32)"
      ]
     },
     "execution_count": 207,
     "metadata": {},
     "output_type": "execute_result"
    }
   ],
   "source": [
    "kmeans.cluster_centers_"
   ]
  },
  {
   "cell_type": "code",
   "execution_count": 209,
   "metadata": {},
   "outputs": [
    {
     "data": {
      "text/plain": [
       "((3053, 200, 10), (127, 200, 10))"
      ]
     },
     "execution_count": 209,
     "metadata": {},
     "output_type": "execute_result"
    }
   ],
   "source": [
    "y_train_labels_ = kmeans.predict(y_train.reshape(-1,3)).reshape(y_train.shape[0], y_train.shape[1])\n",
    "y_train_labels_[y_train[:,:,0]==0] = n_clusters-1\n",
    "y_valid_labels_ = kmeans.predict(y_valid.reshape(-1,3)).reshape(y_valid.shape[0], y_valid.shape[1])\n",
    "y_valid_labels_[y_valid[:,:,0]==0] = n_clusters-1\n",
    "\n",
    "# ohe = OneHotEncoder(n_values = n_clusters).fit(y_train_labels)\n",
    "y_train_labels = to_categorical(y_train_labels_)\n",
    "y_valid_labels = to_categorical(y_valid_labels_)\n",
    "\n",
    "y_train_labels.shape, y_valid_labels.shape"
   ]
  },
  {
   "cell_type": "code",
   "execution_count": 236,
   "metadata": {},
   "outputs": [
    {
     "name": "stdout",
     "output_type": "stream",
     "text": [
      "Number of parameters: 77578\n"
     ]
    }
   ],
   "source": [
    "tf.reset_default_graph()\n",
    "\n",
    "X = tf.placeholder(tf.float32, [None, max_len, 41], name=\"X\")\n",
    "y = tf.placeholder(tf.float32, [None, max_len, n_clusters], name='y')\n",
    "\n",
    "mask = tf.not_equal(tf.argmax(y, 2), n_clusters-1)\n",
    "\n",
    "conv1 = tf.layers.conv1d(X, 32, 5, activation=tf.nn.relu, padding='same')\n",
    "conv2 = tf.layers.conv1d(conv1, 64, 5, activation=tf.nn.relu, padding='same')\n",
    "conv3 = tf.layers.conv1d(conv2, 128, 5, activation=tf.nn.relu, padding='same')\n",
    "\n",
    "lstm = bidirectional_lstm(X, 1, 32, keep_prob=0.05)\n",
    "\n",
    "logits = tf.layers.dense(lstm, n_clusters, activation='relu')\n",
    "y_pred = tf.nn.softmax(logits)\n",
    "\n",
    "y_masked = tf.boolean_mask(y, mask)\n",
    "shape_after_mask = tf.shape(y_masked)\n",
    "logits_masked = tf.boolean_mask(logits, mask)\n",
    "y_pred_masked = tf.boolean_mask(y_pred, mask)\n",
    "# y_masked = y\n",
    "# logits_masked = logits\n",
    "# y_pred_masked = y_pred\n",
    "\n",
    "# Difine the loss function\n",
    "loss = tf.reduce_mean(tf.nn.softmax_cross_entropy_with_logits_v2(labels=y_masked, logits=logits_masked))\n",
    "\n",
    "# Define the optimizer operation\n",
    "learning_rate = tf.placeholder(tf.float32)\n",
    "\n",
    "#optimizer = tf.train.GradientDescentOptimizer(learning_rate = learning_rate).minimize(loss)\n",
    "optimizer = tf.train.AdamOptimizer(learning_rate = learning_rate).minimize(loss)\n",
    "\n",
    "# Variables for prediction and accuracy\n",
    "prediction = tf.argmax(y_pred_masked, 1)\n",
    "accuracy = tf.reduce_mean(tf.cast(tf.equal(prediction, tf.argmax(y_masked, 1)), tf.float32))\n",
    "\n",
    "# Initialize the variables (they are assigned default values)\n",
    "init = tf.global_variables_initializer()\n",
    "\n",
    "n_parameters = np.sum([np.prod(v.get_shape().as_list()) for v in tf.trainable_variables()])\n",
    "print(\"Number of parameters:\", n_parameters)"
   ]
  },
  {
   "cell_type": "code",
   "execution_count": 238,
   "metadata": {
    "scrolled": true
   },
   "outputs": [
    {
     "name": "stdout",
     "output_type": "stream",
     "text": [
      "Epoch: 0\n",
      "loss[epoch=0000] = 2.248126, val_acc = 0.236433\n",
      "Epoch: 1\n",
      "loss[epoch=0001] = 2.028672, val_acc = 0.253407\n",
      "Epoch: 2\n",
      "loss[epoch=0002] = 1.758819, val_acc = 0.275400\n",
      "Epoch: 3\n",
      "loss[epoch=0003] = 1.755347, val_acc = 0.276994\n",
      "Epoch: 4\n",
      "loss[epoch=0004] = 1.745063, val_acc = 0.275799\n",
      "Epoch: 5\n",
      "loss[epoch=0005] = 1.740462, val_acc = 0.275480\n",
      "Epoch: 6\n",
      "loss[epoch=0006] = 1.734956, val_acc = 0.278349\n",
      "Epoch: 7\n",
      "loss[epoch=0007] = 1.724093, val_acc = 0.277472\n",
      "Epoch: 8\n",
      "loss[epoch=0008] = 1.730413, val_acc = 0.278349\n",
      "Epoch: 9\n",
      "loss[epoch=0009] = 1.716775, val_acc = 0.280979\n",
      "Epoch: 10\n",
      "loss[epoch=0010] = 1.710742, val_acc = 0.280500\n",
      "Epoch: 11\n",
      "loss[epoch=0011] = 1.708093, val_acc = 0.284963\n",
      "Epoch: 12\n",
      "loss[epoch=0012] = 1.717878, val_acc = 0.282014\n",
      "Epoch: 13\n",
      "loss[epoch=0013] = 1.701837, val_acc = 0.282572\n",
      "Epoch: 14\n",
      "loss[epoch=0014] = 1.700846, val_acc = 0.280022\n",
      "Epoch: 15\n",
      "loss[epoch=0015] = 1.703632, val_acc = 0.280102\n",
      "Epoch: 16\n",
      "loss[epoch=0016] = 1.697209, val_acc = 0.284405\n",
      "Epoch: 17\n",
      "loss[epoch=0017] = 1.693840, val_acc = 0.292055\n",
      "Epoch: 18\n",
      "loss[epoch=0018] = 1.692040, val_acc = 0.286557\n",
      "Epoch: 19\n",
      "loss[epoch=0019] = 1.685099, val_acc = 0.290700\n",
      "Epoch: 20\n",
      "loss[epoch=0020] = 1.676010, val_acc = 0.291418\n",
      "Epoch: 21\n",
      "loss[epoch=0021] = 1.686940, val_acc = 0.289107\n",
      "Epoch: 22\n",
      "loss[epoch=0022] = 1.671927, val_acc = 0.289744\n",
      "Epoch: 23\n",
      "loss[epoch=0023] = 1.682045, val_acc = 0.291019\n",
      "Epoch: 24\n",
      "loss[epoch=0024] = 1.701290, val_acc = 0.292374\n",
      "Epoch: 25\n",
      "loss[epoch=0025] = 1.664531, val_acc = 0.289266\n",
      "Epoch: 26\n",
      "loss[epoch=0026] = 1.690809, val_acc = 0.290700\n",
      "Epoch: 27\n",
      "loss[epoch=0027] = 1.673349, val_acc = 0.294924\n",
      "Epoch: 28\n",
      "loss[epoch=0028] = 1.691048, val_acc = 0.291577\n",
      "Epoch: 29\n",
      "loss[epoch=0029] = 1.696453, val_acc = 0.293649\n",
      "Epoch: 30\n",
      "loss[epoch=0030] = 1.685196, val_acc = 0.288708\n",
      "Epoch: 31\n",
      "loss[epoch=0031] = 1.681448, val_acc = 0.295322\n",
      "Epoch: 32\n",
      "loss[epoch=0032] = 1.680715, val_acc = 0.285919\n",
      "Epoch: 33\n",
      "loss[epoch=0033] = 1.675035, val_acc = 0.288549\n",
      "Epoch: 34\n",
      "loss[epoch=0034] = 1.681435, val_acc = 0.295322\n",
      "Epoch: 35\n",
      "loss[epoch=0035] = 1.691075, val_acc = 0.294047\n",
      "Epoch: 36\n",
      "loss[epoch=0036] = 1.659501, val_acc = 0.289904\n",
      "Epoch: 37\n",
      "loss[epoch=0037] = 1.683470, val_acc = 0.289585\n",
      "Epoch: 38\n",
      "loss[epoch=0038] = 1.686985, val_acc = 0.294047\n",
      "Epoch: 39\n",
      "loss[epoch=0039] = 1.703351, val_acc = 0.293569\n",
      "Epoch: 40\n",
      "loss[epoch=0040] = 1.660706, val_acc = 0.288788\n",
      "Epoch: 41\n",
      "loss[epoch=0041] = 1.682791, val_acc = 0.294047\n",
      "Epoch: 42\n",
      "loss[epoch=0042] = 1.681426, val_acc = 0.291577\n",
      "Epoch: 43\n",
      "loss[epoch=0043] = 1.684850, val_acc = 0.296836\n",
      "Epoch: 44\n",
      "loss[epoch=0044] = 1.665764, val_acc = 0.292772\n",
      "Epoch: 45\n",
      "loss[epoch=0045] = 1.672093, val_acc = 0.293649\n",
      "Epoch: 46\n",
      "loss[epoch=0046] = 1.686064, val_acc = 0.288390\n",
      "Epoch: 47\n",
      "loss[epoch=0047] = 1.655117, val_acc = 0.298749\n",
      "Epoch: 48\n",
      "loss[epoch=0048] = 1.665729, val_acc = 0.289824\n",
      "Epoch: 49\n",
      "loss[epoch=0049] = 1.673338, val_acc = 0.294765\n",
      "Epoch: 50\n",
      "loss[epoch=0050] = 1.679873, val_acc = 0.294525\n",
      "Epoch: 51\n",
      "loss[epoch=0051] = 1.665410, val_acc = 0.298271\n",
      "Epoch: 52\n",
      "loss[epoch=0052] = 1.653593, val_acc = 0.292613\n",
      "Epoch: 53\n",
      "loss[epoch=0053] = 1.640064, val_acc = 0.293649\n",
      "Epoch: 54\n",
      "loss[epoch=0054] = 1.676550, val_acc = 0.291258\n",
      "Epoch: 55\n",
      "loss[epoch=0055] = 1.636928, val_acc = 0.297075\n",
      "Epoch: 56\n",
      "loss[epoch=0056] = 1.647236, val_acc = 0.295641\n",
      "Epoch: 57\n",
      "loss[epoch=0057] = 1.666362, val_acc = 0.294605\n",
      "Epoch: 58\n",
      "loss[epoch=0058] = 1.658938, val_acc = 0.296757\n",
      "Epoch: 59\n",
      "loss[epoch=0059] = 1.657659, val_acc = 0.291657\n",
      "Epoch: 60\n",
      "loss[epoch=0060] = 1.650010, val_acc = 0.291179\n",
      "Epoch: 61\n",
      "loss[epoch=0061] = 1.687454, val_acc = 0.297235\n",
      "Epoch: 62\n",
      "loss[epoch=0062] = 1.668572, val_acc = 0.297952\n",
      "Epoch: 63\n",
      "loss[epoch=0063] = 1.682279, val_acc = 0.291896\n",
      "Epoch: 64\n",
      "loss[epoch=0064] = 1.663165, val_acc = 0.293808\n",
      "Epoch: 65\n",
      "loss[epoch=0065] = 1.660065, val_acc = 0.293729\n",
      "Epoch: 66\n",
      "loss[epoch=0066] = 1.657721, val_acc = 0.298590\n",
      "Epoch: 67\n",
      "loss[epoch=0067] = 1.680538, val_acc = 0.296996\n",
      "Epoch: 68\n",
      "loss[epoch=0068] = 1.675431, val_acc = 0.295004\n",
      "Epoch: 69\n",
      "loss[epoch=0069] = 1.687248, val_acc = 0.296996\n",
      "Epoch: 70\n",
      "loss[epoch=0070] = 1.637665, val_acc = 0.297075\n",
      "Epoch: 71\n",
      "loss[epoch=0071] = 1.670541, val_acc = 0.292215\n",
      "Epoch: 72\n",
      "loss[epoch=0072] = 1.653123, val_acc = 0.298669\n",
      "Epoch: 73\n",
      "loss[epoch=0073] = 1.650733, val_acc = 0.294207\n",
      "Epoch: 74\n",
      "loss[epoch=0074] = 1.672008, val_acc = 0.296279\n",
      "Epoch: 75\n",
      "loss[epoch=0075] = 1.654371, val_acc = 0.295004\n",
      "Epoch: 76\n",
      "loss[epoch=0076] = 1.665386, val_acc = 0.297872\n",
      "Epoch: 77\n",
      "loss[epoch=0077] = 1.643083, val_acc = 0.295561\n",
      "Epoch: 78\n",
      "loss[epoch=0078] = 1.661024, val_acc = 0.300741\n",
      "Epoch: 79\n",
      "loss[epoch=0079] = 1.643145, val_acc = 0.293091\n",
      "Epoch: 80\n",
      "loss[epoch=0080] = 1.671332, val_acc = 0.295322\n",
      "Epoch: 81\n",
      "loss[epoch=0081] = 1.672009, val_acc = 0.294446\n",
      "Epoch: 82\n",
      "loss[epoch=0082] = 1.680457, val_acc = 0.296916\n",
      "Epoch: 83\n",
      "loss[epoch=0083] = 1.646571, val_acc = 0.289266\n",
      "Epoch: 84\n",
      "loss[epoch=0084] = 1.663362, val_acc = 0.296597\n",
      "Epoch: 85\n",
      "loss[epoch=0085] = 1.654556, val_acc = 0.295960\n",
      "Epoch: 86\n",
      "loss[epoch=0086] = 1.653199, val_acc = 0.295721\n",
      "Epoch: 87\n",
      "loss[epoch=0087] = 1.685285, val_acc = 0.298430\n",
      "Epoch: 88\n",
      "loss[epoch=0088] = 1.687004, val_acc = 0.293569\n",
      "Epoch: 89\n",
      "loss[epoch=0089] = 1.664401, val_acc = 0.292055\n",
      "Epoch: 90\n",
      "loss[epoch=0090] = 1.664302, val_acc = 0.297394\n",
      "Epoch: 91\n",
      "loss[epoch=0091] = 1.679267, val_acc = 0.297155\n",
      "Epoch: 92\n",
      "loss[epoch=0092] = 1.679557, val_acc = 0.296597\n",
      "Epoch: 93\n",
      "loss[epoch=0093] = 1.663737, val_acc = 0.298590\n",
      "Epoch: 94\n",
      "loss[epoch=0094] = 1.649978, val_acc = 0.303052\n",
      "Epoch: 95\n",
      "loss[epoch=0095] = 1.635143, val_acc = 0.294924\n",
      "Epoch: 96\n",
      "loss[epoch=0096] = 1.664508, val_acc = 0.303052\n",
      "Epoch: 97\n",
      "loss[epoch=0097] = 1.642962, val_acc = 0.300343\n",
      "Epoch: 98\n",
      "loss[epoch=0098] = 1.663682, val_acc = 0.292932\n",
      "Epoch: 99\n",
      "loss[epoch=0099] = 1.668641, val_acc = 0.295083\n",
      "Epoch: 100\n",
      "loss[epoch=0100] = 1.659000, val_acc = 0.294047\n",
      "Epoch: 101\n",
      "loss[epoch=0101] = 1.666541, val_acc = 0.292932\n",
      "Epoch: 102\n",
      "loss[epoch=0102] = 1.660130, val_acc = 0.300582\n",
      "Epoch: 103\n",
      "loss[epoch=0103] = 1.637843, val_acc = 0.298032\n",
      "Epoch: 104\n",
      "loss[epoch=0104] = 1.626133, val_acc = 0.291338\n",
      "Epoch: 105\n",
      "loss[epoch=0105] = 1.676103, val_acc = 0.295402\n",
      "Epoch: 106\n",
      "loss[epoch=0106] = 1.693805, val_acc = 0.295322\n",
      "Epoch: 107\n",
      "loss[epoch=0107] = 1.668276, val_acc = 0.298908\n",
      "Epoch: 108\n",
      "loss[epoch=0108] = 1.669430, val_acc = 0.293410\n",
      "Epoch: 109\n",
      "loss[epoch=0109] = 1.641303, val_acc = 0.298669\n",
      "Epoch: 110\n",
      "loss[epoch=0110] = 1.625394, val_acc = 0.303211\n",
      "Epoch: 111\n",
      "loss[epoch=0111] = 1.633693, val_acc = 0.296996\n",
      "Epoch: 112\n",
      "loss[epoch=0112] = 1.641945, val_acc = 0.298350\n",
      "Epoch: 113\n",
      "loss[epoch=0113] = 1.649320, val_acc = 0.292693\n",
      "Epoch: 114\n",
      "loss[epoch=0114] = 1.646453, val_acc = 0.299068\n",
      "Epoch: 115\n",
      "loss[epoch=0115] = 1.676685, val_acc = 0.295163\n",
      "Epoch: 116\n",
      "loss[epoch=0116] = 1.640098, val_acc = 0.298749\n",
      "Epoch: 117\n",
      "loss[epoch=0117] = 1.636394, val_acc = 0.296677\n",
      "Epoch: 118\n",
      "loss[epoch=0118] = 1.647527, val_acc = 0.296358\n",
      "Epoch: 119\n",
      "loss[epoch=0119] = 1.630921, val_acc = 0.297554\n",
      "Epoch: 120\n",
      "loss[epoch=0120] = 1.648497, val_acc = 0.299068\n",
      "Epoch: 121\n",
      "loss[epoch=0121] = 1.659701, val_acc = 0.295880\n",
      "Epoch: 122\n",
      "loss[epoch=0122] = 1.658857, val_acc = 0.297315\n",
      "Epoch: 123\n",
      "loss[epoch=0123] = 1.633459, val_acc = 0.303052\n",
      "Epoch: 124\n",
      "loss[epoch=0124] = 1.657389, val_acc = 0.295083\n",
      "Epoch: 125\n",
      "loss[epoch=0125] = 1.641003, val_acc = 0.298749\n",
      "Epoch: 126\n",
      "loss[epoch=0126] = 1.655395, val_acc = 0.297075\n",
      "Epoch: 127\n",
      "loss[epoch=0127] = 1.657795, val_acc = 0.299785\n",
      "Epoch: 128\n",
      "loss[epoch=0128] = 1.656296, val_acc = 0.298749\n",
      "Epoch: 129\n",
      "loss[epoch=0129] = 1.642216, val_acc = 0.296677\n",
      "Epoch: 130\n",
      "loss[epoch=0130] = 1.654652, val_acc = 0.287354\n",
      "Epoch: 131\n",
      "loss[epoch=0131] = 1.680443, val_acc = 0.297394\n",
      "Epoch: 132\n",
      "loss[epoch=0132] = 1.652292, val_acc = 0.300900\n",
      "Epoch: 133\n",
      "loss[epoch=0133] = 1.650958, val_acc = 0.294446\n",
      "Epoch: 134\n",
      "loss[epoch=0134] = 1.642483, val_acc = 0.300263\n",
      "Epoch: 135\n",
      "loss[epoch=0135] = 1.666275, val_acc = 0.293490\n",
      "Epoch: 136\n",
      "loss[epoch=0136] = 1.666741, val_acc = 0.299466\n",
      "Epoch: 137\n",
      "loss[epoch=0137] = 1.652377, val_acc = 0.303849\n",
      "Epoch: 138\n",
      "loss[epoch=0138] = 1.663560, val_acc = 0.297633\n",
      "Epoch: 139\n",
      "loss[epoch=0139] = 1.652599, val_acc = 0.294924\n",
      "Epoch: 140\n",
      "loss[epoch=0140] = 1.664927, val_acc = 0.295561\n",
      "Epoch: 141\n"
     ]
    },
    {
     "name": "stdout",
     "output_type": "stream",
     "text": [
      "loss[epoch=0141] = 1.679277, val_acc = 0.294366\n",
      "Epoch: 142\n",
      "loss[epoch=0142] = 1.671144, val_acc = 0.302335\n",
      "Epoch: 143\n",
      "loss[epoch=0143] = 1.642289, val_acc = 0.297075\n",
      "Epoch: 144\n",
      "loss[epoch=0144] = 1.631769, val_acc = 0.299466\n",
      "Epoch: 145\n",
      "loss[epoch=0145] = 1.675978, val_acc = 0.298590\n",
      "Epoch: 146\n",
      "loss[epoch=0146] = 1.657535, val_acc = 0.299785\n",
      "Epoch: 147\n",
      "loss[epoch=0147] = 1.648376, val_acc = 0.299546\n",
      "Epoch: 148\n",
      "loss[epoch=0148] = 1.629224, val_acc = 0.302335\n",
      "Epoch: 149\n",
      "loss[epoch=0149] = 1.667367, val_acc = 0.299944\n",
      "Epoch: 150\n",
      "loss[epoch=0150] = 1.669453, val_acc = 0.298191\n",
      "Epoch: 151\n",
      "loss[epoch=0151] = 1.658844, val_acc = 0.299466\n",
      "Epoch: 152\n",
      "loss[epoch=0152] = 1.653977, val_acc = 0.297554\n",
      "Epoch: 153\n"
     ]
    },
    {
     "ename": "KeyboardInterrupt",
     "evalue": "",
     "output_type": "error",
     "traceback": [
      "\u001b[0;31m---------------------------------------------------------------------------\u001b[0m",
      "\u001b[0;31mKeyboardInterrupt\u001b[0m                         Traceback (most recent call last)",
      "\u001b[0;32m<ipython-input-238-da0e509a767f>\u001b[0m in \u001b[0;36m<module>\u001b[0;34m\u001b[0m\n\u001b[1;32m     15\u001b[0m             _, loss_value = session.run([optimizer, loss], feed_dict={X: x_train[b:b+batch_size],\n\u001b[1;32m     16\u001b[0m                                                                       \u001b[0my\u001b[0m\u001b[0;34m:\u001b[0m \u001b[0my_train_labels\u001b[0m\u001b[0;34m[\u001b[0m\u001b[0mb\u001b[0m\u001b[0;34m:\u001b[0m\u001b[0mb\u001b[0m\u001b[0;34m+\u001b[0m\u001b[0mbatch_size\u001b[0m\u001b[0;34m]\u001b[0m\u001b[0;34m,\u001b[0m\u001b[0;34m\u001b[0m\u001b[0m\n\u001b[0;32m---> 17\u001b[0;31m                                                                       learning_rate: init_learning_rate})\n\u001b[0m\u001b[1;32m     18\u001b[0m \u001b[0;34m\u001b[0m\u001b[0m\n\u001b[1;32m     19\u001b[0m         \u001b[0mvalidation_accuracy\u001b[0m \u001b[0;34m=\u001b[0m \u001b[0msession\u001b[0m\u001b[0;34m.\u001b[0m\u001b[0mrun\u001b[0m\u001b[0;34m(\u001b[0m\u001b[0maccuracy\u001b[0m\u001b[0;34m,\u001b[0m \u001b[0mfeed_dict\u001b[0m\u001b[0;34m=\u001b[0m\u001b[0;34m{\u001b[0m\u001b[0mX\u001b[0m\u001b[0;34m:\u001b[0m \u001b[0mx_valid\u001b[0m\u001b[0;34m,\u001b[0m \u001b[0my\u001b[0m\u001b[0;34m:\u001b[0m \u001b[0my_valid_labels\u001b[0m\u001b[0;34m}\u001b[0m\u001b[0;34m)\u001b[0m\u001b[0;34m\u001b[0m\u001b[0m\n",
      "\u001b[0;32m~/.local/lib/python3.6/site-packages/tensorflow/python/client/session.py\u001b[0m in \u001b[0;36mrun\u001b[0;34m(self, fetches, feed_dict, options, run_metadata)\u001b[0m\n\u001b[1;32m    885\u001b[0m     \u001b[0;32mtry\u001b[0m\u001b[0;34m:\u001b[0m\u001b[0;34m\u001b[0m\u001b[0m\n\u001b[1;32m    886\u001b[0m       result = self._run(None, fetches, feed_dict, options_ptr,\n\u001b[0;32m--> 887\u001b[0;31m                          run_metadata_ptr)\n\u001b[0m\u001b[1;32m    888\u001b[0m       \u001b[0;32mif\u001b[0m \u001b[0mrun_metadata\u001b[0m\u001b[0;34m:\u001b[0m\u001b[0;34m\u001b[0m\u001b[0m\n\u001b[1;32m    889\u001b[0m         \u001b[0mproto_data\u001b[0m \u001b[0;34m=\u001b[0m \u001b[0mtf_session\u001b[0m\u001b[0;34m.\u001b[0m\u001b[0mTF_GetBuffer\u001b[0m\u001b[0;34m(\u001b[0m\u001b[0mrun_metadata_ptr\u001b[0m\u001b[0;34m)\u001b[0m\u001b[0;34m\u001b[0m\u001b[0m\n",
      "\u001b[0;32m~/.local/lib/python3.6/site-packages/tensorflow/python/client/session.py\u001b[0m in \u001b[0;36m_run\u001b[0;34m(self, handle, fetches, feed_dict, options, run_metadata)\u001b[0m\n\u001b[1;32m   1108\u001b[0m     \u001b[0;32mif\u001b[0m \u001b[0mfinal_fetches\u001b[0m \u001b[0;32mor\u001b[0m \u001b[0mfinal_targets\u001b[0m \u001b[0;32mor\u001b[0m \u001b[0;34m(\u001b[0m\u001b[0mhandle\u001b[0m \u001b[0;32mand\u001b[0m \u001b[0mfeed_dict_tensor\u001b[0m\u001b[0;34m)\u001b[0m\u001b[0;34m:\u001b[0m\u001b[0;34m\u001b[0m\u001b[0m\n\u001b[1;32m   1109\u001b[0m       results = self._do_run(handle, final_targets, final_fetches,\n\u001b[0;32m-> 1110\u001b[0;31m                              feed_dict_tensor, options, run_metadata)\n\u001b[0m\u001b[1;32m   1111\u001b[0m     \u001b[0;32melse\u001b[0m\u001b[0;34m:\u001b[0m\u001b[0;34m\u001b[0m\u001b[0m\n\u001b[1;32m   1112\u001b[0m       \u001b[0mresults\u001b[0m \u001b[0;34m=\u001b[0m \u001b[0;34m[\u001b[0m\u001b[0;34m]\u001b[0m\u001b[0;34m\u001b[0m\u001b[0m\n",
      "\u001b[0;32m~/.local/lib/python3.6/site-packages/tensorflow/python/client/session.py\u001b[0m in \u001b[0;36m_do_run\u001b[0;34m(self, handle, target_list, fetch_list, feed_dict, options, run_metadata)\u001b[0m\n\u001b[1;32m   1284\u001b[0m     \u001b[0;32mif\u001b[0m \u001b[0mhandle\u001b[0m \u001b[0;32mis\u001b[0m \u001b[0;32mNone\u001b[0m\u001b[0;34m:\u001b[0m\u001b[0;34m\u001b[0m\u001b[0m\n\u001b[1;32m   1285\u001b[0m       return self._do_call(_run_fn, feeds, fetches, targets, options,\n\u001b[0;32m-> 1286\u001b[0;31m                            run_metadata)\n\u001b[0m\u001b[1;32m   1287\u001b[0m     \u001b[0;32melse\u001b[0m\u001b[0;34m:\u001b[0m\u001b[0;34m\u001b[0m\u001b[0m\n\u001b[1;32m   1288\u001b[0m       \u001b[0;32mreturn\u001b[0m \u001b[0mself\u001b[0m\u001b[0;34m.\u001b[0m\u001b[0m_do_call\u001b[0m\u001b[0;34m(\u001b[0m\u001b[0m_prun_fn\u001b[0m\u001b[0;34m,\u001b[0m \u001b[0mhandle\u001b[0m\u001b[0;34m,\u001b[0m \u001b[0mfeeds\u001b[0m\u001b[0;34m,\u001b[0m \u001b[0mfetches\u001b[0m\u001b[0;34m)\u001b[0m\u001b[0;34m\u001b[0m\u001b[0m\n",
      "\u001b[0;32m~/.local/lib/python3.6/site-packages/tensorflow/python/client/session.py\u001b[0m in \u001b[0;36m_do_call\u001b[0;34m(self, fn, *args)\u001b[0m\n\u001b[1;32m   1290\u001b[0m   \u001b[0;32mdef\u001b[0m \u001b[0m_do_call\u001b[0m\u001b[0;34m(\u001b[0m\u001b[0mself\u001b[0m\u001b[0;34m,\u001b[0m \u001b[0mfn\u001b[0m\u001b[0;34m,\u001b[0m \u001b[0;34m*\u001b[0m\u001b[0margs\u001b[0m\u001b[0;34m)\u001b[0m\u001b[0;34m:\u001b[0m\u001b[0;34m\u001b[0m\u001b[0m\n\u001b[1;32m   1291\u001b[0m     \u001b[0;32mtry\u001b[0m\u001b[0;34m:\u001b[0m\u001b[0;34m\u001b[0m\u001b[0m\n\u001b[0;32m-> 1292\u001b[0;31m       \u001b[0;32mreturn\u001b[0m \u001b[0mfn\u001b[0m\u001b[0;34m(\u001b[0m\u001b[0;34m*\u001b[0m\u001b[0margs\u001b[0m\u001b[0;34m)\u001b[0m\u001b[0;34m\u001b[0m\u001b[0m\n\u001b[0m\u001b[1;32m   1293\u001b[0m     \u001b[0;32mexcept\u001b[0m \u001b[0merrors\u001b[0m\u001b[0;34m.\u001b[0m\u001b[0mOpError\u001b[0m \u001b[0;32mas\u001b[0m \u001b[0me\u001b[0m\u001b[0;34m:\u001b[0m\u001b[0;34m\u001b[0m\u001b[0m\n\u001b[1;32m   1294\u001b[0m       \u001b[0mmessage\u001b[0m \u001b[0;34m=\u001b[0m \u001b[0mcompat\u001b[0m\u001b[0;34m.\u001b[0m\u001b[0mas_text\u001b[0m\u001b[0;34m(\u001b[0m\u001b[0me\u001b[0m\u001b[0;34m.\u001b[0m\u001b[0mmessage\u001b[0m\u001b[0;34m)\u001b[0m\u001b[0;34m\u001b[0m\u001b[0m\n",
      "\u001b[0;32m~/.local/lib/python3.6/site-packages/tensorflow/python/client/session.py\u001b[0m in \u001b[0;36m_run_fn\u001b[0;34m(feed_dict, fetch_list, target_list, options, run_metadata)\u001b[0m\n\u001b[1;32m   1275\u001b[0m       \u001b[0mself\u001b[0m\u001b[0;34m.\u001b[0m\u001b[0m_extend_graph\u001b[0m\u001b[0;34m(\u001b[0m\u001b[0;34m)\u001b[0m\u001b[0;34m\u001b[0m\u001b[0m\n\u001b[1;32m   1276\u001b[0m       return self._call_tf_sessionrun(\n\u001b[0;32m-> 1277\u001b[0;31m           options, feed_dict, fetch_list, target_list, run_metadata)\n\u001b[0m\u001b[1;32m   1278\u001b[0m \u001b[0;34m\u001b[0m\u001b[0m\n\u001b[1;32m   1279\u001b[0m     \u001b[0;32mdef\u001b[0m \u001b[0m_prun_fn\u001b[0m\u001b[0;34m(\u001b[0m\u001b[0mhandle\u001b[0m\u001b[0;34m,\u001b[0m \u001b[0mfeed_dict\u001b[0m\u001b[0;34m,\u001b[0m \u001b[0mfetch_list\u001b[0m\u001b[0;34m)\u001b[0m\u001b[0;34m:\u001b[0m\u001b[0;34m\u001b[0m\u001b[0m\n",
      "\u001b[0;32m~/.local/lib/python3.6/site-packages/tensorflow/python/client/session.py\u001b[0m in \u001b[0;36m_call_tf_sessionrun\u001b[0;34m(self, options, feed_dict, fetch_list, target_list, run_metadata)\u001b[0m\n\u001b[1;32m   1365\u001b[0m     return tf_session.TF_SessionRun_wrapper(\n\u001b[1;32m   1366\u001b[0m         \u001b[0mself\u001b[0m\u001b[0;34m.\u001b[0m\u001b[0m_session\u001b[0m\u001b[0;34m,\u001b[0m \u001b[0moptions\u001b[0m\u001b[0;34m,\u001b[0m \u001b[0mfeed_dict\u001b[0m\u001b[0;34m,\u001b[0m \u001b[0mfetch_list\u001b[0m\u001b[0;34m,\u001b[0m \u001b[0mtarget_list\u001b[0m\u001b[0;34m,\u001b[0m\u001b[0;34m\u001b[0m\u001b[0m\n\u001b[0;32m-> 1367\u001b[0;31m         run_metadata)\n\u001b[0m\u001b[1;32m   1368\u001b[0m \u001b[0;34m\u001b[0m\u001b[0m\n\u001b[1;32m   1369\u001b[0m   \u001b[0;32mdef\u001b[0m \u001b[0m_call_tf_sessionprun\u001b[0m\u001b[0;34m(\u001b[0m\u001b[0mself\u001b[0m\u001b[0;34m,\u001b[0m \u001b[0mhandle\u001b[0m\u001b[0;34m,\u001b[0m \u001b[0mfeed_dict\u001b[0m\u001b[0;34m,\u001b[0m \u001b[0mfetch_list\u001b[0m\u001b[0;34m)\u001b[0m\u001b[0;34m:\u001b[0m\u001b[0;34m\u001b[0m\u001b[0m\n",
      "\u001b[0;31mKeyboardInterrupt\u001b[0m: "
     ]
    }
   ],
   "source": [
    "batch_size = 32\n",
    "n_epochs = 300\n",
    "\n",
    "# Start as session\n",
    "init_learning_rate = 0.0001\n",
    "with tf.Session() as session:\n",
    "\n",
    "    # Run the initializer\n",
    "    session.run(init)\n",
    "\n",
    "    # Training cycle\n",
    "    for epoch in range(n_epochs):\n",
    "        print(\"Epoch:\", epoch)\n",
    "        for b in range(0, x_train.shape[0], batch_size):\n",
    "            _, loss_value = session.run([optimizer, loss], feed_dict={X: x_train[b:b+batch_size],\n",
    "                                                                      y: y_train_labels[b:b+batch_size],\n",
    "                                                                      learning_rate: init_learning_rate})\n",
    "            \n",
    "        validation_accuracy = session.run(accuracy, feed_dict={X: x_valid, y: y_valid_labels})\n",
    "        print(\"loss[epoch=%04d] = %f, val_acc = %f\" % (epoch, loss_value, validation_accuracy))        \n",
    "    \n",
    "    if epoch % 10 == 0:\n",
    "        init_learning_rate = init_learning_rate / 5.\n",
    "    print(\"Optimization done\")\n",
    "\n",
    "    # Calculate training accuracy\n",
    "    train_accuracy_value, pred_train, shape_after_mask_ = session.run([accuracy, prediction, shape_after_mask], feed_dict={X: x_train, y: y_train_labels})\n",
    "    print(\"Train accuracy:\", train_accuracy_value)\n",
    "    print(\"Shape after mask:\", shape_after_mask_)\n",
    "    \n",
    "    # Calculate test accuracy\n",
    "    test_accuracy_value, pred_test, shape_after_mask_ = session.run([accuracy, prediction, shape_after_mask], feed_dict={X: x_valid, y: y_valid_labels})\n",
    "    print(\"Test accuracy:\", test_accuracy_value)\n",
    "    print(\"Shape after mask:\", shape_after_mask_)"
   ]
  },
  {
   "cell_type": "code",
   "execution_count": 235,
   "metadata": {},
   "outputs": [
    {
     "data": {
      "text/plain": [
       "(321481,)"
      ]
     },
     "execution_count": 235,
     "metadata": {},
     "output_type": "execute_result"
    }
   ],
   "source": [
    "pred_train.shape"
   ]
  },
  {
   "cell_type": "code",
   "execution_count": null,
   "metadata": {},
   "outputs": [],
   "source": []
  }
 ],
 "metadata": {
  "kernelspec": {
   "display_name": "Python 3",
   "language": "python",
   "name": "python3"
  },
  "language_info": {
   "codemirror_mode": {
    "name": "ipython",
    "version": 3
   },
   "file_extension": ".py",
   "mimetype": "text/x-python",
   "name": "python",
   "nbconvert_exporter": "python",
   "pygments_lexer": "ipython3",
   "version": "3.6.6"
  }
 },
 "nbformat": 4,
 "nbformat_minor": 2
}
