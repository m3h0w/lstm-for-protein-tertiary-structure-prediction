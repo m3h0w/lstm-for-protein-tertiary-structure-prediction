{
 "cells": [
  {
   "cell_type": "code",
   "execution_count": 1,
   "metadata": {},
   "outputs": [],
   "source": [
    "import numpy as np\n",
    "import matplotlib.pyplot as plt\n",
    "%matplotlib inline\n",
    "import glob\n",
    "import tensorflow as tf\n",
    "import time\n",
    "import scipy\n",
    "\n",
    "from final.model import Model\n",
    "from final.helpers import Helpers\n",
    "from final.datahandler import DataHandler\n",
    "from final.dihedralcalculator import DihedralCalculator"
   ]
  },
  {
   "cell_type": "code",
   "execution_count": 2,
   "metadata": {},
   "outputs": [
    {
     "name": "stdout",
     "output_type": "stream",
     "text": [
      "Loaded data and filtered line endings\n",
      "Extracted primary data\n",
      "Encoded primary sequences\n",
      "Loaded data and filtered line endings\n",
      "Extracted evolutionary data\n"
     ]
    },
    {
     "name": "stderr",
     "output_type": "stream",
     "text": [
      "100%|██████████| 224/224 [00:00<00:00, 63502.81it/s]"
     ]
    },
    {
     "name": "stdout",
     "output_type": "stream",
     "text": [
      "Grouped 21's together\n",
      "Loaded data and filtered line endings\n",
      "Extracted mask data\n",
      "max_len set to 696\n",
      "padded\n",
      "(224,) (269, 20)\n",
      "padded\n",
      "(224,) (269, 21)\n",
      "padded\n",
      "(224,) (269, 3)\n",
      "padded\n",
      "(224,) (269, 1)\n"
     ]
    },
    {
     "name": "stderr",
     "output_type": "stream",
     "text": [
      "\n"
     ]
    },
    {
     "data": {
      "text/plain": [
       "((224, 696, 41), (224, 696, 3))"
      ]
     },
     "execution_count": 2,
     "metadata": {},
     "output_type": "execute_result"
    }
   ],
   "source": [
    "import data_loader as dl\n",
    "import data_transformer as dt\n",
    "# change this path to match the path of where you have the\n",
    "# training_50 and validation files\n",
    "txt_data_path = '/home/mikey/Data/ProteinNet/casp7_txt/'\n",
    "\n",
    "max_len = None # max len of the protein taken into account\n",
    "n_angles = 3 # 3 if consider all angles or 2 if only phi and psi\n",
    "\n",
    "file_name = 'validation'\n",
    "prim_valid, evo_valid, dih_valid, mask_valid = (dl.parse_primary_from_file(txt_data_path + file_name), \n",
    "                                                dl.parse_evolutionary_from_file(txt_data_path + file_name),\n",
    "                                                dl.load_file('./'+ file_name + '_dih.joblib'),\n",
    "                                                dl.parse_mask_from_file(txt_data_path + file_name))\n",
    "\n",
    "if max_len == None:\n",
    "    max_len = np.max(np.array([prim.shape[0] for prim in prim_valid]))\n",
    "    print('max_len set to', max_len)\n",
    "\n",
    "prim_v, evo_v, dih_v, mask_v = dt.limit_length_and_pad(prim_valid, evo_valid, dih_valid, mask_valid, max_len)\n",
    "x_valid, y_valid = np.concatenate([prim_v, evo_v], axis=2), dih_v[:,:,:n_angles]\n",
    "\n",
    "x_valid.shape, y_valid.shape"
   ]
  },
  {
   "cell_type": "code",
   "execution_count": 3,
   "metadata": {},
   "outputs": [
    {
     "name": "stdout",
     "output_type": "stream",
     "text": [
      "['/home/mikey/Data/ProteinNet/casp7/training/30/*', '/home/mikey/Data/ProteinNet/casp7/training/50/*', '/home/mikey/Data/ProteinNet/casp7/training/70/*', '/home/mikey/Data/ProteinNet/casp7/training/90/*', '/home/mikey/Data/ProteinNet/casp7/training/95/*']\n",
      "Training samples available 74113\n",
      "WARNING:tensorflow:From /home/mikey/.local/lib/python3.6/site-packages/tensorflow/python/training/input.py:187: QueueRunner.__init__ (from tensorflow.python.training.queue_runner_impl) is deprecated and will be removed in a future version.\n",
      "Instructions for updating:\n",
      "To construct input pipelines, use the `tf.data` module.\n",
      "WARNING:tensorflow:From /home/mikey/.local/lib/python3.6/site-packages/tensorflow/python/training/input.py:187: add_queue_runner (from tensorflow.python.training.queue_runner_impl) is deprecated and will be removed in a future version.\n",
      "Instructions for updating:\n",
      "To construct input pipelines, use the `tf.data` module.\n"
     ]
    },
    {
     "name": "stderr",
     "output_type": "stream",
     "text": [
      "/home/mikey/.local/lib/python3.6/site-packages/tensorflow/python/ops/gradients_impl.py:108: UserWarning: Converting sparse IndexedSlices to a dense Tensor of unknown shape. This may consume a large amount of memory.\n",
      "  \"Converting sparse IndexedSlices to a dense Tensor of unknown shape. \"\n"
     ]
    }
   ],
   "source": [
    "def _coordinates(config, dihedrals):\n",
    "    \"\"\" Converts dihedrals into full 3D structures. \"\"\"\n",
    "\n",
    "    # converts dihedrals to points ready for reconstruction.\n",
    "    points = dihedral_to_point(dihedrals) # [NUM_STEPS x NUM_DIHEDRALS, BATCH_SIZE, NUM_DIMENSIONS]\n",
    "             \n",
    "    # converts points to final 3D coordinates.\n",
    "    coordinates = point_to_coordinate(points, num_fragments=config['num_reconstruction_fragments'], \n",
    "                                              parallel_iterations=config['num_reconstruction_parallel_iters']) \n",
    "                  # [NUM_STEPS x NUM_DIHEDRALS, BATCH_SIZE, NUM_DIMENSIONS]\n",
    "\n",
    "    return coordinates\n",
    "\n",
    "def _drmsds(config, coordinates, targets, weights):\n",
    "    \"\"\" Computes reduced weighted dRMSD loss (as specified by weights) \n",
    "        between predicted tertiary structures and targets. \"\"\"\n",
    "                  \n",
    "    # compute per structure dRMSDs\n",
    "    drmsds = drmsd(coordinates, targets, weights, name='drmsds') # [BATCH_SIZE]\n",
    "\n",
    "    # add to relevant collections for summaries, etc.\n",
    "    if config['log_model_summaries']: tf.add_to_collection(config['name'] + '_drmsdss', drmsds)\n",
    "\n",
    "    return drmsds\n",
    "\n",
    "tf.reset_default_graph()\n",
    "helpers = Helpers()\n",
    "\n",
    "# parameters for the training and\n",
    "# queues that control data flow from files\n",
    "data_path = \"/home/mikey/Data/ProteinNet/\"\n",
    "# training_percentages = [30, 50, 70, 90, 95, 100]\n",
    "casps = ['casp7']\n",
    "training_percentages = [30, 50, 70, 90, 95]\n",
    "\n",
    "num_epochs = 100\n",
    "batch_size= 32\n",
    "capacity=1000\n",
    "# min_after_dequeue=100\n",
    "\n",
    "max_protein_len = None\n",
    "model_type = 'cnn_big'\n",
    "angularization_mode = 'tanh'\n",
    "apply_mask = True\n",
    "loss_mode = 'angular_mae' # angular_mae or mae\n",
    "include_evo = True\n",
    "\n",
    "# define the training data paths and how many epochs they should be queued for\n",
    "# by instantiating the DataHandler object that takes care of parsing\n",
    "data_handler = DataHandler(data_path=data_path,\n",
    "                           casps=casps,\n",
    "                percentages=training_percentages, \n",
    "                num_epochs=num_epochs)\n",
    "\n",
    "# use DataHandler to generate batches of specific size \n",
    "# and optional limit on protein length\n",
    "ids, one_hot_primary, evolutionary, _, tertiary, ter_mask, pri_length, keep =\\\n",
    "    data_handler.generate_batches(batch_size = batch_size,\n",
    "                                  capacity = capacity,\n",
    "                                  max_protein_len = max_protein_len)\n",
    "# if max_protein_len:\n",
    "#     ids, one_hot_primary, evolutionary, tertiary, ter_mask, pri_length =\\\n",
    "#         helpers.mask_all([ids, one_hot_primary, evolutionary, tertiary, ter_mask, pri_length], keep, axis=0)\n",
    "\n",
    "# convert euclidean coordinates to dihedral angles\n",
    "dihedral_calculator = DihedralCalculator()\n",
    "true_dihedrals = dihedral_calculator.dihedral_pipeline(tertiary, protein_length = tf.shape(one_hot_primary)[1])\n",
    "\n",
    "# set up placeholders with batch_size=None to be able to feed them with validation data\n",
    "# they fall onto default coming from the queue if nothing is fed through feed_dict\n",
    "true_dihedrals = tf.placeholder_with_default(true_dihedrals, shape=(None, None, 3))\n",
    "one_hot_primary = tf.placeholder_with_default(one_hot_primary, shape=(None, None, 20))\n",
    "evolutionary = tf.placeholder_with_default(evolutionary, shape=(None, None, 21))\n",
    "ter_mask = tf.placeholder_with_default(ter_mask, shape=(None, None))\n",
    "\n",
    "if include_evo:\n",
    "    input_data = tf.concat([one_hot_primary, evolutionary], axis=2)\n",
    "else:\n",
    "    input_data = one_hot_primary\n",
    "\n",
    "# build a model and get predicted output\n",
    "pred = Model(model_type=model_type, \n",
    "             ang_mode=angularization_mode\n",
    "            ).build_model(input_data)\n",
    "\n",
    "# mask values (gets reshaped into 2 dimensions)\n",
    "# it's important to note that with apply_mask = False the validation\n",
    "# loss and trianing loss are not related. This is likely\n",
    "# due to padding being done differently on validation and training data\n",
    "true_dihedrals_masked, pred_masked = true_dihedrals, pred\n",
    "if apply_mask:\n",
    "    true_dihedrals_masked, pred_masked = helpers.mask_all([true_dihedrals, pred], ter_mask)\n",
    "\n",
    "# angular mae. 1 value per angle\n",
    "loss_vec = helpers.loss360(true_dihedrals_masked, pred_masked)\n",
    "# reduced to 1 value\n",
    "loss = tf.reduce_mean(loss_vec)\n",
    "\n",
    "# mae. 1 value per angle\n",
    "mae_vec = Helpers.mae(true_dihedrals_masked, pred_masked)\n",
    "# reduced to 1 number\n",
    "mae = tf.reduce_mean(mae_vec)\n",
    "\n",
    "# learning rate placeholder for adaptive learning rate\n",
    "learning_rate = tf.placeholder(tf.float32, name='learning_rate')\n",
    "\n",
    "# choose an optimizer to minimize the loss\n",
    "global_step = tf.Variable(0, name='global_step', trainable=False)\n",
    "optimizer = tf.train.AdamOptimizer(learning_rate = learning_rate)\n",
    "\n",
    "train_op = {\n",
    "    'angular_mae': optimizer.minimize(loss, global_step=global_step),\n",
    "    'mae': optimizer.minimize(mae, global_step=global_step)\n",
    "}[loss_mode]\n",
    "# optimizer = tf.train.GradientDescentOptimizer(learning_rate = learning_rate).minimize(loss)"
   ]
  },
  {
   "cell_type": "markdown",
   "metadata": {},
   "source": [
    "Training loop"
   ]
  },
  {
   "cell_type": "code",
   "execution_count": null,
   "metadata": {
    "scrolled": true
   },
   "outputs": [
    {
     "name": "stdout",
     "output_type": "stream",
     "text": [
      "WARNING:tensorflow:From <ipython-input-4-6bd3c003d90c>:16: start_queue_runners (from tensorflow.python.training.queue_runner_impl) is deprecated and will be removed in a future version.\n",
      "Instructions for updating:\n",
      "To construct input pipelines, use the `tf.data` module.\n"
     ]
    }
   ],
   "source": [
    "learning_rate_decay = 0.98\n",
    "steps_to_print_after = 500\n",
    "init_learning_rate = 0.001\n",
    "\n",
    "if 'lstm' in model_type:\n",
    "    init_learning_rate = 0.001\n",
    "    steps_to_print_after = 400\n",
    "    \n",
    "with tf.Session() as sess:\n",
    "    # important to call both of these, because \n",
    "    # otherwise can't specify num_epochs in string_input_producer\n",
    "    sess.run(tf.global_variables_initializer())\n",
    "    sess.run(tf.local_variables_initializer())\n",
    "    \n",
    "    coord = tf.train.Coordinator()  \n",
    "    threads = tf.train.start_queue_runners(coord=coord, sess=sess)\n",
    "\n",
    "    try:\n",
    "        # we can't access information from the queue\n",
    "        # to know when an epoch ends, so we define our\n",
    "        # own step counter and calculate an validation loss every n steps\n",
    "        step = 1\n",
    "        \n",
    "        losses = []\n",
    "        loss_vecs = []\n",
    "        avg_losses = []\n",
    "        \n",
    "        while not coord.should_stop():        \n",
    "                \n",
    "            _, true_dihedrals_, pred_, loss_, loss_vec_ = sess.run([train_op, true_dihedrals, \n",
    "                                                                    pred, loss, loss_vec], \n",
    "                                                                    feed_dict={learning_rate: init_learning_rate})\n",
    "\n",
    "            losses.append(loss_)\n",
    "            loss_vecs.append(loss_vec_)\n",
    "            if step % steps_to_print_after == 0:\n",
    "                avg_loss, avg_loss_vec =  np.mean(losses), np.mean(np.array(loss_vecs), axis=0)\n",
    "                avg_losses.append(avg_loss)\n",
    "                print(\"Vec loss:\", avg_loss_vec)\n",
    "                print(\"Avg loss:\", avg_loss)\n",
    "\n",
    "                losses = []\n",
    "                loss_vecs = []\n",
    "                \n",
    "                (true_dihedrals_v, pred_v, \n",
    "                 loss_, loss_vec_, \n",
    "                 mae_, mae_vec_) = sess.run([true_dihedrals_masked, pred_masked, \n",
    "                                                   loss, loss_vec,\n",
    "                                                   mae, mae_vec], \n",
    "                                                   feed_dict={\n",
    "                                                           one_hot_primary: prim_v,\n",
    "                                                           evolutionary: evo_v,\n",
    "                                                           true_dihedrals: dih_v,\n",
    "                                                           ter_mask: mask_v\n",
    "                                                          })\n",
    "                print(\"Validation loss:\", loss_, loss_vec_)\n",
    "                print(\"Validation mae:\", mae_, mae_vec_)\n",
    "                print(\"Validation PCC:\", Helpers.pearson_numpy(true_dihedrals_v, pred_v))\n",
    "            \n",
    "            if step * batch_size > data_handler.training_samples:\n",
    "                step = 0\n",
    "                init_learning_rate = init_learning_rate * learning_rate_decay\n",
    "                print(\"EPOCH. New learning rate:\", init_learning_rate)\n",
    "                \n",
    "            step += 1\n",
    "\n",
    "\n",
    "    except tf.errors.OutOfRangeError:\n",
    "        print('Done training for %d epochs, %d steps.' % (num_epochs, step))\n",
    "    finally:\n",
    "        # When done, ask the threads to stop.\n",
    "        coord.request_stop()\n",
    "\n",
    "        # Wait for threads to finish.\n",
    "        coord.join(threads)\n",
    "        sess.close()"
   ]
  },
  {
   "cell_type": "markdown",
   "metadata": {},
   "source": [
    "Plot the avg losses over time"
   ]
  },
  {
   "cell_type": "code",
   "execution_count": null,
   "metadata": {},
   "outputs": [],
   "source": [
    "plt.plot(avg_losses)"
   ]
  },
  {
   "cell_type": "markdown",
   "metadata": {},
   "source": [
    "Get just the dihedral angles to see if they resemble how a ramachadran plot should look like"
   ]
  },
  {
   "cell_type": "code",
   "execution_count": null,
   "metadata": {},
   "outputs": [],
   "source": [
    "with tf.Session() as sess:\n",
    "    sess.run(tf.global_variables_initializer())\n",
    "    sess.run(tf.local_variables_initializer())\n",
    "    \n",
    "    coord = tf.train.Coordinator()\n",
    "    threads = tf.train.start_queue_runners(coord=coord, sess=sess)\n",
    "    \n",
    "    true_dihedrals_, ohp, tert = sess.run([true_dihedrals, one_hot_primary, tertiary])\n",
    "    coord.request_stop()"
   ]
  },
  {
   "cell_type": "code",
   "execution_count": null,
   "metadata": {},
   "outputs": [],
   "source": [
    "np.mean(np.abs(true_dihedrals_v - pred_v)), loss_"
   ]
  },
  {
   "cell_type": "code",
   "execution_count": null,
   "metadata": {},
   "outputs": [],
   "source": [
    "phi.shape"
   ]
  },
  {
   "cell_type": "code",
   "execution_count": 33,
   "metadata": {},
   "outputs": [
    {
     "data": {
      "text/plain": [
       "<matplotlib.legend.Legend at 0x7f06567c9080>"
      ]
     },
     "execution_count": 33,
     "metadata": {},
     "output_type": "execute_result"
    },
    {
     "data": {
      "image/png": "[encoded data removed]",
      "text/plain": [
       "<Figure size 864x576 with 1 Axes>"
      ]
     },
     "metadata": {
      "needs_background": "light"
     },
     "output_type": "display_data"
    }
   ],
   "source": [
    "protein_n = 0\n",
    "\n",
    "plt.figure(figsize=(12,8))\n",
    "\n",
    "phi, psi, omega = np.split(pred_v, 3, -1)\n",
    "plt.scatter(phi[:500], psi[:500], s=1, label='pred')\n",
    "\n",
    "phi, psi, omega = np.split(true_dihedrals_v, 3, -1)\n",
    "plt.scatter(phi[:500], psi[:500], s=1, label='true')\n",
    "\n",
    "plt.legend()"
   ]
  },
  {
   "cell_type": "code",
   "execution_count": null,
   "metadata": {},
   "outputs": [],
   "source": [
    "plt.hist(omega[protein_n], bins=100)"
   ]
  },
  {
   "cell_type": "code",
   "execution_count": null,
   "metadata": {},
   "outputs": [],
   "source": []
  },
  {
   "cell_type": "code",
   "execution_count": null,
   "metadata": {},
   "outputs": [],
   "source": [
    "#                 # access trainable variables to see if they're training\n",
    "#                 variables_names = [v.name for v in tf.trainable_variables()]\n",
    "#                 values = sess.run(variables_names)\n",
    "#                 for k, v in zip(variables_names, values):\n",
    "#                     print(\"Variable: \", k)\n",
    "#                     print(\"Shape: \", v.shape)\n",
    "#                     print(v)"
   ]
  }
 ],
 "metadata": {
  "kernelspec": {
   "display_name": "Python 3",
   "language": "python",
   "name": "python3"
  },
  "language_info": {
   "codemirror_mode": {
    "name": "ipython",
    "version": 3
   },
   "file_extension": ".py",
   "mimetype": "text/x-python",
   "name": "python",
   "nbconvert_exporter": "python",
   "pygments_lexer": "ipython3",
   "version": "3.6.6"
  }
 },
 "nbformat": 4,
 "nbformat_minor": 2
}
