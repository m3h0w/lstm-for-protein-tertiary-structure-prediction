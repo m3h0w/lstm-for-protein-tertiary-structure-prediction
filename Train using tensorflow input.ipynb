{
 "cells": [
  {
   "cell_type": "code",
   "execution_count": 9,
   "metadata": {},
   "outputs": [],
   "source": [
    "import numpy as np\n",
    "import matplotlib.pyplot as plt\n",
    "%matplotlib inline\n",
    "import glob\n",
    "import tensorflow as tf\n",
    "import time\n",
    "from datetime import datetime"
   ]
  },
  {
   "cell_type": "markdown",
   "metadata": {},
   "source": [
    "Parsing provided by AlQuraishi"
   ]
  },
  {
   "cell_type": "code",
   "execution_count": 10,
   "metadata": {},
   "outputs": [],
   "source": [
    "NUM_AAS = 20\n",
    "NUM_DIMENSIONS = 3\n",
    "\n",
    "def masking_matrix(mask, name=None):\n",
    "    \"\"\" Constructs a masking matrix to zero out pairwise distances due to missing residues or padding. \n",
    "\n",
    "    Args:\n",
    "        mask: 0/1 vector indicating whether a position should be masked (0) or not (1)\n",
    "\n",
    "    Returns:\n",
    "        A square matrix with all 1s except for rows and cols whose corresponding indices in mask are set to 0.\n",
    "        [MAX_SEQ_LENGTH, MAX_SEQ_LENGTH]\n",
    "    \"\"\"\n",
    "\n",
    "    with tf.name_scope(name, 'masking_matrix', [mask]) as scope:\n",
    "        mask = tf.convert_to_tensor(mask, name='mask')\n",
    "\n",
    "        mask = tf.expand_dims(mask, 0)\n",
    "        base = tf.ones([tf.size(mask), tf.size(mask)])\n",
    "        matrix_mask = base * mask * tf.transpose(mask)\n",
    "\n",
    "        return matrix_mask\n",
    "        \n",
    "def read_protein(filename_queue, max_length, num_evo_entries=21, name=None):\n",
    "    \"\"\" Reads and parses a ProteinNet TF Record. \n",
    "\n",
    "        Primary sequences are mapped onto 20-dimensional one-hot vectors.\n",
    "        Evolutionary sequences are mapped onto num_evo_entries-dimensional real-valued vectors.\n",
    "        Secondary structures are mapped onto ints indicating one of 8 class labels.\n",
    "        Tertiary coordinates are flattened so that there are 3 times as many coordinates as \n",
    "        residues.\n",
    "\n",
    "        Evolutionary, secondary, and tertiary entries are optional.\n",
    "\n",
    "    Args:\n",
    "        filename_queue: TF queue for reading files\n",
    "        max_length:     Maximum length of sequence (number of residues) [MAX_LENGTH]. Not a \n",
    "                        TF tensor and is thus a fixed value.\n",
    "\n",
    "    Returns:\n",
    "        id: string identifier of record\n",
    "        one_hot_primary: AA sequence as one-hot vectors\n",
    "        evolutionary: PSSM sequence as vectors\n",
    "        secondary: DSSP sequence as int class labels\n",
    "        tertiary: 3D coordinates of structure\n",
    "        matrix_mask: Masking matrix to zero out pairwise distances in the masked regions\n",
    "        pri_length: Length of amino acid sequence\n",
    "        keep: True if primary length is less than or equal to max_length\n",
    "    \"\"\"\n",
    "\n",
    "    with tf.name_scope(name, 'read_protein', []) as scope:\n",
    "        reader = tf.TFRecordReader()\n",
    "        _, serialized_example = reader.read(filename_queue)\n",
    "\n",
    "        context, features = tf.parse_single_sequence_example(serialized_example,\n",
    "                                context_features={'id': tf.FixedLenFeature((1,), tf.string)},\n",
    "                                sequence_features={\n",
    "                                    'primary':      tf.FixedLenSequenceFeature((1,),               tf.int64),\n",
    "                                    'evolutionary': tf.FixedLenSequenceFeature((num_evo_entries,), tf.float32, allow_missing=True),\n",
    "                                    'secondary':    tf.FixedLenSequenceFeature((1,),               tf.int64,   allow_missing=True),\n",
    "                                    'tertiary':     tf.FixedLenSequenceFeature((NUM_DIMENSIONS,),  tf.float32, allow_missing=True),\n",
    "                                    'mask':         tf.FixedLenSequenceFeature((1,),               tf.float32, allow_missing=True)})\n",
    "        id_ = context['id'][0]\n",
    "        primary =   tf.to_int32(features['primary'][:, 0])\n",
    "        evolutionary =          features['evolutionary']\n",
    "        secondary = tf.to_int32(features['secondary'][:, 0])\n",
    "        tertiary =              features['tertiary']\n",
    "        mask =                  features['mask'][:, 0]\n",
    "\n",
    "        pri_length = tf.size(primary)\n",
    "        \n",
    "        keep = tf.ones_like(pri_length)\n",
    "        if max_length:\n",
    "            keep = pri_length <= max_length\n",
    "\n",
    "        one_hot_primary = tf.one_hot(primary, NUM_AAS)\n",
    "\n",
    "        # Generate tertiary masking matrix--if mask is missing then assume all residues are present\n",
    "        mask = tf.cond(tf.not_equal(tf.size(mask), 0), lambda: mask, lambda: tf.ones([pri_length]))\n",
    "        ter_mask = masking_matrix(mask, name='ter_mask')        \n",
    "\n",
    "        return id_, one_hot_primary, evolutionary, secondary, tertiary, ter_mask, pri_length, keep"
   ]
  },
  {
   "cell_type": "markdown",
   "metadata": {},
   "source": [
    "Definitions of how to calculate dihedral angles and set up a bidirecitonal lstm"
   ]
  },
  {
   "cell_type": "code",
   "execution_count": 95,
   "metadata": {},
   "outputs": [],
   "source": [
    "def tf_rad2deg(rad):\n",
    "    pi_on_180 = 0.017453292519943295\n",
    "    return rad / pi_on_180\n",
    "\n",
    "# takes a 4-dimensional tensor (N, K, 4, 3) and outputs (N, K, 3) angles\n",
    "def dihedral_tf3(p):\n",
    "    p0 = tf.gather(p, 0, axis=2)\n",
    "    p1 = tf.gather(p, 1, axis=2)\n",
    "    p2 = tf.gather(p, 2, axis=2)\n",
    "    p3 = tf.gather(p, 3, axis=2)\n",
    "    \n",
    "    b0 = -1.0 * (tf.subtract(p1, p0))\n",
    "    b1 = tf.subtract(p2, p1)\n",
    "    b2 = tf.subtract(p3, p2)\n",
    "    \n",
    "    b1 = tf.divide(b1, tf.add(tf.norm(b1, axis=2, keepdims=True), tf.constant(1e-10)))\n",
    "#     b1 = tf.where(tf.is_nan(b1), tf.ones_like(b1), b1) # what to do when norm is 0?\n",
    "    \n",
    "    v = tf.subtract(b0, tf.einsum('bi,bij->bij', tf.einsum('bij,bij->bi', b0, b1), b1))\n",
    "    w = tf.subtract(b2, tf.einsum('bi,bij->bij', tf.einsum('bij,bij->bi', b2, b1), b1))\n",
    "    \n",
    "    x = tf.reduce_sum( tf.multiply( v, w ), 2, keepdims=True )\n",
    "    y = tf.reduce_sum( tf.multiply( tf.cross(b1, v), w ), 2, keepdims=True )\n",
    "\n",
    "#     return tf_rad2deg(tf.atan2(y,x))\n",
    "    return tf.atan2(y,x)\n",
    "\n",
    "# euclidean_coordinates are of shape (batch_size, protein_length, 3)\n",
    "def dihedral_pipeline(euclidean_coordinates, batch_size, protein_length):\n",
    "    # chooses all possible slices of length 4\n",
    "    euclidean_coordinates = euclidean_coordinates[:,:,:,None]\n",
    "    all_4_len_slices_euc_coord = tf.extract_image_patches(euclidean_coordinates,\n",
    "      ksizes=[1, 4, 3, 1],\n",
    "      strides=[1, 1, 1, 1],\n",
    "      rates=[1, 1, 1, 1],\n",
    "      padding='VALID')\n",
    "    all_4_len_slices_euc_coord = tf.reshape(tf.squeeze(all_4_len_slices_euc_coord), [batch_size, -1, 4, 3])\n",
    "\n",
    "    # calculates torsional angles on the entire batch\n",
    "    dihedral_angles = dihedral_tf3(all_4_len_slices_euc_coord)\n",
    "\n",
    "    # adds 3 zeros at the end because I can't calculate the angle of\n",
    "    # the last 3 atmos (need at least 4 atoms to calculate an angle)\n",
    "    padding = tf.constant([[0, 0], [0,3], [0,0]])\n",
    "    dihedral_angles = tf.pad(dihedral_angles, padding)\n",
    "\n",
    "    # reshaping the angles (because input is 3 times the length of normal protein)\n",
    "    dihedral_angles_shape = tf.gather(tf.shape(dihedral_angles), [0,1])\n",
    "    dihedral_angles = tf.reshape(dihedral_angles, shape=dihedral_angles_shape)\n",
    "    return tf.reshape(dihedral_angles, shape=(tf.gather(dihedral_angles_shape, 0), protein_length, 3))\n",
    "    \n",
    "# helper for setting up the bidirectional, multilayer lstm\n",
    "def bidirectional_lstm(input_data, num_layers, rnn_size, keep_prob, lengths):\n",
    "    output = input_data\n",
    "    for layer in range(num_layers):\n",
    "        with tf.variable_scope('encoder_{}'.format(layer),reuse=tf.AUTO_REUSE):\n",
    "\n",
    "            cell_fw = tf.contrib.rnn.LSTMCell(rnn_size, state_is_tuple = True)\n",
    "            cell_fw = tf.contrib.rnn.DropoutWrapper(cell_fw, input_keep_prob = keep_prob)\n",
    "\n",
    "            cell_bw = tf.contrib.rnn.LSTMCell(rnn_size, state_is_tuple = True)\n",
    "            cell_bw = tf.contrib.rnn.DropoutWrapper(cell_bw, input_keep_prob = keep_prob)\n",
    "\n",
    "            outputs, states = tf.nn.bidirectional_dynamic_rnn(cell_fw, \n",
    "                                                              cell_bw, \n",
    "                                                              output,\n",
    "                                                              dtype=tf.float32,\n",
    "                                                              sequence_length=lengths)\n",
    "            output = tf.concat(outputs,2)\n",
    "\n",
    "    return output\n",
    "\n",
    "# helper to count number of records in a TF record file\n",
    "def get_num_records(tf_record_file):\n",
    "    return len([x for x in tf.python_io.tf_record_iterator(tf_record_file)])"
   ]
  },
  {
   "cell_type": "markdown",
   "metadata": {},
   "source": [
    "Define and load training paths. Count the number of training samples."
   ]
  },
  {
   "cell_type": "code",
   "execution_count": 96,
   "metadata": {},
   "outputs": [
    {
     "name": "stdout",
     "output_type": "stream",
     "text": [
      "['../../Data/ProteinNet/casp7/training/50/*']\n"
     ]
    },
    {
     "data": {
      "text/plain": [
       "13024"
      ]
     },
     "execution_count": 96,
     "metadata": {},
     "output_type": "execute_result"
    }
   ],
   "source": [
    "# choose paths from which to get training data\n",
    "percentages = [30, 50, 70, 90]\n",
    "percentages = [50]\n",
    "main_path = \"../../Data/ProteinNet/casp7/training/\"\n",
    "paths = [main_path + str(perc) + '/*' for perc in percentages]\n",
    "print(paths)\n",
    "# load all the file names from these paths\n",
    "base_names = [glob.glob(a_path) for a_path in paths]\n",
    "base_names = list(np.concatenate(base_names))\n",
    "\n",
    "training_samples = np.sum([get_num_records(file) for file in base_names])\n",
    "training_samples"
   ]
  },
  {
   "cell_type": "markdown",
   "metadata": {},
   "source": [
    "Setting up the computational graph"
   ]
  },
  {
   "cell_type": "code",
   "execution_count": 234,
   "metadata": {},
   "outputs": [],
   "source": [
    "tf.reset_default_graph()\n",
    "\n",
    "# the input pipeline should be rewritten using\n",
    "# the new dataset api that tesnorflow introduced\n",
    "\n",
    "# parameters for the training and\n",
    "# queues that control data flow from files\n",
    "num_epochs = 100\n",
    "batch_size=32\n",
    "capacity=1000\n",
    "min_after_dequeue=100\n",
    "lstm_units = 500\n",
    "lstm_layers = 2\n",
    "\n",
    "limit_protein_size = None\n",
    "\n",
    "# this queue is taking all the files and asynchronously\n",
    "# passes them forward (so that the rest of the computational\n",
    "# graph that actually does computation doesn't have to wait for new input)\n",
    "file_queue = tf.train.string_input_producer(\n",
    "    tf.convert_to_tensor(base_names),\n",
    "    num_epochs=num_epochs,\n",
    "    shuffle=True # not sure if this shuffle works\n",
    ")\n",
    "\n",
    "# the parsing that Al Quraishi provides to load the ProteinNet data\n",
    "res = read_protein(file_queue, max_length=limit_protein_size)\n",
    "# unpacking the result\n",
    "id_, one_hot_primary, evolutionary, secondary, tertiary, ter_mask, pri_length, keep = res\n",
    "\n",
    "## I couldn't make shuffle batch work\n",
    "## because it doesn't have the dynamic padding included\n",
    "## workaround: https://github.com/tensorflow/tensorflow/issues/5147#issuecomment-271086206\n",
    "# ids, data, length = tf.train.shuffle_batch(\n",
    "#       [id_, one_hot_primary, pri_length], \n",
    "#       batch_size=batch_size, \n",
    "#       capacity=capacity,\n",
    "#       min_after_dequeue=min_after_dequeue)\n",
    "\n",
    "# dynamic pad makes sure that the length of the proteins\n",
    "# is padded to the longest protein in the batch\n",
    "ids, one_hot_primary, evolutionary, labels, labels_mask, length, keep = tf.train.batch(\n",
    "      [id_, one_hot_primary, evolutionary, tertiary, ter_mask, pri_length, keep], \n",
    "      batch_size=batch_size, \n",
    "      capacity=capacity, \n",
    "      dynamic_pad=True\n",
    "    )\n",
    "\n",
    "if limit_protein_size:\n",
    "    ids = tf.boolean_mask(ids, keep, axis=0)\n",
    "    one_hot_primary = tf.boolean_mask(one_hot_primary, keep, axis=0)\n",
    "    evolutionary = tf.boolean_mask(evolutionary, keep, axis=0)\n",
    "    labels = tf.boolean_mask(labels, keep, axis=0)\n",
    "    labels_mask = tf.boolean_mask(labels_mask, keep, axis=0)\n",
    "    length = tf.boolean_mask(length, keep, axis=0)\n",
    "\n",
    "# refresh the batch_size because the keep mask could have\n",
    "# made it smaller\n",
    "batch_size = tf.shape(one_hot_primary)[0]\n",
    "\n",
    "## bucketting by length might speed up the trianing \n",
    "## https://github.com/tensorflow/tensorflow/issues/2354\n",
    "# tf.contrib.training.bucket_by_sequence_length(\n",
    "#     input_length,\n",
    "#     tensors,\n",
    "#     batch_size,\n",
    "#     bucket_boundaries,\n",
    "#     num_threads=1,\n",
    "#     capacity=32,\n",
    "#     bucket_capacities=None,\n",
    "#     shapes=None,\n",
    "#     dynamic_pad=False,\n",
    "#     allow_smaller_final_batch=False,\n",
    "#     keep_input=True,\n",
    "#     shared_name=None,\n",
    "#     name=None\n",
    "# )\n",
    "\n",
    "# need the lengths to calculate the torsional angles\n",
    "protein_length = tf.gather(tf.shape(one_hot_primary), 1)\n",
    "protein_euc_length = tf.gather(tf.shape(labels), 1)\n",
    "\n",
    "# conver euclidean coordinates to dihedral angles\n",
    "dihedral_angles = dihedral_pipeline(labels, batch_size, protein_length)\n",
    "dih_x = tf.cos(dihedral_angles)\n",
    "dih_y = tf.sin(dihedral_angles)\n",
    "dihedral_angles_deg = tf_rad2deg(dihedral_angles)\n",
    "tf.summary.histogram(\"dihedral_angles\", dihedral_angles)\n",
    "\n",
    "# prepare input data and setup the LSTM\n",
    "input_data = tf.concat([one_hot_primary, evolutionary], axis=2)\n",
    "# outputs_conc = bidirectional_lstm(input_data=input_data, num_layers=lstm_layers, \n",
    "#                                   rnn_size = lstm_units, keep_prob=0.05, lengths=length)\n",
    "\n",
    "# cells_fw = []\n",
    "# cells_bw = []\n",
    "# for _ in range(lstm_layers):\n",
    "#     cells_fw.append(tf.contrib.rnn.LSTMCell(lstm_units, state_is_tuple = True))\n",
    "#     cells_bw.append(tf.contrib.rnn.LSTMCell(lstm_units, state_is_tuple = True))\n",
    "    \n",
    "# outputs_conc, _, _ = tf.contrib.rnn.stack_bidirectional_dynamic_rnn(\n",
    "#     cells_fw=cells_fw,\n",
    "#     cells_bw=cells_bw,\n",
    "#     inputs = input_data,\n",
    "#     initial_states_fw=None,\n",
    "#     initial_states_bw=None,\n",
    "#     dtype=tf.float32,\n",
    "#     sequence_length=length,\n",
    "#     scope=None\n",
    "# )\n",
    "gru = tf.contrib.cudnn_rnn.CudnnGRU(\n",
    "    1, lstm_units,\n",
    "    kernel_initializer=tf.orthogonal_initializer())\n",
    "outputs_conc, _ = gru(tf.transpose(input_data, (1, 0, 2)))\n",
    "outputs_conc = tf.where(tf.is_nan(outputs_conc), tf.add(tf.zeros_like(outputs_conc), tf.constant(0.)), outputs_conc)\n",
    "tf.summary.histogram(\"input_data\", input_data)\n",
    "tf.summary.histogram(\"outputs_conc\", outputs_conc)\n",
    "\n",
    "# # squeezing the output into tanh with 3 outputs\n",
    "# pred_angles = tf.layers.dense(outputs_conc, 3, activation=tf.nn.tanh, use_bias=False)\n",
    "# # rescaling the output to match the scale of the angles (-180, 180)\n",
    "# pred_angles = tf.multiply(pred_angles, tf.constant(np.pi))\n",
    "# angle_loss = tf.losses.absolute_difference(labels=tf.squeeze(dihedral_angles), predictions=tf.squeeze(pred_angles))\n",
    "\n",
    "# squeezing the output into tanh with 6 outputs to represent the angles as\n",
    "# points on a plane\n",
    "# pred = tf.layers.dense(outputs_conc, 6, activation=tf.nn.tanh, use_bias=False, \n",
    "#                        kernel_initializer=tf.truncated_normal_initializer(mean=0.0, stddev=0.5))\n",
    "pred = tf.layers.dense(\n",
    "    tf.layers.batch_normalization(outputs_conc),\n",
    "    6, activation=tf.nn.tanh, \n",
    "    kernel_initializer=tf.orthogonal_initializer()\n",
    ")\n",
    "# pred = tf.subtract(pred, tf.constant(0.5))\n",
    "pred = tf.where(tf.is_nan(pred), tf.add(tf.zeros_like(pred), tf.constant(0.)), pred)\n",
    "tf.summary.histogram(\"pred\", pred)\n",
    "\n",
    "# x1, y1 = tf.gather(pred, 0, axis=2), tf.gather(pred, 1, axis=2)\n",
    "# x2, y2 = tf.gather(pred, 2, axis=2), tf.gather(pred, 3, axis=2)\n",
    "# x3, y3 = tf.gather(pred, 4, axis=2), tf.gather(pred, 5, axis=2)\n",
    "y1, y2, y3 = tf.gather(pred, 0, axis=2), tf.gather(pred, 1, axis=2), tf.gather(pred, 2, axis=2)\n",
    "x1, x2, x3 = tf.gather(pred, 3, axis=2), tf.gather(pred, 4, axis=2), tf.gather(pred, 5, axis=2)\n",
    "\n",
    "pred_angles = tf.concat([tf.expand_dims(tf.atan2(y1, x1), 2), \n",
    "                         tf.expand_dims(tf.atan2(y2, x2), 2), \n",
    "                         tf.expand_dims(tf.atan2(y3, x3), 2)], axis=2)\n",
    "pred_angles = tf.reshape(pred_angles, (batch_size, protein_length, 3))\n",
    "# pred_angles = tf.where(tf.is_nan(pred_angles), tf.zeros_like(pred_angles), pred_angles)\n",
    "tf.summary.histogram(\"pred_angles\", pred_angles)\n",
    "\n",
    "# choose a loss (mse or mae)\n",
    "loss = tf.losses.mean_squared_error(labels=tf.concat([dih_y, dih_x], axis=2), predictions=pred)\n",
    "# tf.summary.histogram(\"loss\", loss)\n",
    "\n",
    "angle_loss = tf.losses.mean_squared_error(labels=(dihedral_angles), predictions=pred_angles)\n",
    "tf.summary.histogram(\"angle_loss\", angle_loss)\n",
    "\n",
    "# learning rate placeholder for adaptive learning rate\n",
    "learning_rate = tf.placeholder(tf.float32, name='learning_rate')\n",
    "\n",
    "# choose an optimizer to minimize the loss\n",
    "global_step = tf.Variable(0, name='global_step', trainable=False)\n",
    "# optimizer = tf.train.AdamOptimizer(learning_rate = learning_rate).minimize(angle_loss, global_step=global_step)\n",
    "# optimizer = tf.train.RMSPropOptimizer(learning_rate = learning_rate).minimize(angle_loss)\n",
    "\n",
    "optimizer = tf.train.RMSPropOptimizer(learning_rate=learning_rate)\n",
    "# Get the gradients\n",
    "gvs = optimizer.compute_gradients(angle_loss)\n",
    "# Clip gradients (except gradients from the dense layer)\n",
    "capped_gvs = [\n",
    "    (tf.clip_by_norm(grad, 2.), var) if not \n",
    "    var.name.startswith(\"dense\") else (grad, var)\n",
    "    for grad, var in gvs]\n",
    "# Apply Gradients (Update Trainable Variables) \n",
    "optimizer = optimizer.apply_gradients(capped_gvs)"
   ]
  },
  {
   "cell_type": "markdown",
   "metadata": {},
   "source": [
    "Training loop"
   ]
  },
  {
   "cell_type": "code",
   "execution_count": 235,
   "metadata": {
    "scrolled": true
   },
   "outputs": [
    {
     "name": "stdout",
     "output_type": "stream",
     "text": [
      "Avg angle loss: 6.1502013\n",
      "Std: 1.6034565\n",
      "Avg angle loss: 5.6030684\n",
      "Std: 0.02419396\n",
      "Avg angle loss: 5.616252\n",
      "Std: 0.031782616\n",
      "Avg angle loss: 5.6005697\n",
      "Std: 0.025229381\n",
      "Avg angle loss: 5.5919485\n",
      "Std: 0.027611416\n"
     ]
    },
    {
     "ename": "KeyboardInterrupt",
     "evalue": "",
     "output_type": "error",
     "traceback": [
      "\u001b[0;31m---------------------------------------------------------------------------\u001b[0m",
      "\u001b[0;31mKeyboardInterrupt\u001b[0m                         Traceback (most recent call last)",
      "\u001b[0;32m<ipython-input-235-9cc25a962805>\u001b[0m in \u001b[0;36m<module>\u001b[0;34m\u001b[0m\n\u001b[1;32m     43\u001b[0m                                              \u001b[0mpred_angles\u001b[0m\u001b[0;34m,\u001b[0m \u001b[0mangle_loss\u001b[0m\u001b[0;34m,\u001b[0m\u001b[0;34m\u001b[0m\u001b[0m\n\u001b[1;32m     44\u001b[0m                                              batch_size, pred], \n\u001b[0;32m---> 45\u001b[0;31m                                              feed_dict={learning_rate: 0.001})\n\u001b[0m\u001b[1;32m     46\u001b[0m \u001b[0;34m\u001b[0m\u001b[0m\n\u001b[1;32m     47\u001b[0m \u001b[0;31m#             losses.append(loss_)\u001b[0m\u001b[0;34m\u001b[0m\u001b[0;34m\u001b[0m\u001b[0m\n",
      "\u001b[0;32m~/.local/lib/python3.6/site-packages/tensorflow/python/client/session.py\u001b[0m in \u001b[0;36mrun\u001b[0;34m(self, fetches, feed_dict, options, run_metadata)\u001b[0m\n\u001b[1;32m    885\u001b[0m     \u001b[0;32mtry\u001b[0m\u001b[0;34m:\u001b[0m\u001b[0;34m\u001b[0m\u001b[0m\n\u001b[1;32m    886\u001b[0m       result = self._run(None, fetches, feed_dict, options_ptr,\n\u001b[0;32m--> 887\u001b[0;31m                          run_metadata_ptr)\n\u001b[0m\u001b[1;32m    888\u001b[0m       \u001b[0;32mif\u001b[0m \u001b[0mrun_metadata\u001b[0m\u001b[0;34m:\u001b[0m\u001b[0;34m\u001b[0m\u001b[0m\n\u001b[1;32m    889\u001b[0m         \u001b[0mproto_data\u001b[0m \u001b[0;34m=\u001b[0m \u001b[0mtf_session\u001b[0m\u001b[0;34m.\u001b[0m\u001b[0mTF_GetBuffer\u001b[0m\u001b[0;34m(\u001b[0m\u001b[0mrun_metadata_ptr\u001b[0m\u001b[0;34m)\u001b[0m\u001b[0;34m\u001b[0m\u001b[0m\n",
      "\u001b[0;32m~/.local/lib/python3.6/site-packages/tensorflow/python/client/session.py\u001b[0m in \u001b[0;36m_run\u001b[0;34m(self, handle, fetches, feed_dict, options, run_metadata)\u001b[0m\n\u001b[1;32m   1108\u001b[0m     \u001b[0;32mif\u001b[0m \u001b[0mfinal_fetches\u001b[0m \u001b[0;32mor\u001b[0m \u001b[0mfinal_targets\u001b[0m \u001b[0;32mor\u001b[0m \u001b[0;34m(\u001b[0m\u001b[0mhandle\u001b[0m \u001b[0;32mand\u001b[0m \u001b[0mfeed_dict_tensor\u001b[0m\u001b[0;34m)\u001b[0m\u001b[0;34m:\u001b[0m\u001b[0;34m\u001b[0m\u001b[0m\n\u001b[1;32m   1109\u001b[0m       results = self._do_run(handle, final_targets, final_fetches,\n\u001b[0;32m-> 1110\u001b[0;31m                              feed_dict_tensor, options, run_metadata)\n\u001b[0m\u001b[1;32m   1111\u001b[0m     \u001b[0;32melse\u001b[0m\u001b[0;34m:\u001b[0m\u001b[0;34m\u001b[0m\u001b[0m\n\u001b[1;32m   1112\u001b[0m       \u001b[0mresults\u001b[0m \u001b[0;34m=\u001b[0m \u001b[0;34m[\u001b[0m\u001b[0;34m]\u001b[0m\u001b[0;34m\u001b[0m\u001b[0m\n",
      "\u001b[0;32m~/.local/lib/python3.6/site-packages/tensorflow/python/client/session.py\u001b[0m in \u001b[0;36m_do_run\u001b[0;34m(self, handle, target_list, fetch_list, feed_dict, options, run_metadata)\u001b[0m\n\u001b[1;32m   1284\u001b[0m     \u001b[0;32mif\u001b[0m \u001b[0mhandle\u001b[0m \u001b[0;32mis\u001b[0m \u001b[0;32mNone\u001b[0m\u001b[0;34m:\u001b[0m\u001b[0;34m\u001b[0m\u001b[0m\n\u001b[1;32m   1285\u001b[0m       return self._do_call(_run_fn, feeds, fetches, targets, options,\n\u001b[0;32m-> 1286\u001b[0;31m                            run_metadata)\n\u001b[0m\u001b[1;32m   1287\u001b[0m     \u001b[0;32melse\u001b[0m\u001b[0;34m:\u001b[0m\u001b[0;34m\u001b[0m\u001b[0m\n\u001b[1;32m   1288\u001b[0m       \u001b[0;32mreturn\u001b[0m \u001b[0mself\u001b[0m\u001b[0;34m.\u001b[0m\u001b[0m_do_call\u001b[0m\u001b[0;34m(\u001b[0m\u001b[0m_prun_fn\u001b[0m\u001b[0;34m,\u001b[0m \u001b[0mhandle\u001b[0m\u001b[0;34m,\u001b[0m \u001b[0mfeeds\u001b[0m\u001b[0;34m,\u001b[0m \u001b[0mfetches\u001b[0m\u001b[0;34m)\u001b[0m\u001b[0;34m\u001b[0m\u001b[0m\n",
      "\u001b[0;32m~/.local/lib/python3.6/site-packages/tensorflow/python/client/session.py\u001b[0m in \u001b[0;36m_do_call\u001b[0;34m(self, fn, *args)\u001b[0m\n\u001b[1;32m   1290\u001b[0m   \u001b[0;32mdef\u001b[0m \u001b[0m_do_call\u001b[0m\u001b[0;34m(\u001b[0m\u001b[0mself\u001b[0m\u001b[0;34m,\u001b[0m \u001b[0mfn\u001b[0m\u001b[0;34m,\u001b[0m \u001b[0;34m*\u001b[0m\u001b[0margs\u001b[0m\u001b[0;34m)\u001b[0m\u001b[0;34m:\u001b[0m\u001b[0;34m\u001b[0m\u001b[0m\n\u001b[1;32m   1291\u001b[0m     \u001b[0;32mtry\u001b[0m\u001b[0;34m:\u001b[0m\u001b[0;34m\u001b[0m\u001b[0m\n\u001b[0;32m-> 1292\u001b[0;31m       \u001b[0;32mreturn\u001b[0m \u001b[0mfn\u001b[0m\u001b[0;34m(\u001b[0m\u001b[0;34m*\u001b[0m\u001b[0margs\u001b[0m\u001b[0;34m)\u001b[0m\u001b[0;34m\u001b[0m\u001b[0m\n\u001b[0m\u001b[1;32m   1293\u001b[0m     \u001b[0;32mexcept\u001b[0m \u001b[0merrors\u001b[0m\u001b[0;34m.\u001b[0m\u001b[0mOpError\u001b[0m \u001b[0;32mas\u001b[0m \u001b[0me\u001b[0m\u001b[0;34m:\u001b[0m\u001b[0;34m\u001b[0m\u001b[0m\n\u001b[1;32m   1294\u001b[0m       \u001b[0mmessage\u001b[0m \u001b[0;34m=\u001b[0m \u001b[0mcompat\u001b[0m\u001b[0;34m.\u001b[0m\u001b[0mas_text\u001b[0m\u001b[0;34m(\u001b[0m\u001b[0me\u001b[0m\u001b[0;34m.\u001b[0m\u001b[0mmessage\u001b[0m\u001b[0;34m)\u001b[0m\u001b[0;34m\u001b[0m\u001b[0m\n",
      "\u001b[0;32m~/.local/lib/python3.6/site-packages/tensorflow/python/client/session.py\u001b[0m in \u001b[0;36m_run_fn\u001b[0;34m(feed_dict, fetch_list, target_list, options, run_metadata)\u001b[0m\n\u001b[1;32m   1275\u001b[0m       \u001b[0mself\u001b[0m\u001b[0;34m.\u001b[0m\u001b[0m_extend_graph\u001b[0m\u001b[0;34m(\u001b[0m\u001b[0;34m)\u001b[0m\u001b[0;34m\u001b[0m\u001b[0m\n\u001b[1;32m   1276\u001b[0m       return self._call_tf_sessionrun(\n\u001b[0;32m-> 1277\u001b[0;31m           options, feed_dict, fetch_list, target_list, run_metadata)\n\u001b[0m\u001b[1;32m   1278\u001b[0m \u001b[0;34m\u001b[0m\u001b[0m\n\u001b[1;32m   1279\u001b[0m     \u001b[0;32mdef\u001b[0m \u001b[0m_prun_fn\u001b[0m\u001b[0;34m(\u001b[0m\u001b[0mhandle\u001b[0m\u001b[0;34m,\u001b[0m \u001b[0mfeed_dict\u001b[0m\u001b[0;34m,\u001b[0m \u001b[0mfetch_list\u001b[0m\u001b[0;34m)\u001b[0m\u001b[0;34m:\u001b[0m\u001b[0;34m\u001b[0m\u001b[0m\n",
      "\u001b[0;32m~/.local/lib/python3.6/site-packages/tensorflow/python/client/session.py\u001b[0m in \u001b[0;36m_call_tf_sessionrun\u001b[0;34m(self, options, feed_dict, fetch_list, target_list, run_metadata)\u001b[0m\n\u001b[1;32m   1365\u001b[0m     return tf_session.TF_SessionRun_wrapper(\n\u001b[1;32m   1366\u001b[0m         \u001b[0mself\u001b[0m\u001b[0;34m.\u001b[0m\u001b[0m_session\u001b[0m\u001b[0;34m,\u001b[0m \u001b[0moptions\u001b[0m\u001b[0;34m,\u001b[0m \u001b[0mfeed_dict\u001b[0m\u001b[0;34m,\u001b[0m \u001b[0mfetch_list\u001b[0m\u001b[0;34m,\u001b[0m \u001b[0mtarget_list\u001b[0m\u001b[0;34m,\u001b[0m\u001b[0;34m\u001b[0m\u001b[0m\n\u001b[0;32m-> 1367\u001b[0;31m         run_metadata)\n\u001b[0m\u001b[1;32m   1368\u001b[0m \u001b[0;34m\u001b[0m\u001b[0m\n\u001b[1;32m   1369\u001b[0m   \u001b[0;32mdef\u001b[0m \u001b[0m_call_tf_sessionprun\u001b[0m\u001b[0;34m(\u001b[0m\u001b[0mself\u001b[0m\u001b[0;34m,\u001b[0m \u001b[0mhandle\u001b[0m\u001b[0;34m,\u001b[0m \u001b[0mfeed_dict\u001b[0m\u001b[0;34m,\u001b[0m \u001b[0mfetch_list\u001b[0m\u001b[0;34m)\u001b[0m\u001b[0;34m:\u001b[0m\u001b[0;34m\u001b[0m\u001b[0m\n",
      "\u001b[0;31mKeyboardInterrupt\u001b[0m: "
     ]
    }
   ],
   "source": [
    "\"\"\"\n",
    "This is the main training loop.\n",
    "\n",
    "The coord calls and try, exceptm, finally instructions are due to the way Queues operate.\n",
    "They use a coordinator and queue_runners to load the data asynchronously to the actual computations.\n",
    "\"\"\"\n",
    "logdir = \"./logs/\" + datetime.now().strftime(\"%Y%m%d-%H%M%S\") + \"/train\"\n",
    "\n",
    "with tf.Session() as sess:\n",
    "    # important to call both of these, because \n",
    "    # otherwise can't specify num_epochs in string_input_producer\n",
    "    sess.run(tf.global_variables_initializer())\n",
    "    sess.run(tf.local_variables_initializer())\n",
    "    \n",
    "    coord = tf.train.Coordinator()  \n",
    "    threads = tf.train.start_queue_runners(coord=coord, sess=sess)\n",
    "    \n",
    "    train_writer = tf.summary.FileWriter( logdir, sess.graph)\n",
    "\n",
    "    try:\n",
    "        # we can't access information from the queue\n",
    "        # to know when an epoch ends, so we define our\n",
    "        # own step counter and calculate an average loss every n steps\n",
    "        step = 1\n",
    "        \n",
    "        losses = []\n",
    "        angle_losses = []\n",
    "        avg_losses = []\n",
    "        avg_angle_losses=[]\n",
    "        \n",
    "        samples_through_counter = 0\n",
    "        epochs_counter = 0\n",
    "        \n",
    "        while not coord.should_stop():  \n",
    "            merge = tf.summary.merge_all()\n",
    "#             (_, dihedral_angles_, labels_, pred_, \n",
    "#              pred_angles_, loss_, angle_loss_) = sess.run([optimizer, dihedral_angles, labels, pred, \n",
    "#                                                            pred_angles, loss, angle_loss], \n",
    "#                                                                feed_dict={learning_rate: 0.01})\n",
    "            (summary, _, dihedral_angles_, labels_, \n",
    "             pred_angles_, angle_loss_,\n",
    "             batch_size_, pred_) = sess.run([merge, optimizer, dihedral_angles, labels, \n",
    "                                             pred_angles, angle_loss,\n",
    "                                             batch_size, pred], \n",
    "                                             feed_dict={learning_rate: 0.001})\n",
    "\n",
    "#             losses.append(loss_)\n",
    "            angle_losses.append(angle_loss_)\n",
    "            if step % 10 == 0:\n",
    "#                 avg_loss =  np.mean(losses)\n",
    "                avg_angle_loss = np.mean(angle_losses)\n",
    "#                 avg_losses.append(avg_loss)\n",
    "                avg_angle_losses.append(avg_angle_loss)\n",
    "#                 print(\"Avg loss:\", avg_loss)\n",
    "                print(\"Avg angle loss:\", avg_angle_loss)\n",
    "#                 print(\"Angle loss:\", angle_loss_)\n",
    "                print(\"Std:\", np.std(angle_losses))\n",
    "\n",
    "                losses = []\n",
    "                angle_losses = []\n",
    "            \n",
    "            samples_through_counter += batch_size_\n",
    "            if samples_through_counter > training_samples * (epochs_counter+1):\n",
    "                print(\"EPOCH\")\n",
    "                epochs_counter += 1\n",
    "            \n",
    "            train_writer.add_summary(summary, step)\n",
    "            step += 1\n",
    "\n",
    "    except tf.errors.OutOfRangeError:\n",
    "        print('Done training for %d epochs, %d steps.' % (num_epochs, step))\n",
    "    finally:\n",
    "        # When done, ask the threads to stop.\n",
    "        coord.request_stop()\n",
    "\n",
    "        # Wait for threads to finish.\n",
    "        coord.join(threads)\n",
    "        sess.close()"
   ]
  },
  {
   "cell_type": "code",
   "execution_count": null,
   "metadata": {},
   "outputs": [],
   "source": [
    "pred_"
   ]
  },
  {
   "cell_type": "code",
   "execution_count": 23,
   "metadata": {},
   "outputs": [
    {
     "data": {
      "text/plain": [
       "(-3.14156, 3.1415927, -2.2531586, 3.1387393)"
      ]
     },
     "execution_count": 23,
     "metadata": {},
     "output_type": "execute_result"
    }
   ],
   "source": [
    "np.min(dihedral_angles_), np.max(dihedral_angles_), np.min(pred_angles_), np.max(pred_angles_)"
   ]
  },
  {
   "cell_type": "markdown",
   "metadata": {},
   "source": [
    "Plot the avg losses over time"
   ]
  },
  {
   "cell_type": "code",
   "execution_count": null,
   "metadata": {},
   "outputs": [],
   "source": [
    "# plt.plot(avg_losses)\n",
    "plt.plot(avg_angle_losses)"
   ]
  },
  {
   "cell_type": "markdown",
   "metadata": {},
   "source": [
    "Get just the dihedral angles to see if they resemble how a ramachadran plot should look like"
   ]
  },
  {
   "cell_type": "code",
   "execution_count": 184,
   "metadata": {},
   "outputs": [],
   "source": [
    "with tf.Session() as sess:\n",
    "    sess.run(tf.global_variables_initializer())\n",
    "    sess.run(tf.local_variables_initializer())\n",
    "    \n",
    "    coord = tf.train.Coordinator()  \n",
    "    threads = tf.train.start_queue_runners(coord=coord, sess=sess)\n",
    "    \n",
    "#     dihedral_angles_, euclidean_coordinates_, all_4_len_slices_euc_coord_ = sess.run([dihedral_angles, \n",
    "#                                                                                       euclidean_coordinates, \n",
    "#                                                                                       all_4_len_slices_euc_coord                                                                                     \n",
    "#                                                                                     ])\n",
    "    labels_mask_, x1_, x2_, x3_, y1_, y2_, y3_, pred_, pred_angles_, dihedral_angles_  = sess.run([labels_mask, x1, x2, x3, y1, y2, y3, pred, pred_angles, dihedral_angles])\n",
    "#     pred_ = sess.run([pred_c])\n",
    "    coord.request_stop()"
   ]
  },
  {
   "cell_type": "code",
   "execution_count": 182,
   "metadata": {},
   "outputs": [
    {
     "data": {
      "text/plain": [
       "(32, 484)"
      ]
     },
     "execution_count": 182,
     "metadata": {},
     "output_type": "execute_result"
    }
   ],
   "source": [
    "np.array(atan1_).shape"
   ]
  },
  {
   "cell_type": "code",
   "execution_count": 185,
   "metadata": {},
   "outputs": [
    {
     "data": {
      "text/plain": [
       "((32, 789),\n",
       " (32, 789),\n",
       " (32, 789),\n",
       " (32, 789),\n",
       " (32, 789, 6),\n",
       " (32, 789, 3),\n",
       " (32, 789, 3),\n",
       " 9.444581)"
      ]
     },
     "execution_count": 185,
     "metadata": {},
     "output_type": "execute_result"
    }
   ],
   "source": [
    "y1_.shape, y2_.shape, y3_.shape, x3_.shape, pred_.shape, pred_angles_.shape, dihedral_angles_.shape, angle_loss_"
   ]
  },
  {
   "cell_type": "code",
   "execution_count": 91,
   "metadata": {},
   "outputs": [
    {
     "data": {
      "text/plain": [
       "(array([[[   0. ],\n",
       "         [   0. ],\n",
       "         [   0. ]],\n",
       " \n",
       "        [[4515.9],\n",
       "         [4011.4],\n",
       "         [5703. ]],\n",
       " \n",
       "        [[4639.6],\n",
       "         [4043.6],\n",
       "         [5626.4]],\n",
       " \n",
       "        ...,\n",
       " \n",
       "        [[   0. ],\n",
       "         [   0. ],\n",
       "         [   0. ]],\n",
       " \n",
       "        [[   0. ],\n",
       "         [   0. ],\n",
       "         [   0. ]],\n",
       " \n",
       "        [[   0. ],\n",
       "         [   0. ],\n",
       "         [   0. ]]], dtype=float32), array([[[   0. ,    0. ,    0. ],\n",
       "         [4515.9, 4011.4, 5703. ],\n",
       "         [4639.6, 4043.6, 5626.4],\n",
       "         [4608.7, 4049.5, 5477.2]],\n",
       " \n",
       "        [[4515.9, 4011.4, 5703. ],\n",
       "         [4639.6, 4043.6, 5626.4],\n",
       "         [4608.7, 4049.5, 5477.2],\n",
       "         [4548. , 3942.8, 5425.9]],\n",
       " \n",
       "        [[4639.6, 4043.6, 5626.4],\n",
       "         [4608.7, 4049.5, 5477.2],\n",
       "         [4548. , 3942.8, 5425.9],\n",
       "         [4505. , 3936.9, 5286.2]],\n",
       " \n",
       "        ...,\n",
       " \n",
       "        [[   0. ,    0. ,    0. ],\n",
       "         [   0. ,    0. ,    0. ],\n",
       "         [   0. ,    0. ,    0. ],\n",
       "         [   0. ,    0. ,    0. ]],\n",
       " \n",
       "        [[   0. ,    0. ,    0. ],\n",
       "         [   0. ,    0. ,    0. ],\n",
       "         [   0. ,    0. ,    0. ],\n",
       "         [   0. ,    0. ,    0. ]],\n",
       " \n",
       "        [[   0. ,    0. ,    0. ],\n",
       "         [   0. ,    0. ,    0. ],\n",
       "         [   0. ,    0. ,    0. ],\n",
       "         [   0. ,    0. ,    0. ]]], dtype=float32), array([[-0.25348714,  3.0816522 , -1.538865  ],\n",
       "        [-0.08465115, -3.0919905 , -1.3822418 ],\n",
       "        [ 2.2193382 ,  3.0607564 , -1.8549333 ],\n",
       "        ...,\n",
       "        [ 0.        ,  0.        ,  0.        ],\n",
       "        [ 0.        ,  0.        ,  0.        ],\n",
       "        [ 0.        ,  0.        ,  0.        ]], dtype=float32))"
      ]
     },
     "execution_count": 91,
     "metadata": {},
     "output_type": "execute_result"
    }
   ],
   "source": [
    "euclidean_coordinates_[0][2:], all_4_len_slices_euc_coord_[0][2:], dihedral_angles_[0][2:]"
   ]
  },
  {
   "cell_type": "code",
   "execution_count": 55,
   "metadata": {},
   "outputs": [
    {
     "data": {
      "text/plain": [
       "(1, 64, 637, 3)"
      ]
     },
     "execution_count": 55,
     "metadata": {},
     "output_type": "execute_result"
    }
   ],
   "source": [
    "np.array(dihedral_angles_).shape"
   ]
  },
  {
   "cell_type": "code",
   "execution_count": 86,
   "metadata": {},
   "outputs": [],
   "source": [
    "alpha = tf_rad2deg(np.array(dihedral_angles_)[:,:,0])\n",
    "beta = tf_rad2deg(np.array(dihedral_angles_)[:,:,2])"
   ]
  },
  {
   "cell_type": "code",
   "execution_count": 95,
   "metadata": {},
   "outputs": [
    {
     "data": {
      "text/plain": [
       "(-180, 180)"
      ]
     },
     "execution_count": 95,
     "metadata": {},
     "output_type": "execute_result"
    },
    {
     "data": {
      "image/png": "[encoded data removed]",
      "text/plain": [
       "<matplotlib.figure.Figure at 0x14dfab349b0>"
      ]
     },
     "metadata": {},
     "output_type": "display_data"
    }
   ],
   "source": [
    "plt.scatter(beta[9], alpha[9], s=2)\n",
    "plt.xlim((-180,180))\n",
    "plt.ylim((-180,180))"
   ]
  },
  {
   "cell_type": "code",
   "execution_count": null,
   "metadata": {
    "collapsed": true
   },
   "outputs": [],
   "source": []
  },
  {
   "cell_type": "code",
   "execution_count": null,
   "metadata": {
    "collapsed": true
   },
   "outputs": [],
   "source": []
  }
 ],
 "metadata": {
  "kernelspec": {
   "display_name": "Python 3",
   "language": "python",
   "name": "python3"
  }
 },
 "nbformat": 4,
 "nbformat_minor": 2
}
