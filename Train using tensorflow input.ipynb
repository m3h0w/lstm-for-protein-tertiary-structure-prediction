{
 "cells": [
  {
   "cell_type": "code",
   "execution_count": 9,
   "metadata": {},
   "outputs": [],
   "source": [
    "import numpy as np\n",
    "import matplotlib.pyplot as plt\n",
    "%matplotlib inline\n",
    "import glob\n",
    "import tensorflow as tf\n",
    "import time\n",
    "import scipy\n",
    "\n",
    "from final.model import Model\n",
    "from final.helpers import Helpers\n",
    "from final.datahandler import DataHandler\n",
    "from final.dihedralcalculator import DihedralCalculator"
   ]
  },
  {
   "cell_type": "code",
   "execution_count": 10,
   "metadata": {},
   "outputs": [
    {
     "name": "stdout",
     "output_type": "stream",
     "text": [
      "Loaded data and filtered line endings\n",
      "Extracted primary data\n",
      "Encoded primary sequences\n",
      "Loaded data and filtered line endings\n",
      "Extracted evolutionary data\n"
     ]
    },
    {
     "name": "stderr",
     "output_type": "stream",
     "text": [
      "100%|██████████| 224/224 [00:00<00:00, 63874.10it/s]"
     ]
    },
    {
     "name": "stdout",
     "output_type": "stream",
     "text": [
      "Grouped 21's together\n",
      "Loaded data and filtered line endings\n",
      "Extracted mask data\n",
      "padded\n",
      "(224,) (269, 20)\n",
      "padded\n",
      "(224,) (269, 21)\n",
      "padded\n",
      "(224,) (269, 3)\n",
      "padded\n",
      "(224,) (269, 1)\n"
     ]
    },
    {
     "name": "stderr",
     "output_type": "stream",
     "text": [
      "\n"
     ]
    },
    {
     "data": {
      "text/plain": [
       "((224, 696, 41), (224, 696, 3))"
      ]
     },
     "execution_count": 10,
     "metadata": {},
     "output_type": "execute_result"
    }
   ],
   "source": [
    "import data_loader as dl\n",
    "import data_transformer as dt\n",
    "# change this path to match the path of where you have the\n",
    "# training_50 and validation files\n",
    "txt_data_path = '/home/mikey/Data/ProteinNet/casp7_txt/'\n",
    "\n",
    "max_len = None # max len of the protein taken into account\n",
    "n_angles = 3 # 3 if consider all angles or 2 if only phi and psi\n",
    "\n",
    "file_name = 'validation'\n",
    "prim_valid, evo_valid, dih_valid, mask_valid = (dl.parse_primary_from_file(txt_data_path + file_name), \n",
    "                                                dl.parse_evolutionary_from_file(txt_data_path + file_name),\n",
    "                                                dl.load_file('./'+ file_name + '_dih.joblib'),\n",
    "                                                dl.parse_mask_from_file(txt_data_path + file_name))\n",
    "\n",
    "prim_v, evo_v, dih_v, mask_v = dt.limit_length_and_pad(prim_valid, evo_valid, dih_valid, mask_valid, max_length=max_len)\n",
    "x_valid, y_valid = np.concatenate([prim_v, evo_v], axis=2), dih_v[:,:,:n_angles]\n",
    "\n",
    "x_valid.shape, y_valid.shape"
   ]
  },
  {
   "cell_type": "code",
   "execution_count": 46,
   "metadata": {
    "scrolled": true
   },
   "outputs": [
    {
     "name": "stdout",
     "output_type": "stream",
     "text": [
      "['/home/mikey/Data/ProteinNet/casp7/training/30/*', '/home/mikey/Data/ProteinNet/casp7/training/50/*', '/home/mikey/Data/ProteinNet/casp7/training/70/*', '/home/mikey/Data/ProteinNet/casp8/training/30/*', '/home/mikey/Data/ProteinNet/casp8/training/50/*', '/home/mikey/Data/ProteinNet/casp8/training/70/*', '/home/mikey/Data/ProteinNet/casp9/training/30/*', '/home/mikey/Data/ProteinNet/casp9/training/50/*', '/home/mikey/Data/ProteinNet/casp9/training/70/*', '/home/mikey/Data/ProteinNet/casp10/training/30/*', '/home/mikey/Data/ProteinNet/casp10/training/50/*', '/home/mikey/Data/ProteinNet/casp10/training/70/*', '/home/mikey/Data/ProteinNet/casp11/training/30/*', '/home/mikey/Data/ProteinNet/casp11/training/50/*', '/home/mikey/Data/ProteinNet/casp11/training/70/*', '/home/mikey/Data/ProteinNet/casp12/training/30/*', '/home/mikey/Data/ProteinNet/casp12/training/50/*', '/home/mikey/Data/ProteinNet/casp12/training/70/*']\n",
      "Training samples available 321692\n"
     ]
    }
   ],
   "source": [
    "def _coordinates(config, dihedrals):\n",
    "    \"\"\" Converts dihedrals into full 3D structures. \"\"\"\n",
    "\n",
    "    # converts dihedrals to points ready for reconstruction.\n",
    "    points = dihedral_to_point(dihedrals) # [NUM_STEPS x NUM_DIHEDRALS, BATCH_SIZE, NUM_DIMENSIONS]\n",
    "             \n",
    "    # converts points to final 3D coordinates.\n",
    "    coordinates = point_to_coordinate(points, num_fragments=config['num_reconstruction_fragments'], \n",
    "                                              parallel_iterations=config['num_reconstruction_parallel_iters']) \n",
    "                  # [NUM_STEPS x NUM_DIHEDRALS, BATCH_SIZE, NUM_DIMENSIONS]\n",
    "\n",
    "    return coordinates\n",
    "\n",
    "def _drmsds(config, coordinates, targets, weights):\n",
    "    \"\"\" Computes reduced weighted dRMSD loss (as specified by weights) \n",
    "        between predicted tertiary structures and targets. \"\"\"\n",
    "                  \n",
    "    # compute per structure dRMSDs\n",
    "    drmsds = drmsd(coordinates, targets, weights, name='drmsds') # [BATCH_SIZE]\n",
    "\n",
    "    # add to relevant collections for summaries, etc.\n",
    "    if config['log_model_summaries']: tf.add_to_collection(config['name'] + '_drmsdss', drmsds)\n",
    "\n",
    "    return drmsds\n",
    "\n",
    "tf.reset_default_graph()\n",
    "\n",
    "data_path = \"/home/mikey/Data/ProteinNet/\"\n",
    "casps = ['casp7', 'casp8', 'casp9', 'casp10', 'casp11', 'casp12']\n",
    "# casps = ['casp7']\n",
    "training_percentages = [30, 50, 70]\n",
    "\n",
    "num_epochs = 100\n",
    "batch_size= 32\n",
    "capacity=1000\n",
    "# min_after_dequeue=100\n",
    "\n",
    "max_protein_len = None\n",
    "include_evo = True\n",
    "apply_mask = True\n",
    "\n",
    "model_type = 'cnn_small'\n",
    "dropout_rate = 0.3\n",
    "prediction_mode = 'regression_vectors'\n",
    "\n",
    "angularization_mode = None\n",
    "if prediction_mode == 'regression_angles':\n",
    "    angularization_mode = 'cos'\n",
    "\n",
    "regularize_vectors = True\n",
    "loss_mode = 'angular_mae'\n",
    "n_angles = 2\n",
    "\n",
    "# define the training data paths and how many epochs they should be queued for\n",
    "# by instantiating the DataHandler object that takes care of parsing\n",
    "data_handler = DataHandler(data_path=data_path,\n",
    "                           casps=casps,\n",
    "                           percentages=training_percentages, \n",
    "                           num_epochs=num_epochs)\n",
    "\n",
    "# use DataHandler to generate batches of specific size \n",
    "# and optional limit on protein length\n",
    "# secondary structure is missing from the ProteinNet, thus the underscore\n",
    "ids, one_hot_primary, evolutionary, _, tertiary, ter_mask, pri_length, keep =\\\n",
    "    data_handler.generate_batches(batch_size = batch_size,\n",
    "                                  capacity = capacity,\n",
    "                                  max_protein_len = max_protein_len)\n",
    "# if max_protein_len:\n",
    "#     ids, one_hot_primary, evolutionary, tertiary, ter_mask, pri_length =\\\n",
    "#         helpers.mask_all([ids, one_hot_primary, evolutionary, tertiary, ter_mask, pri_length], keep, axis=0)\n",
    "\n",
    "# convert euclidean coordinates to dihedral angles\n",
    "dihedral_calculator = DihedralCalculator()\n",
    "true_dihedrals = dihedral_calculator.dihedral_pipeline(tertiary, protein_length = tf.shape(one_hot_primary)[1])\n",
    "true_dihedrals = true_dihedrals[:,:,:n_angles]\n",
    "\n",
    "# set up placeholders with batch_size=None to be able to feed them with validation data\n",
    "# they fall onto default coming from the queue if nothing is fed through feed_dict\n",
    "true_dihedrals = tf.placeholder_with_default(true_dihedrals, shape=(None, None, n_angles))\n",
    "true_vectors = Helpers.ang_to_vec_tf(true_dihedrals)\n",
    "one_hot_primary = tf.placeholder_with_default(one_hot_primary, shape=(None, None, 20))\n",
    "evolutionary = tf.placeholder_with_default(evolutionary, shape=(None, None, 21))\n",
    "ter_mask = tf.placeholder_with_default(ter_mask, shape=(None, None))\n",
    "\n",
    "if include_evo:\n",
    "    input_data = tf.concat([one_hot_primary, evolutionary], axis=2)\n",
    "else:\n",
    "    input_data = one_hot_primary\n",
    "\n",
    "# build a model and get predicted output\n",
    "model = Model(n_angles=n_angles, \n",
    "              output_mask=ter_mask,\n",
    "              model_type=model_type, \n",
    "              prediction_mode=prediction_mode,\n",
    "              dropout_rate=dropout_rate,\n",
    "              ang_mode=angularization_mode,\n",
    "              regularize_vectors=regularize_vectors\n",
    "            )\n",
    "rad_pred_masked, vec_pred_masked = model.build_model(input_data)\n",
    "\n",
    "# mask values (gets reshaped into 2 dimensions)\n",
    "# it's important to note that with apply_mask = False the validation\n",
    "# loss and trianing loss are not related. This is likely\n",
    "# due to padding being done differently on validation and training data\n",
    "true_dihedrals_masked, true_vectors_masked = true_dihedrals, true_vectors\n",
    "if apply_mask:\n",
    "    true_dihedrals_masked, true_vectors_masked = Helpers.mask_all([true_dihedrals, true_vectors], ter_mask)\n",
    "\n",
    "if prediction_mode == 'regression_vectors':\n",
    "    if loss_mode == 'angular_mae':\n",
    "        loss_vec = Helpers.loss360(true_dihedrals_masked, rad_pred_masked)\n",
    "        loss = tf.reduce_mean(loss_vec)\n",
    "    elif loss_mode == 'mae':\n",
    "        loss_vec = Helpers.mae(true_vectors_masked, vec_pred_masked)\n",
    "        loss = tf.reduce_mean(loss_vec)\n",
    "    elif loss_mode == 'angular_mae_and_mae':\n",
    "        loss_vec = tf.add(Helpers.loss360(true_dihedrals_masked, rad_pred_masked), \n",
    "                          Helpers.mae(true_vectors_masked, vec_pred_masked))\n",
    "        loss = tf.reduce_mean(loss_vec)\n",
    "elif prediction_mode == 'regression_angles':\n",
    "    if loss_mode == 'angular_mae':\n",
    "        loss_vec = Helpers.loss360(true_dihedrals_masked, rad_pred_masked)\n",
    "        loss = tf.reduce_mean(loss_vec)\n",
    "    elif loss_mode == 'mae':\n",
    "        loss_vec = Helpers.mae(true_dihedrals_masked, rad_pred_masked)\n",
    "        loss = tf.reduce_mean(loss_vec)\n",
    "\n",
    "pcc = Helpers.pearson_tf(rad_pred_masked, true_dihedrals_masked)\n",
    "# include the regularization loss that keeps vectors on unit circle\n",
    "loss = tf.add_n([loss] + model.regularization_losses)\n",
    "\n",
    "# learning rate placeholder for adaptive learning rate\n",
    "learning_rate = tf.placeholder(tf.float32, name='learning_rate')\n",
    "\n",
    "# choose an optimizer to minimize the loss\n",
    "global_step = tf.Variable(0, name='global_step', trainable=False)\n",
    "train_op = tf.train.AdamOptimizer(learning_rate = learning_rate).minimize(loss, global_step=global_step)\n",
    "\n",
    "init = tf.group(tf.global_variables_initializer(), tf.local_variables_initializer())\n",
    "n_parameters = np.sum([np.prod(v.get_shape().as_list()) for v in tf.trainable_variables()])"
   ]
  },
  {
   "cell_type": "markdown",
   "metadata": {},
   "source": [
    "Training loop"
   ]
  },
  {
   "cell_type": "code",
   "execution_count": 48,
   "metadata": {
    "scrolled": true
   },
   "outputs": [
    {
     "name": "stdout",
     "output_type": "stream",
     "text": [
      "Train loss: 2.4014218 [1.6139904 1.438793 ]\n",
      "Validation loss: 1.8602278 [0.6995032 1.4618758]\n",
      "Validation PCC: [-0.10736009, 0.457409]\n",
      "Train loss: 2.62986 [2.30544   1.5256162]\n",
      "Validation loss: 2.7191503 [2.3994117 1.5529338]\n",
      "Validation PCC: [0.14970605, 0.4642586]\n",
      "Train loss: 2.7000566 [2.373892  1.5611925]\n",
      "Validation loss: 2.675693 [2.372733  1.5560852]\n",
      "Validation PCC: [0.17334868, 0.50076085]\n",
      "Train loss: 2.654337 [2.3415303 1.5574226]\n",
      "Validation loss: 2.5923758 [2.2988126 1.5381546]\n",
      "Validation PCC: [0.17947398, 0.5527613]\n",
      "Train loss: 2.6122828 [2.3220274 1.5512503]\n",
      "Validation loss: 2.589622 [2.3278732 1.5363407]\n",
      "Validation PCC: [0.20328878, 0.5514715]\n",
      "Train loss: 2.586765 [2.311069  1.5344332]\n",
      "Validation loss: 2.551374 [2.2866392 1.5057542]\n",
      "Validation PCC: [0.18862274, 0.58277524]\n",
      "Train loss: 2.4619086 [2.1214828 1.5182723]\n",
      "Validation loss: 2.331348 [2.3050427 1.3218483]\n",
      "Validation PCC: [0.1123547, 0.5692802]\n",
      "Train loss: 1.9133611 [1.7186733 1.3661236]\n",
      "Validation loss: 1.537757 [1.1130755 1.3961096]\n",
      "Validation PCC: [-0.2822087, 0.5835701]\n",
      "Train loss: 1.9760193 [1.5761497 1.4253048]\n",
      "Validation loss: 2.4958525 [2.4312844 1.4238982]\n",
      "Validation PCC: [-0.36267617, 0.5974932]\n",
      "Train loss: 2.1385562 [2.3938367 1.5684934]\n",
      "Validation loss: 2.2262795 [2.3606591 1.5778759]\n",
      "Validation PCC: [0.19715294, 0.5781929]\n",
      "Train loss: 2.2879899 [2.305261  1.5690138]\n",
      "Validation loss: 2.3095517 [2.2759106 1.5578196]\n",
      "Validation PCC: [0.19776891, 0.5827736]\n",
      "Train loss: 2.3051245 [2.2464263 1.544732 ]\n",
      "Validation loss: 2.2924633 [2.231466 1.540174]\n",
      "Validation PCC: [0.19008653, 0.5924078]\n",
      "Train loss: 2.2589195 [2.1065567 1.5355633]\n",
      "Validation loss: 1.7106504 [1.0987531 1.4684092]\n",
      "Validation PCC: [-0.47446737, 0.6055289]\n",
      "Train loss: 2.0427935 [1.9305702 1.5213361]\n",
      "Validation loss: 2.2228746 [2.2379434 1.5568292]\n",
      "Validation PCC: [0.18686205, 0.584378]\n",
      "Train loss: 2.2461817 [2.1883833 1.5491809]\n",
      "Validation loss: 2.2603612 [2.1624036 1.5430905]\n",
      "Validation PCC: [0.172393, 0.5975211]\n",
      "Train loss: 2.0067072 [1.7949742 1.4902586]\n",
      "Validation loss: 1.9488307 [1.503733  1.5099783]\n",
      "Validation PCC: [-0.44855118, 0.58136266]\n",
      "Train loss: 1.8966824 [1.6042392 1.4705526]\n",
      "Validation loss: 1.949548 [1.6049213 1.5060852]\n",
      "Validation PCC: [-0.039791726, 0.5955355]\n",
      "Train loss: 1.9064444 [1.5594671 1.4607855]\n",
      "Validation loss: 1.8968004 [1.629408  1.4185789]\n",
      "Validation PCC: [-0.44148043, 0.6183422]\n",
      "Train loss: 2.0259001 [1.6560894 1.4688587]\n",
      "Validation loss: 1.8999825 [1.5471972 1.4615813]\n",
      "Validation PCC: [-0.47125182, 0.60736495]\n",
      "Train loss: 1.9839472 [1.6434499 1.4522456]\n",
      "Validation loss: 2.3313947 [1.8809662 1.4519874]\n",
      "Validation PCC: [-0.37347475, 0.61165863]\n",
      "Train loss: 2.3451166 [2.176371  1.5064873]\n",
      "Validation loss: 2.3699846 [2.2454994 1.5009294]\n",
      "Validation PCC: [0.48181707, 0.60628057]\n"
     ]
    },
    {
     "ename": "KeyboardInterrupt",
     "evalue": "",
     "output_type": "error",
     "traceback": [
      "\u001b[0;31m---------------------------------------------------------------------------\u001b[0m",
      "\u001b[0;31mKeyboardInterrupt\u001b[0m                         Traceback (most recent call last)",
      "\u001b[0;32m<ipython-input-48-cc14191096c1>\u001b[0m in \u001b[0;36m<module>\u001b[0;34m\u001b[0m\n\u001b[1;32m     29\u001b[0m             _, true_dihedrals_, rad_pred_masked_, loss_, loss_vec_ = sess.run([train_op, true_dihedrals, \n\u001b[1;32m     30\u001b[0m                                                                     rad_pred_masked, loss, loss_vec], \n\u001b[0;32m---> 31\u001b[0;31m                                                                     feed_dict={learning_rate: init_learning_rate})\n\u001b[0m\u001b[1;32m     32\u001b[0m \u001b[0;34m\u001b[0m\u001b[0m\n\u001b[1;32m     33\u001b[0m             \u001b[0mlosses\u001b[0m\u001b[0;34m.\u001b[0m\u001b[0mappend\u001b[0m\u001b[0;34m(\u001b[0m\u001b[0mloss_\u001b[0m\u001b[0;34m)\u001b[0m\u001b[0;34m\u001b[0m\u001b[0m\n",
      "\u001b[0;32m~/.local/lib/python3.6/site-packages/tensorflow/python/client/session.py\u001b[0m in \u001b[0;36mrun\u001b[0;34m(self, fetches, feed_dict, options, run_metadata)\u001b[0m\n\u001b[1;32m    885\u001b[0m     \u001b[0;32mtry\u001b[0m\u001b[0;34m:\u001b[0m\u001b[0;34m\u001b[0m\u001b[0m\n\u001b[1;32m    886\u001b[0m       result = self._run(None, fetches, feed_dict, options_ptr,\n\u001b[0;32m--> 887\u001b[0;31m                          run_metadata_ptr)\n\u001b[0m\u001b[1;32m    888\u001b[0m       \u001b[0;32mif\u001b[0m \u001b[0mrun_metadata\u001b[0m\u001b[0;34m:\u001b[0m\u001b[0;34m\u001b[0m\u001b[0m\n\u001b[1;32m    889\u001b[0m         \u001b[0mproto_data\u001b[0m \u001b[0;34m=\u001b[0m \u001b[0mtf_session\u001b[0m\u001b[0;34m.\u001b[0m\u001b[0mTF_GetBuffer\u001b[0m\u001b[0;34m(\u001b[0m\u001b[0mrun_metadata_ptr\u001b[0m\u001b[0;34m)\u001b[0m\u001b[0;34m\u001b[0m\u001b[0m\n",
      "\u001b[0;32m~/.local/lib/python3.6/site-packages/tensorflow/python/client/session.py\u001b[0m in \u001b[0;36m_run\u001b[0;34m(self, handle, fetches, feed_dict, options, run_metadata)\u001b[0m\n\u001b[1;32m   1108\u001b[0m     \u001b[0;32mif\u001b[0m \u001b[0mfinal_fetches\u001b[0m \u001b[0;32mor\u001b[0m \u001b[0mfinal_targets\u001b[0m \u001b[0;32mor\u001b[0m \u001b[0;34m(\u001b[0m\u001b[0mhandle\u001b[0m \u001b[0;32mand\u001b[0m \u001b[0mfeed_dict_tensor\u001b[0m\u001b[0;34m)\u001b[0m\u001b[0;34m:\u001b[0m\u001b[0;34m\u001b[0m\u001b[0m\n\u001b[1;32m   1109\u001b[0m       results = self._do_run(handle, final_targets, final_fetches,\n\u001b[0;32m-> 1110\u001b[0;31m                              feed_dict_tensor, options, run_metadata)\n\u001b[0m\u001b[1;32m   1111\u001b[0m     \u001b[0;32melse\u001b[0m\u001b[0;34m:\u001b[0m\u001b[0;34m\u001b[0m\u001b[0m\n\u001b[1;32m   1112\u001b[0m       \u001b[0mresults\u001b[0m \u001b[0;34m=\u001b[0m \u001b[0;34m[\u001b[0m\u001b[0;34m]\u001b[0m\u001b[0;34m\u001b[0m\u001b[0m\n",
      "\u001b[0;32m~/.local/lib/python3.6/site-packages/tensorflow/python/client/session.py\u001b[0m in \u001b[0;36m_do_run\u001b[0;34m(self, handle, target_list, fetch_list, feed_dict, options, run_metadata)\u001b[0m\n\u001b[1;32m   1284\u001b[0m     \u001b[0;32mif\u001b[0m \u001b[0mhandle\u001b[0m \u001b[0;32mis\u001b[0m \u001b[0;32mNone\u001b[0m\u001b[0;34m:\u001b[0m\u001b[0;34m\u001b[0m\u001b[0m\n\u001b[1;32m   1285\u001b[0m       return self._do_call(_run_fn, feeds, fetches, targets, options,\n\u001b[0;32m-> 1286\u001b[0;31m                            run_metadata)\n\u001b[0m\u001b[1;32m   1287\u001b[0m     \u001b[0;32melse\u001b[0m\u001b[0;34m:\u001b[0m\u001b[0;34m\u001b[0m\u001b[0m\n\u001b[1;32m   1288\u001b[0m       \u001b[0;32mreturn\u001b[0m \u001b[0mself\u001b[0m\u001b[0;34m.\u001b[0m\u001b[0m_do_call\u001b[0m\u001b[0;34m(\u001b[0m\u001b[0m_prun_fn\u001b[0m\u001b[0;34m,\u001b[0m \u001b[0mhandle\u001b[0m\u001b[0;34m,\u001b[0m \u001b[0mfeeds\u001b[0m\u001b[0;34m,\u001b[0m \u001b[0mfetches\u001b[0m\u001b[0;34m)\u001b[0m\u001b[0;34m\u001b[0m\u001b[0m\n",
      "\u001b[0;32m~/.local/lib/python3.6/site-packages/tensorflow/python/client/session.py\u001b[0m in \u001b[0;36m_do_call\u001b[0;34m(self, fn, *args)\u001b[0m\n\u001b[1;32m   1290\u001b[0m   \u001b[0;32mdef\u001b[0m \u001b[0m_do_call\u001b[0m\u001b[0;34m(\u001b[0m\u001b[0mself\u001b[0m\u001b[0;34m,\u001b[0m \u001b[0mfn\u001b[0m\u001b[0;34m,\u001b[0m \u001b[0;34m*\u001b[0m\u001b[0margs\u001b[0m\u001b[0;34m)\u001b[0m\u001b[0;34m:\u001b[0m\u001b[0;34m\u001b[0m\u001b[0m\n\u001b[1;32m   1291\u001b[0m     \u001b[0;32mtry\u001b[0m\u001b[0;34m:\u001b[0m\u001b[0;34m\u001b[0m\u001b[0m\n\u001b[0;32m-> 1292\u001b[0;31m       \u001b[0;32mreturn\u001b[0m \u001b[0mfn\u001b[0m\u001b[0;34m(\u001b[0m\u001b[0;34m*\u001b[0m\u001b[0margs\u001b[0m\u001b[0;34m)\u001b[0m\u001b[0;34m\u001b[0m\u001b[0m\n\u001b[0m\u001b[1;32m   1293\u001b[0m     \u001b[0;32mexcept\u001b[0m \u001b[0merrors\u001b[0m\u001b[0;34m.\u001b[0m\u001b[0mOpError\u001b[0m \u001b[0;32mas\u001b[0m \u001b[0me\u001b[0m\u001b[0;34m:\u001b[0m\u001b[0;34m\u001b[0m\u001b[0m\n\u001b[1;32m   1294\u001b[0m       \u001b[0mmessage\u001b[0m \u001b[0;34m=\u001b[0m \u001b[0mcompat\u001b[0m\u001b[0;34m.\u001b[0m\u001b[0mas_text\u001b[0m\u001b[0;34m(\u001b[0m\u001b[0me\u001b[0m\u001b[0;34m.\u001b[0m\u001b[0mmessage\u001b[0m\u001b[0;34m)\u001b[0m\u001b[0;34m\u001b[0m\u001b[0m\n",
      "\u001b[0;32m~/.local/lib/python3.6/site-packages/tensorflow/python/client/session.py\u001b[0m in \u001b[0;36m_run_fn\u001b[0;34m(feed_dict, fetch_list, target_list, options, run_metadata)\u001b[0m\n\u001b[1;32m   1275\u001b[0m       \u001b[0mself\u001b[0m\u001b[0;34m.\u001b[0m\u001b[0m_extend_graph\u001b[0m\u001b[0;34m(\u001b[0m\u001b[0;34m)\u001b[0m\u001b[0;34m\u001b[0m\u001b[0m\n\u001b[1;32m   1276\u001b[0m       return self._call_tf_sessionrun(\n\u001b[0;32m-> 1277\u001b[0;31m           options, feed_dict, fetch_list, target_list, run_metadata)\n\u001b[0m\u001b[1;32m   1278\u001b[0m \u001b[0;34m\u001b[0m\u001b[0m\n\u001b[1;32m   1279\u001b[0m     \u001b[0;32mdef\u001b[0m \u001b[0m_prun_fn\u001b[0m\u001b[0;34m(\u001b[0m\u001b[0mhandle\u001b[0m\u001b[0;34m,\u001b[0m \u001b[0mfeed_dict\u001b[0m\u001b[0;34m,\u001b[0m \u001b[0mfetch_list\u001b[0m\u001b[0;34m)\u001b[0m\u001b[0;34m:\u001b[0m\u001b[0;34m\u001b[0m\u001b[0m\n",
      "\u001b[0;32m~/.local/lib/python3.6/site-packages/tensorflow/python/client/session.py\u001b[0m in \u001b[0;36m_call_tf_sessionrun\u001b[0;34m(self, options, feed_dict, fetch_list, target_list, run_metadata)\u001b[0m\n\u001b[1;32m   1365\u001b[0m     return tf_session.TF_SessionRun_wrapper(\n\u001b[1;32m   1366\u001b[0m         \u001b[0mself\u001b[0m\u001b[0;34m.\u001b[0m\u001b[0m_session\u001b[0m\u001b[0;34m,\u001b[0m \u001b[0moptions\u001b[0m\u001b[0;34m,\u001b[0m \u001b[0mfeed_dict\u001b[0m\u001b[0;34m,\u001b[0m \u001b[0mfetch_list\u001b[0m\u001b[0;34m,\u001b[0m \u001b[0mtarget_list\u001b[0m\u001b[0;34m,\u001b[0m\u001b[0;34m\u001b[0m\u001b[0m\n\u001b[0;32m-> 1367\u001b[0;31m         run_metadata)\n\u001b[0m\u001b[1;32m   1368\u001b[0m \u001b[0;34m\u001b[0m\u001b[0m\n\u001b[1;32m   1369\u001b[0m   \u001b[0;32mdef\u001b[0m \u001b[0m_call_tf_sessionprun\u001b[0m\u001b[0;34m(\u001b[0m\u001b[0mself\u001b[0m\u001b[0;34m,\u001b[0m \u001b[0mhandle\u001b[0m\u001b[0;34m,\u001b[0m \u001b[0mfeed_dict\u001b[0m\u001b[0;34m,\u001b[0m \u001b[0mfetch_list\u001b[0m\u001b[0;34m)\u001b[0m\u001b[0;34m:\u001b[0m\u001b[0;34m\u001b[0m\u001b[0m\n",
      "\u001b[0;31mKeyboardInterrupt\u001b[0m: "
     ]
    }
   ],
   "source": [
    "learning_rate_decay = 0.98\n",
    "steps_to_print_after = 250\n",
    "init_learning_rate = 0.0001\n",
    "\n",
    "if 'lstm' in model_type:\n",
    "    init_learning_rate = 0.001\n",
    "    steps_to_print_after = 200\n",
    "    \n",
    "with tf.Session() as sess:\n",
    "    # important to call both of these, because \n",
    "    # otherwise can't specify num_epochs in string_input_producer\n",
    "    sess.run(init)\n",
    "    \n",
    "    coord = tf.train.Coordinator()  \n",
    "    threads = tf.train.start_queue_runners(coord=coord, sess=sess)\n",
    "\n",
    "    try:\n",
    "        # we can't access information from the queue\n",
    "        # to know when an epoch ends, so we define our\n",
    "        # own step counter and calculate an validation loss every n steps\n",
    "        step = 1\n",
    "        \n",
    "        losses = []\n",
    "        loss_vecs = []\n",
    "        avg_losses = []\n",
    "        \n",
    "        while not coord.should_stop():        \n",
    "                \n",
    "            _, true_dihedrals_, rad_pred_masked_, loss_, loss_vec_ = sess.run([train_op, true_dihedrals, \n",
    "                                                                    rad_pred_masked, loss, loss_vec], \n",
    "                                                                    feed_dict={learning_rate: init_learning_rate})\n",
    "\n",
    "            losses.append(loss_)\n",
    "            loss_vecs.append(loss_vec_)\n",
    "            if step % steps_to_print_after == 0:\n",
    "                avg_loss, avg_loss_vec =  np.mean(losses), np.mean(np.array(loss_vecs), axis=0)\n",
    "                avg_losses.append(avg_loss)\n",
    "                print(\"Train loss:\", avg_loss, avg_loss_vec)\n",
    "\n",
    "                losses = []\n",
    "                loss_vecs = []\n",
    "                \n",
    "                (true_dihedrals_masked_v, rad_pred_masked_v, \n",
    "                 loss_, loss_vec_) = sess.run([true_dihedrals_masked, rad_pred_masked, \n",
    "                                                   loss, loss_vec], \n",
    "                                                   feed_dict={\n",
    "                                                           one_hot_primary: prim_v,\n",
    "                                                           evolutionary: evo_v,\n",
    "                                                           true_dihedrals: dih_v[:,:,:n_angles],\n",
    "                                                           ter_mask: mask_v\n",
    "                                                          })\n",
    "                print(\"Validation loss:\", loss_, loss_vec_)\n",
    "                print(\"Validation PCC:\", Helpers.pearson_numpy(np.squeeze(true_dihedrals_masked_v)[:,:n_angles], \n",
    "                                                               np.array(rad_pred_masked_v)))\n",
    "            \n",
    "            if step * batch_size > data_handler.training_samples:\n",
    "                step = 0\n",
    "                init_learning_rate = init_learning_rate * learning_rate_decay\n",
    "                print(\"EPOCH. New learning rate:\", init_learning_rate)\n",
    "                \n",
    "            step += 1\n",
    "\n",
    "\n",
    "    except tf.errors.OutOfRangeError:\n",
    "        print('Done training for %d epochs, %d steps.' % (num_epochs, step))\n",
    "    finally:\n",
    "        # When done, ask the threads to stop.\n",
    "        coord.request_stop()\n",
    "\n",
    "        # Wait for threads to finish.\n",
    "        coord.join(threads)\n",
    "        sess.close()"
   ]
  },
  {
   "cell_type": "markdown",
   "metadata": {},
   "source": [
    "Plot the avg losses over time"
   ]
  },
  {
   "cell_type": "code",
   "execution_count": null,
   "metadata": {},
   "outputs": [],
   "source": [
    "plt.plot(avg_losses)"
   ]
  },
  {
   "cell_type": "markdown",
   "metadata": {},
   "source": [
    "Get just the dihedral angles to see if they resemble how a ramachadran plot should look like"
   ]
  },
  {
   "cell_type": "code",
   "execution_count": null,
   "metadata": {},
   "outputs": [],
   "source": [
    "with tf.Session() as sess:\n",
    "    sess.run(tf.global_variables_initializer())\n",
    "    sess.run(tf.local_variables_initializer())\n",
    "    \n",
    "    coord = tf.train.Coordinator()\n",
    "    threads = tf.train.start_queue_runners(coord=coord, sess=sess)\n",
    "    \n",
    "    true_dihedrals_, ohp, tert = sess.run([true_dihedrals, one_hot_primary, tertiary])\n",
    "    coord.request_stop()"
   ]
  },
  {
   "cell_type": "code",
   "execution_count": null,
   "metadata": {},
   "outputs": [],
   "source": [
    "np.mean(np.abs(true_dihedrals_v - pred_v)), loss_"
   ]
  },
  {
   "cell_type": "code",
   "execution_count": null,
   "metadata": {},
   "outputs": [],
   "source": [
    "phi.shape"
   ]
  },
  {
   "cell_type": "code",
   "execution_count": null,
   "metadata": {},
   "outputs": [],
   "source": [
    "protein_n = 0\n",
    "\n",
    "plt.figure(figsize=(12,8))\n",
    "\n",
    "phi, psi, omega = np.split(pred_v, 3, -1)\n",
    "plt.scatter(phi[:500], psi[:500], s=1, label='pred')\n",
    "\n",
    "phi, psi, omega = np.split(true_dihedrals_v, 3, -1)\n",
    "plt.scatter(phi[:500], psi[:500], s=1, label='true')\n",
    "\n",
    "plt.legend()"
   ]
  },
  {
   "cell_type": "code",
   "execution_count": null,
   "metadata": {},
   "outputs": [],
   "source": [
    "plt.hist(omega[protein_n], bins=100)"
   ]
  },
  {
   "cell_type": "code",
   "execution_count": null,
   "metadata": {},
   "outputs": [],
   "source": []
  },
  {
   "cell_type": "code",
   "execution_count": null,
   "metadata": {},
   "outputs": [],
   "source": [
    "#                 # access trainable variables to see if they're training\n",
    "#                 variables_names = [v.name for v in tf.trainable_variables()]\n",
    "#                 values = sess.run(variables_names)\n",
    "#                 for k, v in zip(variables_names, values):\n",
    "#                     print(\"Variable: \", k)\n",
    "#                     print(\"Shape: \", v.shape)\n",
    "#                     print(v)"
   ]
  }
 ],
 "metadata": {
  "kernelspec": {
   "display_name": "Python 3",
   "language": "python",
   "name": "python3"
  },
  "language_info": {
   "codemirror_mode": {
    "name": "ipython",
    "version": 3
   },
   "file_extension": ".py",
   "mimetype": "text/x-python",
   "name": "python",
   "nbconvert_exporter": "python",
   "pygments_lexer": "ipython3",
   "version": "3.6.6"
  }
 },
 "nbformat": 4,
 "nbformat_minor": 2
}
