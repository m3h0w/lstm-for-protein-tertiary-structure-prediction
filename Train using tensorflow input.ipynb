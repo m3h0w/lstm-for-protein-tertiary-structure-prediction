{
 "cells": [
  {
   "cell_type": "code",
   "execution_count": 3,
   "metadata": {},
   "outputs": [
    {
     "name": "stderr",
     "output_type": "stream",
     "text": [
      "C:\\Users\\Michal\\Anaconda3\\lib\\site-packages\\h5py\\__init__.py:36: FutureWarning: Conversion of the second argument of issubdtype from `float` to `np.floating` is deprecated. In future, it will be treated as `np.float64 == np.dtype(float).type`.\n",
      "  from ._conv import register_converters as _register_converters\n"
     ]
    }
   ],
   "source": [
    "import numpy as np\n",
    "import matplotlib.pyplot as plt\n",
    "%matplotlib inline\n",
    "import glob\n",
    "import tensorflow as tf\n",
    "import time"
   ]
  },
  {
   "cell_type": "markdown",
   "metadata": {},
   "source": [
    "Parsing provided by AlQuraishi"
   ]
  },
  {
   "cell_type": "code",
   "execution_count": 4,
   "metadata": {
    "collapsed": true
   },
   "outputs": [],
   "source": [
    "NUM_AAS = 20\n",
    "NUM_DIMENSIONS = 3\n",
    "\n",
    "def masking_matrix(mask, name=None):\n",
    "    \"\"\" Constructs a masking matrix to zero out pairwise distances due to missing residues or padding. \n",
    "\n",
    "    Args:\n",
    "        mask: 0/1 vector indicating whether a position should be masked (0) or not (1)\n",
    "\n",
    "    Returns:\n",
    "        A square matrix with all 1s except for rows and cols whose corresponding indices in mask are set to 0.\n",
    "        [MAX_SEQ_LENGTH, MAX_SEQ_LENGTH]\n",
    "    \"\"\"\n",
    "\n",
    "    with tf.name_scope(name, 'masking_matrix', [mask]) as scope:\n",
    "        mask = tf.convert_to_tensor(mask, name='mask')\n",
    "\n",
    "        mask = tf.expand_dims(mask, 0)\n",
    "        base = tf.ones([tf.size(mask), tf.size(mask)])\n",
    "        matrix_mask = base * mask * tf.transpose(mask)\n",
    "\n",
    "        return matrix_mask\n",
    "        \n",
    "def read_protein(filename_queue, max_length, num_evo_entries=21, name=None):\n",
    "    \"\"\" Reads and parses a ProteinNet TF Record. \n",
    "\n",
    "        Primary sequences are mapped onto 20-dimensional one-hot vectors.\n",
    "        Evolutionary sequences are mapped onto num_evo_entries-dimensional real-valued vectors.\n",
    "        Secondary structures are mapped onto ints indicating one of 8 class labels.\n",
    "        Tertiary coordinates are flattened so that there are 3 times as many coordinates as \n",
    "        residues.\n",
    "\n",
    "        Evolutionary, secondary, and tertiary entries are optional.\n",
    "\n",
    "    Args:\n",
    "        filename_queue: TF queue for reading files\n",
    "        max_length:     Maximum length of sequence (number of residues) [MAX_LENGTH]. Not a \n",
    "                        TF tensor and is thus a fixed value.\n",
    "\n",
    "    Returns:\n",
    "        id: string identifier of record\n",
    "        one_hot_primary: AA sequence as one-hot vectors\n",
    "        evolutionary: PSSM sequence as vectors\n",
    "        secondary: DSSP sequence as int class labels\n",
    "        tertiary: 3D coordinates of structure\n",
    "        matrix_mask: Masking matrix to zero out pairwise distances in the masked regions\n",
    "        pri_length: Length of amino acid sequence\n",
    "        keep: True if primary length is less than or equal to max_length\n",
    "    \"\"\"\n",
    "\n",
    "    with tf.name_scope(name, 'read_protein', []) as scope:\n",
    "        reader = tf.TFRecordReader()\n",
    "        _, serialized_example = reader.read(filename_queue)\n",
    "\n",
    "        context, features = tf.parse_single_sequence_example(serialized_example,\n",
    "                                context_features={'id': tf.FixedLenFeature((1,), tf.string)},\n",
    "                                sequence_features={\n",
    "                                    'primary':      tf.FixedLenSequenceFeature((1,),               tf.int64),\n",
    "                                    'evolutionary': tf.FixedLenSequenceFeature((num_evo_entries,), tf.float32, allow_missing=True),\n",
    "                                    'secondary':    tf.FixedLenSequenceFeature((1,),               tf.int64,   allow_missing=True),\n",
    "                                    'tertiary':     tf.FixedLenSequenceFeature((NUM_DIMENSIONS,),  tf.float32, allow_missing=True),\n",
    "                                    'mask':         tf.FixedLenSequenceFeature((1,),               tf.float32, allow_missing=True)})\n",
    "        id_ = context['id'][0]\n",
    "        primary =   tf.to_int32(features['primary'][:, 0])\n",
    "        evolutionary =          features['evolutionary']\n",
    "        secondary = tf.to_int32(features['secondary'][:, 0])\n",
    "        tertiary =              features['tertiary']\n",
    "        mask =                  features['mask'][:, 0]\n",
    "\n",
    "        pri_length = tf.size(primary)\n",
    "        keep = pri_length <= max_length\n",
    "\n",
    "        one_hot_primary = tf.one_hot(primary, NUM_AAS)\n",
    "\n",
    "        # Generate tertiary masking matrix--if mask is missing then assume all residues are present\n",
    "        mask = tf.cond(tf.not_equal(tf.size(mask), 0), lambda: mask, lambda: tf.ones([pri_length]))\n",
    "        ter_mask = masking_matrix(mask, name='ter_mask')        \n",
    "\n",
    "        return id_, one_hot_primary, evolutionary, secondary, tertiary, ter_mask, pri_length, keep"
   ]
  },
  {
   "cell_type": "markdown",
   "metadata": {},
   "source": [
    "Definitions of how to calculate dihedral angles and set up a bidirecitonal lstm"
   ]
  },
  {
   "cell_type": "code",
   "execution_count": 125,
   "metadata": {},
   "outputs": [],
   "source": [
    "def tf_rad2deg(rad):\n",
    "    pi_on_180 = 0.017453292519943295\n",
    "    return rad / pi_on_180\n",
    "\n",
    "# takes a 4-dimensional tensor (N, K, 4, 3) and outputs (N, K, 3) angles\n",
    "def dihedral_tf3(p):\n",
    "    p0 = tf.gather(p, 0, axis=2)\n",
    "    p1 = tf.gather(p, 1, axis=2)\n",
    "    p2 = tf.gather(p, 2, axis=2)\n",
    "    p3 = tf.gather(p, 3, axis=2)\n",
    "    \n",
    "    b0 = -1.0 * (tf.subtract(p1, p0))\n",
    "    b1 = tf.subtract(p2, p1)\n",
    "    b2 = tf.subtract(p3, p2)\n",
    "    \n",
    "    b1 = tf.divide(b1, tf.add(tf.norm(b1, axis=2, keepdims=True), tf.constant(1e-10)))\n",
    "#     b1 = tf.where(tf.is_nan(b1), tf.ones_like(b1), b1) # what to do when norm is 0?\n",
    "    \n",
    "    v = tf.subtract(b0, tf.einsum('bi,bij->bij', tf.einsum('bij,bij->bi', b0, b1), b1))\n",
    "    w = tf.subtract(b2, tf.einsum('bi,bij->bij', tf.einsum('bij,bij->bi', b2, b1), b1))\n",
    "    \n",
    "    x = tf.reduce_sum( tf.multiply( v, w ), 2, keepdims=True )\n",
    "    y = tf.reduce_sum( tf.multiply( tf.cross(b1, v), w ), 2, keepdims=True )\n",
    "\n",
    "#     return tf_rad2deg(tf.atan2(y,x))\n",
    "    return tf.atan2(y,x)\n",
    "\n",
    "# euclidean_coordinates are of shape (batch_size, protein_length, 3)\n",
    "def dihedral_pipeline(euclidean_coordinates, batch_size, protein_length):\n",
    "    # chooses all possible slices of length 4\n",
    "    euclidean_coordinates = euclidean_coordinates[:,:,:,None]\n",
    "    all_4_len_slices_euc_coord = tf.extract_image_patches(euclidean_coordinates,\n",
    "      ksizes=[1, 4, 3, 1],\n",
    "      strides=[1, 1, 1, 1],\n",
    "      rates=[1, 1, 1, 1],\n",
    "      padding='VALID')\n",
    "    all_4_len_slices_euc_coord = tf.reshape(tf.squeeze(all_4_len_slices_euc_coord), [batch_size, -1, 4, 3])\n",
    "\n",
    "    # calculates torsional angles on the entire batch\n",
    "    dihedral_angles = dihedral_tf3(all_4_len_slices_euc_coord)\n",
    "\n",
    "    # adds 3 zeros at the end because I can't calculate the angle of\n",
    "    # the last 3 atmos (need at least 4 atoms to calculate an angle)\n",
    "    padding = tf.constant([[0, 0], [0,3], [0,0]])\n",
    "    dihedral_angles = tf.pad(dihedral_angles, padding)\n",
    "\n",
    "    # reshaping the angles (because input is 3 times the length of normal protein)\n",
    "    dihedral_angles_shape = tf.gather(tf.shape(dihedral_angles), [0,1])\n",
    "    dihedral_angles = tf.reshape(dihedral_angles, shape=dihedral_angles_shape)\n",
    "    return tf.reshape(dihedral_angles, shape=(tf.gather(dihedral_angles_shape, 0), protein_length, 3))\n",
    "    \n",
    "# helper for setting up the bidirectional, multilayer lstm\n",
    "def bidirectional_lstm(input_data, num_layers, rnn_size, keep_prob, lengths):\n",
    "    output = input_data\n",
    "    for layer in range(num_layers):\n",
    "        with tf.variable_scope('encoder_{}'.format(layer),reuse=tf.AUTO_REUSE):\n",
    "\n",
    "            cell_fw = tf.contrib.rnn.LSTMCell(rnn_size, initializer=tf.truncated_normal_initializer(-0.1, 0.1, seed=2))\n",
    "            cell_fw = tf.contrib.rnn.DropoutWrapper(cell_fw, input_keep_prob = keep_prob)\n",
    "\n",
    "            cell_bw = tf.contrib.rnn.LSTMCell(rnn_size, initializer=tf.truncated_normal_initializer(-0.1, 0.1, seed=2))\n",
    "            cell_bw = tf.contrib.rnn.DropoutWrapper(cell_bw, input_keep_prob = keep_prob)\n",
    "\n",
    "            outputs, states = tf.nn.bidirectional_dynamic_rnn(cell_fw, \n",
    "                                                              cell_bw, \n",
    "                                                              output,\n",
    "                                                              dtype=tf.float32,\n",
    "                                                              sequence_length=lengths)\n",
    "            output = tf.concat(outputs,2)\n",
    "\n",
    "    return output\n",
    "\n",
    "# helper to count number of records in a TF record file\n",
    "def get_num_records(tf_record_file):\n",
    "    return len([x for x in tf.python_io.tf_record_iterator(tf_record_file)])"
   ]
  },
  {
   "cell_type": "markdown",
   "metadata": {},
   "source": [
    "Define and load training paths. Count the number of training samples."
   ]
  },
  {
   "cell_type": "code",
   "execution_count": 152,
   "metadata": {},
   "outputs": [
    {
     "name": "stdout",
     "output_type": "stream",
     "text": [
      "['C:\\\\Users\\\\Michal\\\\Desktop\\\\ITU NLP\\\\casp7\\\\training\\\\30\\\\*', 'C:\\\\Users\\\\Michal\\\\Desktop\\\\ITU NLP\\\\casp7\\\\training\\\\50\\\\*', 'C:\\\\Users\\\\Michal\\\\Desktop\\\\ITU NLP\\\\casp7\\\\training\\\\70\\\\*', 'C:\\\\Users\\\\Michal\\\\Desktop\\\\ITU NLP\\\\casp7\\\\training\\\\90\\\\*']\n"
     ]
    },
    {
     "data": {
      "text/plain": [
       "56175"
      ]
     },
     "execution_count": 152,
     "metadata": {},
     "output_type": "execute_result"
    }
   ],
   "source": [
    "# choose paths from which to get training data\n",
    "percentages = [30, 50, 70, 90]\n",
    "main_path = \"C:\\\\Users\\\\Michal\\\\Desktop\\\\ITU NLP\\\\casp7\\\\training\\\\\"\n",
    "paths = [main_path + str(perc) + '\\\\*' for perc in percentages]\n",
    "print(paths)\n",
    "# load all the file names from these paths\n",
    "base_names = [glob.glob(a_path) for a_path in paths]\n",
    "base_names = list(np.concatenate(base_names))\n",
    "\n",
    "training_samples = np.sum([get_num_records(file) for file in base_names])\n",
    "training_samples"
   ]
  },
  {
   "cell_type": "markdown",
   "metadata": {},
   "source": [
    "Setting up the computational graph"
   ]
  },
  {
   "cell_type": "code",
   "execution_count": 157,
   "metadata": {},
   "outputs": [],
   "source": [
    "tf.reset_default_graph()\n",
    "\n",
    "# the input pipeline should be rewritten using\n",
    "# the new dataset api that tesnorflow introduced\n",
    "\n",
    "# parameters for the training and\n",
    "# queues that control data flow from files\n",
    "num_epochs = 100\n",
    "batch_size=64\n",
    "capacity=1000\n",
    "min_after_dequeue=100\n",
    "lstm_units = 64\n",
    "lstm_layers = 2\n",
    "limit_protein_size = 200\n",
    "\n",
    "# this queue is taking all the files and asynchronously\n",
    "# passes them forward (so that the rest of the computational\n",
    "# graph that actually does computation doesn't have to wait for new input)\n",
    "file_queue = tf.train.string_input_producer(\n",
    "    tf.convert_to_tensor(base_names),\n",
    "    num_epochs=num_epochs,\n",
    "    shuffle=True # not sure if this shuffle works\n",
    ")\n",
    "\n",
    "# the parsing that Al Quraishi provides to load the ProteinNet data\n",
    "res = read_protein(file_queue, max_length=limit_protein_size)\n",
    "# unpacking the result\n",
    "id_, one_hot_primary, evolutionary, secondary, tertiary, ter_mask, pri_length, keep = res\n",
    "\n",
    "## I couldn't make shuffle batch work\n",
    "## because it doesn't have the dynamic padding included\n",
    "## workaround: https://github.com/tensorflow/tensorflow/issues/5147#issuecomment-271086206\n",
    "# ids, data, length = tf.train.shuffle_batch(\n",
    "#       [id_, one_hot_primary, pri_length], \n",
    "#       batch_size=batch_size, \n",
    "#       capacity=capacity,\n",
    "#       min_after_dequeue=min_after_dequeue)\n",
    "\n",
    "# dynamic pad makes sure that the length of the proteins\n",
    "# is padded to the longest protein in the batch\n",
    "ids, one_hot_primary, evolutionary, labels, labels_mask, length, keep = tf.train.batch(\n",
    "      [id_, one_hot_primary, evolutionary, tertiary, ter_mask, pri_length, keep], \n",
    "      batch_size=batch_size, \n",
    "      capacity=capacity, \n",
    "      dynamic_pad=True\n",
    "    )\n",
    "\n",
    "ids = tf.boolean_mask(ids, keep, axis=0)\n",
    "one_hot_primary = tf.boolean_mask(one_hot_primary, keep, axis=0)\n",
    "evolutionary = tf.boolean_mask(evolutionary, keep, axis=0)\n",
    "labels = tf.boolean_mask(labels, keep, axis=0)\n",
    "labels_mask = tf.boolean_mask(labels_mask, keep, axis=0)\n",
    "length = tf.boolean_mask(length, keep, axis=0)\n",
    "batch_size = tf.shape(one_hot_primary)[0]\n",
    "\n",
    "## bucketting by length might speed up the trianing \n",
    "## https://github.com/tensorflow/tensorflow/issues/2354\n",
    "# tf.contrib.training.bucket_by_sequence_length(\n",
    "#     input_length,\n",
    "#     tensors,\n",
    "#     batch_size,\n",
    "#     bucket_boundaries,\n",
    "#     num_threads=1,\n",
    "#     capacity=32,\n",
    "#     bucket_capacities=None,\n",
    "#     shapes=None,\n",
    "#     dynamic_pad=False,\n",
    "#     allow_smaller_final_batch=False,\n",
    "#     keep_input=True,\n",
    "#     shared_name=None,\n",
    "#     name=None\n",
    "# )\n",
    "\n",
    "# need the lengths to calculate the torsional angles\n",
    "protein_length = tf.gather(tf.shape(one_hot_primary), 1)\n",
    "protein_euc_length = tf.gather(tf.shape(labels), 1)\n",
    "\n",
    "# conver euclidean coordinates to dihedral angles\n",
    "# dihedral_angles = dihedral_pipeline(labels, batch_size, protein_length)\n",
    "\n",
    "# chooses all possible slices of length 4\n",
    "euclidean_coordinates = labels[:,:,:,None]\n",
    "all_4_len_slices_euc_coord = tf.extract_image_patches(euclidean_coordinates,\n",
    "  ksizes=[1, 4, 3, 1],\n",
    "  strides=[1, 1, 1, 1],\n",
    "  rates=[1, 1, 1, 1],\n",
    "  padding='VALID')\n",
    "all_4_len_slices_euc_coord = tf.reshape(tf.squeeze(all_4_len_slices_euc_coord), [batch_size, -1, 4, 3])\n",
    "\n",
    "# calculates torsional angles on the entire batch\n",
    "dihedral_angles = dihedral_tf3(all_4_len_slices_euc_coord)\n",
    "\n",
    "# adds 3 zeros at the end because I can't calculate the angle of\n",
    "# the last 3 atmos (need at least 4 atoms to calculate an angle)\n",
    "padding = tf.constant([[0, 0], [0,3], [0,0]])\n",
    "dihedral_angles = tf.squeeze(tf.pad(dihedral_angles, padding))\n",
    "\n",
    "# reshaping the angles (because input is 3 times the length of normal protein)\n",
    "# dihedral_angles_shape = tf.gather(tf.shape(dihedral_angles), [0,1])\n",
    "# dihedral_angles = tf.squeeze(dihedral_angles)\n",
    "dihedral_angles = tf.reshape(dihedral_angles, shape=(tf.shape(dihedral_angles)[0], protein_length, 3))\n",
    "dih_x = tf.cos(dihedral_angles)\n",
    "dih_y = tf.sin(dihedral_angles)\n",
    "dihedral_angles_deg = tf_rad2deg(dihedral_angles)\n",
    "\n",
    "# prepare input data and setup the LSTM\n",
    "input_data = tf.concat([one_hot_primary, evolutionary], axis=2)\n",
    "outputs_conc = bidirectional_lstm(input_data=input_data, num_layers=lstm_layers, \n",
    "                                  rnn_size = lstm_units, keep_prob=0.05, lengths=length)\n",
    "\n",
    "# squeezing the output into tanh with 3 outputs\n",
    "pred_angles = tf.layers.dense(outputs_conc, 3, activation=tf.nn.tanh, use_bias=False)\n",
    "# rescaling the output to match the scale of the angles (-180, 180)\n",
    "pred_angles = tf.multiply(pred_angles, tf.constant(np.pi))\n",
    "angle_loss = tf.losses.absolute_difference(labels=tf.squeeze(dihedral_angles), predictions=tf.squeeze(pred_angles))\n",
    "\n",
    "\n",
    "# squeezing the output into tanh with 6 outputs to represent the angles as\n",
    "# points on a plane\n",
    "# pred = tf.layers.dense(outputs_conc, 6, activation=tf.nn.tanh, use_bias=False)\n",
    "# x1, y1 = tf.gather(pred, 0, axis=2), tf.gather(pred, 1, axis=2)\n",
    "# x2, y2 = tf.gather(pred, 2, axis=2), tf.gather(pred, 3, axis=2)\n",
    "# x3, y3 = tf.gather(pred, 4, axis=2), tf.gather(pred, 5, axis=2)\n",
    "# pred_angles = tf.reshape(tf.concat([(tf.atan2(y1, x1)), \n",
    "#                          (tf.atan2(y2, x2)), \n",
    "#                          (tf.atan2(y3, x3))], axis=1), (batch_size, -1, 3))\n",
    "\n",
    "# choose a loss (mse or mae)\n",
    "# loss = tf.losses.mean_squared_error(labels=tf.concat([dih_x,dih_y], axis=2), predictions=pred)\n",
    "# angle_loss = tf.losses.mean_squared_error(labels=tf.squeeze(dihedral_angles), predictions=tf.squeeze(pred_angles))\n",
    "\n",
    "# learning rate placeholder for adaptive learning rate\n",
    "learning_rate = tf.placeholder(tf.float32, name='learning_rate')\n",
    "\n",
    "# choose an optimizer to minimize the loss\n",
    "global_step = tf.Variable(0, name='global_step', trainable=False)\n",
    "optimizer = tf.train.AdamOptimizer(learning_rate = learning_rate).minimize(angle_loss, global_step=global_step)\n",
    "#optimizer = tf.train.GradientDescentOptimizer(learning_rate = learning_rate).minimize(loss)"
   ]
  },
  {
   "cell_type": "markdown",
   "metadata": {},
   "source": [
    "Training loop"
   ]
  },
  {
   "cell_type": "code",
   "execution_count": 158,
   "metadata": {
    "scrolled": false
   },
   "outputs": [
    {
     "name": "stdout",
     "output_type": "stream",
     "text": [
      "Avg angle loss: 0.26739976\n",
      "Angle loss: 0.29014638\n",
      "Avg angle loss: 0.2619422\n",
      "Angle loss: 0.38657594\n",
      "Avg angle loss: 0.26309603\n",
      "Angle loss: 0.2748427\n",
      "Avg angle loss: 0.25791073\n",
      "Angle loss: 0.2262156\n",
      "Avg angle loss: 0.25474694\n",
      "Angle loss: 0.24077795\n",
      "Avg angle loss: 0.25129184\n",
      "Angle loss: 0.19826333\n",
      "Avg angle loss: 0.25015122\n",
      "Angle loss: 0.33511698\n",
      "Avg angle loss: 0.24929199\n",
      "Angle loss: 0.3006305\n",
      "Avg angle loss: 0.24764617\n",
      "Angle loss: 0.21832632\n",
      "Avg angle loss: 0.24470752\n",
      "Angle loss: 0.15804203\n",
      "Avg angle loss: 0.24469654\n",
      "Angle loss: 0.2561396\n",
      "Avg angle loss: 0.244591\n",
      "Angle loss: 0.15119447\n",
      "Avg angle loss: 0.24350715\n",
      "Angle loss: 0.34439722\n",
      "Avg angle loss: 0.24250245\n",
      "Angle loss: 0.1572827\n",
      "Avg angle loss: 0.24127515\n",
      "Angle loss: 0.18198715\n",
      "Avg angle loss: 0.24153404\n",
      "Angle loss: 0.2547791\n",
      "Avg angle loss: 0.2410623\n",
      "Angle loss: 0.17059025\n",
      "Avg angle loss: 0.24269676\n",
      "Angle loss: 0.30507806\n",
      "Avg angle loss: 0.24250321\n",
      "Angle loss: 0.38556725\n",
      "Avg angle loss: 0.2426088\n",
      "Angle loss: 0.22697735\n",
      "Avg angle loss: 0.24310727\n",
      "Angle loss: 0.30630466\n",
      "Avg angle loss: 0.24296148\n",
      "Angle loss: 0.17743525\n",
      "Avg angle loss: 0.24292882\n",
      "Angle loss: 0.20684151\n",
      "Avg angle loss: 0.24373415\n",
      "Angle loss: 0.4113151\n",
      "Avg angle loss: 0.24338779\n",
      "Angle loss: 0.2791987\n"
     ]
    },
    {
     "ename": "KeyboardInterrupt",
     "evalue": "",
     "output_type": "error",
     "traceback": [
      "\u001b[1;31m---------------------------------------------------------------------------\u001b[0m",
      "\u001b[1;31mKeyboardInterrupt\u001b[0m                         Traceback (most recent call last)",
      "\u001b[1;32m<ipython-input-158-7ec98531e2a1>\u001b[0m in \u001b[0;36m<module>\u001b[1;34m()\u001b[0m\n\u001b[0;32m     35\u001b[0m                                      \u001b[0mpred_angles\u001b[0m\u001b[1;33m,\u001b[0m \u001b[0mangle_loss\u001b[0m\u001b[1;33m,\u001b[0m\u001b[1;33m\u001b[0m\u001b[0m\n\u001b[0;32m     36\u001b[0m                                      batch_size], \n\u001b[1;32m---> 37\u001b[1;33m                                                                feed_dict={learning_rate: 0.001})\n\u001b[0m\u001b[0;32m     38\u001b[0m \u001b[1;33m\u001b[0m\u001b[0m\n\u001b[0;32m     39\u001b[0m \u001b[1;31m#             losses.append(loss_)\u001b[0m\u001b[1;33m\u001b[0m\u001b[1;33m\u001b[0m\u001b[0m\n",
      "\u001b[1;32mC:\\Users\\Michal\\Anaconda3\\lib\\site-packages\\tensorflow\\python\\client\\session.py\u001b[0m in \u001b[0;36mrun\u001b[1;34m(self, fetches, feed_dict, options, run_metadata)\u001b[0m\n\u001b[0;32m    903\u001b[0m     \u001b[1;32mtry\u001b[0m\u001b[1;33m:\u001b[0m\u001b[1;33m\u001b[0m\u001b[0m\n\u001b[0;32m    904\u001b[0m       result = self._run(None, fetches, feed_dict, options_ptr,\n\u001b[1;32m--> 905\u001b[1;33m                          run_metadata_ptr)\n\u001b[0m\u001b[0;32m    906\u001b[0m       \u001b[1;32mif\u001b[0m \u001b[0mrun_metadata\u001b[0m\u001b[1;33m:\u001b[0m\u001b[1;33m\u001b[0m\u001b[0m\n\u001b[0;32m    907\u001b[0m         \u001b[0mproto_data\u001b[0m \u001b[1;33m=\u001b[0m \u001b[0mtf_session\u001b[0m\u001b[1;33m.\u001b[0m\u001b[0mTF_GetBuffer\u001b[0m\u001b[1;33m(\u001b[0m\u001b[0mrun_metadata_ptr\u001b[0m\u001b[1;33m)\u001b[0m\u001b[1;33m\u001b[0m\u001b[0m\n",
      "\u001b[1;32mC:\\Users\\Michal\\Anaconda3\\lib\\site-packages\\tensorflow\\python\\client\\session.py\u001b[0m in \u001b[0;36m_run\u001b[1;34m(self, handle, fetches, feed_dict, options, run_metadata)\u001b[0m\n\u001b[0;32m   1138\u001b[0m     \u001b[1;32mif\u001b[0m \u001b[0mfinal_fetches\u001b[0m \u001b[1;32mor\u001b[0m \u001b[0mfinal_targets\u001b[0m \u001b[1;32mor\u001b[0m \u001b[1;33m(\u001b[0m\u001b[0mhandle\u001b[0m \u001b[1;32mand\u001b[0m \u001b[0mfeed_dict_tensor\u001b[0m\u001b[1;33m)\u001b[0m\u001b[1;33m:\u001b[0m\u001b[1;33m\u001b[0m\u001b[0m\n\u001b[0;32m   1139\u001b[0m       results = self._do_run(handle, final_targets, final_fetches,\n\u001b[1;32m-> 1140\u001b[1;33m                              feed_dict_tensor, options, run_metadata)\n\u001b[0m\u001b[0;32m   1141\u001b[0m     \u001b[1;32melse\u001b[0m\u001b[1;33m:\u001b[0m\u001b[1;33m\u001b[0m\u001b[0m\n\u001b[0;32m   1142\u001b[0m       \u001b[0mresults\u001b[0m \u001b[1;33m=\u001b[0m \u001b[1;33m[\u001b[0m\u001b[1;33m]\u001b[0m\u001b[1;33m\u001b[0m\u001b[0m\n",
      "\u001b[1;32mC:\\Users\\Michal\\Anaconda3\\lib\\site-packages\\tensorflow\\python\\client\\session.py\u001b[0m in \u001b[0;36m_do_run\u001b[1;34m(self, handle, target_list, fetch_list, feed_dict, options, run_metadata)\u001b[0m\n\u001b[0;32m   1319\u001b[0m     \u001b[1;32mif\u001b[0m \u001b[0mhandle\u001b[0m \u001b[1;32mis\u001b[0m \u001b[1;32mNone\u001b[0m\u001b[1;33m:\u001b[0m\u001b[1;33m\u001b[0m\u001b[0m\n\u001b[0;32m   1320\u001b[0m       return self._do_call(_run_fn, feeds, fetches, targets, options,\n\u001b[1;32m-> 1321\u001b[1;33m                            run_metadata)\n\u001b[0m\u001b[0;32m   1322\u001b[0m     \u001b[1;32melse\u001b[0m\u001b[1;33m:\u001b[0m\u001b[1;33m\u001b[0m\u001b[0m\n\u001b[0;32m   1323\u001b[0m       \u001b[1;32mreturn\u001b[0m \u001b[0mself\u001b[0m\u001b[1;33m.\u001b[0m\u001b[0m_do_call\u001b[0m\u001b[1;33m(\u001b[0m\u001b[0m_prun_fn\u001b[0m\u001b[1;33m,\u001b[0m \u001b[0mhandle\u001b[0m\u001b[1;33m,\u001b[0m \u001b[0mfeeds\u001b[0m\u001b[1;33m,\u001b[0m \u001b[0mfetches\u001b[0m\u001b[1;33m)\u001b[0m\u001b[1;33m\u001b[0m\u001b[0m\n",
      "\u001b[1;32mC:\\Users\\Michal\\Anaconda3\\lib\\site-packages\\tensorflow\\python\\client\\session.py\u001b[0m in \u001b[0;36m_do_call\u001b[1;34m(self, fn, *args)\u001b[0m\n\u001b[0;32m   1325\u001b[0m   \u001b[1;32mdef\u001b[0m \u001b[0m_do_call\u001b[0m\u001b[1;33m(\u001b[0m\u001b[0mself\u001b[0m\u001b[1;33m,\u001b[0m \u001b[0mfn\u001b[0m\u001b[1;33m,\u001b[0m \u001b[1;33m*\u001b[0m\u001b[0margs\u001b[0m\u001b[1;33m)\u001b[0m\u001b[1;33m:\u001b[0m\u001b[1;33m\u001b[0m\u001b[0m\n\u001b[0;32m   1326\u001b[0m     \u001b[1;32mtry\u001b[0m\u001b[1;33m:\u001b[0m\u001b[1;33m\u001b[0m\u001b[0m\n\u001b[1;32m-> 1327\u001b[1;33m       \u001b[1;32mreturn\u001b[0m \u001b[0mfn\u001b[0m\u001b[1;33m(\u001b[0m\u001b[1;33m*\u001b[0m\u001b[0margs\u001b[0m\u001b[1;33m)\u001b[0m\u001b[1;33m\u001b[0m\u001b[0m\n\u001b[0m\u001b[0;32m   1328\u001b[0m     \u001b[1;32mexcept\u001b[0m \u001b[0merrors\u001b[0m\u001b[1;33m.\u001b[0m\u001b[0mOpError\u001b[0m \u001b[1;32mas\u001b[0m \u001b[0me\u001b[0m\u001b[1;33m:\u001b[0m\u001b[1;33m\u001b[0m\u001b[0m\n\u001b[0;32m   1329\u001b[0m       \u001b[0mmessage\u001b[0m \u001b[1;33m=\u001b[0m \u001b[0mcompat\u001b[0m\u001b[1;33m.\u001b[0m\u001b[0mas_text\u001b[0m\u001b[1;33m(\u001b[0m\u001b[0me\u001b[0m\u001b[1;33m.\u001b[0m\u001b[0mmessage\u001b[0m\u001b[1;33m)\u001b[0m\u001b[1;33m\u001b[0m\u001b[0m\n",
      "\u001b[1;32mC:\\Users\\Michal\\Anaconda3\\lib\\site-packages\\tensorflow\\python\\client\\session.py\u001b[0m in \u001b[0;36m_run_fn\u001b[1;34m(feed_dict, fetch_list, target_list, options, run_metadata)\u001b[0m\n\u001b[0;32m   1310\u001b[0m       \u001b[0mself\u001b[0m\u001b[1;33m.\u001b[0m\u001b[0m_extend_graph\u001b[0m\u001b[1;33m(\u001b[0m\u001b[1;33m)\u001b[0m\u001b[1;33m\u001b[0m\u001b[0m\n\u001b[0;32m   1311\u001b[0m       return self._call_tf_sessionrun(\n\u001b[1;32m-> 1312\u001b[1;33m           options, feed_dict, fetch_list, target_list, run_metadata)\n\u001b[0m\u001b[0;32m   1313\u001b[0m \u001b[1;33m\u001b[0m\u001b[0m\n\u001b[0;32m   1314\u001b[0m     \u001b[1;32mdef\u001b[0m \u001b[0m_prun_fn\u001b[0m\u001b[1;33m(\u001b[0m\u001b[0mhandle\u001b[0m\u001b[1;33m,\u001b[0m \u001b[0mfeed_dict\u001b[0m\u001b[1;33m,\u001b[0m \u001b[0mfetch_list\u001b[0m\u001b[1;33m)\u001b[0m\u001b[1;33m:\u001b[0m\u001b[1;33m\u001b[0m\u001b[0m\n",
      "\u001b[1;32mC:\\Users\\Michal\\Anaconda3\\lib\\site-packages\\tensorflow\\python\\client\\session.py\u001b[0m in \u001b[0;36m_call_tf_sessionrun\u001b[1;34m(self, options, feed_dict, fetch_list, target_list, run_metadata)\u001b[0m\n\u001b[0;32m   1418\u001b[0m         return tf_session.TF_Run(\n\u001b[0;32m   1419\u001b[0m             \u001b[0mself\u001b[0m\u001b[1;33m.\u001b[0m\u001b[0m_session\u001b[0m\u001b[1;33m,\u001b[0m \u001b[0moptions\u001b[0m\u001b[1;33m,\u001b[0m \u001b[0mfeed_dict\u001b[0m\u001b[1;33m,\u001b[0m \u001b[0mfetch_list\u001b[0m\u001b[1;33m,\u001b[0m \u001b[0mtarget_list\u001b[0m\u001b[1;33m,\u001b[0m\u001b[1;33m\u001b[0m\u001b[0m\n\u001b[1;32m-> 1420\u001b[1;33m             status, run_metadata)\n\u001b[0m\u001b[0;32m   1421\u001b[0m \u001b[1;33m\u001b[0m\u001b[0m\n\u001b[0;32m   1422\u001b[0m   \u001b[1;32mdef\u001b[0m \u001b[0m_call_tf_sessionprun\u001b[0m\u001b[1;33m(\u001b[0m\u001b[0mself\u001b[0m\u001b[1;33m,\u001b[0m \u001b[0mhandle\u001b[0m\u001b[1;33m,\u001b[0m \u001b[0mfeed_dict\u001b[0m\u001b[1;33m,\u001b[0m \u001b[0mfetch_list\u001b[0m\u001b[1;33m)\u001b[0m\u001b[1;33m:\u001b[0m\u001b[1;33m\u001b[0m\u001b[0m\n",
      "\u001b[1;31mKeyboardInterrupt\u001b[0m: "
     ]
    }
   ],
   "source": [
    "\"\"\"\n",
    "This is the main training loop.\n",
    "\n",
    "The coord calls and try, exceptm, finally instructions are due to the way Queues operate.\n",
    "They use a coordinator and queue_runners to load the data asynchronously to the actual computations.\n",
    "\"\"\"\n",
    "with tf.Session() as sess:\n",
    "    # important to call both of these, because \n",
    "    # otherwise can't specify num_epochs in string_input_producer\n",
    "    sess.run(tf.global_variables_initializer())\n",
    "    sess.run(tf.local_variables_initializer())\n",
    "    \n",
    "    coord = tf.train.Coordinator()  \n",
    "    threads = tf.train.start_queue_runners(coord=coord, sess=sess)\n",
    "\n",
    "    try:\n",
    "        # we can't access information from the queue\n",
    "        # to know when an epoch ends, so we define our\n",
    "        # own step counter and calculate an average loss every n steps\n",
    "        step = 1\n",
    "        \n",
    "        losses = []\n",
    "        angle_losses = []\n",
    "        avg_losses = []\n",
    "        avg_angle_losses=[]\n",
    "        \n",
    "        while not coord.should_stop():                  \n",
    "#             (_, dihedral_angles_, labels_, pred_, \n",
    "#              pred_angles_, loss_, angle_loss_) = sess.run([optimizer, dihedral_angles, labels, pred, \n",
    "#                                                            pred_angles, loss, angle_loss], \n",
    "#                                                                feed_dict={learning_rate: 0.01})\n",
    "            (_, dihedral_angles_, labels_, \n",
    "             pred_angles_, angle_loss_,\n",
    "            batch_size_) = sess.run([optimizer, dihedral_angles, labels, \n",
    "                                     pred_angles, angle_loss,\n",
    "                                     batch_size], \n",
    "                                                               feed_dict={learning_rate: 0.001})\n",
    "\n",
    "#             losses.append(loss_)\n",
    "            angle_losses.append(angle_loss_)\n",
    "            if step % 20 == 0:\n",
    "#                 avg_loss =  np.mean(losses)\n",
    "                avg_angle_loss = np.mean(angle_losses)\n",
    "                avg_losses.append(avg_loss)\n",
    "                avg_angle_losses.append(avg_angle_loss)\n",
    "#                 print(\"Avg loss:\", avg_loss)\n",
    "                print(\"Avg angle loss:\", avg_angle_loss)\n",
    "                print(\"Angle loss:\", angle_loss_)\n",
    "                print(\"Std:\", np.std())\n",
    "\n",
    "                losses = []\n",
    "            \n",
    "            if step * batch_size_ > training_samples:\n",
    "                print(\"EPOCH\")\n",
    "                step = 0\n",
    "                \n",
    "            step += 1\n",
    "\n",
    "\n",
    "    except tf.errors.OutOfRangeError:\n",
    "        print('Done training for %d epochs, %d steps.' % (num_epochs, step))\n",
    "    finally:\n",
    "        # When done, ask the threads to stop.\n",
    "        coord.request_stop()\n",
    "\n",
    "        # Wait for threads to finish.\n",
    "        coord.join(threads)\n",
    "        sess.close()"
   ]
  },
  {
   "cell_type": "code",
   "execution_count": 155,
   "metadata": {},
   "outputs": [
    {
     "data": {
      "text/plain": [
       "(-3.1415877, 3.1415856, -2.084069, 3.1044927)"
      ]
     },
     "execution_count": 155,
     "metadata": {},
     "output_type": "execute_result"
    }
   ],
   "source": [
    "np.min(dihedral_angles_), np.max(dihedral_angles_), np.min(pred_angles_), np.max(pred_angles_)"
   ]
  },
  {
   "cell_type": "markdown",
   "metadata": {},
   "source": [
    "Plot the avg losses over time"
   ]
  },
  {
   "cell_type": "code",
   "execution_count": 159,
   "metadata": {},
   "outputs": [
    {
     "data": {
      "text/plain": [
       "[<matplotlib.lines.Line2D at 0x14da28472e8>]"
      ]
     },
     "execution_count": 159,
     "metadata": {},
     "output_type": "execute_result"
    },
    {
     "data": {
      "image/png": "[encoded data removed]",
      "text/plain": [
       "<matplotlib.figure.Figure at 0x14d892be080>"
      ]
     },
     "metadata": {},
     "output_type": "display_data"
    }
   ],
   "source": [
    "# plt.plot(avg_losses)\n",
    "plt.plot(avg_angle_losses)"
   ]
  },
  {
   "cell_type": "markdown",
   "metadata": {},
   "source": [
    "Get just the dihedral angles to see if they resemble how a ramachadran plot should look like"
   ]
  },
  {
   "cell_type": "code",
   "execution_count": 82,
   "metadata": {},
   "outputs": [],
   "source": [
    "with tf.Session() as sess:\n",
    "    sess.run(tf.global_variables_initializer())\n",
    "    sess.run(tf.local_variables_initializer())\n",
    "    \n",
    "    coord = tf.train.Coordinator()  \n",
    "    threads = tf.train.start_queue_runners(coord=coord, sess=sess)\n",
    "    \n",
    "    dihedral_angles_, euclidean_coordinates_, all_4_len_slices_euc_coord_ = sess.run([dihedral_angles, euclidean_coordinates, all_4_len_slices_euc_coord])\n",
    "    coord.request_stop()"
   ]
  },
  {
   "cell_type": "code",
   "execution_count": 91,
   "metadata": {},
   "outputs": [
    {
     "data": {
      "text/plain": [
       "(array([[[   0. ],\n",
       "         [   0. ],\n",
       "         [   0. ]],\n",
       " \n",
       "        [[4515.9],\n",
       "         [4011.4],\n",
       "         [5703. ]],\n",
       " \n",
       "        [[4639.6],\n",
       "         [4043.6],\n",
       "         [5626.4]],\n",
       " \n",
       "        ...,\n",
       " \n",
       "        [[   0. ],\n",
       "         [   0. ],\n",
       "         [   0. ]],\n",
       " \n",
       "        [[   0. ],\n",
       "         [   0. ],\n",
       "         [   0. ]],\n",
       " \n",
       "        [[   0. ],\n",
       "         [   0. ],\n",
       "         [   0. ]]], dtype=float32), array([[[   0. ,    0. ,    0. ],\n",
       "         [4515.9, 4011.4, 5703. ],\n",
       "         [4639.6, 4043.6, 5626.4],\n",
       "         [4608.7, 4049.5, 5477.2]],\n",
       " \n",
       "        [[4515.9, 4011.4, 5703. ],\n",
       "         [4639.6, 4043.6, 5626.4],\n",
       "         [4608.7, 4049.5, 5477.2],\n",
       "         [4548. , 3942.8, 5425.9]],\n",
       " \n",
       "        [[4639.6, 4043.6, 5626.4],\n",
       "         [4608.7, 4049.5, 5477.2],\n",
       "         [4548. , 3942.8, 5425.9],\n",
       "         [4505. , 3936.9, 5286.2]],\n",
       " \n",
       "        ...,\n",
       " \n",
       "        [[   0. ,    0. ,    0. ],\n",
       "         [   0. ,    0. ,    0. ],\n",
       "         [   0. ,    0. ,    0. ],\n",
       "         [   0. ,    0. ,    0. ]],\n",
       " \n",
       "        [[   0. ,    0. ,    0. ],\n",
       "         [   0. ,    0. ,    0. ],\n",
       "         [   0. ,    0. ,    0. ],\n",
       "         [   0. ,    0. ,    0. ]],\n",
       " \n",
       "        [[   0. ,    0. ,    0. ],\n",
       "         [   0. ,    0. ,    0. ],\n",
       "         [   0. ,    0. ,    0. ],\n",
       "         [   0. ,    0. ,    0. ]]], dtype=float32), array([[-0.25348714,  3.0816522 , -1.538865  ],\n",
       "        [-0.08465115, -3.0919905 , -1.3822418 ],\n",
       "        [ 2.2193382 ,  3.0607564 , -1.8549333 ],\n",
       "        ...,\n",
       "        [ 0.        ,  0.        ,  0.        ],\n",
       "        [ 0.        ,  0.        ,  0.        ],\n",
       "        [ 0.        ,  0.        ,  0.        ]], dtype=float32))"
      ]
     },
     "execution_count": 91,
     "metadata": {},
     "output_type": "execute_result"
    }
   ],
   "source": [
    "euclidean_coordinates_[0][2:], all_4_len_slices_euc_coord_[0][2:], dihedral_angles_[0][2:]"
   ]
  },
  {
   "cell_type": "code",
   "execution_count": 55,
   "metadata": {},
   "outputs": [
    {
     "data": {
      "text/plain": [
       "(1, 64, 637, 3)"
      ]
     },
     "execution_count": 55,
     "metadata": {},
     "output_type": "execute_result"
    }
   ],
   "source": [
    "np.array(dihedral_angles_).shape"
   ]
  },
  {
   "cell_type": "code",
   "execution_count": 86,
   "metadata": {},
   "outputs": [],
   "source": [
    "alpha = tf_rad2deg(np.array(dihedral_angles_)[:,:,0])\n",
    "beta = tf_rad2deg(np.array(dihedral_angles_)[:,:,2])"
   ]
  },
  {
   "cell_type": "code",
   "execution_count": 95,
   "metadata": {},
   "outputs": [
    {
     "data": {
      "text/plain": [
       "(-180, 180)"
      ]
     },
     "execution_count": 95,
     "metadata": {},
     "output_type": "execute_result"
    },
    {
     "data": {
      "image/png": "[encoded data removed]",
      "text/plain": [
       "<matplotlib.figure.Figure at 0x14dfab349b0>"
      ]
     },
     "metadata": {},
     "output_type": "display_data"
    }
   ],
   "source": [
    "plt.scatter(beta[9], alpha[9], s=2)\n",
    "plt.xlim((-180,180))\n",
    "plt.ylim((-180,180))"
   ]
  },
  {
   "cell_type": "code",
   "execution_count": null,
   "metadata": {
    "collapsed": true
   },
   "outputs": [],
   "source": []
  },
  {
   "cell_type": "code",
   "execution_count": null,
   "metadata": {
    "collapsed": true
   },
   "outputs": [],
   "source": []
  }
 ],
 "metadata": {
  "kernelspec": {
   "display_name": "Python 3",
   "language": "python",
   "name": "python3"
  },
  "language_info": {
   "codemirror_mode": {
    "name": "ipython",
    "version": 3
   },
   "file_extension": ".py",
   "mimetype": "text/x-python",
   "name": "python",
   "nbconvert_exporter": "python",
   "pygments_lexer": "ipython3",
   "version": "3.6.1"
  }
 },
 "nbformat": 4,
 "nbformat_minor": 2
}
